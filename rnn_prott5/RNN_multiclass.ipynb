{
 "cells": [
  {
   "cell_type": "markdown",
   "metadata": {},
   "source": [
    "Thanh Truc Bui"
   ]
  },
  {
   "cell_type": "code",
   "execution_count": 3,
   "metadata": {},
   "outputs": [],
   "source": [
    "import numpy as np \n",
    "import pandas as pd \n",
    "import matplotlib.pyplot as plt\n",
    "import h5py\n",
    "import os\n",
    "from dotenv import load_dotenv\n",
    "import torch\n",
    "import torch.nn as nn\n",
    "import torch.optim as optim\n",
    "from sklearn.model_selection import train_test_split\n",
    "from torch.utils.data import DataLoader, TensorDataset\n",
    "from sklearn.metrics import f1_score, matthews_corrcoef,accuracy_score\n"
   ]
  },
  {
   "cell_type": "code",
   "execution_count": 4,
   "metadata": {},
   "outputs": [],
   "source": [
    "load_dotenv() # load environment variables\n",
    "\n",
    "path_to_csv_split30=os.getenv(\"CSV30_ENZYMES\",\"not found\")"
   ]
  },
  {
   "cell_type": "markdown",
   "metadata": {},
   "source": [
    "Load data to make a dataframe"
   ]
  },
  {
   "cell_type": "code",
   "execution_count": 5,
   "metadata": {},
   "outputs": [
    {
     "data": {
      "text/html": [
       "<div>\n",
       "<style scoped>\n",
       "    .dataframe tbody tr th:only-of-type {\n",
       "        vertical-align: middle;\n",
       "    }\n",
       "\n",
       "    .dataframe tbody tr th {\n",
       "        vertical-align: top;\n",
       "    }\n",
       "\n",
       "    .dataframe thead th {\n",
       "        text-align: right;\n",
       "    }\n",
       "</style>\n",
       "<table border=\"1\" class=\"dataframe\">\n",
       "  <thead>\n",
       "    <tr style=\"text-align: right;\">\n",
       "      <th></th>\n",
       "      <th>Entry</th>\n",
       "      <th>EC number</th>\n",
       "      <th>Sequence</th>\n",
       "    </tr>\n",
       "  </thead>\n",
       "  <tbody>\n",
       "    <tr>\n",
       "      <th>0</th>\n",
       "      <td>O88483</td>\n",
       "      <td>3.1.3.43</td>\n",
       "      <td>MPAPTQLFFPLVRNCELSRIYGTACYCHHKHLCCSPPYIPQNRLRY...</td>\n",
       "    </tr>\n",
       "    <tr>\n",
       "      <th>1</th>\n",
       "      <td>O53896</td>\n",
       "      <td>3.4.21.107</td>\n",
       "      <td>MAKLARVVGLVQEEQPSDMTNHPRYSPPPQQPGTPGYAQGQQQTYS...</td>\n",
       "    </tr>\n",
       "    <tr>\n",
       "      <th>2</th>\n",
       "      <td>Q9QYJ6</td>\n",
       "      <td>3.1.4.17</td>\n",
       "      <td>MEDGPSNNASCFRRLTECFLSPSLTDEKVKAYLSLHPQVLDEFVSE...</td>\n",
       "    </tr>\n",
       "    <tr>\n",
       "      <th>3</th>\n",
       "      <td>Q63421</td>\n",
       "      <td>3.1.4.35</td>\n",
       "      <td>MTDTSHKKEGFKKCRSATFSIDGYSFTIVANEAGDKNARPLARFSR...</td>\n",
       "    </tr>\n",
       "    <tr>\n",
       "      <th>4</th>\n",
       "      <td>B0G0Y8</td>\n",
       "      <td>3.1.4.35</td>\n",
       "      <td>MAPQQNIMKQLQQMQSSPYPSSSPSSTTVSQNNDNLNHNVHSLNNS...</td>\n",
       "    </tr>\n",
       "    <tr>\n",
       "      <th>...</th>\n",
       "      <td>...</td>\n",
       "      <td>...</td>\n",
       "      <td>...</td>\n",
       "    </tr>\n",
       "    <tr>\n",
       "      <th>8565</th>\n",
       "      <td>A1L4V7</td>\n",
       "      <td>4.4.1.15</td>\n",
       "      <td>MKVQRSTFLAVTGKSNLHHFHSSSQRIPITSEIDSREFVSKLLDRK...</td>\n",
       "    </tr>\n",
       "    <tr>\n",
       "      <th>8566</th>\n",
       "      <td>Q1HRV8</td>\n",
       "      <td>2.3.1.199</td>\n",
       "      <td>MALIMKYIDSMHHYMDKYGDPRTKDWPLMSSPFPTLALCLGYVYLV...</td>\n",
       "    </tr>\n",
       "    <tr>\n",
       "      <th>8567</th>\n",
       "      <td>Q94F30</td>\n",
       "      <td>3.4.22.68</td>\n",
       "      <td>MGAVAINRKRSDESFNFINQQSTNPLRNSPYFQASKKRRFSFAMSE...</td>\n",
       "    </tr>\n",
       "    <tr>\n",
       "      <th>8568</th>\n",
       "      <td>I6XU97</td>\n",
       "      <td>3.1.1.1</td>\n",
       "      <td>MLSDDELTGLDEFALLAENAEQAGVNGPLPEVERVQAGAISALRWG...</td>\n",
       "    </tr>\n",
       "    <tr>\n",
       "      <th>8569</th>\n",
       "      <td>Q7N0J8</td>\n",
       "      <td>3.1.11.6</td>\n",
       "      <td>MPKKNAISESTNSTPETAPAMTFESSLKELEQIVARLESGELALEE...</td>\n",
       "    </tr>\n",
       "  </tbody>\n",
       "</table>\n",
       "<p>8570 rows × 3 columns</p>\n",
       "</div>"
      ],
      "text/plain": [
       "       Entry   EC number                                           Sequence\n",
       "0     O88483    3.1.3.43  MPAPTQLFFPLVRNCELSRIYGTACYCHHKHLCCSPPYIPQNRLRY...\n",
       "1     O53896  3.4.21.107  MAKLARVVGLVQEEQPSDMTNHPRYSPPPQQPGTPGYAQGQQQTYS...\n",
       "2     Q9QYJ6    3.1.4.17  MEDGPSNNASCFRRLTECFLSPSLTDEKVKAYLSLHPQVLDEFVSE...\n",
       "3     Q63421    3.1.4.35  MTDTSHKKEGFKKCRSATFSIDGYSFTIVANEAGDKNARPLARFSR...\n",
       "4     B0G0Y8    3.1.4.35  MAPQQNIMKQLQQMQSSPYPSSSPSSTTVSQNNDNLNHNVHSLNNS...\n",
       "...      ...         ...                                                ...\n",
       "8565  A1L4V7    4.4.1.15  MKVQRSTFLAVTGKSNLHHFHSSSQRIPITSEIDSREFVSKLLDRK...\n",
       "8566  Q1HRV8   2.3.1.199  MALIMKYIDSMHHYMDKYGDPRTKDWPLMSSPFPTLALCLGYVYLV...\n",
       "8567  Q94F30   3.4.22.68  MGAVAINRKRSDESFNFINQQSTNPLRNSPYFQASKKRRFSFAMSE...\n",
       "8568  I6XU97     3.1.1.1  MLSDDELTGLDEFALLAENAEQAGVNGPLPEVERVQAGAISALRWG...\n",
       "8569  Q7N0J8    3.1.11.6  MPKKNAISESTNSTPETAPAMTFESSLKELEQIVARLESGELALEE...\n",
       "\n",
       "[8570 rows x 3 columns]"
      ]
     },
     "execution_count": 5,
     "metadata": {},
     "output_type": "execute_result"
    }
   ],
   "source": [
    "df_raw=pd.read_csv(path_to_csv_split30, delimiter=\",\") # Multiclass enzymes are in this df\n",
    "df= df_raw[df_raw[\"EC number\"].str.contains(\";\") == False]  #Remove multiclass enzymes\n",
    "df=df.reset_index(drop=True)\n",
    "df\n"
   ]
  },
  {
   "cell_type": "code",
   "execution_count": 6,
   "metadata": {},
   "outputs": [],
   "source": [
    "df['EC class'] = df['EC number'].str[:1].astype(int)\n",
    "clist = list(df.columns)\n",
    "clist_new = clist[-1:]+clist[:-1]   # brings the last column in the first place\n",
    "df=df[clist_new]\n",
    "df.to_csv(\"/home/trucbui/PBLGit/rnn_prott5/dataframe\")"
   ]
  },
  {
   "cell_type": "code",
   "execution_count": 7,
   "metadata": {},
   "outputs": [
    {
     "data": {
      "text/html": [
       "<div>\n",
       "<style scoped>\n",
       "    .dataframe tbody tr th:only-of-type {\n",
       "        vertical-align: middle;\n",
       "    }\n",
       "\n",
       "    .dataframe tbody tr th {\n",
       "        vertical-align: top;\n",
       "    }\n",
       "\n",
       "    .dataframe thead th {\n",
       "        text-align: right;\n",
       "    }\n",
       "</style>\n",
       "<table border=\"1\" class=\"dataframe\">\n",
       "  <thead>\n",
       "    <tr style=\"text-align: right;\">\n",
       "      <th></th>\n",
       "      <th>EC class</th>\n",
       "      <th>Entry</th>\n",
       "      <th>EC number</th>\n",
       "      <th>Sequence</th>\n",
       "    </tr>\n",
       "  </thead>\n",
       "  <tbody>\n",
       "    <tr>\n",
       "      <th>0</th>\n",
       "      <td>3</td>\n",
       "      <td>O88483</td>\n",
       "      <td>3.1.3.43</td>\n",
       "      <td>MPAPTQLFFPLVRNCELSRIYGTACYCHHKHLCCSPPYIPQNRLRY...</td>\n",
       "    </tr>\n",
       "    <tr>\n",
       "      <th>1</th>\n",
       "      <td>3</td>\n",
       "      <td>O53896</td>\n",
       "      <td>3.4.21.107</td>\n",
       "      <td>MAKLARVVGLVQEEQPSDMTNHPRYSPPPQQPGTPGYAQGQQQTYS...</td>\n",
       "    </tr>\n",
       "    <tr>\n",
       "      <th>2</th>\n",
       "      <td>3</td>\n",
       "      <td>Q9QYJ6</td>\n",
       "      <td>3.1.4.17</td>\n",
       "      <td>MEDGPSNNASCFRRLTECFLSPSLTDEKVKAYLSLHPQVLDEFVSE...</td>\n",
       "    </tr>\n",
       "    <tr>\n",
       "      <th>3</th>\n",
       "      <td>3</td>\n",
       "      <td>Q63421</td>\n",
       "      <td>3.1.4.35</td>\n",
       "      <td>MTDTSHKKEGFKKCRSATFSIDGYSFTIVANEAGDKNARPLARFSR...</td>\n",
       "    </tr>\n",
       "    <tr>\n",
       "      <th>4</th>\n",
       "      <td>3</td>\n",
       "      <td>B0G0Y8</td>\n",
       "      <td>3.1.4.35</td>\n",
       "      <td>MAPQQNIMKQLQQMQSSPYPSSSPSSTTVSQNNDNLNHNVHSLNNS...</td>\n",
       "    </tr>\n",
       "    <tr>\n",
       "      <th>...</th>\n",
       "      <td>...</td>\n",
       "      <td>...</td>\n",
       "      <td>...</td>\n",
       "      <td>...</td>\n",
       "    </tr>\n",
       "    <tr>\n",
       "      <th>8565</th>\n",
       "      <td>4</td>\n",
       "      <td>A1L4V7</td>\n",
       "      <td>4.4.1.15</td>\n",
       "      <td>MKVQRSTFLAVTGKSNLHHFHSSSQRIPITSEIDSREFVSKLLDRK...</td>\n",
       "    </tr>\n",
       "    <tr>\n",
       "      <th>8566</th>\n",
       "      <td>2</td>\n",
       "      <td>Q1HRV8</td>\n",
       "      <td>2.3.1.199</td>\n",
       "      <td>MALIMKYIDSMHHYMDKYGDPRTKDWPLMSSPFPTLALCLGYVYLV...</td>\n",
       "    </tr>\n",
       "    <tr>\n",
       "      <th>8567</th>\n",
       "      <td>3</td>\n",
       "      <td>Q94F30</td>\n",
       "      <td>3.4.22.68</td>\n",
       "      <td>MGAVAINRKRSDESFNFINQQSTNPLRNSPYFQASKKRRFSFAMSE...</td>\n",
       "    </tr>\n",
       "    <tr>\n",
       "      <th>8568</th>\n",
       "      <td>3</td>\n",
       "      <td>I6XU97</td>\n",
       "      <td>3.1.1.1</td>\n",
       "      <td>MLSDDELTGLDEFALLAENAEQAGVNGPLPEVERVQAGAISALRWG...</td>\n",
       "    </tr>\n",
       "    <tr>\n",
       "      <th>8569</th>\n",
       "      <td>3</td>\n",
       "      <td>Q7N0J8</td>\n",
       "      <td>3.1.11.6</td>\n",
       "      <td>MPKKNAISESTNSTPETAPAMTFESSLKELEQIVARLESGELALEE...</td>\n",
       "    </tr>\n",
       "  </tbody>\n",
       "</table>\n",
       "<p>8570 rows × 4 columns</p>\n",
       "</div>"
      ],
      "text/plain": [
       "      EC class   Entry   EC number  \\\n",
       "0            3  O88483    3.1.3.43   \n",
       "1            3  O53896  3.4.21.107   \n",
       "2            3  Q9QYJ6    3.1.4.17   \n",
       "3            3  Q63421    3.1.4.35   \n",
       "4            3  B0G0Y8    3.1.4.35   \n",
       "...        ...     ...         ...   \n",
       "8565         4  A1L4V7    4.4.1.15   \n",
       "8566         2  Q1HRV8   2.3.1.199   \n",
       "8567         3  Q94F30   3.4.22.68   \n",
       "8568         3  I6XU97     3.1.1.1   \n",
       "8569         3  Q7N0J8    3.1.11.6   \n",
       "\n",
       "                                               Sequence  \n",
       "0     MPAPTQLFFPLVRNCELSRIYGTACYCHHKHLCCSPPYIPQNRLRY...  \n",
       "1     MAKLARVVGLVQEEQPSDMTNHPRYSPPPQQPGTPGYAQGQQQTYS...  \n",
       "2     MEDGPSNNASCFRRLTECFLSPSLTDEKVKAYLSLHPQVLDEFVSE...  \n",
       "3     MTDTSHKKEGFKKCRSATFSIDGYSFTIVANEAGDKNARPLARFSR...  \n",
       "4     MAPQQNIMKQLQQMQSSPYPSSSPSSTTVSQNNDNLNHNVHSLNNS...  \n",
       "...                                                 ...  \n",
       "8565  MKVQRSTFLAVTGKSNLHHFHSSSQRIPITSEIDSREFVSKLLDRK...  \n",
       "8566  MALIMKYIDSMHHYMDKYGDPRTKDWPLMSSPFPTLALCLGYVYLV...  \n",
       "8567  MGAVAINRKRSDESFNFINQQSTNPLRNSPYFQASKKRRFSFAMSE...  \n",
       "8568  MLSDDELTGLDEFALLAENAEQAGVNGPLPEVERVQAGAISALRWG...  \n",
       "8569  MPKKNAISESTNSTPETAPAMTFESSLKELEQIVARLESGELALEE...  \n",
       "\n",
       "[8570 rows x 4 columns]"
      ]
     },
     "execution_count": 7,
     "metadata": {},
     "output_type": "execute_result"
    }
   ],
   "source": [
    "df"
   ]
  },
  {
   "cell_type": "markdown",
   "metadata": {},
   "source": [
    "Create an enzyme class to asssign atributes to the enzymes"
   ]
  },
  {
   "cell_type": "code",
   "execution_count": 8,
   "metadata": {},
   "outputs": [],
   "source": [
    "class Enzyme:\n",
    "    def __init__(self, header, ec_class, ec_number, seq):\n",
    "        self.header=header\n",
    "        self.ec_class=ec_class\n",
    "        self.ec_number=ec_number\n",
    "        self.seq=seq\n",
    "        self.embeddings=None\n",
    "        \n"
   ]
  },
  {
   "cell_type": "code",
   "execution_count": 9,
   "metadata": {},
   "outputs": [],
   "source": [
    "def readcsv(path_to_csv:str) -> dict():\n",
    "    enzymes_map=dict()\n",
    "    with open(path_to_csv, \"r\") as path:\n",
    "        line=path.readline()\n",
    "        for line in path.readlines():\n",
    "            field = line.strip().split(\",\")\n",
    "            header=field[2]\n",
    "            ec_class=field[1]\n",
    "            ec_number=field[3]\n",
    "            seq=field[4]\n",
    "            enzymes_map[header]=Enzyme(header,ec_class,ec_number,seq)\n",
    "    return enzymes_map\n",
    "\n",
    "enzymes_map=readcsv(\"/home/trucbui/PBLGit/rnn_prott5/dataframe\")"
   ]
  },
  {
   "cell_type": "markdown",
   "metadata": {},
   "source": [
    "Adding prott5 to the df"
   ]
  },
  {
   "cell_type": "code",
   "execution_count": 10,
   "metadata": {},
   "outputs": [],
   "source": [
    "def read_prott5(path_to_prott5:str,seq_map:dict) -> dict: \n",
    "    enzymes=seq_map\n",
    "    with h5py.File(path_to_prott5) as hdf_handle:\n",
    "        for header, emb in hdf_handle.items():\n",
    "            if header in seq_map.keys():\n",
    "                enzymes[header].embeddings = np.array(list(emb))\n",
    "    return enzymes\n",
    "\n",
    "path_to_prott5_split30=os.getenv(\"PROTT5_ENZYMES_SPLIT_30\",\"not found\") \n",
    "enzymes_map = read_prott5(path_to_prott5_split30,enzymes_map)\n"
   ]
  },
  {
   "cell_type": "code",
   "execution_count": 9,
   "metadata": {},
   "outputs": [
    {
     "name": "stdout",
     "output_type": "stream",
     "text": [
      "[ 0.03867   0.0673    0.0264   ...  0.0157    0.001873 -0.01573 ]\n"
     ]
    }
   ],
   "source": [
    "print(enzymes_map['O88483'].embeddings[0])"
   ]
  },
  {
   "cell_type": "code",
   "execution_count": 11,
   "metadata": {},
   "outputs": [],
   "source": [
    "def making_df(seq_map:dict)-> pd.DataFrame(): \n",
    "    headers=[]\n",
    "    classes=[]\n",
    "    embs=[]\n",
    "    \n",
    "    for header in seq_map:\n",
    "        headers.append(header)\n",
    "        entry=seq_map[header]\n",
    "        embs.append(entry.embeddings[0])\n",
    "        classes.append(entry.ec_class)\n",
    "       \n",
    "    return pd.DataFrame(data={'EC class':classes ,'Entry':headers,'Embeddings':embs})\n",
    "\n",
    "enzymes_df_with_prott5=making_df(enzymes_map)\n",
    "enzymes_df_with_prott5=enzymes_df_with_prott5.sort_values(['Entry'],ascending=[True])\n",
    "enzymes_df_with_prott5=enzymes_df_with_prott5.reset_index(drop=True)\n"
   ]
  },
  {
   "cell_type": "code",
   "execution_count": 12,
   "metadata": {},
   "outputs": [
    {
     "data": {
      "text/html": [
       "<div>\n",
       "<style scoped>\n",
       "    .dataframe tbody tr th:only-of-type {\n",
       "        vertical-align: middle;\n",
       "    }\n",
       "\n",
       "    .dataframe tbody tr th {\n",
       "        vertical-align: top;\n",
       "    }\n",
       "\n",
       "    .dataframe thead th {\n",
       "        text-align: right;\n",
       "    }\n",
       "</style>\n",
       "<table border=\"1\" class=\"dataframe\">\n",
       "  <thead>\n",
       "    <tr style=\"text-align: right;\">\n",
       "      <th></th>\n",
       "      <th>EC class</th>\n",
       "      <th>Entry</th>\n",
       "      <th>Embeddings</th>\n",
       "    </tr>\n",
       "  </thead>\n",
       "  <tbody>\n",
       "    <tr>\n",
       "      <th>0</th>\n",
       "      <td>3</td>\n",
       "      <td>A0A024RBG1</td>\n",
       "      <td>[0.05814, -0.003416, 0.01239, 0.005314, -0.004...</td>\n",
       "    </tr>\n",
       "    <tr>\n",
       "      <th>1</th>\n",
       "      <td>1</td>\n",
       "      <td>A0A024SMV2</td>\n",
       "      <td>[0.03195, 0.02757, 0.0469, 0.000661, -0.01875,...</td>\n",
       "    </tr>\n",
       "    <tr>\n",
       "      <th>2</th>\n",
       "      <td>3</td>\n",
       "      <td>A0A060S684</td>\n",
       "      <td>[0.04544, 0.0222, 0.01518, 0.014725, -0.012856...</td>\n",
       "    </tr>\n",
       "    <tr>\n",
       "      <th>3</th>\n",
       "      <td>3</td>\n",
       "      <td>A0A075TXZ3</td>\n",
       "      <td>[0.0442, 0.00945, 0.03165, 0.0016575, -0.00481...</td>\n",
       "    </tr>\n",
       "    <tr>\n",
       "      <th>4</th>\n",
       "      <td>2</td>\n",
       "      <td>A0A077K8G3</td>\n",
       "      <td>[0.0233, -0.00269, -0.02176, 0.03482, 0.01855,...</td>\n",
       "    </tr>\n",
       "    <tr>\n",
       "      <th>...</th>\n",
       "      <td>...</td>\n",
       "      <td>...</td>\n",
       "      <td>...</td>\n",
       "    </tr>\n",
       "    <tr>\n",
       "      <th>8565</th>\n",
       "      <td>4</td>\n",
       "      <td>W3XEE6</td>\n",
       "      <td>[0.01987, 0.0004537, 0.009735, 0.01274, 0.0060...</td>\n",
       "    </tr>\n",
       "    <tr>\n",
       "      <th>8566</th>\n",
       "      <td>3</td>\n",
       "      <td>W5EP13</td>\n",
       "      <td>[0.04694, 0.012314, -0.00533, 0.0238, 0.04193,...</td>\n",
       "    </tr>\n",
       "    <tr>\n",
       "      <th>8567</th>\n",
       "      <td>3</td>\n",
       "      <td>W7K139</td>\n",
       "      <td>[0.02875, 0.03705, -0.004395, 0.0199, 0.0257, ...</td>\n",
       "    </tr>\n",
       "    <tr>\n",
       "      <th>8568</th>\n",
       "      <td>3</td>\n",
       "      <td>W8QRE4</td>\n",
       "      <td>[0.01111, 0.01811, 0.01747, 0.02338, 0.02031, ...</td>\n",
       "    </tr>\n",
       "    <tr>\n",
       "      <th>8569</th>\n",
       "      <td>2</td>\n",
       "      <td>X1WBB5</td>\n",
       "      <td>[0.02034, -0.01979, -0.005943, -0.0395, 0.0064...</td>\n",
       "    </tr>\n",
       "  </tbody>\n",
       "</table>\n",
       "<p>8570 rows × 3 columns</p>\n",
       "</div>"
      ],
      "text/plain": [
       "     EC class       Entry                                         Embeddings\n",
       "0           3  A0A024RBG1  [0.05814, -0.003416, 0.01239, 0.005314, -0.004...\n",
       "1           1  A0A024SMV2  [0.03195, 0.02757, 0.0469, 0.000661, -0.01875,...\n",
       "2           3  A0A060S684  [0.04544, 0.0222, 0.01518, 0.014725, -0.012856...\n",
       "3           3  A0A075TXZ3  [0.0442, 0.00945, 0.03165, 0.0016575, -0.00481...\n",
       "4           2  A0A077K8G3  [0.0233, -0.00269, -0.02176, 0.03482, 0.01855,...\n",
       "...       ...         ...                                                ...\n",
       "8565        4      W3XEE6  [0.01987, 0.0004537, 0.009735, 0.01274, 0.0060...\n",
       "8566        3      W5EP13  [0.04694, 0.012314, -0.00533, 0.0238, 0.04193,...\n",
       "8567        3      W7K139  [0.02875, 0.03705, -0.004395, 0.0199, 0.0257, ...\n",
       "8568        3      W8QRE4  [0.01111, 0.01811, 0.01747, 0.02338, 0.02031, ...\n",
       "8569        2      X1WBB5  [0.02034, -0.01979, -0.005943, -0.0395, 0.0064...\n",
       "\n",
       "[8570 rows x 3 columns]"
      ]
     },
     "execution_count": 12,
     "metadata": {},
     "output_type": "execute_result"
    }
   ],
   "source": [
    "enzymes_df_with_prott5"
   ]
  },
  {
   "cell_type": "markdown",
   "metadata": {},
   "source": [
    "Some analyses"
   ]
  },
  {
   "cell_type": "code",
   "execution_count": 12,
   "metadata": {},
   "outputs": [
    {
     "name": "stdout",
     "output_type": "stream",
     "text": [
      "1136 3478 2476 563 383 347 187\n"
     ]
    },
    {
     "data": {
      "image/png": "[encoded data removed]",
      "text/plain": [
       "<Figure size 640x480 with 1 Axes>"
      ]
     },
     "metadata": {},
     "output_type": "display_data"
    }
   ],
   "source": [
    "df1 = len(df[df[\"EC class\"]==1])\n",
    "df2 = len(df[df[\"EC class\"]==2])\n",
    "df3 = len(df[df[\"EC class\"]==3])\n",
    "df4 = len(df[df[\"EC class\"]==4])\n",
    "df5 = len(df[df[\"EC class\"]==5])\n",
    "df6 = len(df[df[\"EC class\"]==6])\n",
    "df7 = len(df[df[\"EC class\"]==7])\n",
    "print (df1, df2, df3, df4, df5, df6, df7)\n",
    "fig = plt.figure()\n",
    "ax = fig.add_axes([0,0,1,1])\n",
    "classes = ['Class 1', 'Class 2', 'Class 3', 'Class 4', 'Class 5', 'Class 6', 'Class 7']\n",
    "classes_values = [df1,df2,df3,df4,df5,df6,df7]\n",
    "ax.bar(classes,classes_values)\n",
    "plt.show()"
   ]
  },
  {
   "cell_type": "markdown",
   "metadata": {},
   "source": [
    "Build a RNN model"
   ]
  },
  {
   "cell_type": "code",
   "execution_count": 22,
   "metadata": {},
   "outputs": [],
   "source": [
    "class RNNModel(nn.Module):\n",
    "    \n",
    "    def __init__(self, input_size, hidden_size, num_layers, num_classes):\n",
    "        super(RNNModel, self).__init__()\n",
    "        self.rnn = nn.LSTM(input_size, hidden_size, num_layers, batch_first=True)\n",
    "        self.fc = nn.Linear(hidden_size, num_classes)\n",
    "\n",
    "    def forward(self, x):\n",
    "        out, _ = self.rnn(x)\n",
    "        out = self.fc(out[:, :])  # Use the output from the final time step\n",
    "        return out\n",
    "    \n",
    "# Define hyperparameters\n",
    "input_size = 1024 # The size of embeddings\n",
    "hidden_size = 256\n",
    "num_layers = 2\n",
    "num_classes = 7 #the number of predicted classes\n",
    "\n",
    "model = RNNModel(input_size, hidden_size, num_layers, num_classes)\n",
    "\n",
    "# Define loss function and optimizer\n",
    "learning_rate = 0.001\n",
    "num_epochs = 10\n",
    "batch_size = 32\n",
    "\n",
    "criterion = nn.CrossEntropyLoss()\n",
    "optimizer = torch.optim.Adam(model.parameters(), lr=learning_rate)"
   ]
  },
  {
   "cell_type": "markdown",
   "metadata": {},
   "source": [
    "Transform the 1-7 class to 0-6 labels"
   ]
  },
  {
   "cell_type": "code",
   "execution_count": 16,
   "metadata": {},
   "outputs": [],
   "source": [
    "from sklearn.preprocessing import LabelEncoder\n",
    "\n",
    "label_encoder = LabelEncoder()\n",
    "enzymes_df_with_prott5['EC class encoded'] = label_encoder.fit_transform(enzymes_df_with_prott5['EC class'])\n",
    "\n"
   ]
  },
  {
   "cell_type": "code",
   "execution_count": 17,
   "metadata": {},
   "outputs": [],
   "source": [
    "# Split the data into features (X) and labels (y)\n",
    "y = np.array(enzymes_df_with_prott5['EC class encoded'])\n",
    "X = np.array(enzymes_df_with_prott5['Embeddings'])\n",
    "X = np.vstack(X).astype(np.float32)\n",
    "y = np.vstack(y).astype(np.int64)\n",
    "\n",
    "#X = torch.from_numpy(X)\n",
    "\n",
    "# train test split. Size of train data is 80% and size of test data is 20%. \n",
    "X_train,X_test,y_train,y_test = train_test_split(X,y,test_size = 0.2,random_state = 42) \n",
    "\n"
   ]
  },
  {
   "cell_type": "code",
   "execution_count": 18,
   "metadata": {},
   "outputs": [],
   "source": [
    "\n",
    "# Convert data to PyTorch tensors\n",
    "X_train_tensor = torch.tensor(X_train, dtype=torch.float32)\n",
    "y_train_tensor = torch.tensor(y_train, dtype=torch.long)\n",
    "X_test_tensor = torch.tensor(X_test, dtype=torch.float32)\n",
    "y_test_tensor = torch.tensor(y_test, dtype=torch.long)"
   ]
  },
  {
   "cell_type": "code",
   "execution_count": 19,
   "metadata": {},
   "outputs": [
    {
     "data": {
      "text/plain": [
       "tensor([[ 0.0435,  0.1057,  0.0122,  ...,  0.0039, -0.0519, -0.0282],\n",
       "        [ 0.0271, -0.0149, -0.0349,  ...,  0.0123, -0.0146,  0.0253],\n",
       "        [ 0.0328, -0.0480,  0.0346,  ..., -0.0544,  0.0361,  0.0473],\n",
       "        ...,\n",
       "        [ 0.0564, -0.0632,  0.0193,  ...,  0.0059,  0.0179,  0.0263],\n",
       "        [ 0.0120,  0.0809,  0.0337,  ...,  0.0685,  0.0002,  0.0265],\n",
       "        [ 0.0223,  0.0258,  0.0373,  ..., -0.0064,  0.0190, -0.0273]])"
      ]
     },
     "execution_count": 19,
     "metadata": {},
     "output_type": "execute_result"
    }
   ],
   "source": [
    "X_train_tensor\n"
   ]
  },
  {
   "cell_type": "code",
   "execution_count": 20,
   "metadata": {},
   "outputs": [],
   "source": [
    "train_dataset = TensorDataset(X_train_tensor, y_train_tensor)\n",
    "train_loader = DataLoader(train_dataset, batch_size=batch_size, shuffle=True)\n",
    "test_dataset = TensorDataset(X_test_tensor, y_test_tensor)\n",
    "test_loader = DataLoader(test_dataset, batch_size=batch_size, shuffle=False)"
   ]
  },
  {
   "cell_type": "code",
   "execution_count": 23,
   "metadata": {},
   "outputs": [
    {
     "name": "stdout",
     "output_type": "stream",
     "text": [
      "Epoch [1/10], Avg. Loss: 1.4716\n",
      "Epoch [2/10], Avg. Loss: 0.9746\n",
      "Epoch [3/10], Avg. Loss: 0.7734\n",
      "Epoch [4/10], Avg. Loss: 0.6711\n",
      "Epoch [5/10], Avg. Loss: 0.5922\n",
      "Epoch [6/10], Avg. Loss: 0.5335\n",
      "Epoch [7/10], Avg. Loss: 0.4824\n",
      "Epoch [8/10], Avg. Loss: 0.4325\n",
      "Epoch [9/10], Avg. Loss: 0.3961\n",
      "Epoch [10/10], Avg. Loss: 0.3673\n"
     ]
    }
   ],
   "source": [
    "for epoch in range(num_epochs):\n",
    "    model.train()  # Set the model to training mode\n",
    "    total_loss = 0.0\n",
    "\n",
    "    for inputs, labels in train_loader:\n",
    "        labels = labels.squeeze()  # Remove the extra dimension\n",
    "        \n",
    "        optimizer.zero_grad()  # Zero the gradient buffers\n",
    "\n",
    "        # Forward pass\n",
    "        outputs = model(inputs)\n",
    "\n",
    "        # Compute the loss\n",
    "        loss = criterion(outputs, labels)\n",
    "\n",
    "        # Backpropagation\n",
    "        loss.backward()\n",
    "\n",
    "        # Update the weights\n",
    "        optimizer.step()\n",
    "\n",
    "        total_loss += loss.item()\n",
    "\n",
    "    # Calculate and print the average loss for the epoch\n",
    "    avg_loss = total_loss / len(train_loader)\n",
    "    print(f'Epoch [{epoch+1}/{num_epochs}], Avg. Loss: {avg_loss:.4f}')"
   ]
  },
  {
   "cell_type": "markdown",
   "metadata": {},
   "source": [
    "Evaluate the model"
   ]
  },
  {
   "cell_type": "code",
   "execution_count": 24,
   "metadata": {},
   "outputs": [
    {
     "name": "stdout",
     "output_type": "stream",
     "text": [
      "Accuracy: 81.16%\n",
      "F1 Score: 0.81\n",
      "Matthews Correlation Coefficient (MCC): 0.74\n"
     ]
    }
   ],
   "source": [
    "model.eval()  # Set the model to evaluation mode\n",
    "true_labels = []  # Store the true labels\n",
    "predicted_labels = []  # Store the predicted labels\n",
    "\n",
    "with torch.no_grad():  # Disable gradient computation for evaluation\n",
    "    for inputs, labels in test_loader:  # Assuming you have a DataLoader for test data\n",
    "        # Forward pass\n",
    "        outputs = model(inputs)\n",
    "        \n",
    "        # Get the predicted class for each sample\n",
    "        _, predicted = torch.max(outputs, 1)\n",
    "\n",
    "        # Convert labels and predictions to numpy arrays\n",
    "        true_labels.extend(labels.cpu().numpy())\n",
    "        predicted_labels.extend(predicted.cpu().numpy())\n",
    "\n",
    "# Calculate accuracy\n",
    "accuracy = accuracy_score(true_labels, predicted_labels)\n",
    "f1 = f1_score(true_labels, predicted_labels, average='weighted')\n",
    "mcc = matthews_corrcoef(true_labels, predicted_labels)\n",
    "\n",
    "print(f'Accuracy: {accuracy * 100:.2f}%')\n",
    "print(f'F1 Score: {f1:.2f}')\n",
    "print(f'Matthews Correlation Coefficient (MCC): {mcc:.2f}')\n"
   ]
  }
 ],
 "metadata": {
  "kernelspec": {
   "display_name": "Python 3",
   "language": "python",
   "name": "python3"
  },
  "language_info": {
   "codemirror_mode": {
    "name": "ipython",
    "version": 3
   },
   "file_extension": ".py",
   "mimetype": "text/x-python",
   "name": "python",
   "nbconvert_exporter": "python",
   "pygments_lexer": "ipython3",
   "version": "3.10.12"
  },
  "orig_nbformat": 4
 },
 "nbformat": 4,
 "nbformat_minor": 2
}
