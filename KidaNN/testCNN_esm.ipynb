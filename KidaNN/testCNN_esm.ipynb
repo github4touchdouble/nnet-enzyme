{
 "cells": [
  {
   "cell_type": "code",
   "execution_count": null,
   "outputs": [],
   "source": [
    "import time\n",
    "import torch\n",
    "from reading_util import filter_unwanted_esm2, H5Dataset\n",
    "import torch.nn as nn\n",
    "from FNN_esm import FNN\n",
    "import numpy as np"
   ],
   "metadata": {
    "collapsed": false
   },
   "id": "62188041478b2ed6"
  },
  {
   "cell_type": "code",
   "execution_count": null,
   "id": "initial_id",
   "metadata": {
    "collapsed": true
   },
   "outputs": [],
   "source": [
    "\n",
    "def load_ml_data_emb(path_to_esm2 = \"C:/Users/shiko/Downloads/new_esm2_3b.h5\", path_to_enzyme_csv = 'C:/Users/shiko/Downloads/new.csv' ):\n",
    "    \"\"\"\n",
    "    Reads in the embeddings and the EC numbers from the h5 file and the csv file and labels them accordingly.\n",
    "    :param path_to_esm2: path to the h5 file\n",
    "    :param path_to_enzyme_csv: path to the csv file\n",
    "    :return: X: embeddings, y: EC numbers (labels)\n",
    "    \"\"\"\n",
    "\n",
    "    to_remove = filter_unwanted_esm2(path_to_enzyme_csv, True)\n",
    "\n",
    "    h5_dataset = H5Dataset(path_to_esm2, path_to_enzyme_csv)\n",
    "\n",
    "    loader = torch.utils.data.DataLoader(h5_dataset, batch_size=32, shuffle=False)\n",
    "\n",
    "    # Iterate over batches\n",
    "    X = []\n",
    "    y = []\n",
    "\n",
    "    t0 = time.time()\n",
    "    total_count = 0\n",
    "    for batch in loader:\n",
    "        total_count += 1\n",
    "        embs, headers, ec_numbers = batch\n",
    "        for i in range(len(headers)):\n",
    "            if headers[i] not in to_remove:\n",
    "                # here we convert ec to int and do -1\n",
    "                ec_class = int(ec_numbers[i].split(\".\")[0]) - 1\n",
    "                X.append(embs[i].numpy())\n",
    "                y.append(ec_class)\n",
    "\n",
    "    # Convert the lists to numpy arrays\n",
    "    X = np.vstack(X)\n",
    "    y = np.array(y)\n",
    "\n",
    "    t1 = time.time()\n",
    "\n",
    "    total = (t1 - t0) / 60\n",
    "\n",
    "    print(\"Total count: \", total_count)\n",
    "    print(f\"\\033[32mLOG:\\033[0m\\n Data loaded in: {round(total, 3)} min\")\n",
    "    print(f\"\\033[32mLOG:\\033[0m\\n ESM2 of enzymes: {len(X)}\")\n",
    "    print(f\"\\033[32mLOG:\\033[0m\\n Labels of enzymes: {len(y)}\")\n",
    "\n",
    "    return X, y"
   ]
  },
  {
   "cell_type": "code",
   "execution_count": null,
   "outputs": [],
   "source": [
    "model = CNN().to(\"cuda\")\n",
    "model.load_state_dict(torch.load('FNN_esm.pth'))\n",
    "model.eval()"
   ],
   "metadata": {
    "collapsed": false
   },
   "id": "483459285be676e4"
  }
 ],
 "metadata": {
  "kernelspec": {
   "display_name": "Python 3",
   "language": "python",
   "name": "python3"
  },
  "language_info": {
   "codemirror_mode": {
    "name": "ipython",
    "version": 2
   },
   "file_extension": ".py",
   "mimetype": "text/x-python",
   "name": "python",
   "nbconvert_exporter": "python",
   "pygments_lexer": "ipython2",
   "version": "2.7.6"
  }
 },
 "nbformat": 4,
 "nbformat_minor": 5
}
