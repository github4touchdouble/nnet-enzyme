{
 "cells": [
  {
   "cell_type": "code",
   "execution_count": null,
   "metadata": {
    "collapsed": true
   },
   "outputs": [],
   "source": [
    "import os\n",
    "from dotenv import load_dotenv\n",
    "import pandas as pd\n",
    "from utils import enzyme_split30_preprocessing, read_h5, apply_embedding, read_fasta\n",
    "\n",
    "from sklearn.model_selection import train_test_split\n",
    "from sklearn.neighbors import KNeighborsClassifier\n",
    "from sklearn.metrics import accuracy_score, precision_score, recall_score, f1_score, matthews_corrcoef"
   ]
  },
  {
   "cell_type": "code",
   "execution_count": null,
   "outputs": [],
   "source": [
    "load_dotenv()\n",
    "path_to_non_enzymes = os.getenv(\"FASTA_NON_ENZYMES\")\n",
    "path_to_csv_split30 = os.getenv(\"CSV30_ENZYMES\", \"not found\")\n",
    "\n",
    "path_to_esm2_ne = os.getenv(\"ESM2_NON_ENZYMES\", \"not found\")\n",
    "path_to_esm2 = os.getenv(\"ESM2_ENZYMES_SPLIT_30\", \"not found\")\n",
    "path_to_csv_split30_esm2 = os.getenv(\"CSV30_ENZYMES_ESM25_APPLIED\")\n",
    "path_to_non_enzymes_esm2 = os.getenv(\"NON_ENZYMES_ESM2_APPLIED\")"
   ],
   "metadata": {
    "collapsed": false
   }
  },
  {
   "cell_type": "code",
   "execution_count": null,
   "outputs": [],
   "source": [
    "enzymes = enzyme_split30_preprocessing(pd.read_csv(path_to_csv_split30, delimiter=\",\"))\n",
    "enzymes.head()"
   ],
   "metadata": {
    "collapsed": false
   }
  },
  {
   "cell_type": "code",
   "execution_count": null,
   "outputs": [],
   "source": [
    "enzymes = apply_embedding(read_h5(path_to_esm2, False), enzymes)\n",
    "enzymes.head()"
   ],
   "metadata": {
    "collapsed": false
   }
  },
  {
   "cell_type": "code",
   "execution_count": null,
   "outputs": [],
   "source": [
    "non_enzymes = read_fasta(path_to_non_enzymes)\n",
    "non_enzymes.head()"
   ],
   "metadata": {
    "collapsed": false
   }
  },
  {
   "cell_type": "code",
   "execution_count": null,
   "outputs": [],
   "source": [
    "non_enzymes = apply_embedding(read_h5(path_to_esm2_ne, False), non_enzymes)\n",
    "non_enzymes.head()"
   ],
   "metadata": {
    "collapsed": false
   }
  },
  {
   "cell_type": "code",
   "execution_count": null,
   "outputs": [],
   "source": [
    "import numpy as np\n",
    "# Split data\n",
    "enzymes[\"Label\"] = 1\n",
    "non_enzymes[\"Label\"] = 0\n",
    "\n",
    "bin = pd.concat([enzymes[[\"Label\", \"Embedding\"]], non_enzymes[[\"Label\", \"Embedding\"]]], ignore_index=True)\n",
    "\n",
    "bin = bin.sample(frac=1, random_state=42).reset_index(drop=True)\n",
    "\n",
    "X = [value for value in bin[\"Embedding\"]]\n",
    "y = bin[\"Label\"]\n",
    "X_train, X_test, y_train, y_test = train_test_split(X, y, test_size=0.2, random_state=42)\n",
    "y_test = np.array(y_test)"
   ],
   "metadata": {
    "collapsed": false
   }
  },
  {
   "cell_type": "code",
   "execution_count": null,
   "outputs": [],
   "source": [
    "import math\n",
    "def bootstrap_statistic(y_true, y_pred, statistic_func, B=10_000, alpha=0.05):\n",
    "    bootstrap_scores = []\n",
    "    for _ in range(B):\n",
    "        indices = np.random.choice(len(y_pred), len(y_pred), replace=True)\n",
    "        try:\n",
    "            resampled_pred = y_pred[indices]\n",
    "            resampled_true = y_true[indices]\n",
    "            score = statistic_func(resampled_true, resampled_pred)\n",
    "            bootstrap_scores.append(score)\n",
    "        except:\n",
    "            #print(\"Key error for \" + str(indices))\n",
    "            continue\n",
    "\n",
    "    print(bootstrap_scores)\n",
    "    mean_score = np.mean(bootstrap_scores)\n",
    "    standard_error = np.std(bootstrap_scores, ddof=1)\n",
    "\n",
    "    # Calculate the 95% confidence interval\n",
    "    lower_bound = np.percentile(bootstrap_scores, (alpha / 2) * 100)\n",
    "    upper_bound = np.percentile(bootstrap_scores, (1 - alpha / 2) * 100)\n",
    "\n",
    "    return mean_score, standard_error, (lower_bound, upper_bound)\n",
    "\n",
    "def calculate_f1(y_true, y_pred):\n",
    "    return f1_score(y_true, y_pred, average='micro')\n",
    "\n",
    "def round_to_significance(x, significance):\n",
    "    if significance == 0.0:\n",
    "        sig_position = 0\n",
    "    else:\n",
    "        sig_position = int(math.floor(math.log10(abs(significance))))\n",
    "    return round(x, -sig_position), round(significance, -sig_position + 1)"
   ],
   "metadata": {
    "collapsed": false
   }
  },
  {
   "cell_type": "code",
   "execution_count": null,
   "outputs": [],
   "source": [
    "k = 7\n",
    "knn_classifier = KNeighborsClassifier(n_neighbors=k)\n",
    "\n",
    "# Fit the classifier to the training data\n",
    "knn_classifier.fit(X_train, y_train)\n",
    "\n",
    "# Make predictions on the test data\n",
    "y_pred = knn_classifier.predict(X_test) # y_pred are predicted labels for embeddings at index\n"
   ],
   "metadata": {
    "collapsed": false
   }
  },
  {
   "cell_type": "code",
   "execution_count": null,
   "outputs": [],
   "source": [
    "from sklearn.metrics import confusion_matrix\n",
    "import matplotlib.pyplot as plt\n",
    "import matplotlib.colors as mcolors\n",
    "cm = confusion_matrix(y_test, y_pred)\n",
    "# Define custom colors (e.g., green and purple)\n",
    "colors = ['yellow', 'purple']\n",
    "\n",
    "# Create a colormap using custom colors\n",
    "cmap = mcolors.ListedColormap(colors)\n",
    "\n",
    "# Plot the confusion matrix heatmap\n",
    "plt.imshow(cm, interpolation='nearest', cmap=cmap)\n",
    "plt.colorbar()\n",
    "plt.xticks([0, 1], [\"Predicted 0\", \"Predicted 1\"])\n",
    "plt.yticks([0, 1], [\"Actual 0\", \"Actual 1\"])\n",
    "\n",
    "plt.xlabel('Predicted')\n",
    "plt.ylabel('Actual')\n",
    "plt.title('Confusion Matrix')\n",
    "\n",
    "for i in range(2):\n",
    "    for j in range(2):\n",
    "        plt.text(j, i, str(cm[i, j]), ha='center', va='center', color='white', fontsize=16)\n",
    "\n",
    "plt.show()"
   ],
   "metadata": {
    "collapsed": false
   }
  },
  {
   "cell_type": "code",
   "execution_count": null,
   "outputs": [],
   "source": [
    "initial_f1 = calculate_f1(np.array(y_test), y_pred)\n",
    "mean_f1, se_f1, ci_95 = bootstrap_statistic(y_test, y_pred, calculate_f1)\n",
    "rounded_mean_f1, rounded_se_f1 = round_to_significance(mean_f1, se_f1)"
   ],
   "metadata": {
    "collapsed": false
   }
  },
  {
   "cell_type": "code",
   "execution_count": null,
   "outputs": [],
   "source": [
    "print(f\"ESM2 KNN:\")\n",
    "print(f\"  - Accuracy: {accuracy_score(y_test, y_pred)}\")\n",
    "print(f\"  - Initial F1 Score: {initial_f1:.2f}\")\n",
    "print(f\"  - MCC: {matthews_corrcoef(y_test, y_pred)}\")\n",
    "print(f\"  - Mean F1 ± SE F1: {rounded_mean_f1} ± {rounded_se_f1}\")\n",
    "print(f\"  - 95% CI: [{ci_95[0]:.2f}, {ci_95[1]:.2f}]\")"
   ],
   "metadata": {
    "collapsed": false
   }
  },
  {
   "cell_type": "code",
   "execution_count": null,
   "outputs": [],
   "source": [
    "from sklearn.metrics import roc_curve, auc\n",
    "import matplotlib.pyplot as plt\n",
    "# roc curve\n",
    "fpr, tpr, thresholds = roc_curve(y_test, y_pred)\n",
    "\n",
    "# Calculate the AUC (Area Under the ROC Curve)\n",
    "roc_auc = auc(fpr, tpr)\n",
    "# Plot the ROC curve\n",
    "plt.figure(figsize=(8, 6))\n",
    "plt.plot(fpr, tpr, color='darkorange', lw=2, label=f'ROC curve (AUC = {roc_auc:.2f})')\n",
    "plt.plot([0, 1], [0, 1], color='navy', lw=2, linestyle='--')\n",
    "plt.xlim([0.0, 1.0])\n",
    "plt.ylim([0.0, 1.05])\n",
    "plt.xlabel('False Positive Rate')\n",
    "plt.ylabel('True Positive Rate')\n",
    "plt.title('ROC Curve for KNN (k=7)')\n",
    "plt.legend(loc='lower right')\n",
    "plt.show()"
   ],
   "metadata": {
    "collapsed": false
   }
  }
 ],
 "metadata": {
  "kernelspec": {
   "display_name": "Python 3",
   "language": "python",
   "name": "python3"
  },
  "language_info": {
   "codemirror_mode": {
    "name": "ipython",
    "version": 2
   },
   "file_extension": ".py",
   "mimetype": "text/x-python",
   "name": "python",
   "nbconvert_exporter": "python",
   "pygments_lexer": "ipython2",
   "version": "2.7.6"
  }
 },
 "nbformat": 4,
 "nbformat_minor": 0
}
