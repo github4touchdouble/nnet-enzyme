{
 "cells": [
  {
   "cell_type": "code",
   "execution_count": 7,
   "metadata": {
    "collapsed": true
   },
   "outputs": [],
   "source": [
    "import os\n",
    "from dotenv import load_dotenv\n",
    "import pandas as pd\n",
    "from lib.utils import enzyme_split30_preprocessing, read_h5, apply_embedding, read_fasta, calculate_f1, bootstrap_statistic, round_to_significance\n",
    "\n",
    "from sklearn.model_selection import train_test_split\n",
    "from sklearn.neighbors import KNeighborsClassifier\n",
    "from sklearn.metrics import accuracy_score, f1_score, matthews_corrcoef\n",
    "import joblib"
   ]
  },
  {
   "cell_type": "code",
   "execution_count": 6,
   "outputs": [],
   "source": [
    "mode = \"test\""
   ],
   "metadata": {
    "collapsed": false
   }
  },
  {
   "cell_type": "code",
   "execution_count": 3,
   "outputs": [],
   "source": [
    "load_dotenv()\n",
    "if mode == \"train\":\n",
    "    path_to_non_enzymes = os.getenv(\"FASTA_NON_ENZYMES\", \"fasta not found\")\n",
    "    path_to_enzyme_csv = os.getenv(\"CSV30_ENZYMES\", \"csv not found\")\n",
    "    path_to_esm2_ne = os.getenv(\"ESM2_NON_ENZYMES\", \"esm2 ne not found\")\n",
    "    path_to_esm2 = os.getenv(\"ESM2_ENZYMES_SPLIT_30\", \"esm2 not found\")\n",
    "elif mode == \"test\":\n",
    "    path_to_non_enzymes = os.getenv(\"TEST_FASTA_NON_ENZYMES\", \"fasta not found\")\n",
    "    path_to_enzyme_csv = os.getenv(\"TEST_CSV_ENZYMES\", \"csv not found\")\n",
    "    path_to_esm2_ne = os.getenv(\"TEST_ESM2_NON_ENZYMES\", \"esm2 ne not found\")\n",
    "    path_to_esm2 = os.getenv(\"TEST_ESM2_ENZYMES_SPLIT_30\", \"esm2 not found\")\n",
    "\n",
    "#path_to_enzyme_csv_esm2 = os.getenv(\"CSV30_ENZYMES_ESM25_APPLIED\")\n",
    "#path_to_non_enzymes_esm2 = os.getenv(\"NON_ENZYMES_ESM2_APPLIED\")"
   ],
   "metadata": {
    "collapsed": false
   }
  },
  {
   "cell_type": "code",
   "execution_count": 4,
   "outputs": [
    {
     "name": "stdout",
     "output_type": "stream",
     "text": [
      "RAW ENZYMES SIZE: Entry        392\n",
      "EC number    392\n",
      "Sequence     392\n",
      "dtype: int64\n",
      "PREPROCESSED ENZYMES SIZE: ID              334\n",
      "EC number       334\n",
      "Sequence        334\n",
      "Enzyme class    334\n",
      "dtype: int64\n"
     ]
    },
    {
     "data": {
      "text/plain": "       ID  EC number                                           Sequence  \\\n0  E0VIU9   2.3.2.31  MSILEWFWNILCGMAQYLTFSKNLTNDNLVNIYVKSNVGGTISVNL...   \n1  Q838J7  4.2.1.113  MNIQSIETYQVRLPLKTPFVTSYGRLEEKAFDLFVITDEQGNQGFG...   \n2  B1VB82  2.7.1.177  MAVAQCPASCGELIQGWILGSEKLVSCPVEWYSTVEVTSGSPLTDE...   \n3  R9QMR1  4.2.3.121  MALVSAVPLNSKLCLCRTLFGFSHELKAIHSTVPNLGMCRGGKSIA...   \n4  R9QMW2  4.2.3.121  MALVSAVPLNSKLCLCRTLFGFSHELKAIHSTVPNLGMCRGGKSIA...   \n\n   Enzyme class  \n0             2  \n1             4  \n2             2  \n3             4  \n4             4  ",
      "text/html": "<div>\n<style scoped>\n    .dataframe tbody tr th:only-of-type {\n        vertical-align: middle;\n    }\n\n    .dataframe tbody tr th {\n        vertical-align: top;\n    }\n\n    .dataframe thead th {\n        text-align: right;\n    }\n</style>\n<table border=\"1\" class=\"dataframe\">\n  <thead>\n    <tr style=\"text-align: right;\">\n      <th></th>\n      <th>ID</th>\n      <th>EC number</th>\n      <th>Sequence</th>\n      <th>Enzyme class</th>\n    </tr>\n  </thead>\n  <tbody>\n    <tr>\n      <th>0</th>\n      <td>E0VIU9</td>\n      <td>2.3.2.31</td>\n      <td>MSILEWFWNILCGMAQYLTFSKNLTNDNLVNIYVKSNVGGTISVNL...</td>\n      <td>2</td>\n    </tr>\n    <tr>\n      <th>1</th>\n      <td>Q838J7</td>\n      <td>4.2.1.113</td>\n      <td>MNIQSIETYQVRLPLKTPFVTSYGRLEEKAFDLFVITDEQGNQGFG...</td>\n      <td>4</td>\n    </tr>\n    <tr>\n      <th>2</th>\n      <td>B1VB82</td>\n      <td>2.7.1.177</td>\n      <td>MAVAQCPASCGELIQGWILGSEKLVSCPVEWYSTVEVTSGSPLTDE...</td>\n      <td>2</td>\n    </tr>\n    <tr>\n      <th>3</th>\n      <td>R9QMR1</td>\n      <td>4.2.3.121</td>\n      <td>MALVSAVPLNSKLCLCRTLFGFSHELKAIHSTVPNLGMCRGGKSIA...</td>\n      <td>4</td>\n    </tr>\n    <tr>\n      <th>4</th>\n      <td>R9QMW2</td>\n      <td>4.2.3.121</td>\n      <td>MALVSAVPLNSKLCLCRTLFGFSHELKAIHSTVPNLGMCRGGKSIA...</td>\n      <td>4</td>\n    </tr>\n  </tbody>\n</table>\n</div>"
     },
     "execution_count": 4,
     "metadata": {},
     "output_type": "execute_result"
    }
   ],
   "source": [
    "enzymes=pd.read_csv(path_to_enzyme_csv, delimiter=\",\")\n",
    "print(\"RAW ENZYMES SIZE: \" + str(enzymes.count()))\n",
    "enzymes = enzyme_split30_preprocessing(enzymes)\n",
    "print(\"PREPROCESSED ENZYMES SIZE: \" + str(enzymes.count()))\n",
    "enzymes.head()"
   ],
   "metadata": {
    "collapsed": false
   }
  },
  {
   "cell_type": "code",
   "execution_count": 5,
   "outputs": [
    {
     "ename": "FileNotFoundError",
     "evalue": "[Errno 2] Unable to open file (unable to open file: name = 'esm2 not found', errno = 2, error message = 'No such file or directory', flags = 0, o_flags = 0)",
     "output_type": "error",
     "traceback": [
      "\u001B[1;31m---------------------------------------------------------------------------\u001B[0m",
      "\u001B[1;31mFileNotFoundError\u001B[0m                         Traceback (most recent call last)",
      "Cell \u001B[1;32mIn[5], line 1\u001B[0m\n\u001B[1;32m----> 1\u001B[0m enzymes \u001B[38;5;241m=\u001B[39m apply_embedding(\u001B[43mread_h5\u001B[49m\u001B[43m(\u001B[49m\u001B[43mpath_to_esm2\u001B[49m\u001B[43m,\u001B[49m\u001B[43m \u001B[49m\u001B[38;5;28;43;01mFalse\u001B[39;49;00m\u001B[43m)\u001B[49m, enzymes)\n\u001B[0;32m      2\u001B[0m enzymes\u001B[38;5;241m.\u001B[39mhead()\n",
      "File \u001B[1;32mD:\\Home\\hummel0\\Software\\Uniprojekte\\nnet-enzyme\\KNN\\lib\\utils.py:41\u001B[0m, in \u001B[0;36mread_h5\u001B[1;34m(path_to_h5, prott5)\u001B[0m\n\u001B[0;32m     35\u001B[0m \u001B[38;5;250m\u001B[39m\u001B[38;5;124;03m\"\"\"\u001B[39;00m\n\u001B[0;32m     36\u001B[0m \u001B[38;5;124;03m:param path_to_h5: FIle path as String\u001B[39;00m\n\u001B[0;32m     37\u001B[0m \u001B[38;5;124;03m:return: DataFrame {ID: <ID>. Embedding: [<emb>,<...>,...]}\u001B[39;00m\n\u001B[0;32m     38\u001B[0m \u001B[38;5;124;03m\"\"\"\u001B[39;00m\n\u001B[0;32m     40\u001B[0m \u001B[38;5;28mbin\u001B[39m \u001B[38;5;241m=\u001B[39m {\u001B[38;5;124m\"\u001B[39m\u001B[38;5;124mID\u001B[39m\u001B[38;5;124m\"\u001B[39m: [], \u001B[38;5;124m\"\u001B[39m\u001B[38;5;124mEmbedding\u001B[39m\u001B[38;5;124m\"\u001B[39m: []}\n\u001B[1;32m---> 41\u001B[0m \u001B[38;5;28;01mwith\u001B[39;00m \u001B[43mh5py\u001B[49m\u001B[38;5;241;43m.\u001B[39;49m\u001B[43mFile\u001B[49m\u001B[43m(\u001B[49m\u001B[43mpath_to_h5\u001B[49m\u001B[43m,\u001B[49m\u001B[43m \u001B[49m\u001B[38;5;124;43m'\u001B[39;49m\u001B[38;5;124;43mr\u001B[39;49m\u001B[38;5;124;43m'\u001B[39;49m\u001B[43m)\u001B[49m \u001B[38;5;28;01mas\u001B[39;00m h:\n\u001B[0;32m     42\u001B[0m     \u001B[38;5;28;01mfor\u001B[39;00m \u001B[38;5;28mid\u001B[39m, emb \u001B[38;5;129;01min\u001B[39;00m h\u001B[38;5;241m.\u001B[39mitems():\n\u001B[0;32m     43\u001B[0m         \u001B[38;5;28mbin\u001B[39m[\u001B[38;5;124m\"\u001B[39m\u001B[38;5;124mID\u001B[39m\u001B[38;5;124m\"\u001B[39m]\u001B[38;5;241m.\u001B[39mappend(\u001B[38;5;28mid\u001B[39m)\n",
      "File \u001B[1;32m~\\AppData\\Local\\Programs\\Python\\Python310\\lib\\site-packages\\h5py\\_hl\\files.py:567\u001B[0m, in \u001B[0;36mFile.__init__\u001B[1;34m(self, name, mode, driver, libver, userblock_size, swmr, rdcc_nslots, rdcc_nbytes, rdcc_w0, track_order, fs_strategy, fs_persist, fs_threshold, fs_page_size, page_buf_size, min_meta_keep, min_raw_keep, locking, alignment_threshold, alignment_interval, meta_block_size, **kwds)\u001B[0m\n\u001B[0;32m    558\u001B[0m     fapl \u001B[38;5;241m=\u001B[39m make_fapl(driver, libver, rdcc_nslots, rdcc_nbytes, rdcc_w0,\n\u001B[0;32m    559\u001B[0m                      locking, page_buf_size, min_meta_keep, min_raw_keep,\n\u001B[0;32m    560\u001B[0m                      alignment_threshold\u001B[38;5;241m=\u001B[39malignment_threshold,\n\u001B[0;32m    561\u001B[0m                      alignment_interval\u001B[38;5;241m=\u001B[39malignment_interval,\n\u001B[0;32m    562\u001B[0m                      meta_block_size\u001B[38;5;241m=\u001B[39mmeta_block_size,\n\u001B[0;32m    563\u001B[0m                      \u001B[38;5;241m*\u001B[39m\u001B[38;5;241m*\u001B[39mkwds)\n\u001B[0;32m    564\u001B[0m     fcpl \u001B[38;5;241m=\u001B[39m make_fcpl(track_order\u001B[38;5;241m=\u001B[39mtrack_order, fs_strategy\u001B[38;5;241m=\u001B[39mfs_strategy,\n\u001B[0;32m    565\u001B[0m                      fs_persist\u001B[38;5;241m=\u001B[39mfs_persist, fs_threshold\u001B[38;5;241m=\u001B[39mfs_threshold,\n\u001B[0;32m    566\u001B[0m                      fs_page_size\u001B[38;5;241m=\u001B[39mfs_page_size)\n\u001B[1;32m--> 567\u001B[0m     fid \u001B[38;5;241m=\u001B[39m \u001B[43mmake_fid\u001B[49m\u001B[43m(\u001B[49m\u001B[43mname\u001B[49m\u001B[43m,\u001B[49m\u001B[43m \u001B[49m\u001B[43mmode\u001B[49m\u001B[43m,\u001B[49m\u001B[43m \u001B[49m\u001B[43muserblock_size\u001B[49m\u001B[43m,\u001B[49m\u001B[43m \u001B[49m\u001B[43mfapl\u001B[49m\u001B[43m,\u001B[49m\u001B[43m \u001B[49m\u001B[43mfcpl\u001B[49m\u001B[43m,\u001B[49m\u001B[43m \u001B[49m\u001B[43mswmr\u001B[49m\u001B[38;5;241;43m=\u001B[39;49m\u001B[43mswmr\u001B[49m\u001B[43m)\u001B[49m\n\u001B[0;32m    569\u001B[0m \u001B[38;5;28;01mif\u001B[39;00m \u001B[38;5;28misinstance\u001B[39m(libver, \u001B[38;5;28mtuple\u001B[39m):\n\u001B[0;32m    570\u001B[0m     \u001B[38;5;28mself\u001B[39m\u001B[38;5;241m.\u001B[39m_libver \u001B[38;5;241m=\u001B[39m libver\n",
      "File \u001B[1;32m~\\AppData\\Local\\Programs\\Python\\Python310\\lib\\site-packages\\h5py\\_hl\\files.py:231\u001B[0m, in \u001B[0;36mmake_fid\u001B[1;34m(name, mode, userblock_size, fapl, fcpl, swmr)\u001B[0m\n\u001B[0;32m    229\u001B[0m     \u001B[38;5;28;01mif\u001B[39;00m swmr \u001B[38;5;129;01mand\u001B[39;00m swmr_support:\n\u001B[0;32m    230\u001B[0m         flags \u001B[38;5;241m|\u001B[39m\u001B[38;5;241m=\u001B[39m h5f\u001B[38;5;241m.\u001B[39mACC_SWMR_READ\n\u001B[1;32m--> 231\u001B[0m     fid \u001B[38;5;241m=\u001B[39m \u001B[43mh5f\u001B[49m\u001B[38;5;241;43m.\u001B[39;49m\u001B[43mopen\u001B[49m\u001B[43m(\u001B[49m\u001B[43mname\u001B[49m\u001B[43m,\u001B[49m\u001B[43m \u001B[49m\u001B[43mflags\u001B[49m\u001B[43m,\u001B[49m\u001B[43m \u001B[49m\u001B[43mfapl\u001B[49m\u001B[38;5;241;43m=\u001B[39;49m\u001B[43mfapl\u001B[49m\u001B[43m)\u001B[49m\n\u001B[0;32m    232\u001B[0m \u001B[38;5;28;01melif\u001B[39;00m mode \u001B[38;5;241m==\u001B[39m \u001B[38;5;124m'\u001B[39m\u001B[38;5;124mr+\u001B[39m\u001B[38;5;124m'\u001B[39m:\n\u001B[0;32m    233\u001B[0m     fid \u001B[38;5;241m=\u001B[39m h5f\u001B[38;5;241m.\u001B[39mopen(name, h5f\u001B[38;5;241m.\u001B[39mACC_RDWR, fapl\u001B[38;5;241m=\u001B[39mfapl)\n",
      "File \u001B[1;32mh5py\\_objects.pyx:54\u001B[0m, in \u001B[0;36mh5py._objects.with_phil.wrapper\u001B[1;34m()\u001B[0m\n",
      "File \u001B[1;32mh5py\\_objects.pyx:55\u001B[0m, in \u001B[0;36mh5py._objects.with_phil.wrapper\u001B[1;34m()\u001B[0m\n",
      "File \u001B[1;32mh5py\\h5f.pyx:106\u001B[0m, in \u001B[0;36mh5py.h5f.open\u001B[1;34m()\u001B[0m\n",
      "\u001B[1;31mFileNotFoundError\u001B[0m: [Errno 2] Unable to open file (unable to open file: name = 'esm2 not found', errno = 2, error message = 'No such file or directory', flags = 0, o_flags = 0)"
     ]
    }
   ],
   "source": [
    "enzymes = apply_embedding(read_h5(path_to_esm2, False), enzymes)\n",
    "enzymes.head()"
   ],
   "metadata": {
    "collapsed": false
   }
  },
  {
   "cell_type": "code",
   "execution_count": null,
   "outputs": [],
   "source": [
    "non_enzymes = read_fasta(path_to_non_enzymes)\n",
    "print(\"NON-ENZYMES SIZE: \" + str(non_enzymes.count()))\n",
    "non_enzymes.head()"
   ],
   "metadata": {
    "collapsed": false
   }
  },
  {
   "cell_type": "code",
   "execution_count": null,
   "outputs": [],
   "source": [
    "import numpy as np\n",
    "# Split data\n",
    "enzymes[\"Label\"] = 1\n",
    "non_enzymes[\"Label\"] = 0\n",
    "\n",
    "bin = pd.concat([enzymes[[\"Label\", \"Embedding\"]], non_enzymes[[\"Label\", \"Embedding\"]]], ignore_index=True)\n",
    "\n",
    "bin = bin.sample(frac=1, random_state=42).reset_index(drop=True)\n",
    "\n",
    "X = [value for value in bin[\"Embedding\"]]\n",
    "y = bin[\"Label\"]\n",
    "if mode == \"train\":\n",
    "    X_train, X_test, y_train, y_test = train_test_split(X, y, test_size=0.2, random_state=42)\n",
    "    y_test = np.array(y_test)\n",
    "elif mode == \"test\":\n",
    "    X_test = X\n",
    "    y_test = y\n",
    "    y_test = np.array(y_test)"
   ],
   "metadata": {
    "collapsed": false
   }
  },
  {
   "cell_type": "code",
   "execution_count": null,
   "outputs": [],
   "source": [
    "if mode == \"train\":\n",
    "    k = 7\n",
    "    knn_classifier = KNeighborsClassifier(n_neighbors=k)\n",
    "\n",
    "    # Fit the classifier to the training data\n",
    "    knn_classifier.fit(X_train, y_train)\n",
    "\n",
    "    # Make predictions on the test data\n",
    "    y_pred = knn_classifier.predict(X_test) # y_pred are predicted labels for embeddings at index\n",
    "elif mode == \"test\":\n",
    "    knn_classifier = joblib.load('./var/level0_esm2_knn.pkl')\n",
    "    y_pred = knn_classifier.predict(X_test) # y_pred are predicted labels for embeddings at index\n"
   ],
   "metadata": {
    "collapsed": false
   }
  },
  {
   "cell_type": "code",
   "execution_count": null,
   "outputs": [],
   "source": [
    "with open(f'./var/{mode}_knn_esm2_y_pred.txt', 'w') as file:\n",
    "    for label in y_pred:\n",
    "        file.write(f\"{label}\\n\")\n",
    "with open(f'./var/{mode}_knn_esm2_y_test.txt', 'w') as file:\n",
    "    for label in y_test:\n",
    "        file.write(f\"{label}\\n\")"
   ],
   "metadata": {
    "collapsed": false
   }
  },
  {
   "cell_type": "code",
   "execution_count": null,
   "outputs": [],
   "source": [
    "from sklearn.metrics import confusion_matrix\n",
    "import matplotlib.pyplot as plt\n",
    "import matplotlib.colors as mcolors\n",
    "cm = confusion_matrix(y_test, y_pred)\n",
    "# Define custom colors (e.g., green and purple)\n",
    "colors = ['yellow', 'purple']\n",
    "\n",
    "# Create a colormap using custom colors\n",
    "cmap = mcolors.ListedColormap(colors)\n",
    "\n",
    "# Plot the confusion matrix heatmap\n",
    "plt.imshow(cm, interpolation='nearest', cmap=cmap)\n",
    "plt.colorbar()\n",
    "plt.xticks([0, 1], [\"Predicted 0\", \"Predicted 1\"])\n",
    "plt.yticks([0, 1], [\"Actual 0\", \"Actual 1\"])\n",
    "\n",
    "plt.xlabel('Predicted')\n",
    "plt.ylabel('Actual')\n",
    "plt.title('Confusion Matrix')\n",
    "\n",
    "for i in range(2):\n",
    "    for j in range(2):\n",
    "        plt.text(j, i, str(cm[i, j]), ha='center', va='center', color='white', fontsize=16)\n",
    "\n",
    "plt.show()"
   ],
   "metadata": {
    "collapsed": false
   }
  },
  {
   "cell_type": "code",
   "execution_count": null,
   "outputs": [],
   "source": [
    "initial_f1 = calculate_f1(np.array(y_test), y_pred)\n",
    "mean_f1, se_f1, ci_95 = bootstrap_statistic(y_test, y_pred, calculate_f1)\n",
    "rounded_mean_f1, rounded_se_f1 = round_to_significance(mean_f1, se_f1)"
   ],
   "metadata": {
    "collapsed": false
   }
  },
  {
   "cell_type": "code",
   "execution_count": null,
   "outputs": [],
   "source": [
    "print(f\"ESM2 KNN:\")\n",
    "print(f\"  - Accuracy: {accuracy_score(y_test, y_pred)}\")\n",
    "print(f\"  - Initial F1 Score: {initial_f1:.2f}\")\n",
    "print(f\"  - MCC: {matthews_corrcoef(y_test, y_pred)}\")\n",
    "print(f\"  - Mean F1 ± SE F1: {rounded_mean_f1} ± {rounded_se_f1}\")\n",
    "print(f\"  - 95% CI: [{ci_95[0]:.2f}, {ci_95[1]:.2f}]\")"
   ],
   "metadata": {
    "collapsed": false
   }
  },
  {
   "cell_type": "code",
   "execution_count": null,
   "outputs": [],
   "source": [
    "from sklearn.metrics import roc_curve, auc\n",
    "import matplotlib.pyplot as plt\n",
    "# roc curve\n",
    "fpr, tpr, thresholds = roc_curve(y_test, y_pred)\n",
    "\n",
    "# Calculate the AUC (Area Under the ROC Curve)\n",
    "roc_auc = auc(fpr, tpr)\n",
    "# Plot the ROC curve\n",
    "plt.figure(figsize=(8, 6))\n",
    "plt.plot(fpr, tpr, color='darkorange', lw=2, label=f'ROC curve (AUC = {roc_auc:.2f})')\n",
    "plt.plot([0, 1], [0, 1], color='navy', lw=2, linestyle='--')\n",
    "plt.xlim([0.0, 1.0])\n",
    "plt.ylim([0.0, 1.05])\n",
    "plt.xlabel('False Positive Rate')\n",
    "plt.ylabel('True Positive Rate')\n",
    "plt.title('ROC Curve for KNN (k=7)')\n",
    "plt.legend(loc='lower right')\n",
    "plt.show()"
   ],
   "metadata": {
    "collapsed": false
   }
  },
  {
   "cell_type": "code",
   "execution_count": null,
   "outputs": [],
   "source": [
    "if mode == \"train\":\n",
    "    joblib.dump(knn_classifier, './var/level0_esm2_knn.pkl')"
   ],
   "metadata": {
    "collapsed": false
   }
  }
 ],
 "metadata": {
  "kernelspec": {
   "display_name": "Python 3",
   "language": "python",
   "name": "python3"
  },
  "language_info": {
   "codemirror_mode": {
    "name": "ipython",
    "version": 2
   },
   "file_extension": ".py",
   "mimetype": "text/x-python",
   "name": "python",
   "nbconvert_exporter": "python",
   "pygments_lexer": "ipython2",
   "version": "2.7.6"
  }
 },
 "nbformat": 4,
 "nbformat_minor": 0
}
