{
 "cells": [
  {
   "cell_type": "code",
   "execution_count": 1,
   "id": "initial_id",
   "metadata": {
    "collapsed": true,
    "ExecuteTime": {
     "end_time": "2023-08-27T12:26:33.600087162Z",
     "start_time": "2023-08-27T12:26:30.521076797Z"
    }
   },
   "outputs": [
    {
     "name": "stderr",
     "output_type": "stream",
     "text": [
      "2023-08-27 14:26:30.937011: I tensorflow/tsl/cuda/cudart_stub.cc:28] Could not find cuda drivers on your machine, GPU will not be used.\n",
      "2023-08-27 14:26:31.109801: I tensorflow/tsl/cuda/cudart_stub.cc:28] Could not find cuda drivers on your machine, GPU will not be used.\n",
      "2023-08-27 14:26:31.111052: I tensorflow/core/platform/cpu_feature_guard.cc:182] This TensorFlow binary is optimized to use available CPU instructions in performance-critical operations.\n",
      "To enable the following instructions: AVX2 FMA, in other operations, rebuild TensorFlow with the appropriate compiler flags.\n",
      "2023-08-27 14:26:32.798368: W tensorflow/compiler/tf2tensorrt/utils/py_utils.cc:38] TF-TRT Warning: Could not find TensorRT\n"
     ]
    }
   ],
   "source": [
    "import pandas as pd\n",
    "import numpy as np\n",
    "import seaborn as sns\n",
    "import matplotlib.pyplot as plt\n",
    "from sklearn.model_selection import train_test_split\n",
    "from sklearn.preprocessing import MinMaxScaler\n",
    "import tensorflow as tf\n",
    "from sklearn.metrics import classification_report, confusion_matrix\n",
    "import h5py\n",
    "\n",
    "import os\n",
    "from dotenv import load_dotenv\n",
    "load_dotenv()\n",
    "\n",
    "from data_manipulation.reading_util import filter_unwanted_seqs"
   ]
  },
  {
   "cell_type": "markdown",
   "source": [
    "# Reading in esm2 embeddings"
   ],
   "metadata": {
    "collapsed": false
   },
   "id": "2ed3ea824b2421fd"
  },
  {
   "cell_type": "code",
   "execution_count": 2,
   "outputs": [],
   "source": [
    "def read_data(path_to_enzyme_esm2: str, path_to_enzyme_splitX_csv: str):\n",
    "    \"\"\"\n",
    "    Reads in esm2 and splitX.csv\n",
    "    :param path_to_enzyme_esm2: Absolute path to enzyme_esm2_splitX\n",
    "    :param path_to_enzyme_splitX_csv: Absolute path to enzyme_splitX.csv\n",
    "    :return: A dataframe (representing splitX.csv), headers of esm2 (list), esm2 embeddings (list)\n",
    "    \"\"\"\n",
    "\n",
    "    headers = []\n",
    "    embeddings = []\n",
    "\n",
    "    with h5py.File(path_to_enzyme_esm2) as hdf_handle:\n",
    "        for header, emb in hdf_handle.items():\n",
    "            headers.append(header)\n",
    "            embeddings.append(np.array(list(emb)))\n",
    "    print(\"LOG: ESM2 DONE\")\n",
    "    \n",
    "    enzyme_csv = pd.read_csv(path_to_enzyme_splitX_csv, header=0, sep=',')\n",
    "    print(\"LOG: CSV DONE\")\n",
    "    print(\"Enzymes in SplitX.csv:\", len(enzyme_csv))\n",
    "    \n",
    "    # TODO: Inorder to apply this line of code, I also have to find the corresponding embeddings and \n",
    "    #  drop these as well...\n",
    "    # enzyme_csv = filter_unwanted_seqs(enzyme_csv, True)\n",
    "\n",
    "    # control\n",
    "    print(\"Embeddings:\", len(embeddings))\n",
    "    print(\"Embedding headers:\", len(headers))\n",
    "\n",
    "    return[enzyme_csv, headers, embeddings]\n",
    "\n",
    "def add_labels(enzymes: pd.DataFrame, entry_ids: list, esm2_emb: list):\n",
    "    \"\"\"\n",
    "    Takes in the output of read_data(), grabs the corresponding ec number out of splitX.csv (enzymes) and adds this label \n",
    "    to our esm2 embeddings\n",
    "    :param enzymes: Dataframe of splitX.csv\n",
    "    :param entry_ids: Headers of esm2 emeddings\n",
    "    :param esm2_emb: Embeddings\n",
    "    :return: A list containing tupels of (header, label, embedding)\n",
    "    \"\"\"\n",
    "\n",
    "    header_labels = {} # dict with → header(id): label (1-7)\n",
    "    missing_headers = set() # set containing missing headers\n",
    "\n",
    "    header_to_ec_mapping = {}\n",
    "    for entry, ec_number in zip(enzymes[\"Entry\"], enzymes[\"EC number\"]):\n",
    "        header_to_ec_mapping[entry] = ec_number[0]  # Extract the first character\n",
    "\n",
    "    for header in entry_ids:\n",
    "        number = enzymes.loc[enzymes[\"Entry\"] == header,\"EC number\"]\n",
    "        try:\n",
    "            ec = int(number.iat[0][0])-1 # since we always start counting from 0\n",
    "            header_labels[header] = ec\n",
    "        except IndexError:\n",
    "            missing_headers.add(header)\n",
    "\n",
    "    header_label_tuples = [(header, header_labels[header]) for header in entry_ids if header not in missing_headers]\n",
    "\n",
    "    # Create a new list of embeddings with labels\n",
    "    embeddings_with_labels = []\n",
    "\n",
    "    for header, emb in zip(entry_ids, esm2_emb):\n",
    "        curr_label = next((label for h, label in header_label_tuples if h == header), None)\n",
    "        if curr_label is not None:\n",
    "            embeddings_with_labels.append((header, curr_label, emb))\n",
    "\n",
    "    return embeddings_with_labels\n",
    "\n",
    "\n",
    "# def get_ec_labels(path_to_enzyme_esm2: str, path_to_enzyme_splitX_csv) -> pd.DataFrame:\n",
    "#     \"\"\"\n",
    "#     Adds a label representing the first main ec class (1-7) based on the ec number\n",
    "#     :return: A dataframe containing the corresponding labels\n",
    "#     \"\"\"\n",
    "# \n",
    "#     headers = []\n",
    "#     embeddings = []\n",
    "# \n",
    "#     with h5py.File(path_to_enzyme_esm2) as hdf_handle:\n",
    "#         for header, emb in hdf_handle.items():\n",
    "#             headers.append(header)\n",
    "#             embeddings.append(np.array(list(emb)))\n",
    "#     print(\"LOG: ESM2 DONE\")\n",
    "# \n",
    "#     enzyme_csv = pd.read_csv(path_to_enzyme_splitX_csv, header=0, sep=',')\n",
    "#     \n",
    "#     print(\"LOG: CSV DONE\")\n",
    "#     # TODO: Inorder to apply this line of code, I also have to find the corresponding embeddings and \n",
    "#     #  drop these as well...\n",
    "#     # enzyme_csv = filter_unwanted_seqs(enzyme_csv, True)\n",
    "# \n",
    "#     print(len(embeddings))\n",
    "#     print(len(enzyme_csv))\n",
    "#     print(len(headers))\n",
    "# \n",
    "#     header_labels = {} # dict with → header(id): label (1-7)\n",
    "#     missing_headers = set() # set containing missing headers\n",
    "# \n",
    "#     header_to_ec_mapping = {}\n",
    "#     for entry, ec_number in zip(enzyme_csv[\"Entry\"], enzyme_csv[\"EC number\"]):\n",
    "#         header_to_ec_mapping[entry] = ec_number[0]  # Extract the first character\n",
    "# \n",
    "#     for header in headers:\n",
    "#         number = enzyme_csv.loc[enzyme_csv[\"Entry\"] == header,\"EC number\"]\n",
    "#         try:\n",
    "#             ec = int(number.iat[0][0])-1 # since we always start counting from 0\n",
    "#             header_labels[header] = ec\n",
    "#         except IndexError:\n",
    "#             missing_headers.add(header)\n",
    "# \n",
    "#     header_label_tuples = [(header, header_labels[header]) for header in headers if header not in missing_headers]\n",
    "# \n",
    "#     # Create a new list of embeddings with labels\n",
    "#     embeddings_with_labels = []\n",
    "# \n",
    "#     for header, emb in zip(headers, embeddings):\n",
    "#         curr_label = next((label for h, label in header_label_tuples if h == header), None)\n",
    "#         if curr_label is not None:\n",
    "#             embeddings_with_labels.append((header, curr_label, emb))\n",
    "# \n",
    "#     return embeddings_with_labels\n"
   ],
   "metadata": {
    "collapsed": false,
    "ExecuteTime": {
     "end_time": "2023-08-27T12:26:33.612206066Z",
     "start_time": "2023-08-27T12:26:33.607708936Z"
    }
   },
   "id": "a1f1c0672f0b5b37"
  },
  {
   "cell_type": "markdown",
   "source": [
    "### Creating X and y\n",
    "#### Reading in data (splitX.csv and esm2_splitX)"
   ],
   "metadata": {
    "collapsed": false
   },
   "id": "a30efcb7cd10ee61"
  },
  {
   "cell_type": "code",
   "execution_count": 3,
   "outputs": [
    {
     "name": "stdout",
     "output_type": "stream",
     "text": [
      "LOG: ESM2 DONE\n",
      "LOG: CSV DONE\n",
      "Enzymes in SplitX.csv: 224693\n",
      "Embeddings: 226505\n",
      "Embedding headers: 226505\n"
     ]
    }
   ],
   "source": [
    "enzyme_csv_path = os.getenv(\"CSV100_ENZYMES\")\n",
    "esm2_enzymes_path = os.getenv(\"ESM2_ENZYMES_SPLIT_100\")\n",
    "data = read_data(path_to_enzyme_splitX_csv=enzyme_csv_path, path_to_enzyme_esm2=esm2_enzymes_path)\n",
    "enzyme_csv = data[0]\n",
    "entry_ids = data[1]\n",
    "embeddings = data[2]"
   ],
   "metadata": {
    "collapsed": false,
    "ExecuteTime": {
     "end_time": "2023-08-27T12:49:49.422812568Z",
     "start_time": "2023-08-27T12:26:56.125746599Z"
    }
   },
   "id": "7bdb43f6da2477ed"
  },
  {
   "cell_type": "markdown",
   "source": [
    "#### Now we add the corresponding labels"
   ],
   "metadata": {
    "collapsed": false
   },
   "id": "d7b3681df01b2fd7"
  },
  {
   "cell_type": "code",
   "execution_count": 4,
   "outputs": [],
   "source": [
    "embedding_labels = add_labels(enzyme_csv, entry_ids, embeddings)\n",
    "\n",
    "# embedding_labels = get_ec_labels(path_to_enzyme_splitX_csv=enzyme_csv_path, path_to_enzyme_esm2=esm2_enzymes_path)\n",
    "X = []\n",
    "y = []\n",
    "\n",
    "for label in embedding_labels:\n",
    "    y.append(label[1]) # append label (1-7)\n",
    "    X.append(label[2]) # append embedding\n"
   ],
   "metadata": {
    "collapsed": false,
    "ExecuteTime": {
     "end_time": "2023-08-27T13:42:19.200362111Z",
     "start_time": "2023-08-27T12:51:03.257671942Z"
    }
   },
   "id": "42b2dee3b67c7b4f"
  },
  {
   "cell_type": "markdown",
   "source": [
    "### Control"
   ],
   "metadata": {
    "collapsed": false
   },
   "id": "154cb5037758d04b"
  },
  {
   "cell_type": "code",
   "execution_count": 5,
   "outputs": [
    {
     "name": "stdout",
     "output_type": "stream",
     "text": [
      "224693\n",
      "224693\n"
     ]
    },
    {
     "data": {
      "text/plain": "<Figure size 1000x600 with 1 Axes>",
      "image/png": "[encoded data removed]"
     },
     "metadata": {},
     "output_type": "display_data"
    }
   ],
   "source": [
    "print(len(X))\n",
    "print(len(y))\n",
    "\n",
    "sns.set(style=\"whitegrid\")\n",
    "plt.figure(figsize=(10, 6))  # Adjust the figure size if needed\n",
    "sns.countplot(x=y, palette=\"Set3\")\n",
    "plt.xticks([0, 1, 2, 3, 4, 5, 6], [1, 2, 3, 4, 5, 6, 7])\n",
    "\n",
    "# Add labels and title\n",
    "plt.xlabel(\"EC class\")\n",
    "plt.ylabel(\"Count\")\n",
    "plt.title(\"Count Plot of Values\")\n",
    "\n",
    "# Show the plot\n",
    "plt.show()"
   ],
   "metadata": {
    "collapsed": false,
    "ExecuteTime": {
     "end_time": "2023-08-27T13:42:27.915978848Z",
     "start_time": "2023-08-27T13:42:27.423426851Z"
    }
   },
   "id": "59e0b9651c977209"
  },
  {
   "cell_type": "markdown",
   "source": [
    "### Now we create a data frame with 2561 columns (one column for each feature and one for y label)"
   ],
   "metadata": {
    "collapsed": false
   },
   "id": "96123a73b1d43579"
  },
  {
   "cell_type": "code",
   "execution_count": null,
   "outputs": [],
   "source": [
    "# Create a DataFrame\n",
    "df = pd.DataFrame({\"feature1\":X, \"label\":y})\n",
    "\n",
    "# Convert the lists in 'feature1' into separate columns using pd.DataFrame constructor\n",
    "feature_columns = pd.DataFrame(df[\"feature1\"].tolist(), columns=[f\"feature_{i+1}\" for i in range(2560)])\n",
    "\n",
    "# Concatenate the feature columns with the original DataFrame\n",
    "df = pd.concat([df.drop(\"feature1\", axis=1), feature_columns], axis=1)\n",
    "\n",
    "# Display the resulting DataFrame\n",
    "print(df.head())\n"
   ],
   "metadata": {
    "collapsed": false,
    "is_executing": true,
    "ExecuteTime": {
     "start_time": "2023-08-27T13:42:31.499508303Z"
    }
   },
   "id": "1b9b83fd092dcb4b"
  },
  {
   "cell_type": "code",
   "execution_count": 7,
   "outputs": [],
   "source": [
    "# df.to_csv(\"/home/malte/Desktop/ann_esm2_ml_df.csv\", sep=\";\") # save csv for later use"
   ],
   "metadata": {
    "collapsed": false,
    "ExecuteTime": {
     "end_time": "2023-08-27T11:36:18.566719230Z",
     "start_time": "2023-08-27T11:36:18.536514424Z"
    }
   },
   "id": "df94d99b493bd58a"
  },
  {
   "cell_type": "markdown",
   "source": [
    "### Now we extract data for X and y"
   ],
   "metadata": {
    "collapsed": false
   },
   "id": "8b36d8cd87ba7130"
  },
  {
   "cell_type": "code",
   "execution_count": 8,
   "outputs": [],
   "source": [
    "X = df.drop('label', axis=1).values\n",
    "y = df['label'].values"
   ],
   "metadata": {
    "collapsed": false,
    "ExecuteTime": {
     "end_time": "2023-08-27T11:36:38.343081965Z",
     "start_time": "2023-08-27T11:36:38.300763163Z"
    }
   },
   "id": "1bd73830f7992c7e"
  },
  {
   "cell_type": "markdown",
   "source": [
    "### Splitting data into train and test"
   ],
   "metadata": {
    "collapsed": false
   },
   "id": "5515a3a632b19ba1"
  },
  {
   "cell_type": "code",
   "execution_count": 9,
   "outputs": [
    {
     "name": "stdout",
     "output_type": "stream",
     "text": [
      "[0. 0. 0. 0. 1. 0. 0.]\n"
     ]
    }
   ],
   "source": [
    "X_train, X_test, y_train, y_test = train_test_split(X, y, test_size=0.30, random_state=42)\n",
    "# Our labels need to be one hot encoded\n",
    "y_train_encoded = tf.keras.utils.to_categorical(y_train, num_classes=7) \n",
    "y_test_encoded = tf.keras.utils.to_categorical(y_test, num_classes=7)\n",
    "print(y_test_encoded[0])"
   ],
   "metadata": {
    "collapsed": false,
    "ExecuteTime": {
     "end_time": "2023-08-27T11:36:41.736573507Z",
     "start_time": "2023-08-27T11:36:40.352282561Z"
    }
   },
   "id": "6c00a531b1e8e53"
  },
  {
   "cell_type": "markdown",
   "source": [
    "## Creating our CNN"
   ],
   "metadata": {
    "collapsed": false
   },
   "id": "8e6a9050e1cbf91a"
  },
  {
   "cell_type": "code",
   "execution_count": 10,
   "outputs": [],
   "source": [
    "# This is used for stopping the training precess in advance, if our model starts to overfit our training data\n",
    "earl_stop = tf.keras.callbacks.EarlyStopping(patience=8)"
   ],
   "metadata": {
    "collapsed": false,
    "ExecuteTime": {
     "end_time": "2023-08-27T11:36:44.660932914Z",
     "start_time": "2023-08-27T11:36:44.640558212Z"
    }
   },
   "id": "be41b3cd3c9d305b"
  },
  {
   "cell_type": "code",
   "execution_count": 11,
   "outputs": [],
   "source": [
    "# Initializing the model\n",
    "model = tf.keras.models.Sequential()\n",
    "\n",
    "# Adding input layer\n",
    "model.add(tf.keras.layers.Dense(units=256, activation='relu', input_shape=(2560,)))\n",
    "\n",
    "# Adding hidden layer\n",
    "model.add(tf.keras.layers.Dropout(0.5))  # Adding dropout for regularization\n",
    "model.add(tf.keras.layers.Dense(units=128, activation='relu'))\n",
    "model.add(tf.keras.layers.Dropout(0.5))  # Adding dropout for regularization\n",
    "model.add(tf.keras.layers.Dense(units=64, activation='relu'))\n",
    "\n",
    "# Finally adding output layer using softmax as activation function\n",
    "model.add(tf.keras.layers.Dense(units=7, activation='softmax'))  # Using softmax for multi-class classification\n",
    "\n",
    "# Compile the model\n",
    "model.compile(loss='categorical_crossentropy', optimizer='adam')\n"
   ],
   "metadata": {
    "collapsed": false,
    "ExecuteTime": {
     "end_time": "2023-08-27T11:36:45.665790380Z",
     "start_time": "2023-08-27T11:36:45.530515545Z"
    }
   },
   "id": "c644e0105d723029"
  },
  {
   "cell_type": "code",
   "execution_count": 12,
   "outputs": [
    {
     "name": "stdout",
     "output_type": "stream",
     "text": [
      "Epoch 1/100\n",
      "1609/1609 [==============================] - 19s 12ms/step - loss: 0.7482 - val_loss: 0.2588\n",
      "Epoch 2/100\n",
      "1609/1609 [==============================] - 18s 11ms/step - loss: 0.3264 - val_loss: 0.1697\n",
      "Epoch 3/100\n",
      "1609/1609 [==============================] - 18s 11ms/step - loss: 0.2645 - val_loss: 0.1412\n",
      "Epoch 4/100\n",
      "1609/1609 [==============================] - 18s 11ms/step - loss: 0.2206 - val_loss: 0.1139\n",
      "Epoch 5/100\n",
      "1609/1609 [==============================] - 18s 11ms/step - loss: 0.2005 - val_loss: 0.1291\n",
      "Epoch 6/100\n",
      "1609/1609 [==============================] - 18s 11ms/step - loss: 0.1775 - val_loss: 0.1047\n",
      "Epoch 7/100\n",
      "1609/1609 [==============================] - 18s 11ms/step - loss: 0.1677 - val_loss: 0.1193\n",
      "Epoch 8/100\n",
      "1609/1609 [==============================] - 18s 11ms/step - loss: 0.1576 - val_loss: 0.0971\n",
      "Epoch 9/100\n",
      "1609/1609 [==============================] - 18s 11ms/step - loss: 0.1500 - val_loss: 0.0997\n",
      "Epoch 10/100\n",
      "1609/1609 [==============================] - 18s 11ms/step - loss: 0.1430 - val_loss: 0.0975\n",
      "Epoch 11/100\n",
      "1609/1609 [==============================] - 18s 11ms/step - loss: 0.1330 - val_loss: 0.0945\n",
      "Epoch 12/100\n",
      "1609/1609 [==============================] - 18s 11ms/step - loss: 0.1319 - val_loss: 0.0879\n",
      "Epoch 13/100\n",
      "1609/1609 [==============================] - 18s 11ms/step - loss: 0.1209 - val_loss: 0.0818\n",
      "Epoch 14/100\n",
      "1609/1609 [==============================] - 18s 11ms/step - loss: 0.1173 - val_loss: 0.0822\n",
      "Epoch 15/100\n",
      "1609/1609 [==============================] - 18s 11ms/step - loss: 0.1147 - val_loss: 0.0796\n",
      "Epoch 16/100\n",
      "1609/1609 [==============================] - 18s 11ms/step - loss: 0.1090 - val_loss: 0.0754\n",
      "Epoch 17/100\n",
      "1609/1609 [==============================] - 18s 11ms/step - loss: 0.1047 - val_loss: 0.0768\n",
      "Epoch 18/100\n",
      "1609/1609 [==============================] - 18s 11ms/step - loss: 0.1050 - val_loss: 0.0770\n",
      "Epoch 19/100\n",
      "1609/1609 [==============================] - 18s 11ms/step - loss: 0.0972 - val_loss: 0.0752\n",
      "Epoch 20/100\n",
      "1609/1609 [==============================] - 18s 11ms/step - loss: 0.0973 - val_loss: 0.0768\n",
      "Epoch 21/100\n",
      "1609/1609 [==============================] - 18s 11ms/step - loss: 0.0929 - val_loss: 0.0749\n",
      "Epoch 22/100\n",
      "1609/1609 [==============================] - 18s 11ms/step - loss: 0.0922 - val_loss: 0.0799\n",
      "Epoch 23/100\n",
      "1609/1609 [==============================] - 17s 11ms/step - loss: 0.0888 - val_loss: 0.0740\n",
      "Epoch 24/100\n",
      "1609/1609 [==============================] - 18s 11ms/step - loss: 0.0886 - val_loss: 0.0722\n",
      "Epoch 25/100\n",
      "1609/1609 [==============================] - 17s 11ms/step - loss: 0.0836 - val_loss: 0.0842\n",
      "Epoch 26/100\n",
      "1609/1609 [==============================] - 18s 11ms/step - loss: 0.0891 - val_loss: 0.0747\n",
      "Epoch 27/100\n",
      "1609/1609 [==============================] - 17s 11ms/step - loss: 0.0814 - val_loss: 0.0780\n",
      "Epoch 28/100\n",
      "1609/1609 [==============================] - 17s 11ms/step - loss: 0.0830 - val_loss: 0.0724\n",
      "Epoch 29/100\n",
      "1609/1609 [==============================] - 17s 11ms/step - loss: 0.0811 - val_loss: 0.0710\n",
      "Epoch 30/100\n",
      "1609/1609 [==============================] - 17s 11ms/step - loss: 0.0757 - val_loss: 0.0694\n",
      "Epoch 31/100\n",
      "1609/1609 [==============================] - 17s 11ms/step - loss: 0.0775 - val_loss: 0.0736\n",
      "Epoch 32/100\n",
      "1609/1609 [==============================] - 17s 11ms/step - loss: 0.0770 - val_loss: 0.0768\n",
      "Epoch 33/100\n",
      "1609/1609 [==============================] - 17s 11ms/step - loss: 0.0761 - val_loss: 0.0677\n",
      "Epoch 34/100\n",
      "1609/1609 [==============================] - 17s 11ms/step - loss: 0.0728 - val_loss: 0.0689\n",
      "Epoch 35/100\n",
      "1609/1609 [==============================] - 17s 11ms/step - loss: 0.0707 - val_loss: 0.0678\n",
      "Epoch 36/100\n",
      "1609/1609 [==============================] - 17s 11ms/step - loss: 0.0696 - val_loss: 0.0693\n",
      "Epoch 37/100\n",
      "1609/1609 [==============================] - 17s 11ms/step - loss: 0.0699 - val_loss: 0.0744\n",
      "Epoch 38/100\n",
      "1609/1609 [==============================] - 17s 11ms/step - loss: 0.0677 - val_loss: 0.0675\n",
      "Epoch 39/100\n",
      "1609/1609 [==============================] - 17s 11ms/step - loss: 0.0660 - val_loss: 0.0765\n",
      "Epoch 40/100\n",
      "1609/1609 [==============================] - 17s 11ms/step - loss: 0.0653 - val_loss: 0.0714\n",
      "Epoch 41/100\n",
      "1609/1609 [==============================] - 17s 11ms/step - loss: 0.0649 - val_loss: 0.0687\n",
      "Epoch 42/100\n",
      "1609/1609 [==============================] - 17s 11ms/step - loss: 0.0632 - val_loss: 0.0734\n",
      "Epoch 43/100\n",
      "1609/1609 [==============================] - 17s 11ms/step - loss: 0.0673 - val_loss: 0.0721\n",
      "Epoch 44/100\n",
      "1609/1609 [==============================] - 17s 11ms/step - loss: 0.0657 - val_loss: 0.0893\n",
      "Epoch 45/100\n",
      "1609/1609 [==============================] - 17s 11ms/step - loss: 0.0599 - val_loss: 0.0747\n",
      "Epoch 46/100\n",
      "1609/1609 [==============================] - 17s 11ms/step - loss: 0.0658 - val_loss: 0.0734\n",
      "Epoch 47/100\n",
      "1609/1609 [==============================] - 17s 11ms/step - loss: 0.0610 - val_loss: 0.0678\n",
      "Epoch 48/100\n",
      "1609/1609 [==============================] - 17s 11ms/step - loss: 0.0600 - val_loss: 0.0677\n",
      "Epoch 49/100\n",
      "1609/1609 [==============================] - 17s 11ms/step - loss: 0.0591 - val_loss: 0.0649\n",
      "Epoch 50/100\n",
      "1609/1609 [==============================] - 17s 11ms/step - loss: 0.0558 - val_loss: 0.0693\n",
      "Epoch 51/100\n",
      "1609/1609 [==============================] - 17s 11ms/step - loss: 0.0610 - val_loss: 0.0762\n",
      "Epoch 52/100\n",
      "1609/1609 [==============================] - 17s 11ms/step - loss: 0.0575 - val_loss: 0.0761\n",
      "Epoch 53/100\n",
      "1609/1609 [==============================] - 17s 11ms/step - loss: 0.0584 - val_loss: 0.0731\n",
      "Epoch 54/100\n",
      "1609/1609 [==============================] - 17s 11ms/step - loss: 0.0575 - val_loss: 0.0714\n",
      "Epoch 55/100\n",
      "1609/1609 [==============================] - 17s 10ms/step - loss: 0.0571 - val_loss: 0.0713\n",
      "Epoch 56/100\n",
      "1609/1609 [==============================] - 17s 10ms/step - loss: 0.0559 - val_loss: 0.0706\n",
      "Epoch 57/100\n",
      "1609/1609 [==============================] - 17s 11ms/step - loss: 0.0546 - val_loss: 0.0757\n",
      "Epoch 58/100\n",
      "1609/1609 [==============================] - 17s 11ms/step - loss: 0.0548 - val_loss: 0.0678\n",
      "Epoch 59/100\n",
      "1609/1609 [==============================] - 17s 10ms/step - loss: 0.0546 - val_loss: 0.0686\n",
      "Epoch 60/100\n",
      "1609/1609 [==============================] - 16s 10ms/step - loss: 0.0541 - val_loss: 0.0719\n",
      "Epoch 61/100\n",
      "1609/1609 [==============================] - 17s 11ms/step - loss: 0.0528 - val_loss: 0.0752\n",
      "Epoch 62/100\n",
      "1609/1609 [==============================] - 17s 10ms/step - loss: 0.0533 - val_loss: 0.0781\n",
      "Epoch 63/100\n",
      "1609/1609 [==============================] - 17s 11ms/step - loss: 0.0515 - val_loss: 0.0692\n",
      "Epoch 64/100\n",
      "1609/1609 [==============================] - 17s 10ms/step - loss: 0.0540 - val_loss: 0.0702\n"
     ]
    },
    {
     "data": {
      "text/plain": "<keras.src.callbacks.History at 0x7fab8f5f4bb0>"
     },
     "execution_count": 12,
     "metadata": {},
     "output_type": "execute_result"
    }
   ],
   "source": [
    "# Training the model\n",
    "model.fit(x=X_train, y=y_train_encoded, epochs=100, validation_data=(X_test, y_test_encoded), callbacks = [earl_stop])"
   ],
   "metadata": {
    "collapsed": false,
    "ExecuteTime": {
     "end_time": "2023-08-27T11:55:26.365571173Z",
     "start_time": "2023-08-27T11:36:46.710072803Z"
    }
   },
   "id": "639c9edb9762c409"
  },
  {
   "cell_type": "markdown",
   "source": [
    "# Evaluation"
   ],
   "metadata": {
    "collapsed": false
   },
   "id": "ecc739748a096e51"
  },
  {
   "cell_type": "code",
   "execution_count": 13,
   "outputs": [
    {
     "data": {
      "text/plain": "Text(0, 0.5, 'Loss')"
     },
     "execution_count": 13,
     "metadata": {},
     "output_type": "execute_result"
    },
    {
     "data": {
      "text/plain": "<Figure size 1000x600 with 0 Axes>"
     },
     "metadata": {},
     "output_type": "display_data"
    },
    {
     "data": {
      "text/plain": "<Figure size 640x480 with 1 Axes>",
      "image/png": "[encoded data removed]"
     },
     "metadata": {},
     "output_type": "display_data"
    }
   ],
   "source": [
    "# Plotting loss (loss on train_data) and val_loss (loss on validation_data)\n",
    "model_loss = pd.DataFrame(model.history.history)\n",
    "\n",
    "plt.figure(figsize=(10, 6))  # Adjust the figure size as needed\n",
    "model_loss.plot()\n",
    "\n",
    "plt.title('Model Loss Over Training')\n",
    "plt.xlabel('Epoch')\n",
    "plt.ylabel('Loss')\n"
   ],
   "metadata": {
    "collapsed": false,
    "ExecuteTime": {
     "end_time": "2023-08-27T11:55:33.268139774Z",
     "start_time": "2023-08-27T11:55:32.947916098Z"
    }
   },
   "id": "1c5f99c25d30cca1"
  },
  {
   "cell_type": "code",
   "execution_count": 14,
   "outputs": [
    {
     "name": "stdout",
     "output_type": "stream",
     "text": [
      "690/690 [==============================] - 2s 2ms/step\n"
     ]
    }
   ],
   "source": [
    "predictions = np.argmax(model.predict(X_test), axis=-1) # for multi class classification (using softmax)"
   ],
   "metadata": {
    "collapsed": false,
    "ExecuteTime": {
     "end_time": "2023-08-27T11:56:17.068441091Z",
     "start_time": "2023-08-27T11:56:14.902595434Z"
    }
   },
   "id": "7acb175028b78471"
  },
  {
   "cell_type": "code",
   "execution_count": 15,
   "outputs": [
    {
     "name": "stdout",
     "output_type": "stream",
     "text": [
      "Correct predictions:  21765\n",
      "Total samples predicted: 22066\n"
     ]
    }
   ],
   "source": [
    "counter = 0\n",
    "for x,y in zip(y_test,predictions):\n",
    "    if x == y:\n",
    "        counter+=1\n",
    "print(\"Correct predictions: \", counter)\n",
    "print(\"Total samples predicted:\", len(y_test))"
   ],
   "metadata": {
    "collapsed": false,
    "ExecuteTime": {
     "end_time": "2023-08-27T11:56:17.690273492Z",
     "start_time": "2023-08-27T11:56:17.678092177Z"
    }
   },
   "id": "3f9b7c9f76f9c5e7"
  },
  {
   "cell_type": "code",
   "execution_count": 16,
   "outputs": [
    {
     "name": "stdout",
     "output_type": "stream",
     "text": [
      "              precision    recall  f1-score   support\n",
      "\n",
      "           0       0.99      0.99      0.99      2689\n",
      "           1       0.99      0.99      0.99      8548\n",
      "           2       0.98      0.99      0.99      4467\n",
      "           3       0.97      0.96      0.97      1961\n",
      "           4       0.98      0.98      0.98      1390\n",
      "           5       1.00      0.99      1.00      2457\n",
      "           6       0.99      0.98      0.98       554\n",
      "\n",
      "    accuracy                           0.99     22066\n",
      "   macro avg       0.99      0.98      0.98     22066\n",
      "weighted avg       0.99      0.99      0.99     22066\n"
     ]
    }
   ],
   "source": [
    "report = classification_report(y_test, predictions)"
   ],
   "metadata": {
    "collapsed": false,
    "ExecuteTime": {
     "end_time": "2023-08-27T11:56:21.197079888Z",
     "start_time": "2023-08-27T11:56:21.112620608Z"
    }
   },
   "id": "d76461011222cc2b"
  },
  {
   "cell_type": "code",
   "execution_count": 21,
   "outputs": [
    {
     "data": {
      "text/plain": "<Figure size 1500x500 with 3 Axes>",
      "image/png": "[encoded data removed]"
     },
     "metadata": {},
     "output_type": "display_data"
    },
    {
     "name": "stdout",
     "output_type": "stream",
     "text": [
      "              precision    recall  f1-score   support\n",
      "\n",
      "           0       0.99      0.99      0.99      2689\n",
      "           1       0.99      0.99      0.99      8548\n",
      "           2       0.98      0.99      0.99      4467\n",
      "           3       0.97      0.96      0.97      1961\n",
      "           4       0.98      0.98      0.98      1390\n",
      "           5       1.00      0.99      1.00      2457\n",
      "           6       0.99      0.98      0.98       554\n",
      "\n",
      "    accuracy                           0.99     22066\n",
      "   macro avg       0.99      0.98      0.98     22066\n",
      "weighted avg       0.99      0.99      0.99     22066\n"
     ]
    }
   ],
   "source": [
    "class_0_metrics = report.split('\\n')[3].split()[1:]\n",
    "class_1_metrics = report.split('\\n')[4].split()[1:]\n",
    "class_2_metrics = report.split('\\n')[5].split()[1:]\n",
    "class_3_metrics = report.split('\\n')[6].split()[1:]\n",
    "class_4_metrics = report.split('\\n')[7].split()[1:]\n",
    "class_5_metrics = report.split('\\n')[8].split()[1:]\n",
    "class_6_metrics = report.split('\\n')[9].split()[1:]\n",
    "\n",
    "metrics = [class_0_metrics,\n",
    "           class_1_metrics,\n",
    "           class_2_metrics,\n",
    "           class_3_metrics,\n",
    "           class_4_metrics,\n",
    "           class_5_metrics,\n",
    "           class_6_metrics\n",
    "           ]\n",
    "i = 1\n",
    "accs = []\n",
    "precs = []\n",
    "f1_s = []\n",
    "for class_m in metrics:\n",
    "    accuracy = float(class_0_metrics[0])\n",
    "    precision = float(class_0_metrics[1])\n",
    "    recall = float(class_0_metrics[2])\n",
    "    f1_score = float(class_0_metrics[3])\n",
    "    accs.append(accuracy)\n",
    "    precs.append(precision)\n",
    "    f1_s.append(f1_score)\n",
    "    i+=1\n",
    "\n",
    "class_names = [1,2,3,4,5,6,7]\n",
    "\n",
    "# Create subplots for accuracy, precision, and F1\n",
    "fig, (ax1, ax2, ax3) = plt.subplots(1, 3, figsize=(15, 5))\n",
    "\n",
    "# Plot accuracy for each class\n",
    "ax1.bar(class_names, accs)\n",
    "ax1.set_title(\"Accuracy\")\n",
    "\n",
    "# Plot precision for each class\n",
    "ax2.bar(class_names, precs)\n",
    "ax2.set_title(\"Precision\")\n",
    "\n",
    "# Plot F1 score for each class\n",
    "ax3.bar(class_names, f1_s)\n",
    "ax3.set_title(\"F1 Score\")\n",
    "\n",
    "# Adjust layout\n",
    "plt.tight_layout()\n",
    "\n",
    "# Show the plots\n",
    "plt.show()\n",
    "\n",
    "print(report)"
   ],
   "metadata": {
    "collapsed": false,
    "ExecuteTime": {
     "end_time": "2023-08-27T12:16:01.545718071Z",
     "start_time": "2023-08-27T12:16:00.777027853Z"
    }
   },
   "id": "202058d4cae6f7e7"
  },
  {
   "cell_type": "code",
   "execution_count": 23,
   "outputs": [
    {
     "data": {
      "text/plain": "<Figure size 1000x700 with 2 Axes>",
      "image/png": "[encoded data removed]"
     },
     "metadata": {},
     "output_type": "display_data"
    }
   ],
   "source": [
    "conf_matrix = confusion_matrix(y_test, predictions)\n",
    "# Create a confusion matrix heatmap\n",
    "plt.figure(figsize=(10, 7))\n",
    "sns.set(font_scale=1.2)  # Adjust font size as needed\n",
    "sns.heatmap(conf_matrix, annot=True, fmt=\"d\", cmap=\"Blues\", xticklabels=class_names, yticklabels=class_names)\n",
    "plt.xlabel(\"Predicted\")\n",
    "plt.ylabel(\"Actual\")\n",
    "plt.title(\"Confusion Matrix\")\n",
    "plt.show()"
   ],
   "metadata": {
    "collapsed": false,
    "ExecuteTime": {
     "end_time": "2023-08-27T12:18:52.971386053Z",
     "start_time": "2023-08-27T12:18:52.594614461Z"
    }
   },
   "id": "cc6b48c93c72a5ba"
  },
  {
   "cell_type": "code",
   "execution_count": 18,
   "outputs": [],
   "source": [
    "model.save(\"initial_cnn_v3_acc99.keras\")"
   ],
   "metadata": {
    "collapsed": false,
    "ExecuteTime": {
     "end_time": "2023-08-27T11:56:41.446753362Z",
     "start_time": "2023-08-27T11:56:41.372918220Z"
    }
   },
   "id": "49363b22ad719001"
  },
  {
   "cell_type": "markdown",
   "source": [
    "# Importing and using my model\n",
    "## 1. Load model"
   ],
   "metadata": {
    "collapsed": false
   },
   "id": "5965a062c0169f7f"
  },
  {
   "cell_type": "code",
   "execution_count": null,
   "outputs": [],
   "source": [
    "loaded_model = tf.keras.models.load_model(\"initial_cnn_v3_acc99.keras\")"
   ],
   "metadata": {
    "collapsed": false
   },
   "id": "3ffce3c56896cb5a"
  },
  {
   "cell_type": "markdown",
   "source": [
    "## 2. Predict new data\n",
    "The data needs to be the same shape as the training/test data used to train the model.\n",
    "The unlabeled embeddings need to be imported into a dataframe and then we need to create a feature column for each \n",
    "value of the embedding.\n"
   ],
   "metadata": {
    "collapsed": false
   },
   "id": "ea62ed952ad97b59"
  },
  {
   "cell_type": "code",
   "execution_count": null,
   "outputs": [],
   "source": [
    "\n",
    "test_enzyme_csv_path = os.getenv(\"CSV70_ENZYMES_test\")\n",
    "test_esm2_enzymes_path = os.getenv(\"ESM2_ENZYMES_SPLIT_70_test\")\n",
    "\n",
    "data = read_data(path_to_enzyme_splitX_csv=enzyme_csv_path, path_to_enzyme_esm2=esm2_enzymes_path)\n",
    "enzyme_csv = data[0]\n",
    "entry_ids = data[1]\n",
    "embeddings = data[2]\n",
    "\n",
    "test_embedding_labels = add_labels(enzyme_csv, entry_ids, embeddings)\n",
    "\n",
    "# embedding_labels = get_ec_labels(path_to_enzyme_splitX_csv=enzyme_csv_path, path_to_enzyme_esm2=esm2_enzymes_path)\n",
    "X_test= []\n",
    "y_test = []\n",
    "\n",
    "for label in embedding_labels:\n",
    "    y_test.append(label[1]) # append label (1-7)\n",
    "    X_test.append(label[2]) # append embedding\n",
    "\n",
    "print(len(X_test))\n",
    "print(len(y_test))\n",
    "\n",
    "sns.set(style=\"whitegrid\")\n",
    "plt.figure(figsize=(10, 6))  # Adjust the figure size if needed\n",
    "sns.countplot(x=y, palette=\"Set3\")\n",
    "plt.xticks([0, 1, 2, 3, 4, 5, 6], [1, 2, 3, 4, 5, 6, 7])\n",
    "\n",
    "# Add labels and title\n",
    "plt.xlabel(\"EC class\")\n",
    "plt.ylabel(\"Count\")\n",
    "plt.title(\"Count Plot of Values\")\n",
    "\n",
    "# Show the plot\n",
    "plt.show()\n",
    "loaded_model.predict()\n",
    "\n",
    "X_test = df.drop('label', axis=1).values\n",
    "y_test = df['label'].values\n",
    "\n",
    "test_predictions = np.argmax(model.predict(X_test), axis=-1) # for multi class classification (using softmax)\n",
    "\n",
    "\n",
    "report = classification_report(y_test, test_predictions)\n"
   ],
   "metadata": {
    "collapsed": false
   },
   "id": "a1e1c385f9840e66"
  }
 ],
 "metadata": {
  "kernelspec": {
   "display_name": "Python 3",
   "language": "python",
   "name": "python3"
  },
  "language_info": {
   "codemirror_mode": {
    "name": "ipython",
    "version": 2
   },
   "file_extension": ".py",
   "mimetype": "text/x-python",
   "name": "python",
   "nbconvert_exporter": "python",
   "pygments_lexer": "ipython2",
   "version": "2.7.6"
  }
 },
 "nbformat": 4,
 "nbformat_minor": 5
}
