{
 "cells": [
  {
   "cell_type": "code",
   "execution_count": 1,
   "id": "initial_id",
   "metadata": {
    "collapsed": true,
    "ExecuteTime": {
     "end_time": "2023-08-25T21:41:15.758045809Z",
     "start_time": "2023-08-25T21:41:13.417086451Z"
    }
   },
   "outputs": [
    {
     "name": "stderr",
     "output_type": "stream",
     "text": [
      "2023-08-25 23:41:13.684090: I tensorflow/tsl/cuda/cudart_stub.cc:28] Could not find cuda drivers on your machine, GPU will not be used.\n",
      "2023-08-25 23:41:13.725138: I tensorflow/tsl/cuda/cudart_stub.cc:28] Could not find cuda drivers on your machine, GPU will not be used.\n",
      "2023-08-25 23:41:13.726222: I tensorflow/core/platform/cpu_feature_guard.cc:182] This TensorFlow binary is optimized to use available CPU instructions in performance-critical operations.\n",
      "To enable the following instructions: AVX2 FMA, in other operations, rebuild TensorFlow with the appropriate compiler flags.\n",
      "2023-08-25 23:41:14.992534: W tensorflow/compiler/tf2tensorrt/utils/py_utils.cc:38] TF-TRT Warning: Could not find TensorRT\n"
     ]
    },
    {
     "data": {
      "text/plain": "True"
     },
     "execution_count": 1,
     "metadata": {},
     "output_type": "execute_result"
    }
   ],
   "source": [
    "import pandas as pd\n",
    "import numpy as np\n",
    "import seaborn as sns\n",
    "import matplotlib.pyplot as plt\n",
    "from sklearn.model_selection import train_test_split\n",
    "from sklearn.preprocessing import MinMaxScaler\n",
    "import tensorflow as tf\n",
    "from sklearn.metrics import classification_report, confusion_matrix\n",
    "import h5py\n",
    "\n",
    "import os\n",
    "from dotenv import load_dotenv\n",
    "load_dotenv()"
   ]
  },
  {
   "cell_type": "markdown",
   "source": [
    "# Reading in esm2 embeddings"
   ],
   "metadata": {
    "collapsed": false
   },
   "id": "2ed3ea824b2421fd"
  },
  {
   "cell_type": "code",
   "execution_count": 2,
   "outputs": [],
   "source": [
    "esm2_enzymes_30 = os.getenv(\"ESM2_ENZYMES_SPLIT_30\")\n",
    "esm2_non_enzymes = os.getenv(\"ESM2_NON_ENZYMES\")"
   ],
   "metadata": {
    "collapsed": false,
    "ExecuteTime": {
     "end_time": "2023-08-25T21:41:15.761666634Z",
     "start_time": "2023-08-25T21:41:15.756143463Z"
    }
   },
   "id": "fc75d92d1ddbee3d"
  },
  {
   "cell_type": "code",
   "execution_count": 3,
   "outputs": [],
   "source": [
    "def get_ec_labels(path_to_enzyme_esm2: str, path_to_enzyme_splitX_csv) -> pd.DataFrame:\n",
    "    \"\"\"\n",
    "    Adds a label representing the first main ec class (1-7) based on the ec number\n",
    "    :param path_to_esm2: Absolute path to esm2 file\n",
    "    :param path_to_enzyme_splitX_csv: Absolute path to splitX csv, which is needed for labeling\n",
    "    :return: A dataframe containing the corresponding labels\n",
    "    \"\"\"\n",
    "    with h5py.File(path_to_enzyme_esm2) as hdf_handle:\n",
    "        headers = []\n",
    "        embeddings = []\n",
    "\n",
    "        for header, emb in hdf_handle.items():\n",
    "            headers.append(header)\n",
    "            embeddings.append(np.array(list(emb)))\n",
    "\n",
    "    enzyme_csv = pd.read_csv(path_to_enzyme_splitX_csv, header=0, sep=',')\n",
    "\n",
    "    labels = {} # dict with → header(id): label (1-7)\n",
    "\n",
    "\n",
    "    for header in headers:\n",
    "        number = enzyme_csv.loc[enzyme_csv[\"Entry\"] == header,\"EC number\"]\n",
    "        ec = int(number.iat[0][0])-1 # since we always start counting from 0\n",
    "        labels[header] = ec\n",
    "\n",
    "    header_label_tuples = [(header, labels[header]) for header in headers]\n",
    "\n",
    "    # Create a new list of embeddings with labels\n",
    "    embeddings_with_labels = []\n",
    "\n",
    "    for header, emb in zip(headers, embeddings):\n",
    "        label = next((label for h, label in header_label_tuples if h == header), None)\n",
    "        if label is not None:\n",
    "            embeddings_with_labels.append((header, label, emb))\n",
    "    \n",
    "    return embeddings_with_labels\n"
   ],
   "metadata": {
    "collapsed": false,
    "ExecuteTime": {
     "end_time": "2023-08-25T21:41:15.850095871Z",
     "start_time": "2023-08-25T21:41:15.762530962Z"
    }
   },
   "id": "87222de235987228"
  },
  {
   "cell_type": "markdown",
   "source": [
    "### Creating X and y"
   ],
   "metadata": {
    "collapsed": false
   },
   "id": "a30efcb7cd10ee61"
  },
  {
   "cell_type": "code",
   "execution_count": null,
   "outputs": [],
   "source": [
    "enzyme_csv = os.getenv(\"CSV100_ENZYMES\")\n",
    "esm2_enzymes = os.getenv(\"ESM2_ENZYMES_SPLIT_100\")\n",
    "\n",
    "labels = get_ec_labels(path_to_enzyme_esm2=esm2_enzymes, path_to_enzyme_splitX_csv=enzyme_csv)\n",
    "\n",
    "X = []\n",
    "y = []\n",
    "for entry in labels:\n",
    "    y.append(entry[1]) # append label (1-7)\n",
    "    X.append(entry[2]) # append embedding"
   ],
   "metadata": {
    "collapsed": false,
    "is_executing": true,
    "ExecuteTime": {
     "start_time": "2023-08-25T21:41:15.806545757Z"
    }
   },
   "id": "4366349293d7ab02"
  },
  {
   "cell_type": "code",
   "execution_count": null,
   "outputs": [],
   "source": [
    "\n",
    "print(len(X))\n",
    "print(len(y))\n",
    "\n",
    "sns.set(style=\"whitegrid\")\n",
    "plt.figure(figsize=(10, 6))  # Adjust the figure size if needed\n",
    "sns.countplot(x=y, palette=\"Set3\")\n",
    "\n",
    "# Add labels and title\n",
    "plt.xlabel(\"Values\")\n",
    "plt.ylabel(\"Count\")\n",
    "plt.title(\"Count Plot of Values\")\n",
    "\n",
    "# Show the plot\n",
    "plt.show()"
   ],
   "metadata": {
    "collapsed": false,
    "is_executing": true
   },
   "id": "59e0b9651c977209"
  },
  {
   "cell_type": "code",
   "execution_count": null,
   "outputs": [],
   "source": [
    "# Create a DataFrame\n",
    "df = pd.DataFrame({\"feature1\":X, \"label\":y})\n",
    "\n",
    "\n",
    "# Convert the lists in 'feature1' into separate columns using pd.DataFrame constructor\n",
    "feature_columns = pd.DataFrame(df[\"feature1\"].tolist(), columns=[f\"feature_{i+1}\" for i in range(2560)])\n",
    "\n",
    "# Concatenate the feature columns with the original DataFrame\n",
    "df = pd.concat([df.drop(\"feature1\", axis=1), feature_columns], axis=1)\n",
    "\n",
    "# Display the resulting DataFrame\n",
    "print(df.head())\n"
   ],
   "metadata": {
    "collapsed": false,
    "is_executing": true
   },
   "id": "1b9b83fd092dcb4b"
  },
  {
   "cell_type": "code",
   "execution_count": null,
   "outputs": [],
   "source": [
    "\n",
    "X = df.drop('label', axis=1).values\n",
    "y = df['label'].values\n",
    "\n"
   ],
   "metadata": {
    "collapsed": false,
    "is_executing": true
   },
   "id": "1bd73830f7992c7e"
  },
  {
   "cell_type": "code",
   "execution_count": null,
   "outputs": [],
   "source": [
    "X_train, X_test, y_train, y_test = train_test_split(X, y, test_size=0.33, random_state=42)\n",
    "y_train_encoded = tf.keras.utils.to_categorical(y_train, num_classes=7)\n",
    "y_test_encoded = tf.keras.utils.to_categorical(y_test, num_classes=7)\n"
   ],
   "metadata": {
    "collapsed": false,
    "is_executing": true
   },
   "id": "6c00a531b1e8e53"
  },
  {
   "cell_type": "code",
   "execution_count": null,
   "outputs": [],
   "source": [
    "scaler = MinMaxScaler()\n",
    "scaler.fit(X_train)\n",
    "x_train = scaler.transform(X_train)\n",
    "\n",
    "X_test = scaler.transform(X_test)\n"
   ],
   "metadata": {
    "collapsed": false,
    "is_executing": true
   },
   "id": "63284fa5d9eed896"
  },
  {
   "cell_type": "code",
   "execution_count": null,
   "outputs": [],
   "source": [
    "len(X_train[0])"
   ],
   "metadata": {
    "collapsed": false,
    "is_executing": true
   },
   "id": "7b1707564af442b"
  },
  {
   "cell_type": "code",
   "execution_count": null,
   "outputs": [],
   "source": [
    "model = tf.keras.models.Sequential()\n",
    "model.add(tf.keras.layers.Dense(units=256, activation='relu', input_shape=(2560,)))\n",
    "model.add(tf.keras.layers.Dense(units=128, activation='relu'))\n",
    "model.add(tf.keras.layers.Dropout(0.5))  # Adding dropout for regularization\n",
    "model.add(tf.keras.layers.Dense(units=64, activation='relu'))\n",
    "model.add(tf.keras.layers.Dense(units=7, activation='softmax'))  # Using softmax for multi-class classification\n",
    "# model.add(\n",
    "#     tf.keras.layers.Dense(units=2560, activation=\"relu\", input_shape=(2560,))\n",
    "# )\n",
    "# \n",
    "# model.add(\n",
    "#     tf.keras.layers.Dense(units=15, activation=\"relu\")\n",
    "# )\n",
    "# \n",
    "# model.add(\n",
    "#     tf.keras.layers.Dense(units=7, activation='softmax') # da classification\n",
    "# )\n",
    "\n",
    "model.compile(loss='categorical_crossentropy', optimizer='adam')\n"
   ],
   "metadata": {
    "collapsed": false,
    "is_executing": true
   },
   "id": "c644e0105d723029"
  },
  {
   "cell_type": "code",
   "execution_count": null,
   "outputs": [],
   "source": [
    "model.fit(x=X_train, y=y_train_encoded, epochs=200, validation_data=(X_test, y_test_encoded))"
   ],
   "metadata": {
    "collapsed": false,
    "is_executing": true
   },
   "id": "639c9edb9762c409"
  },
  {
   "cell_type": "code",
   "execution_count": 87,
   "outputs": [
    {
     "data": {
      "text/plain": "<Axes: >"
     },
     "execution_count": 87,
     "metadata": {},
     "output_type": "execute_result"
    },
    {
     "data": {
      "text/plain": "<Figure size 640x480 with 1 Axes>",
      "image/png": "[encoded data removed]"
     },
     "metadata": {},
     "output_type": "display_data"
    }
   ],
   "source": [
    "model_loss = pd.DataFrame(model.history.history)\n",
    "\n",
    "model_loss.plot() # early stopping where plot diverges\n"
   ],
   "metadata": {
    "collapsed": false,
    "ExecuteTime": {
     "end_time": "2023-08-25T21:37:31.375630832Z",
     "start_time": "2023-08-25T21:37:31.140365889Z"
    }
   },
   "id": "1c5f99c25d30cca1"
  },
  {
   "cell_type": "code",
   "execution_count": 88,
   "outputs": [
    {
     "name": "stdout",
     "output_type": "stream",
     "text": [
      "95/95 [==============================] - 0s 2ms/step\n"
     ]
    }
   ],
   "source": [
    "predictions = np.argmax(model.predict(X_test), axis=-1) # for multi class classification (using softmax)"
   ],
   "metadata": {
    "collapsed": false,
    "ExecuteTime": {
     "end_time": "2023-08-25T21:37:36.322547207Z",
     "start_time": "2023-08-25T21:37:36.005626048Z"
    }
   },
   "id": "7acb175028b78471"
  },
  {
   "cell_type": "code",
   "execution_count": 89,
   "outputs": [
    {
     "name": "stdout",
     "output_type": "stream",
     "text": [
      "2308\n",
      "3038\n"
     ]
    }
   ],
   "source": [
    "counter = 0\n",
    "for x,y in zip(y_test,predictions):\n",
    "    if x == y:\n",
    "        counter+=1\n",
    "print(counter)\n",
    "print(len(y_test))"
   ],
   "metadata": {
    "collapsed": false,
    "ExecuteTime": {
     "end_time": "2023-08-25T21:37:37.680137987Z",
     "start_time": "2023-08-25T21:37:37.668805911Z"
    }
   },
   "id": "3f9b7c9f76f9c5e7"
  },
  {
   "cell_type": "code",
   "execution_count": 90,
   "outputs": [
    {
     "name": "stdout",
     "output_type": "stream",
     "text": [
      "              precision    recall  f1-score   support\n",
      "\n",
      "           0       0.84      0.67      0.75       408\n",
      "           1       0.71      0.96      0.82      1241\n",
      "           2       0.80      0.87      0.83       853\n",
      "           3       0.81      0.11      0.20       225\n",
      "           4       1.00      0.02      0.05       130\n",
      "           5       0.97      0.48      0.64       125\n",
      "           6       1.00      0.20      0.33        56\n",
      "\n",
      "    accuracy                           0.76      3038\n",
      "   macro avg       0.88      0.47      0.52      3038\n",
      "weighted avg       0.79      0.76      0.72      3038\n"
     ]
    }
   ],
   "source": [
    "print(classification_report(y_test, predictions))\n"
   ],
   "metadata": {
    "collapsed": false,
    "ExecuteTime": {
     "end_time": "2023-08-25T21:37:45.681173443Z",
     "start_time": "2023-08-25T21:37:45.621049587Z"
    }
   },
   "id": "d76461011222cc2b"
  },
  {
   "cell_type": "code",
   "execution_count": 91,
   "outputs": [
    {
     "name": "stdout",
     "output_type": "stream",
     "text": [
      "[[ 275  101   32    0    0    0    0]\n",
      " [   8 1188   41    2    0    2    0]\n",
      " [   7   99  746    1    0    0    0]\n",
      " [  11  127   62   25    0    0    0]\n",
      " [   9   73   42    3    3    0    0]\n",
      " [   1   59    5    0    0   60    0]\n",
      " [  16   23    6    0    0    0   11]]\n"
     ]
    }
   ],
   "source": [
    "print(confusion_matrix(y_test, predictions))\n"
   ],
   "metadata": {
    "collapsed": false,
    "ExecuteTime": {
     "end_time": "2023-08-25T21:37:46.342867116Z",
     "start_time": "2023-08-25T21:37:46.329115561Z"
    }
   },
   "id": "cc6b48c93c72a5ba"
  },
  {
   "cell_type": "code",
   "execution_count": 92,
   "outputs": [
    {
     "name": "stdout",
     "output_type": "stream",
     "text": [
      "INFO:tensorflow:Assets written to: initial_ann_v1/assets\n"
     ]
    },
    {
     "name": "stderr",
     "output_type": "stream",
     "text": [
      "INFO:tensorflow:Assets written to: initial_ann_v1/assets\n"
     ]
    }
   ],
   "source": [
    "model.save(\"initial_ann_v1\")"
   ],
   "metadata": {
    "collapsed": false,
    "ExecuteTime": {
     "end_time": "2023-08-25T21:37:48.586669231Z",
     "start_time": "2023-08-25T21:37:48.080615321Z"
    }
   },
   "id": "7978b3da571c40ac"
  },
  {
   "cell_type": "code",
   "execution_count": null,
   "outputs": [],
   "source": [],
   "metadata": {
    "collapsed": false
   },
   "id": "ef27b067aed5682e"
  }
 ],
 "metadata": {
  "kernelspec": {
   "display_name": "Python 3",
   "language": "python",
   "name": "python3"
  },
  "language_info": {
   "codemirror_mode": {
    "name": "ipython",
    "version": 2
   },
   "file_extension": ".py",
   "mimetype": "text/x-python",
   "name": "python",
   "nbconvert_exporter": "python",
   "pygments_lexer": "ipython2",
   "version": "2.7.6"
  }
 },
 "nbformat": 4,
 "nbformat_minor": 5
}
