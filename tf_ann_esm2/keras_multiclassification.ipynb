{
 "cells": [
  {
   "cell_type": "raw",
   "source": [],
   "metadata": {
    "collapsed": false
   },
   "id": "5c8b70c81a1c0dff"
  },
  {
   "cell_type": "code",
   "execution_count": 1,
   "id": "initial_id",
   "metadata": {
    "collapsed": true,
    "ExecuteTime": {
     "end_time": "2023-08-25T22:59:54.040156268Z",
     "start_time": "2023-08-25T22:59:52.112178478Z"
    }
   },
   "outputs": [
    {
     "name": "stderr",
     "output_type": "stream",
     "text": [
      "2023-08-26 00:59:52.399083: I tensorflow/tsl/cuda/cudart_stub.cc:28] Could not find cuda drivers on your machine, GPU will not be used.\n",
      "2023-08-26 00:59:52.437487: I tensorflow/tsl/cuda/cudart_stub.cc:28] Could not find cuda drivers on your machine, GPU will not be used.\n",
      "2023-08-26 00:59:52.438139: I tensorflow/core/platform/cpu_feature_guard.cc:182] This TensorFlow binary is optimized to use available CPU instructions in performance-critical operations.\n",
      "To enable the following instructions: AVX2 FMA, in other operations, rebuild TensorFlow with the appropriate compiler flags.\n",
      "2023-08-26 00:59:53.508531: W tensorflow/compiler/tf2tensorrt/utils/py_utils.cc:38] TF-TRT Warning: Could not find TensorRT\n"
     ]
    }
   ],
   "source": [
    "import pandas as pd\n",
    "import numpy as np\n",
    "import seaborn as sns\n",
    "import matplotlib.pyplot as plt\n",
    "from sklearn.model_selection import train_test_split\n",
    "from sklearn.preprocessing import MinMaxScaler\n",
    "import tensorflow as tf\n",
    "from sklearn.metrics import classification_report, confusion_matrix\n",
    "import h5py\n",
    "\n",
    "import os\n",
    "from dotenv import load_dotenv\n",
    "load_dotenv()\n",
    "\n",
    "from data_manipulation.reading_util import filter_unwanted_seqs"
   ]
  },
  {
   "cell_type": "markdown",
   "source": [
    "# Reading in esm2 embeddings"
   ],
   "metadata": {
    "collapsed": false
   },
   "id": "2ed3ea824b2421fd"
  },
  {
   "cell_type": "code",
   "execution_count": 2,
   "outputs": [],
   "source": [
    "esm2_enzymes_30 = os.getenv(\"ESM2_ENZYMES_SPLIT_30\")\n",
    "esm2_non_enzymes = os.getenv(\"ESM2_NON_ENZYMES\")"
   ],
   "metadata": {
    "collapsed": false,
    "ExecuteTime": {
     "end_time": "2023-08-25T22:59:55.610281245Z",
     "start_time": "2023-08-25T22:59:55.606981532Z"
    }
   },
   "id": "fc75d92d1ddbee3d"
  },
  {
   "cell_type": "code",
   "execution_count": 3,
   "outputs": [],
   "source": [
    "def get_ec_labels(path_to_enzyme_esm2: str, path_to_enzyme_splitX_csv) -> pd.DataFrame:\n",
    "    \"\"\"\n",
    "    Adds a label representing the first main ec class (1-7) based on the ec number\n",
    "    :param path_to_esm2: Absolute path to esm2 file\n",
    "    :param path_to_enzyme_splitX_csv: Absolute path to splitX csv, which is needed for labeling\n",
    "    :return: A dataframe containing the corresponding labels\n",
    "    \"\"\"\n",
    "    with h5py.File(path_to_enzyme_esm2) as hdf_handle:\n",
    "        headers = []\n",
    "        embeddings = []\n",
    "\n",
    "        for header, emb in hdf_handle.items():\n",
    "            headers.append(header)\n",
    "            embeddings.append(np.array(list(emb)))\n",
    "\n",
    "    enzyme_csv = pd.read_csv(path_to_enzyme_splitX_csv, header=0, sep=',')\n",
    "    # TODO: Inorder to apply this line of code, I also have to find the corresponding embeddings and \n",
    "    #  drop these as well...\n",
    "    # enzyme_csv = filter_unwanted_seqs(enzyme_csv, True)\n",
    "    \n",
    "    print(len(embeddings))\n",
    "    print(len(enzyme_csv)) \n",
    "    \n",
    "    labels = {} # dict with → header(id): label (1-7)\n",
    "\n",
    "\n",
    "    for header in headers:\n",
    "        number = enzyme_csv.loc[enzyme_csv[\"Entry\"] == header,\"EC number\"]\n",
    "        ec = int(number.iat[0][0])-1 # since we always start counting from 0\n",
    "        labels[header] = ec\n",
    "    \n",
    "    header_label_tuples = [(header, labels[header]) for header in headers]\n",
    "\n",
    "    # Create a new list of embeddings with labels\n",
    "    embeddings_with_labels = []\n",
    "\n",
    "    for header, emb in zip(headers, embeddings):\n",
    "        label = next((label for h, label in header_label_tuples if h == header), None)\n",
    "        if label is not None:\n",
    "            embeddings_with_labels.append((header, label, emb))\n",
    "    \n",
    "    return embeddings_with_labels\n"
   ],
   "metadata": {
    "collapsed": false,
    "ExecuteTime": {
     "end_time": "2023-08-25T22:59:56.223847206Z",
     "start_time": "2023-08-25T22:59:56.214851685Z"
    }
   },
   "id": "87222de235987228"
  },
  {
   "cell_type": "markdown",
   "source": [
    "### Creating X and y"
   ],
   "metadata": {
    "collapsed": false
   },
   "id": "a30efcb7cd10ee61"
  },
  {
   "cell_type": "code",
   "execution_count": 4,
   "outputs": [
    {
     "name": "stdout",
     "output_type": "stream",
     "text": [
      "28788\n",
      "28788\n"
     ]
    }
   ],
   "source": [
    "enzyme_csv = os.getenv(\"CSV50_ENZYMES\")\n",
    "esm2_enzymes = os.getenv(\"ESM2_ENZYMES_SPLIT_50\")\n",
    "\n",
    "labels = get_ec_labels(path_to_enzyme_esm2=esm2_enzymes, path_to_enzyme_splitX_csv=enzyme_csv)\n",
    "\n",
    "X = []\n",
    "y = []\n",
    "for entry in labels:\n",
    "    y.append(entry[1]) # append label (1-7)\n",
    "    X.append(entry[2]) # append embedding"
   ],
   "metadata": {
    "collapsed": false,
    "ExecuteTime": {
     "end_time": "2023-08-25T23:03:46.580328414Z",
     "start_time": "2023-08-25T22:59:57.665379122Z"
    }
   },
   "id": "4366349293d7ab02"
  },
  {
   "cell_type": "code",
   "execution_count": 5,
   "outputs": [
    {
     "name": "stdout",
     "output_type": "stream",
     "text": [
      "28788\n",
      "28788\n"
     ]
    },
    {
     "data": {
      "text/plain": "<Figure size 1000x600 with 1 Axes>",
      "image/png": "[encoded data removed]"
     },
     "metadata": {},
     "output_type": "display_data"
    }
   ],
   "source": [
    "\n",
    "print(len(X))\n",
    "print(len(y))\n",
    "\n",
    "sns.set(style=\"whitegrid\")\n",
    "plt.figure(figsize=(10, 6))  # Adjust the figure size if needed\n",
    "sns.countplot(x=y, palette=\"Set3\")\n",
    "\n",
    "# Add labels and title\n",
    "plt.xlabel(\"Values\")\n",
    "plt.ylabel(\"Count\")\n",
    "plt.title(\"Count Plot of Values\")\n",
    "\n",
    "# Show the plot\n",
    "plt.show()"
   ],
   "metadata": {
    "collapsed": false,
    "ExecuteTime": {
     "end_time": "2023-08-25T23:03:46.794749712Z",
     "start_time": "2023-08-25T23:03:46.621713238Z"
    }
   },
   "id": "59e0b9651c977209"
  },
  {
   "cell_type": "code",
   "execution_count": 6,
   "outputs": [
    {
     "name": "stdout",
     "output_type": "stream",
     "text": [
      "   label  feature_1  feature_2  feature_3  feature_4  feature_5  feature_6  \\\n",
      "0      0  -0.053399   0.026311   0.068040  -0.047504  -0.056120   0.021154   \n",
      "1      2  -0.015143   0.035552  -0.022313   0.002838  -0.011048  -0.017585   \n",
      "2      0   0.059097  -0.034141   0.061427   0.006349  -0.058036  -0.020592   \n",
      "3      3  -0.014913  -0.010767  -0.010989  -0.013517   0.011791  -0.016675   \n",
      "4      1  -0.036617  -0.003793   0.057039  -0.080738  -0.038742  -0.017655   \n",
      "\n",
      "   feature_7  feature_8  feature_9  ...  feature_2551  feature_2552  \\\n",
      "0  -0.073030   0.139663   0.022752  ...      0.032434     -0.056128   \n",
      "1  -0.095678   0.095675   0.048721  ...     -0.021529     -0.027920   \n",
      "2  -0.064093   0.100112   0.019740  ...      0.089701     -0.076780   \n",
      "3   0.032285  -0.010640   0.050260  ...      0.057059     -0.018963   \n",
      "4  -0.071962   0.214017   0.095484  ...      0.000637      0.039427   \n",
      "\n",
      "   feature_2553  feature_2554  feature_2555  feature_2556  feature_2557  \\\n",
      "0     -0.047019      0.024053      0.067560     -0.022392      0.027965   \n",
      "1      0.065247      0.010216      0.064240     -0.067119      0.018192   \n",
      "2      0.038910     -0.059698     -0.013506     -0.027210     -0.037030   \n",
      "3      0.061991     -0.038755     -0.032339      0.006664     -0.036956   \n",
      "4      0.018950     -0.024202     -0.009596     -0.101802     -0.016336   \n",
      "\n",
      "   feature_2558  feature_2559  feature_2560  \n",
      "0     -0.034062     -0.189534     -0.078122  \n",
      "1      0.000636     -0.076873     -0.000646  \n",
      "2      0.033203     -0.074784     -0.062287  \n",
      "3      0.045417     -0.048660     -0.019183  \n",
      "4      0.033588     -0.212889     -0.081214  \n",
      "\n",
      "[5 rows x 2561 columns]\n"
     ]
    }
   ],
   "source": [
    "# Create a DataFrame\n",
    "df = pd.DataFrame({\"feature1\":X, \"label\":y})\n",
    "\n",
    "\n",
    "# Convert the lists in 'feature1' into separate columns using pd.DataFrame constructor\n",
    "feature_columns = pd.DataFrame(df[\"feature1\"].tolist(), columns=[f\"feature_{i+1}\" for i in range(2560)])\n",
    "\n",
    "# Concatenate the feature columns with the original DataFrame\n",
    "df = pd.concat([df.drop(\"feature1\", axis=1), feature_columns], axis=1)\n",
    "\n",
    "# Display the resulting DataFrame\n",
    "print(df.head())\n"
   ],
   "metadata": {
    "collapsed": false,
    "ExecuteTime": {
     "end_time": "2023-08-25T23:04:21.813656751Z",
     "start_time": "2023-08-25T23:03:46.871823772Z"
    }
   },
   "id": "1b9b83fd092dcb4b"
  },
  {
   "cell_type": "code",
   "execution_count": 7,
   "outputs": [],
   "source": [
    "\n",
    "X = df.drop('label', axis=1).values\n",
    "y = df['label'].values\n",
    "\n"
   ],
   "metadata": {
    "collapsed": false,
    "ExecuteTime": {
     "end_time": "2023-08-25T23:04:21.861477765Z",
     "start_time": "2023-08-25T23:04:21.840197235Z"
    }
   },
   "id": "1bd73830f7992c7e"
  },
  {
   "cell_type": "code",
   "execution_count": 8,
   "outputs": [],
   "source": [
    "X_train, X_test, y_train, y_test = train_test_split(X, y, test_size=0.33, random_state=42)\n",
    "y_train_encoded = tf.keras.utils.to_categorical(y_train, num_classes=7)\n",
    "y_test_encoded = tf.keras.utils.to_categorical(y_test, num_classes=7)\n"
   ],
   "metadata": {
    "collapsed": false,
    "ExecuteTime": {
     "end_time": "2023-08-25T23:04:22.402050866Z",
     "start_time": "2023-08-25T23:04:21.844959186Z"
    }
   },
   "id": "6c00a531b1e8e53"
  },
  {
   "cell_type": "code",
   "execution_count": 9,
   "outputs": [],
   "source": [
    "scaler = MinMaxScaler()\n",
    "scaler.fit(X_train)\n",
    "x_train = scaler.transform(X_train)\n",
    "\n",
    "X_test = scaler.transform(X_test)\n"
   ],
   "metadata": {
    "collapsed": false,
    "ExecuteTime": {
     "end_time": "2023-08-25T23:04:22.640382616Z",
     "start_time": "2023-08-25T23:04:22.402899893Z"
    }
   },
   "id": "63284fa5d9eed896"
  },
  {
   "cell_type": "code",
   "execution_count": 10,
   "outputs": [
    {
     "data": {
      "text/plain": "2560"
     },
     "execution_count": 10,
     "metadata": {},
     "output_type": "execute_result"
    }
   ],
   "source": [
    "len(X_train[0])"
   ],
   "metadata": {
    "collapsed": false,
    "ExecuteTime": {
     "end_time": "2023-08-25T23:04:22.650813896Z",
     "start_time": "2023-08-25T23:04:22.644282326Z"
    }
   },
   "id": "7b1707564af442b"
  },
  {
   "cell_type": "code",
   "execution_count": 11,
   "outputs": [],
   "source": [
    "model = tf.keras.models.Sequential()\n",
    "model.add(tf.keras.layers.Dense(units=256, activation='relu', input_shape=(2560,)))\n",
    "model.add(tf.keras.layers.Dense(units=128, activation='relu'))\n",
    "model.add(tf.keras.layers.Dropout(0.5))  # Adding dropout for regularization\n",
    "model.add(tf.keras.layers.Dense(units=64, activation='relu'))\n",
    "model.add(tf.keras.layers.Dense(units=7, activation='softmax'))  # Using softmax for multi-class classification\n",
    "# model.add(\n",
    "#     tf.keras.layers.Dense(units=2560, activation=\"relu\", input_shape=(2560,))\n",
    "# )\n",
    "# \n",
    "# model.add(\n",
    "#     tf.keras.layers.Dense(units=15, activation=\"relu\")\n",
    "# )\n",
    "# \n",
    "# model.add(\n",
    "#     tf.keras.layers.Dense(units=7, activation='softmax') # da classification\n",
    "# )\n",
    "\n",
    "model.compile(loss='categorical_crossentropy', optimizer='adam')\n"
   ],
   "metadata": {
    "collapsed": false,
    "ExecuteTime": {
     "end_time": "2023-08-25T23:04:22.756337675Z",
     "start_time": "2023-08-25T23:04:22.650394763Z"
    }
   },
   "id": "c644e0105d723029"
  },
  {
   "cell_type": "code",
   "execution_count": 12,
   "outputs": [
    {
     "name": "stdout",
     "output_type": "stream",
     "text": [
      "Epoch 1/200\n",
      "603/603 [==============================] - 7s 11ms/step - loss: 0.8811 - val_loss: 1.3392\n",
      "Epoch 2/200\n",
      "603/603 [==============================] - 7s 11ms/step - loss: 0.3718 - val_loss: 1.0096\n",
      "Epoch 3/200\n",
      "603/603 [==============================] - 7s 11ms/step - loss: 0.2677 - val_loss: 1.2834\n",
      "Epoch 4/200\n",
      "603/603 [==============================] - 7s 11ms/step - loss: 0.2140 - val_loss: 3.0472\n",
      "Epoch 5/200\n",
      "603/603 [==============================] - 7s 11ms/step - loss: 0.1696 - val_loss: 6.9762\n",
      "Epoch 6/200\n",
      "603/603 [==============================] - 6s 11ms/step - loss: 0.1426 - val_loss: 4.8682\n",
      "Epoch 7/200\n",
      "603/603 [==============================] - 7s 11ms/step - loss: 0.1248 - val_loss: 10.9757\n",
      "Epoch 8/200\n",
      "603/603 [==============================] - 7s 11ms/step - loss: 0.1105 - val_loss: 9.4495\n",
      "Epoch 9/200\n",
      "603/603 [==============================] - 6s 11ms/step - loss: 0.0971 - val_loss: 14.4813\n",
      "Epoch 10/200\n",
      "603/603 [==============================] - 7s 11ms/step - loss: 0.0937 - val_loss: 18.7460\n",
      "Epoch 11/200\n",
      "603/603 [==============================] - 7s 11ms/step - loss: 0.0745 - val_loss: 9.7083\n",
      "Epoch 12/200\n",
      "603/603 [==============================] - 6s 11ms/step - loss: 0.0729 - val_loss: 21.7543\n",
      "Epoch 13/200\n",
      "603/603 [==============================] - 7s 11ms/step - loss: 0.0723 - val_loss: 17.6524\n",
      "Epoch 14/200\n",
      "603/603 [==============================] - 7s 11ms/step - loss: 0.0565 - val_loss: 17.6630\n",
      "Epoch 15/200\n",
      "603/603 [==============================] - 7s 11ms/step - loss: 0.0598 - val_loss: 21.1651\n",
      "Epoch 16/200\n",
      "603/603 [==============================] - 7s 11ms/step - loss: 0.0533 - val_loss: 20.8543\n",
      "Epoch 17/200\n",
      "603/603 [==============================] - 6s 11ms/step - loss: 0.0435 - val_loss: 23.2325\n",
      "Epoch 18/200\n",
      "603/603 [==============================] - 7s 11ms/step - loss: 0.0547 - val_loss: 21.1743\n",
      "Epoch 19/200\n",
      "603/603 [==============================] - 6s 11ms/step - loss: 0.0461 - val_loss: 27.1368\n",
      "Epoch 20/200\n",
      "603/603 [==============================] - 7s 11ms/step - loss: 0.0412 - val_loss: 26.2831\n",
      "Epoch 21/200\n",
      "603/603 [==============================] - 6s 11ms/step - loss: 0.0460 - val_loss: 18.9554\n",
      "Epoch 22/200\n",
      "603/603 [==============================] - 7s 11ms/step - loss: 0.0430 - val_loss: 15.9703\n",
      "Epoch 23/200\n",
      "603/603 [==============================] - 6s 11ms/step - loss: 0.0281 - val_loss: 28.5997\n",
      "Epoch 24/200\n",
      "603/603 [==============================] - 7s 11ms/step - loss: 0.0385 - val_loss: 25.9829\n",
      "Epoch 25/200\n",
      "603/603 [==============================] - 7s 11ms/step - loss: 0.0326 - val_loss: 11.2612\n",
      "Epoch 26/200\n",
      "603/603 [==============================] - 6s 11ms/step - loss: 0.0387 - val_loss: 14.3831\n",
      "Epoch 27/200\n",
      "603/603 [==============================] - 6s 11ms/step - loss: 0.0238 - val_loss: 19.6510\n",
      "Epoch 28/200\n",
      "603/603 [==============================] - 6s 11ms/step - loss: 0.0320 - val_loss: 21.1351\n",
      "Epoch 29/200\n",
      "603/603 [==============================] - 7s 11ms/step - loss: 0.0287 - val_loss: 16.9522\n",
      "Epoch 30/200\n",
      "603/603 [==============================] - 7s 11ms/step - loss: 0.0290 - val_loss: 26.8812\n",
      "Epoch 31/200\n",
      "603/603 [==============================] - 7s 11ms/step - loss: 0.0307 - val_loss: 25.9403\n",
      "Epoch 32/200\n",
      "603/603 [==============================] - 6s 11ms/step - loss: 0.0215 - val_loss: 28.4856\n",
      "Epoch 33/200\n",
      "603/603 [==============================] - 7s 11ms/step - loss: 0.0297 - val_loss: 24.1640\n",
      "Epoch 34/200\n",
      "603/603 [==============================] - 6s 11ms/step - loss: 0.0194 - val_loss: 36.1070\n",
      "Epoch 35/200\n",
      "603/603 [==============================] - 7s 11ms/step - loss: 0.0287 - val_loss: 35.0326\n",
      "Epoch 36/200\n",
      "603/603 [==============================] - 7s 11ms/step - loss: 0.0249 - val_loss: 37.3136\n",
      "Epoch 37/200\n",
      "603/603 [==============================] - 6s 11ms/step - loss: 0.0259 - val_loss: 42.6375\n",
      "Epoch 38/200\n",
      "603/603 [==============================] - 6s 11ms/step - loss: 0.0220 - val_loss: 44.3921\n",
      "Epoch 39/200\n",
      "603/603 [==============================] - 6s 11ms/step - loss: 0.0165 - val_loss: 30.6812\n",
      "Epoch 40/200\n",
      "603/603 [==============================] - 6s 11ms/step - loss: 0.0178 - val_loss: 26.4674\n",
      "Epoch 41/200\n",
      "603/603 [==============================] - 6s 11ms/step - loss: 0.0253 - val_loss: 40.5222\n",
      "Epoch 42/200\n",
      "603/603 [==============================] - 6s 11ms/step - loss: 0.0192 - val_loss: 40.9125\n",
      "Epoch 43/200\n",
      "603/603 [==============================] - 6s 11ms/step - loss: 0.0216 - val_loss: 41.7911\n",
      "Epoch 44/200\n",
      "603/603 [==============================] - 6s 11ms/step - loss: 0.0138 - val_loss: 35.5485\n",
      "Epoch 45/200\n",
      "603/603 [==============================] - 7s 11ms/step - loss: 0.0239 - val_loss: 28.1793\n",
      "Epoch 46/200\n",
      "603/603 [==============================] - 6s 10ms/step - loss: 0.0179 - val_loss: 23.0062\n",
      "Epoch 47/200\n",
      "603/603 [==============================] - 6s 11ms/step - loss: 0.0181 - val_loss: 29.1567\n",
      "Epoch 48/200\n",
      "603/603 [==============================] - 6s 11ms/step - loss: 0.0155 - val_loss: 26.1882\n",
      "Epoch 49/200\n",
      "603/603 [==============================] - 6s 11ms/step - loss: 0.0235 - val_loss: 31.9126\n",
      "Epoch 50/200\n",
      "603/603 [==============================] - 6s 11ms/step - loss: 0.0157 - val_loss: 24.5248\n",
      "Epoch 51/200\n",
      "603/603 [==============================] - 6s 11ms/step - loss: 0.0203 - val_loss: 28.3818\n",
      "Epoch 52/200\n",
      "603/603 [==============================] - 6s 11ms/step - loss: 0.0145 - val_loss: 29.1544\n",
      "Epoch 53/200\n",
      "603/603 [==============================] - 6s 11ms/step - loss: 0.0203 - val_loss: 33.4899\n",
      "Epoch 54/200\n",
      "603/603 [==============================] - 6s 11ms/step - loss: 0.0153 - val_loss: 37.5317\n",
      "Epoch 55/200\n",
      "603/603 [==============================] - 6s 11ms/step - loss: 0.0131 - val_loss: 32.1416\n",
      "Epoch 56/200\n",
      "603/603 [==============================] - 6s 11ms/step - loss: 0.0186 - val_loss: 33.8750\n",
      "Epoch 57/200\n",
      "603/603 [==============================] - 6s 10ms/step - loss: 0.0121 - val_loss: 48.1082\n",
      "Epoch 58/200\n",
      "603/603 [==============================] - 6s 10ms/step - loss: 0.0143 - val_loss: 47.2770\n",
      "Epoch 59/200\n",
      "603/603 [==============================] - 6s 11ms/step - loss: 0.0181 - val_loss: 37.7095\n",
      "Epoch 60/200\n",
      "603/603 [==============================] - 6s 11ms/step - loss: 0.0131 - val_loss: 40.3025\n",
      "Epoch 61/200\n",
      "603/603 [==============================] - 6s 11ms/step - loss: 0.0178 - val_loss: 41.7041\n",
      "Epoch 62/200\n",
      "603/603 [==============================] - 6s 11ms/step - loss: 0.0159 - val_loss: 58.3087\n",
      "Epoch 63/200\n",
      "603/603 [==============================] - 6s 11ms/step - loss: 0.0150 - val_loss: 28.8124\n",
      "Epoch 64/200\n",
      "603/603 [==============================] - 6s 11ms/step - loss: 0.0138 - val_loss: 31.5718\n",
      "Epoch 65/200\n",
      "603/603 [==============================] - 7s 11ms/step - loss: 0.0119 - val_loss: 36.5802\n",
      "Epoch 66/200\n",
      "603/603 [==============================] - 6s 11ms/step - loss: 0.0078 - val_loss: 35.3354\n",
      "Epoch 67/200\n",
      "603/603 [==============================] - 6s 11ms/step - loss: 0.0217 - val_loss: 37.2662\n",
      "Epoch 68/200\n",
      "603/603 [==============================] - 6s 10ms/step - loss: 0.0095 - val_loss: 37.6417\n",
      "Epoch 69/200\n",
      "603/603 [==============================] - 6s 10ms/step - loss: 0.0164 - val_loss: 35.2199\n",
      "Epoch 70/200\n",
      "603/603 [==============================] - 6s 10ms/step - loss: 0.0089 - val_loss: 31.2299\n",
      "Epoch 71/200\n",
      "603/603 [==============================] - 6s 11ms/step - loss: 0.0080 - val_loss: 26.2698\n",
      "Epoch 72/200\n",
      "603/603 [==============================] - 6s 10ms/step - loss: 0.0220 - val_loss: 23.1021\n",
      "Epoch 73/200\n",
      "603/603 [==============================] - 6s 11ms/step - loss: 0.0099 - val_loss: 27.4797\n",
      "Epoch 74/200\n",
      "603/603 [==============================] - 6s 10ms/step - loss: 0.0129 - val_loss: 14.8829\n",
      "Epoch 75/200\n",
      "603/603 [==============================] - 6s 10ms/step - loss: 0.0085 - val_loss: 24.7906\n",
      "Epoch 76/200\n",
      "603/603 [==============================] - 6s 10ms/step - loss: 0.0142 - val_loss: 25.9838\n",
      "Epoch 77/200\n",
      "603/603 [==============================] - 6s 11ms/step - loss: 0.0159 - val_loss: 33.6608\n",
      "Epoch 78/200\n",
      "603/603 [==============================] - 6s 11ms/step - loss: 0.0104 - val_loss: 32.0192\n",
      "Epoch 79/200\n",
      "603/603 [==============================] - 6s 10ms/step - loss: 0.0164 - val_loss: 25.5231\n",
      "Epoch 80/200\n",
      "603/603 [==============================] - 6s 10ms/step - loss: 0.0112 - val_loss: 34.2606\n",
      "Epoch 81/200\n",
      "603/603 [==============================] - 6s 10ms/step - loss: 0.0116 - val_loss: 27.5515\n",
      "Epoch 82/200\n",
      "603/603 [==============================] - 6s 10ms/step - loss: 0.0043 - val_loss: 41.7938\n",
      "Epoch 83/200\n",
      "603/603 [==============================] - 6s 10ms/step - loss: 0.0172 - val_loss: 26.3023\n",
      "Epoch 84/200\n",
      "603/603 [==============================] - 6s 10ms/step - loss: 0.0118 - val_loss: 31.0970\n",
      "Epoch 85/200\n",
      "603/603 [==============================] - 6s 10ms/step - loss: 0.0067 - val_loss: 29.5692\n",
      "Epoch 86/200\n",
      "603/603 [==============================] - 6s 11ms/step - loss: 0.0172 - val_loss: 30.6194\n",
      "Epoch 87/200\n",
      "603/603 [==============================] - 6s 10ms/step - loss: 0.0052 - val_loss: 36.9632\n",
      "Epoch 88/200\n",
      "603/603 [==============================] - 6s 10ms/step - loss: 0.0018 - val_loss: 37.1382\n",
      "Epoch 89/200\n",
      "603/603 [==============================] - 6s 10ms/step - loss: 0.0151 - val_loss: 27.9953\n",
      "Epoch 90/200\n",
      "603/603 [==============================] - 6s 10ms/step - loss: 0.0151 - val_loss: 33.4640\n",
      "Epoch 91/200\n",
      "603/603 [==============================] - 6s 10ms/step - loss: 0.0102 - val_loss: 26.7725\n",
      "Epoch 92/200\n",
      "603/603 [==============================] - 6s 11ms/step - loss: 0.0071 - val_loss: 43.7840\n",
      "Epoch 93/200\n",
      "603/603 [==============================] - 6s 10ms/step - loss: 0.0074 - val_loss: 40.8572\n",
      "Epoch 94/200\n",
      "603/603 [==============================] - 6s 10ms/step - loss: 0.0124 - val_loss: 26.9410\n",
      "Epoch 95/200\n",
      "603/603 [==============================] - 6s 10ms/step - loss: 0.0130 - val_loss: 28.2759\n",
      "Epoch 96/200\n",
      "603/603 [==============================] - 6s 10ms/step - loss: 0.0087 - val_loss: 41.3117\n",
      "Epoch 97/200\n",
      "603/603 [==============================] - 6s 10ms/step - loss: 0.0112 - val_loss: 43.8813\n",
      "Epoch 98/200\n",
      "603/603 [==============================] - 6s 10ms/step - loss: 0.0138 - val_loss: 41.9898\n",
      "Epoch 99/200\n",
      "603/603 [==============================] - 6s 10ms/step - loss: 0.0056 - val_loss: 48.3431\n",
      "Epoch 100/200\n",
      "603/603 [==============================] - 6s 10ms/step - loss: 9.5816e-04 - val_loss: 49.0834\n",
      "Epoch 101/200\n",
      "603/603 [==============================] - 6s 10ms/step - loss: 0.0122 - val_loss: 48.9001\n",
      "Epoch 102/200\n",
      "603/603 [==============================] - 6s 10ms/step - loss: 0.0139 - val_loss: 43.6520\n",
      "Epoch 103/200\n",
      "603/603 [==============================] - 6s 11ms/step - loss: 0.0029 - val_loss: 39.9678\n",
      "Epoch 104/200\n",
      "603/603 [==============================] - 6s 10ms/step - loss: 0.0155 - val_loss: 25.2008\n",
      "Epoch 105/200\n",
      "603/603 [==============================] - 6s 10ms/step - loss: 0.0098 - val_loss: 28.6426\n",
      "Epoch 106/200\n",
      "603/603 [==============================] - 6s 10ms/step - loss: 0.0125 - val_loss: 22.8487\n",
      "Epoch 107/200\n",
      "603/603 [==============================] - 6s 10ms/step - loss: 0.0069 - val_loss: 33.5414\n",
      "Epoch 108/200\n",
      "603/603 [==============================] - 6s 10ms/step - loss: 0.0133 - val_loss: 35.5570\n",
      "Epoch 109/200\n",
      "603/603 [==============================] - 6s 10ms/step - loss: 0.0094 - val_loss: 45.2040\n",
      "Epoch 110/200\n",
      "603/603 [==============================] - 6s 10ms/step - loss: 0.0033 - val_loss: 36.9720\n",
      "Epoch 111/200\n",
      "603/603 [==============================] - 6s 10ms/step - loss: 0.0135 - val_loss: 49.6884\n",
      "Epoch 112/200\n",
      "603/603 [==============================] - 6s 10ms/step - loss: 0.0070 - val_loss: 43.3359\n",
      "Epoch 113/200\n",
      "603/603 [==============================] - 6s 10ms/step - loss: 0.0105 - val_loss: 45.1783\n",
      "Epoch 114/200\n",
      "603/603 [==============================] - 6s 10ms/step - loss: 0.0065 - val_loss: 39.9248\n",
      "Epoch 115/200\n",
      "603/603 [==============================] - 6s 10ms/step - loss: 0.0120 - val_loss: 31.3415\n",
      "Epoch 116/200\n",
      "603/603 [==============================] - 6s 10ms/step - loss: 0.0027 - val_loss: 33.1356\n",
      "Epoch 117/200\n",
      "603/603 [==============================] - 6s 10ms/step - loss: 0.0062 - val_loss: 38.6245\n",
      "Epoch 118/200\n",
      "603/603 [==============================] - 6s 10ms/step - loss: 0.0097 - val_loss: 42.2695\n",
      "Epoch 119/200\n",
      "603/603 [==============================] - 6s 11ms/step - loss: 0.0035 - val_loss: 48.5996\n",
      "Epoch 120/200\n",
      "603/603 [==============================] - 6s 10ms/step - loss: 0.0157 - val_loss: 30.3787\n",
      "Epoch 121/200\n",
      "603/603 [==============================] - 6s 10ms/step - loss: 0.0060 - val_loss: 30.7721\n",
      "Epoch 122/200\n",
      "603/603 [==============================] - 6s 10ms/step - loss: 0.0083 - val_loss: 36.8713\n",
      "Epoch 123/200\n",
      "603/603 [==============================] - 6s 10ms/step - loss: 0.0095 - val_loss: 54.5639\n",
      "Epoch 124/200\n",
      "603/603 [==============================] - 6s 10ms/step - loss: 0.0128 - val_loss: 52.5358\n",
      "Epoch 125/200\n",
      "603/603 [==============================] - 6s 10ms/step - loss: 0.0042 - val_loss: 48.4402\n",
      "Epoch 126/200\n",
      "603/603 [==============================] - 6s 10ms/step - loss: 0.0071 - val_loss: 49.4395\n",
      "Epoch 127/200\n",
      "603/603 [==============================] - 6s 10ms/step - loss: 0.0074 - val_loss: 44.0556\n",
      "Epoch 128/200\n",
      "603/603 [==============================] - 6s 10ms/step - loss: 0.0099 - val_loss: 47.4937\n",
      "Epoch 129/200\n",
      "603/603 [==============================] - 6s 10ms/step - loss: 0.0085 - val_loss: 43.2011\n",
      "Epoch 130/200\n",
      "603/603 [==============================] - 6s 10ms/step - loss: 0.0019 - val_loss: 45.4635\n",
      "Epoch 131/200\n",
      "603/603 [==============================] - 6s 10ms/step - loss: 0.0046 - val_loss: 41.3066\n",
      "Epoch 132/200\n",
      "603/603 [==============================] - 6s 10ms/step - loss: 0.0165 - val_loss: 31.5015\n",
      "Epoch 133/200\n",
      "603/603 [==============================] - 6s 10ms/step - loss: 0.0070 - val_loss: 34.2730\n",
      "Epoch 134/200\n",
      "603/603 [==============================] - 6s 10ms/step - loss: 0.0072 - val_loss: 35.2068\n",
      "Epoch 135/200\n",
      "603/603 [==============================] - 6s 10ms/step - loss: 0.0113 - val_loss: 30.2744\n",
      "Epoch 136/200\n",
      "603/603 [==============================] - 6s 10ms/step - loss: 0.0055 - val_loss: 29.5293\n",
      "Epoch 137/200\n",
      "603/603 [==============================] - 6s 10ms/step - loss: 0.0098 - val_loss: 37.1474\n",
      "Epoch 138/200\n",
      "603/603 [==============================] - 6s 10ms/step - loss: 0.0030 - val_loss: 35.2995\n",
      "Epoch 139/200\n",
      "603/603 [==============================] - 6s 10ms/step - loss: 4.5739e-04 - val_loss: 40.1979\n",
      "Epoch 140/200\n",
      "603/603 [==============================] - 6s 10ms/step - loss: 0.0080 - val_loss: 37.4195\n",
      "Epoch 141/200\n",
      "603/603 [==============================] - 6s 10ms/step - loss: 0.0137 - val_loss: 27.8083\n",
      "Epoch 142/200\n",
      "603/603 [==============================] - 6s 10ms/step - loss: 0.0077 - val_loss: 22.0708\n",
      "Epoch 143/200\n",
      "603/603 [==============================] - 6s 10ms/step - loss: 0.0062 - val_loss: 33.3968\n",
      "Epoch 144/200\n",
      "603/603 [==============================] - 6s 10ms/step - loss: 6.1309e-04 - val_loss: 33.1264\n",
      "Epoch 145/200\n",
      "603/603 [==============================] - 6s 10ms/step - loss: 0.0138 - val_loss: 24.7400\n",
      "Epoch 146/200\n",
      "603/603 [==============================] - 6s 10ms/step - loss: 0.0085 - val_loss: 37.4893\n",
      "Epoch 147/200\n",
      "603/603 [==============================] - 6s 10ms/step - loss: 0.0046 - val_loss: 43.3868\n",
      "Epoch 148/200\n",
      "603/603 [==============================] - 6s 10ms/step - loss: 0.0049 - val_loss: 43.1722\n",
      "Epoch 149/200\n",
      "603/603 [==============================] - 6s 10ms/step - loss: 0.0081 - val_loss: 42.4908\n",
      "Epoch 150/200\n",
      "603/603 [==============================] - 6s 10ms/step - loss: 0.0076 - val_loss: 42.7153\n",
      "Epoch 151/200\n",
      "603/603 [==============================] - 6s 10ms/step - loss: 0.0077 - val_loss: 42.7882\n",
      "Epoch 152/200\n",
      "603/603 [==============================] - 6s 10ms/step - loss: 0.0013 - val_loss: 43.3164\n",
      "Epoch 153/200\n",
      "603/603 [==============================] - 6s 10ms/step - loss: 0.0147 - val_loss: 46.2006\n",
      "Epoch 154/200\n",
      "603/603 [==============================] - 6s 10ms/step - loss: 0.0050 - val_loss: 56.8948\n",
      "Epoch 155/200\n",
      "603/603 [==============================] - 6s 10ms/step - loss: 0.0023 - val_loss: 49.1294\n",
      "Epoch 156/200\n",
      "603/603 [==============================] - 6s 10ms/step - loss: 4.8778e-04 - val_loss: 56.8746\n",
      "Epoch 157/200\n",
      "603/603 [==============================] - 6s 10ms/step - loss: 0.0155 - val_loss: 54.4611\n",
      "Epoch 158/200\n",
      "603/603 [==============================] - 6s 10ms/step - loss: 0.0080 - val_loss: 41.8080\n",
      "Epoch 159/200\n",
      "603/603 [==============================] - 6s 10ms/step - loss: 0.0065 - val_loss: 46.8105\n",
      "Epoch 160/200\n",
      "603/603 [==============================] - 6s 10ms/step - loss: 0.0029 - val_loss: 51.2479\n",
      "Epoch 161/200\n",
      "603/603 [==============================] - 6s 11ms/step - loss: 0.0124 - val_loss: 35.0949\n",
      "Epoch 162/200\n",
      "603/603 [==============================] - 6s 10ms/step - loss: 0.0075 - val_loss: 31.6007\n",
      "Epoch 163/200\n",
      "603/603 [==============================] - 6s 10ms/step - loss: 0.0126 - val_loss: 48.6431\n",
      "Epoch 164/200\n",
      "603/603 [==============================] - 6s 10ms/step - loss: 0.0065 - val_loss: 45.5735\n",
      "Epoch 165/200\n",
      "603/603 [==============================] - 6s 10ms/step - loss: 0.0066 - val_loss: 48.2506\n",
      "Epoch 166/200\n",
      "603/603 [==============================] - 6s 10ms/step - loss: 0.0056 - val_loss: 46.8636\n",
      "Epoch 167/200\n",
      "603/603 [==============================] - 6s 10ms/step - loss: 0.0134 - val_loss: 43.9099\n",
      "Epoch 168/200\n",
      "603/603 [==============================] - 6s 10ms/step - loss: 0.0037 - val_loss: 49.4029\n",
      "Epoch 169/200\n",
      "603/603 [==============================] - 6s 10ms/step - loss: 0.0028 - val_loss: 58.0252\n",
      "Epoch 170/200\n",
      "603/603 [==============================] - 6s 10ms/step - loss: 0.0062 - val_loss: 54.3779\n",
      "Epoch 171/200\n",
      "603/603 [==============================] - 6s 10ms/step - loss: 0.0154 - val_loss: 34.5214\n",
      "Epoch 172/200\n",
      "603/603 [==============================] - 6s 10ms/step - loss: 0.0052 - val_loss: 41.1516\n",
      "Epoch 173/200\n",
      "603/603 [==============================] - 6s 10ms/step - loss: 0.0012 - val_loss: 47.5071\n",
      "Epoch 174/200\n",
      "603/603 [==============================] - 6s 10ms/step - loss: 0.0020 - val_loss: 59.5198\n",
      "Epoch 175/200\n",
      "603/603 [==============================] - 6s 10ms/step - loss: 0.0021 - val_loss: 58.3634\n",
      "Epoch 176/200\n",
      "603/603 [==============================] - 6s 10ms/step - loss: 0.0177 - val_loss: 34.1226\n",
      "Epoch 177/200\n",
      "603/603 [==============================] - 6s 10ms/step - loss: 0.0072 - val_loss: 45.6756\n",
      "Epoch 178/200\n",
      "603/603 [==============================] - 6s 10ms/step - loss: 0.0018 - val_loss: 49.9392\n",
      "Epoch 179/200\n",
      "603/603 [==============================] - 6s 10ms/step - loss: 0.0013 - val_loss: 51.6321\n",
      "Epoch 180/200\n",
      "603/603 [==============================] - 6s 10ms/step - loss: 0.0103 - val_loss: 57.7755\n",
      "Epoch 181/200\n",
      "603/603 [==============================] - 6s 10ms/step - loss: 0.0071 - val_loss: 63.3286\n",
      "Epoch 182/200\n",
      "603/603 [==============================] - 6s 10ms/step - loss: 0.0059 - val_loss: 62.4148\n",
      "Epoch 183/200\n",
      "603/603 [==============================] - 6s 10ms/step - loss: 0.0041 - val_loss: 58.7698\n",
      "Epoch 184/200\n",
      "603/603 [==============================] - 6s 10ms/step - loss: 0.0021 - val_loss: 58.0331\n",
      "Epoch 185/200\n",
      "603/603 [==============================] - 6s 10ms/step - loss: 0.0134 - val_loss: 70.4414\n",
      "Epoch 186/200\n",
      "603/603 [==============================] - 6s 10ms/step - loss: 0.0082 - val_loss: 55.9737\n",
      "Epoch 187/200\n",
      "603/603 [==============================] - 6s 10ms/step - loss: 0.0053 - val_loss: 79.6487\n",
      "Epoch 188/200\n",
      "603/603 [==============================] - 6s 10ms/step - loss: 0.0077 - val_loss: 69.1913\n",
      "Epoch 189/200\n",
      "603/603 [==============================] - 6s 10ms/step - loss: 0.0038 - val_loss: 62.6826\n",
      "Epoch 190/200\n",
      "603/603 [==============================] - 6s 10ms/step - loss: 8.6059e-04 - val_loss: 60.4789\n",
      "Epoch 191/200\n",
      "603/603 [==============================] - 6s 10ms/step - loss: 5.1732e-04 - val_loss: 86.1693\n",
      "Epoch 192/200\n",
      "603/603 [==============================] - 6s 10ms/step - loss: 0.0114 - val_loss: 81.1830\n",
      "Epoch 193/200\n",
      "603/603 [==============================] - 6s 10ms/step - loss: 0.0015 - val_loss: 64.0528\n",
      "Epoch 194/200\n",
      "603/603 [==============================] - 6s 10ms/step - loss: 0.0123 - val_loss: 57.1882\n",
      "Epoch 195/200\n",
      "603/603 [==============================] - 6s 10ms/step - loss: 0.0026 - val_loss: 70.4658\n",
      "Epoch 196/200\n",
      "603/603 [==============================] - 6s 10ms/step - loss: 0.0094 - val_loss: 82.0466\n",
      "Epoch 197/200\n",
      "603/603 [==============================] - 6s 10ms/step - loss: 0.0089 - val_loss: 58.8879\n",
      "Epoch 198/200\n",
      "603/603 [==============================] - 6s 10ms/step - loss: 0.0079 - val_loss: 56.0742\n",
      "Epoch 199/200\n",
      "603/603 [==============================] - 6s 10ms/step - loss: 0.0040 - val_loss: 59.3835\n",
      "Epoch 200/200\n",
      "603/603 [==============================] - 6s 10ms/step - loss: 0.0048 - val_loss: 53.6448\n"
     ]
    },
    {
     "data": {
      "text/plain": "<keras.src.callbacks.History at 0x7f077f498940>"
     },
     "execution_count": 12,
     "metadata": {},
     "output_type": "execute_result"
    }
   ],
   "source": [
    "model.fit(x=X_train, y=y_train_encoded, epochs=200, validation_data=(X_test, y_test_encoded))"
   ],
   "metadata": {
    "collapsed": false,
    "ExecuteTime": {
     "end_time": "2023-08-25T23:25:25.637804756Z",
     "start_time": "2023-08-25T23:04:22.760304031Z"
    }
   },
   "id": "639c9edb9762c409"
  },
  {
   "cell_type": "code",
   "execution_count": 13,
   "outputs": [
    {
     "data": {
      "text/plain": "<Axes: >"
     },
     "execution_count": 13,
     "metadata": {},
     "output_type": "execute_result"
    },
    {
     "data": {
      "text/plain": "<Figure size 640x480 with 1 Axes>",
      "image/png": "[encoded data removed]"
     },
     "metadata": {},
     "output_type": "display_data"
    }
   ],
   "source": [
    "model_loss = pd.DataFrame(model.history.history)\n",
    "\n",
    "model_loss.plot() # early stopping where plot diverges\n"
   ],
   "metadata": {
    "collapsed": false,
    "ExecuteTime": {
     "end_time": "2023-08-25T23:25:28.444584981Z",
     "start_time": "2023-08-25T23:25:28.178476303Z"
    }
   },
   "id": "1c5f99c25d30cca1"
  },
  {
   "cell_type": "code",
   "execution_count": 14,
   "outputs": [
    {
     "name": "stdout",
     "output_type": "stream",
     "text": [
      "297/297 [==============================] - 1s 2ms/step\n"
     ]
    }
   ],
   "source": [
    "predictions = np.argmax(model.predict(X_test), axis=-1) # for multi class classification (using softmax)"
   ],
   "metadata": {
    "collapsed": false,
    "ExecuteTime": {
     "end_time": "2023-08-25T23:25:33.339063783Z",
     "start_time": "2023-08-25T23:25:32.441572325Z"
    }
   },
   "id": "7acb175028b78471"
  },
  {
   "cell_type": "code",
   "execution_count": 15,
   "outputs": [
    {
     "name": "stdout",
     "output_type": "stream",
     "text": [
      "5476\n",
      "9501\n"
     ]
    }
   ],
   "source": [
    "counter = 0\n",
    "for x,y in zip(y_test,predictions):\n",
    "    if x == y:\n",
    "        counter+=1\n",
    "print(counter)\n",
    "print(len(y_test))"
   ],
   "metadata": {
    "collapsed": false,
    "ExecuteTime": {
     "end_time": "2023-08-25T23:25:34.320849677Z",
     "start_time": "2023-08-25T23:25:34.313847011Z"
    }
   },
   "id": "3f9b7c9f76f9c5e7"
  },
  {
   "cell_type": "code",
   "execution_count": 16,
   "outputs": [
    {
     "name": "stdout",
     "output_type": "stream",
     "text": [
      "              precision    recall  f1-score   support\n",
      "\n",
      "           0       0.94      0.43      0.59      1275\n",
      "           1       0.48      1.00      0.65      3656\n",
      "           2       0.99      0.33      0.49      2245\n",
      "           3       0.76      0.37      0.50       714\n",
      "           4       0.99      0.14      0.24       599\n",
      "           5       1.00      0.14      0.25       774\n",
      "           6       1.00      0.32      0.49       238\n",
      "\n",
      "    accuracy                           0.58      9501\n",
      "   macro avg       0.88      0.39      0.46      9501\n",
      "weighted avg       0.77      0.58      0.53      9501\n"
     ]
    }
   ],
   "source": [
    "print(classification_report(y_test, predictions))\n"
   ],
   "metadata": {
    "collapsed": false,
    "ExecuteTime": {
     "end_time": "2023-08-25T23:25:41.112976526Z",
     "start_time": "2023-08-25T23:25:41.042464235Z"
    }
   },
   "id": "d76461011222cc2b"
  },
  {
   "cell_type": "code",
   "execution_count": 17,
   "outputs": [
    {
     "name": "stdout",
     "output_type": "stream",
     "text": [
      "[[ 552  708    3   11    1    0    0]\n",
      " [   1 3648    5    2    0    0    0]\n",
      " [  13 1437  739   56    0    0    0]\n",
      " [   8  438    2  266    0    0    0]\n",
      " [   3  498    0   15   83    0    0]\n",
      " [   0  662    0    1    0  111    0]\n",
      " [   8  152    0    1    0    0   77]]\n"
     ]
    }
   ],
   "source": [
    "print(confusion_matrix(y_test, predictions))\n"
   ],
   "metadata": {
    "collapsed": false,
    "ExecuteTime": {
     "end_time": "2023-08-25T23:25:44.145817378Z",
     "start_time": "2023-08-25T23:25:44.135713329Z"
    }
   },
   "id": "cc6b48c93c72a5ba"
  },
  {
   "cell_type": "code",
   "execution_count": 18,
   "outputs": [
    {
     "name": "stdout",
     "output_type": "stream",
     "text": [
      "INFO:tensorflow:Assets written to: initial_ann_v1_50/assets\n"
     ]
    },
    {
     "name": "stderr",
     "output_type": "stream",
     "text": [
      "INFO:tensorflow:Assets written to: initial_ann_v1_50/assets\n"
     ]
    }
   ],
   "source": [
    "model.save(\"initial_ann_v1_50\")"
   ],
   "metadata": {
    "collapsed": false,
    "ExecuteTime": {
     "end_time": "2023-08-25T23:25:53.549472447Z",
     "start_time": "2023-08-25T23:25:52.867266713Z"
    }
   },
   "id": "7978b3da571c40ac"
  },
  {
   "cell_type": "code",
   "execution_count": null,
   "outputs": [],
   "source": [],
   "metadata": {
    "collapsed": false
   },
   "id": "ef27b067aed5682e"
  }
 ],
 "metadata": {
  "kernelspec": {
   "display_name": "Python 3",
   "language": "python",
   "name": "python3"
  },
  "language_info": {
   "codemirror_mode": {
    "name": "ipython",
    "version": 2
   },
   "file_extension": ".py",
   "mimetype": "text/x-python",
   "name": "python",
   "nbconvert_exporter": "python",
   "pygments_lexer": "ipython2",
   "version": "2.7.6"
  }
 },
 "nbformat": 4,
 "nbformat_minor": 5
}
