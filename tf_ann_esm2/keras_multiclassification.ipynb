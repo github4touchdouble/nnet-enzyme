{
 "cells": [
  {
   "cell_type": "raw",
   "source": [],
   "metadata": {
    "collapsed": false
   },
   "id": "5c8b70c81a1c0dff"
  },
  {
   "cell_type": "code",
   "execution_count": 1,
   "id": "initial_id",
   "metadata": {
    "collapsed": true,
    "ExecuteTime": {
     "end_time": "2023-08-26T11:08:38.747752806Z",
     "start_time": "2023-08-26T11:08:37.109288812Z"
    }
   },
   "outputs": [
    {
     "name": "stderr",
     "output_type": "stream",
     "text": [
      "2023-08-26 13:08:37.357037: I tensorflow/tsl/cuda/cudart_stub.cc:28] Could not find cuda drivers on your machine, GPU will not be used.\n",
      "2023-08-26 13:08:37.395339: I tensorflow/tsl/cuda/cudart_stub.cc:28] Could not find cuda drivers on your machine, GPU will not be used.\n",
      "2023-08-26 13:08:37.396030: I tensorflow/core/platform/cpu_feature_guard.cc:182] This TensorFlow binary is optimized to use available CPU instructions in performance-critical operations.\n",
      "To enable the following instructions: AVX2 FMA, in other operations, rebuild TensorFlow with the appropriate compiler flags.\n",
      "2023-08-26 13:08:38.108005: W tensorflow/compiler/tf2tensorrt/utils/py_utils.cc:38] TF-TRT Warning: Could not find TensorRT\n"
     ]
    }
   ],
   "source": [
    "import pandas as pd\n",
    "import numpy as np\n",
    "import seaborn as sns\n",
    "import matplotlib.pyplot as plt\n",
    "from sklearn.model_selection import train_test_split\n",
    "from sklearn.preprocessing import MinMaxScaler\n",
    "import tensorflow as tf\n",
    "from sklearn.metrics import classification_report, confusion_matrix\n",
    "import h5py\n",
    "\n",
    "import os\n",
    "from dotenv import load_dotenv\n",
    "load_dotenv()\n",
    "\n",
    "from data_manipulation.reading_util import filter_unwanted_seqs"
   ]
  },
  {
   "cell_type": "markdown",
   "source": [
    "# Reading in esm2 embeddings"
   ],
   "metadata": {
    "collapsed": false
   },
   "id": "2ed3ea824b2421fd"
  },
  {
   "cell_type": "code",
   "execution_count": 2,
   "outputs": [],
   "source": [
    "def get_ec_labels(path_to_enzyme_esm2: str, path_to_enzyme_splitX_csv) -> pd.DataFrame:\n",
    "    \"\"\"\n",
    "    Adds a label representing the first main ec class (1-7) based on the ec number\n",
    "    :param path_to_esm2: Absolute path to esm2 file\n",
    "    :param path_to_enzyme_splitX_csv: Absolute path to splitX csv, which is needed for labeling\n",
    "    :return: A dataframe containing the corresponding labels\n",
    "    \"\"\"\n",
    "    with h5py.File(path_to_enzyme_esm2) as hdf_handle:\n",
    "        headers = []\n",
    "        embeddings = []\n",
    "\n",
    "        for header, emb in hdf_handle.items():\n",
    "            headers.append(header)\n",
    "            embeddings.append(np.array(list(emb)))\n",
    "\n",
    "    enzyme_csv = pd.read_csv(path_to_enzyme_splitX_csv, header=0, sep=',')\n",
    "    # TODO: Inorder to apply this line of code, I also have to find the corresponding embeddings and \n",
    "    #  drop these as well...\n",
    "    # enzyme_csv = filter_unwanted_seqs(enzyme_csv, True)\n",
    "    \n",
    "    print(len(embeddings))\n",
    "    print(len(enzyme_csv)) \n",
    "    \n",
    "    labels = {} # dict with → header(id): label (1-7)\n",
    "\n",
    "\n",
    "    for header in headers:\n",
    "        number = enzyme_csv.loc[enzyme_csv[\"Entry\"] == header,\"EC number\"]\n",
    "        ec = int(number.iat[0][0])-1 # since we always start counting from 0\n",
    "        labels[header] = ec\n",
    "    \n",
    "    header_label_tuples = [(header, labels[header]) for header in headers]\n",
    "\n",
    "    # Create a new list of embeddings with labels\n",
    "    embeddings_with_labels = []\n",
    "\n",
    "    for header, emb in zip(headers, embeddings):\n",
    "        label = next((label for h, label in header_label_tuples if h == header), None)\n",
    "        if label is not None:\n",
    "            embeddings_with_labels.append((header, label, emb))\n",
    "    \n",
    "    return embeddings_with_labels\n"
   ],
   "metadata": {
    "collapsed": false,
    "ExecuteTime": {
     "end_time": "2023-08-26T11:08:38.759631222Z",
     "start_time": "2023-08-26T11:08:38.750416388Z"
    }
   },
   "id": "87222de235987228"
  },
  {
   "cell_type": "markdown",
   "source": [
    "### Creating X and y"
   ],
   "metadata": {
    "collapsed": false
   },
   "id": "a30efcb7cd10ee61"
  },
  {
   "cell_type": "code",
   "execution_count": 3,
   "outputs": [
    {
     "name": "stdout",
     "output_type": "stream",
     "text": [
      "73553\n",
      "73553\n"
     ]
    }
   ],
   "source": [
    "enzyme_csv = os.getenv(\"CSV70_ENZYMES\")\n",
    "esm2_enzymes = os.getenv(\"ESM2_ENZYMES_SPLIT_70\")\n",
    "\n",
    "labels = get_ec_labels(path_to_enzyme_esm2=esm2_enzymes, path_to_enzyme_splitX_csv=enzyme_csv)\n",
    "\n",
    "X = []\n",
    "y = []\n",
    "for entry in labels:\n",
    "    y.append(entry[1]) # append label (1-7)\n",
    "    X.append(entry[2]) # append embedding"
   ],
   "metadata": {
    "collapsed": false,
    "ExecuteTime": {
     "end_time": "2023-08-26T11:22:05.520878645Z",
     "start_time": "2023-08-26T11:08:40.426165131Z"
    }
   },
   "id": "4366349293d7ab02"
  },
  {
   "cell_type": "code",
   "execution_count": 4,
   "outputs": [
    {
     "name": "stdout",
     "output_type": "stream",
     "text": [
      "73553\n",
      "73553\n"
     ]
    },
    {
     "data": {
      "text/plain": "<Figure size 1000x600 with 1 Axes>",
      "image/png": "[encoded data removed]"
     },
     "metadata": {},
     "output_type": "display_data"
    }
   ],
   "source": [
    "\n",
    "print(len(X))\n",
    "print(len(y))\n",
    "\n",
    "sns.set(style=\"whitegrid\")\n",
    "plt.figure(figsize=(10, 6))  # Adjust the figure size if needed\n",
    "sns.countplot(x=y, palette=\"Set3\")\n",
    "\n",
    "# Add labels and title\n",
    "plt.xlabel(\"Values\")\n",
    "plt.ylabel(\"Count\")\n",
    "plt.title(\"Count Plot of Values\")\n",
    "\n",
    "# Show the plot\n",
    "plt.show()"
   ],
   "metadata": {
    "collapsed": false,
    "ExecuteTime": {
     "end_time": "2023-08-26T11:22:05.801263989Z",
     "start_time": "2023-08-26T11:22:05.561424715Z"
    }
   },
   "id": "59e0b9651c977209"
  },
  {
   "cell_type": "code",
   "execution_count": 5,
   "outputs": [
    {
     "name": "stdout",
     "output_type": "stream",
     "text": [
      "   label  feature_1  feature_2  feature_3  feature_4  feature_5  feature_6  \\\n",
      "0      2  -0.062921  -0.092207  -0.001200   0.014007   0.005149   0.053362   \n",
      "1      0  -0.053399   0.026311   0.068040  -0.047504  -0.056120   0.021154   \n",
      "2      2  -0.015143   0.035552  -0.022313   0.002838  -0.011048  -0.017585   \n",
      "3      2  -0.061284   0.034236  -0.034158  -0.106900  -0.030302  -0.071545   \n",
      "4      0   0.059097  -0.034141   0.061427   0.006349  -0.058036  -0.020592   \n",
      "\n",
      "   feature_7  feature_8  feature_9  ...  feature_2551  feature_2552  \\\n",
      "0  -0.016877   0.105275  -0.002420  ...      0.026946     -0.044988   \n",
      "1  -0.073030   0.139663   0.022752  ...      0.032434     -0.056128   \n",
      "2  -0.095678   0.095675   0.048721  ...     -0.021529     -0.027920   \n",
      "3  -0.067266   0.009058   0.049455  ...      0.084735     -0.049660   \n",
      "4  -0.064093   0.100111   0.019740  ...      0.089701     -0.076780   \n",
      "\n",
      "   feature_2553  feature_2554  feature_2555  feature_2556  feature_2557  \\\n",
      "0      0.028635      0.025759      0.094223     -0.029873      0.003109   \n",
      "1     -0.047019      0.024053      0.067560     -0.022392      0.027965   \n",
      "2      0.065247      0.010216      0.064240     -0.067119      0.018192   \n",
      "3      0.040771     -0.064571     -0.045013      0.050671      0.003936   \n",
      "4      0.038910     -0.059698     -0.013506     -0.027210     -0.037030   \n",
      "\n",
      "   feature_2558  feature_2559  feature_2560  \n",
      "0      0.032942     -0.110164      0.010631  \n",
      "1     -0.034062     -0.189534     -0.078122  \n",
      "2      0.000636     -0.076873     -0.000646  \n",
      "3      0.014500     -0.034229     -0.056875  \n",
      "4      0.033203     -0.074784     -0.062287  \n",
      "\n",
      "[5 rows x 2561 columns]\n"
     ]
    }
   ],
   "source": [
    "# Create a DataFrame\n",
    "df = pd.DataFrame({\"feature1\":X, \"label\":y})\n",
    "\n",
    "\n",
    "# Convert the lists in 'feature1' into separate columns using pd.DataFrame constructor\n",
    "feature_columns = pd.DataFrame(df[\"feature1\"].tolist(), columns=[f\"feature_{i+1}\" for i in range(2560)])\n",
    "\n",
    "# Concatenate the feature columns with the original DataFrame\n",
    "df = pd.concat([df.drop(\"feature1\", axis=1), feature_columns], axis=1)\n",
    "\n",
    "# Display the resulting DataFrame\n",
    "print(df.head())\n"
   ],
   "metadata": {
    "collapsed": false,
    "ExecuteTime": {
     "end_time": "2023-08-26T11:23:34.204249842Z",
     "start_time": "2023-08-26T11:22:05.805809444Z"
    }
   },
   "id": "1b9b83fd092dcb4b"
  },
  {
   "cell_type": "code",
   "execution_count": 11,
   "outputs": [],
   "source": [
    "\n",
    "X = df.drop('label', axis=1).values\n",
    "y = df['label'].values\n",
    "\n"
   ],
   "metadata": {
    "collapsed": false,
    "ExecuteTime": {
     "end_time": "2023-08-26T11:23:50.799789438Z",
     "start_time": "2023-08-26T11:23:50.775561917Z"
    }
   },
   "id": "1bd73830f7992c7e"
  },
  {
   "cell_type": "code",
   "execution_count": 12,
   "outputs": [],
   "source": [
    "X_train, X_test, y_train, y_test = train_test_split(X, y, test_size=0.30, random_state=42)\n",
    "y_train_encoded = tf.keras.utils.to_categorical(y_train, num_classes=7)\n",
    "y_test_encoded = tf.keras.utils.to_categorical(y_test, num_classes=7)\n"
   ],
   "metadata": {
    "collapsed": false,
    "ExecuteTime": {
     "end_time": "2023-08-26T11:23:53.285635825Z",
     "start_time": "2023-08-26T11:23:51.471157132Z"
    }
   },
   "id": "6c00a531b1e8e53"
  },
  {
   "cell_type": "code",
   "execution_count": 13,
   "outputs": [],
   "source": [
    "scaler = MinMaxScaler()\n",
    "scaler.fit(X_train)\n",
    "x_train = scaler.transform(X_train)\n",
    "\n",
    "X_test = scaler.transform(X_test)\n"
   ],
   "metadata": {
    "collapsed": false,
    "ExecuteTime": {
     "end_time": "2023-08-26T11:23:55.260884714Z",
     "start_time": "2023-08-26T11:23:54.306812906Z"
    }
   },
   "id": "63284fa5d9eed896"
  },
  {
   "cell_type": "code",
   "execution_count": 47,
   "outputs": [
    {
     "data": {
      "text/plain": "2560"
     },
     "execution_count": 47,
     "metadata": {},
     "output_type": "execute_result"
    }
   ],
   "source": [
    "len(X_train[0])"
   ],
   "metadata": {
    "collapsed": false,
    "ExecuteTime": {
     "end_time": "2023-08-26T12:06:00.071955058Z",
     "start_time": "2023-08-26T12:05:59.995802554Z"
    }
   },
   "id": "7b1707564af442b"
  },
  {
   "cell_type": "code",
   "execution_count": 65,
   "outputs": [],
   "source": [
    "earl_stop = tf.keras.callbacks.EarlyStopping(monitor='val_loss', mode='auto', patience=50)"
   ],
   "metadata": {
    "collapsed": false,
    "ExecuteTime": {
     "end_time": "2023-08-26T12:29:01.456549912Z",
     "start_time": "2023-08-26T12:29:01.411082310Z"
    }
   },
   "id": "be41b3cd3c9d305b"
  },
  {
   "cell_type": "code",
   "execution_count": 66,
   "outputs": [],
   "source": [
    "model = tf.keras.models.Sequential()\n",
    "model.add(tf.keras.layers.Dense(units=256, activation='relu', input_shape=(2560,)))\n",
    "model.add(tf.keras.layers.Dropout(0.5))  # Adding dropout for regularization\n",
    "model.add(tf.keras.layers.Dense(units=128, activation='relu'))\n",
    "model.add(tf.keras.layers.Dropout(0.5))  # Adding dropout for regularization\n",
    "model.add(tf.keras.layers.Dense(units=64, activation='relu'))\n",
    "model.add(tf.keras.layers.Dense(units=7, activation='softmax'))  # Using softmax for multi-class classification\n",
    "# model.add(\n",
    "#     tf.keras.layers.Dense(units=2560, activation=\"relu\", input_shape=(2560,))\n",
    "# )\n",
    "# \n",
    "# model.add(\n",
    "#     tf.keras.layers.Dense(units=15, activation=\"relu\")\n",
    "# )\n",
    "# \n",
    "# model.add(\n",
    "#     tf.keras.layers.Dense(units=7, activation='softmax') # da classification\n",
    "# )\n",
    "\n",
    "model.compile(loss='categorical_crossentropy', optimizer='adam')\n"
   ],
   "metadata": {
    "collapsed": false,
    "ExecuteTime": {
     "end_time": "2023-08-26T12:29:02.305332543Z",
     "start_time": "2023-08-26T12:29:02.259406853Z"
    }
   },
   "id": "c644e0105d723029"
  },
  {
   "cell_type": "code",
   "execution_count": 58,
   "outputs": [
    {
     "name": "stdout",
     "output_type": "stream",
     "text": [
      "Epoch 1/100\n",
      "1609/1609 [==============================] - 18s 11ms/step - loss: 0.7462 - val_loss: 3.3554\n",
      "Epoch 2/100\n",
      "1609/1609 [==============================] - 17s 11ms/step - loss: 0.3430 - val_loss: 3.3158\n",
      "Epoch 3/100\n",
      "1609/1609 [==============================] - 17s 11ms/step - loss: 0.2690 - val_loss: 3.3479\n",
      "Epoch 4/100\n",
      "1609/1609 [==============================] - 17s 10ms/step - loss: 0.2352 - val_loss: 4.0334\n",
      "Epoch 5/100\n",
      "1609/1609 [==============================] - 17s 10ms/step - loss: 0.2002 - val_loss: 4.8536\n",
      "Epoch 6/100\n",
      "1609/1609 [==============================] - 17s 10ms/step - loss: 0.1883 - val_loss: 5.8342\n",
      "Epoch 7/100\n",
      "1609/1609 [==============================] - 17s 10ms/step - loss: 0.1719 - val_loss: 6.2078\n",
      "Epoch 8/100\n",
      "1609/1609 [==============================] - 17s 11ms/step - loss: 0.1664 - val_loss: 3.0654\n",
      "Epoch 9/100\n",
      "1609/1609 [==============================] - 17s 10ms/step - loss: 0.1493 - val_loss: 2.3943\n",
      "Epoch 10/100\n",
      "1609/1609 [==============================] - 17s 10ms/step - loss: 0.1445 - val_loss: 2.6284\n",
      "Epoch 11/100\n",
      "1609/1609 [==============================] - 17s 10ms/step - loss: 0.1394 - val_loss: 3.8668\n",
      "Epoch 12/100\n",
      "1609/1609 [==============================] - 17s 10ms/step - loss: 0.1287 - val_loss: 4.8661\n",
      "Epoch 13/100\n",
      "1609/1609 [==============================] - 17s 10ms/step - loss: 0.1283 - val_loss: 6.9987\n",
      "Epoch 14/100\n",
      "1609/1609 [==============================] - 17s 10ms/step - loss: 0.1195 - val_loss: 7.5708\n",
      "Epoch 15/100\n",
      "1609/1609 [==============================] - 17s 10ms/step - loss: 0.1189 - val_loss: 5.1387\n",
      "Epoch 16/100\n",
      "1609/1609 [==============================] - 17s 10ms/step - loss: 0.1155 - val_loss: 4.7808\n",
      "Epoch 17/100\n",
      "1609/1609 [==============================] - 17s 10ms/step - loss: 0.1133 - val_loss: 6.5910\n",
      "Epoch 18/100\n",
      "1609/1609 [==============================] - 17s 10ms/step - loss: 0.1081 - val_loss: 5.2528\n",
      "Epoch 19/100\n",
      "1609/1609 [==============================] - 17s 10ms/step - loss: 0.1020 - val_loss: 5.5688\n",
      "Epoch 20/100\n",
      "1609/1609 [==============================] - 17s 10ms/step - loss: 0.1012 - val_loss: 5.2509\n",
      "Epoch 21/100\n",
      "1609/1609 [==============================] - 17s 10ms/step - loss: 0.0939 - val_loss: 6.3825\n",
      "Epoch 22/100\n",
      "1609/1609 [==============================] - 16s 10ms/step - loss: 0.0967 - val_loss: 5.5770\n",
      "Epoch 23/100\n",
      "1609/1609 [==============================] - 17s 10ms/step - loss: 0.0956 - val_loss: 5.9466\n",
      "Epoch 24/100\n",
      "1609/1609 [==============================] - 17s 10ms/step - loss: 0.0889 - val_loss: 4.8934\n",
      "Epoch 25/100\n",
      "1609/1609 [==============================] - 17s 10ms/step - loss: 0.0917 - val_loss: 6.9456\n",
      "Epoch 26/100\n",
      "1609/1609 [==============================] - 16s 10ms/step - loss: 0.0886 - val_loss: 5.1621\n",
      "Epoch 27/100\n",
      "1609/1609 [==============================] - 16s 10ms/step - loss: 0.0883 - val_loss: 6.1266\n",
      "Epoch 28/100\n",
      "1609/1609 [==============================] - 16s 10ms/step - loss: 0.0836 - val_loss: 5.0523\n",
      "Epoch 29/100\n",
      "1609/1609 [==============================] - 16s 10ms/step - loss: 0.0848 - val_loss: 4.6203\n",
      "Epoch 30/100\n",
      "1609/1609 [==============================] - 17s 10ms/step - loss: 0.0830 - val_loss: 7.4663\n",
      "Epoch 31/100\n",
      "1609/1609 [==============================] - 17s 11ms/step - loss: 0.0812 - val_loss: 5.8747\n",
      "Epoch 32/100\n",
      "1609/1609 [==============================] - 16s 10ms/step - loss: 0.0768 - val_loss: 6.3030\n",
      "Epoch 33/100\n",
      "1609/1609 [==============================] - 17s 10ms/step - loss: 0.0753 - val_loss: 9.1393\n",
      "Epoch 34/100\n",
      "1609/1609 [==============================] - 16s 10ms/step - loss: 0.0786 - val_loss: 7.0296\n",
      "Epoch 35/100\n",
      "1609/1609 [==============================] - 16s 10ms/step - loss: 0.0757 - val_loss: 6.4569\n",
      "Epoch 36/100\n",
      "1609/1609 [==============================] - 16s 10ms/step - loss: 0.0742 - val_loss: 4.8176\n",
      "Epoch 37/100\n",
      "1609/1609 [==============================] - 16s 10ms/step - loss: 0.0728 - val_loss: 4.4858\n",
      "Epoch 38/100\n",
      "1609/1609 [==============================] - 16s 10ms/step - loss: 0.0715 - val_loss: 5.0525\n",
      "Epoch 39/100\n",
      "1609/1609 [==============================] - 16s 10ms/step - loss: 0.0700 - val_loss: 2.5104\n"
     ]
    },
    {
     "data": {
      "text/plain": "<keras.src.callbacks.History at 0x7f2ef4309210>"
     },
     "execution_count": 58,
     "metadata": {},
     "output_type": "execute_result"
    }
   ],
   "source": [
    "model.fit(x=X_train, y=y_train_encoded, epochs=100, validation_data=(X_test, y_test_encoded), callbacks = [earl_stop])"
   ],
   "metadata": {
    "collapsed": false,
    "ExecuteTime": {
     "end_time": "2023-08-26T12:28:14.291729343Z",
     "start_time": "2023-08-26T12:17:23.785838197Z"
    }
   },
   "id": "639c9edb9762c409"
  },
  {
   "cell_type": "code",
   "execution_count": 59,
   "outputs": [
    {
     "data": {
      "text/plain": "<Axes: >"
     },
     "execution_count": 59,
     "metadata": {},
     "output_type": "execute_result"
    },
    {
     "data": {
      "text/plain": "<Figure size 640x480 with 1 Axes>",
      "image/png": "[encoded data removed]"
     },
     "metadata": {},
     "output_type": "display_data"
    }
   ],
   "source": [
    "model_loss = pd.DataFrame(model.history.history)\n",
    "\n",
    "model_loss.plot() # early stopping where plot diverges\n"
   ],
   "metadata": {
    "collapsed": false,
    "ExecuteTime": {
     "end_time": "2023-08-26T12:28:22.651171296Z",
     "start_time": "2023-08-26T12:28:22.416534778Z"
    }
   },
   "id": "1c5f99c25d30cca1"
  },
  {
   "cell_type": "code",
   "execution_count": 60,
   "outputs": [
    {
     "name": "stdout",
     "output_type": "stream",
     "text": [
      "690/690 [==============================] - 2s 2ms/step\n"
     ]
    }
   ],
   "source": [
    "predictions = np.argmax(model.predict(X_test), axis=-1) # for multi class classification (using softmax)"
   ],
   "metadata": {
    "collapsed": false,
    "ExecuteTime": {
     "end_time": "2023-08-26T12:28:28.895805185Z",
     "start_time": "2023-08-26T12:28:26.855649413Z"
    }
   },
   "id": "7acb175028b78471"
  },
  {
   "cell_type": "code",
   "execution_count": 61,
   "outputs": [
    {
     "name": "stdout",
     "output_type": "stream",
     "text": [
      "19421\n",
      "22066\n"
     ]
    }
   ],
   "source": [
    "counter = 0\n",
    "for x,y in zip(y_test,predictions):\n",
    "    if x == y:\n",
    "        counter+=1\n",
    "print(counter)\n",
    "print(len(y_test))"
   ],
   "metadata": {
    "collapsed": false,
    "ExecuteTime": {
     "end_time": "2023-08-26T12:28:29.327569969Z",
     "start_time": "2023-08-26T12:28:29.311698126Z"
    }
   },
   "id": "3f9b7c9f76f9c5e7"
  },
  {
   "cell_type": "code",
   "execution_count": 76,
   "outputs": [
    {
     "name": "stdout",
     "output_type": "stream",
     "text": [
      "Accuracy for class 1: 0.83\n",
      "Precision for class 1: 0.99\n",
      "Recall for class 1: 0.9\n",
      "F1-score for class 1: 8548.0\n",
      "Accuracy for class 2: 0.83\n",
      "Precision for class 2: 0.99\n",
      "Recall for class 2: 0.9\n",
      "F1-score for class 2: 8548.0\n",
      "Accuracy for class 3: 0.83\n",
      "Precision for class 3: 0.99\n",
      "Recall for class 3: 0.9\n",
      "F1-score for class 3: 8548.0\n",
      "Accuracy for class 4: 0.83\n",
      "Precision for class 4: 0.99\n",
      "Recall for class 4: 0.9\n",
      "F1-score for class 4: 8548.0\n",
      "Accuracy for class 5: 0.83\n",
      "Precision for class 5: 0.99\n",
      "Recall for class 5: 0.9\n",
      "F1-score for class 5: 8548.0\n",
      "Accuracy for class 6: 0.83\n",
      "Precision for class 6: 0.99\n",
      "Recall for class 6: 0.9\n",
      "F1-score for class 6: 8548.0\n",
      "Accuracy for class 7: 0.83\n",
      "Precision for class 7: 0.99\n",
      "Recall for class 7: 0.9\n",
      "F1-score for class 7: 8548.0\n",
      "              precision    recall  f1-score   support\n",
      "\n",
      "           0       0.97      0.83      0.89      2689\n",
      "           1       0.83      0.99      0.90      8548\n",
      "           2       0.95      0.86      0.90      4467\n",
      "           3       0.93      0.72      0.81      1961\n",
      "           4       0.99      0.37      0.54      1390\n",
      "           5       0.84      0.99      0.91      2457\n",
      "           6       0.95      0.96      0.96       554\n",
      "\n",
      "    accuracy                           0.88     22066\n",
      "   macro avg       0.92      0.82      0.84     22066\n",
      "weighted avg       0.89      0.88      0.87     22066\n"
     ]
    }
   ],
   "source": [
    "report = classification_report(y_test, predictions)\n",
    "\n",
    "class_0_metrics = report.split('\\n')[3].split()[1:]\n",
    "class_1_metrics = report.split('\\n')[4].split()[1:]\n",
    "class_2_metrics = report.split('\\n')[5].split()[1:]\n",
    "class_3_metrics = report.split('\\n')[6].split()[1:]\n",
    "class_4_metrics = report.split('\\n')[7].split()[1:]\n",
    "class_5_metrics = report.split('\\n')[8].split()[1:]\n",
    "class_6_metrics = report.split('\\n')[9].split()[1:]\n",
    "\n",
    "metrics = [class_0_metrics,\n",
    "           class_1_metrics,\n",
    "           class_2_metrics,\n",
    "           class_3_metrics,\n",
    "           class_4_metrics,\n",
    "           class_5_metrics,\n",
    "           class_6_metrics\n",
    "           ]\n",
    "i = 1\n",
    "for class_m in metrics:\n",
    "    accuracy = float(class_0_metrics[0])\n",
    "    precision = float(class_0_metrics[1])\n",
    "    recall = float(class_0_metrics[2])\n",
    "    f1_score = float(class_0_metrics[3])\n",
    "    print(f\"Accuracy for class {i}: {accuracy}\")\n",
    "    print(f\"Precision for class {i}: {precision}\")\n",
    "    print(f\"Recall for class {i}: {recall}\")\n",
    "    print(f\"F1-score for class {i}: {f1_score}\")\n",
    "    i+=1\n",
    "print(report)"
   ],
   "metadata": {
    "collapsed": false,
    "ExecuteTime": {
     "end_time": "2023-08-26T12:52:57.345202908Z",
     "start_time": "2023-08-26T12:52:57.272351424Z"
    }
   },
   "id": "d76461011222cc2b"
  },
  {
   "cell_type": "code",
   "execution_count": 63,
   "outputs": [
    {
     "name": "stdout",
     "output_type": "stream",
     "text": [
      "[[2222  288   46   25    0   82   26]\n",
      " [   4 8467   26    5    1   45    0]\n",
      " [  17  548 3838    9    2   53    0]\n",
      " [  25  299   70 1418    0  149    0]\n",
      " [  29  618   48   63  512  120    0]\n",
      " [   0   17    7    0    0 2433    0]\n",
      " [   3   19    0    0    0    1  531]]\n"
     ]
    }
   ],
   "source": [
    "print(confusion_matrix(y_test, predictions))\n"
   ],
   "metadata": {
    "collapsed": false,
    "ExecuteTime": {
     "end_time": "2023-08-26T12:28:35.235194492Z",
     "start_time": "2023-08-26T12:28:35.218941096Z"
    }
   },
   "id": "cc6b48c93c72a5ba"
  },
  {
   "cell_type": "code",
   "execution_count": 64,
   "outputs": [
    {
     "name": "stdout",
     "output_type": "stream",
     "text": [
      "INFO:tensorflow:Assets written to: initial_ann_v2_70_acc88/assets\n"
     ]
    },
    {
     "name": "stderr",
     "output_type": "stream",
     "text": [
      "INFO:tensorflow:Assets written to: initial_ann_v2_70_acc88/assets\n"
     ]
    }
   ],
   "source": [
    "model.save(\"initial_ann_v2_70_acc88\")"
   ],
   "metadata": {
    "collapsed": false,
    "ExecuteTime": {
     "end_time": "2023-08-26T12:28:44.960514197Z",
     "start_time": "2023-08-26T12:28:44.486248736Z"
    }
   },
   "id": "7978b3da571c40ac"
  },
  {
   "cell_type": "code",
   "execution_count": null,
   "outputs": [],
   "source": [],
   "metadata": {
    "collapsed": false
   },
   "id": "ef27b067aed5682e"
  }
 ],
 "metadata": {
  "kernelspec": {
   "display_name": "Python 3",
   "language": "python",
   "name": "python3"
  },
  "language_info": {
   "codemirror_mode": {
    "name": "ipython",
    "version": 2
   },
   "file_extension": ".py",
   "mimetype": "text/x-python",
   "name": "python",
   "nbconvert_exporter": "python",
   "pygments_lexer": "ipython2",
   "version": "2.7.6"
  }
 },
 "nbformat": 4,
 "nbformat_minor": 5
}
