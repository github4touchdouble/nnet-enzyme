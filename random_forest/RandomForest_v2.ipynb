{
 "cells": [
  {
   "cell_type": "markdown",
   "metadata": {},
   "source": [
    "Thanh Truc Bui"
   ]
  },
  {
   "cell_type": "code",
   "execution_count": 1,
   "metadata": {},
   "outputs": [
    {
     "name": "stderr",
     "output_type": "stream",
     "text": [
      "Python-dotenv could not parse statement starting at line 8\n"
     ]
    }
   ],
   "source": [
    "import os\n",
    "from dotenv import load_dotenv\n",
    "import pandas as pd\n",
    "import numpy as np\n",
    "import pydot\n",
    "import h5py\n",
    "import math\n",
    "from sklearn.model_selection import train_test_split\n",
    "from sklearn.ensemble import RandomForestClassifier\n",
    "from sklearn.decomposition import PCA\n",
    "from sklearn.tree import export_graphviz\n",
    "from sklearn.metrics import matthews_corrcoef, f1_score, confusion_matrix, ConfusionMatrixDisplay\n",
    "import matplotlib.pyplot as plt\n",
    "from sklearn.metrics import roc_curve, roc_auc_score, auc\n",
    "\n",
    "load_dotenv() # load environment variables\n",
    "\n",
    "abs_path_to_split30_fasta = os.getenv(\"FASTA_ENZYMES\",\"not found\")\n",
    "abs_path_to_non_enzyme_fasta = os.getenv(\"FASTA_NON_ENZYMES\",\"not found\")\n",
    "path_to_split100_fasta=\"/home/trucbui/PycharmProjects/PBL2324/venv/Dataset/rostlab.org_public_senoner_pbl_2023_split100.fasta.txt\"\n"
   ]
  },
  {
   "cell_type": "markdown",
   "metadata": {},
   "source": [
    "<font size=\"5\">Read the protein mass table</font>"
   ]
  },
  {
   "cell_type": "code",
   "execution_count": null,
   "metadata": {},
   "outputs": [],
   "source": [
    "\n",
    "def read_mass_csv(path):  \n",
    "    masses={}\n",
    "    with open(path, \"r\") as file:\n",
    "        for line in file:\n",
    "            info = line.split(\"\\t\")\n",
    "            char = info[0]\n",
    "            mass = info[1]\n",
    "            masses[char] = mass\n",
    "    return masses\n",
    "\n",
    "protein_masses=read_mass_csv(r'/home/trucbui/PBLGit/random_forest/mass.tsv')\n",
    "\n",
    "def cal_mass(seq):\n",
    "    mass = 0.0\n",
    "    for char in seq:\n",
    "        if char in protein_masses.keys():\n",
    "            mass += float(protein_masses[char])\n",
    "    mass = round(mass, 3)\n",
    "    return mass\n"
   ]
  },
  {
   "cell_type": "markdown",
   "metadata": {},
   "source": [
    "<font size=\"5\">Create a protein class</font>"
   ]
  },
  {
   "cell_type": "code",
   "execution_count": null,
   "metadata": {},
   "outputs": [],
   "source": [
    "\n",
    "class Protein:\n",
    "    def __init__(self, header, seq, is_enzyme):\n",
    "        self.header = header\n",
    "        self.seq=seq\n",
    "        self.mass=cal_mass(seq)\n",
    "        self.is_enzyme=is_enzyme\n",
    "        self.embeddings=None\n",
    "        self.emb_median=0.0\n",
    "        self.emb_std=0.0\n",
    "        self.emb_magnitude=0.0\n",
    "        self.last_aa=seq[-1:]\n",
    "        \n",
    "        \n"
   ]
  },
  {
   "cell_type": "markdown",
   "metadata": {},
   "source": [
    "<font size=\"5\">Read data from fasta file</font>"
   ]
  },
  {
   "cell_type": "code",
   "execution_count": null,
   "metadata": {},
   "outputs": [],
   "source": [
    "\n",
    "def readfasta(fasta:str, is_enzyme:bool) -> dict: \n",
    "    seq_map=dict()\n",
    "    enzyme=0\n",
    "    if is_enzyme==True:\n",
    "        enzyme=1\n",
    "    with open(fasta, \"r\") as path:\n",
    "        seq = \"\"\n",
    "        header = path.readline().rstrip()[1:]\n",
    "        for line in path.readlines():\n",
    "            if line.startswith(\">\"):\n",
    "                seq_map[header]=Protein(header,seq,enzyme)\n",
    "                seq = \"\"\n",
    "                header = line.rstrip()[1:]\n",
    "            else:\n",
    "                seq += line.rstrip()\n",
    "        seq_map[header]=Protein(header,seq,enzyme)\n",
    "    return seq_map\n",
    "\n",
    "enzymes_map=readfasta(abs_path_to_split30_fasta,True)\n",
    "non_enzymes_map=readfasta(abs_path_to_non_enzyme_fasta,False)\n",
    "enzymes_split100_map=readfasta(path_to_split100_fasta,True)\n"
   ]
  },
  {
   "cell_type": "markdown",
   "metadata": {},
   "source": [
    "<font size=\"5\">Read data from esm2 embeddings</font>"
   ]
  },
  {
   "cell_type": "code",
   "execution_count": null,
   "metadata": {},
   "outputs": [],
   "source": [
    "def magnitude(vector):\n",
    "    return math.sqrt(sum(pow(element, 2) for element in vector))"
   ]
  },
  {
   "cell_type": "code",
   "execution_count": null,
   "metadata": {},
   "outputs": [],
   "source": [
    "def PCA_for_emb(emb:list) -> float:   #Reducing the embedding vector to only one number\n",
    "    pca = PCA(n_components=1)\n",
    "    emb_pca = pca.fit_transform(emb)\n",
    "    return emb_pca"
   ]
  },
  {
   "cell_type": "code",
   "execution_count": null,
   "metadata": {},
   "outputs": [],
   "source": [
    "\n",
    "def read_esm2(path_to_esm2:str,seq_map:dict) -> dict: \n",
    "    protein_map=seq_map\n",
    "    with h5py.File(path_to_esm2) as hdf_handle:\n",
    "        for header, emb in hdf_handle.items():\n",
    "            if header in seq_map.keys():\n",
    "                protein_map[header].embeddings = a = np.array(list(emb))\n",
    "                protein_map[header].emb_median=np.median(a)                \n",
    "                protein_map[header].emb_std=np.std(a)\n",
    "                protein_map[header].emb_magnitude=magnitude(a)\n",
    "\n",
    "    return protein_map\n",
    "\n",
    "\n",
    "enzymes_map = read_esm2(os.getenv(\"ESM2_ENZYMES_SPLIT_30\"),enzymes_map)\n",
    "non_enzymes_map = read_esm2(os.getenv(\"ESM2_NON_ENZYMES\"),non_enzymes_map)\n"
   ]
  },
  {
   "cell_type": "code",
   "execution_count": null,
   "metadata": {},
   "outputs": [],
   "source": [
    "enzymes_split100_map = read_esm2(\"/home/trucbui/PycharmProjects/PBL2324/venv/Dataset/split100_esm2_3b.h5\",enzymes_split100_map)\n"
   ]
  },
  {
   "cell_type": "markdown",
   "metadata": {},
   "source": [
    "<font size=\"5\">Find out the most common last amino acid of the enzymes and non-enzymes set</font>"
   ]
  },
  {
   "cell_type": "code",
   "execution_count": null,
   "metadata": {},
   "outputs": [],
   "source": [
    "def most_common_last_aa(seq_map:dict):\n",
    "    last_aa_list=dict()\n",
    "    for header in seq_map.keys():\n",
    "        last=seq_map[header].last_aa\n",
    "        if not last in last_aa_list:\n",
    "            last_aa_list[last] = 0\n",
    "        last_aa_list[last]+=1\n",
    "    common_aa=[]\n",
    "    for aa in last_aa_list.keys():\n",
    "        if not aa==\"X\":\n",
    "            if (last_aa_list[aa]/len(seq_map))>0.09:\n",
    "                common_aa.append(aa)\n",
    "                print (last_aa_list[aa]/len(seq_map))\n",
    "    return common_aa\n",
    "\n",
    "enzymes_common_last_aa=most_common_last_aa(enzymes_map)\n",
    "print(enzymes_common_last_aa)\n",
    "non_enzymes_common_last_aa=most_common_last_aa(non_enzymes_map)\n",
    "print(non_enzymes_common_last_aa)\n"
   ]
  },
  {
   "cell_type": "markdown",
   "metadata": {},
   "source": [
    "The most common last amino acids are not significant and thus will be ignored"
   ]
  },
  {
   "cell_type": "markdown",
   "metadata": {},
   "source": [
    "<font size=\"5\">Looking for some kmers<font>"
   ]
  },
  {
   "cell_type": "code",
   "execution_count": null,
   "metadata": {},
   "outputs": [],
   "source": [
    "def kmers_map(proteins:dict(),k:int):\n",
    "    seqs=dict()\n",
    "    for protein in proteins.keys():\n",
    "        seq=proteins[protein].seq\n",
    "        for i in range(len(seq)-k+1):\n",
    "            kmer=seq[i:i+k]\n",
    "            if not kmer in seqs.keys():\n",
    "                seqs[kmer]=1\n",
    "            else:\n",
    "                seqs[kmer]+=1\n",
    "    seqs=dict(sorted(seqs.items(), key=lambda item: item[1],reverse=True))\n",
    "    return seqs\n",
    "\n",
    "kmers_map(enzymes_map,20)\n"
   ]
  },
  {
   "cell_type": "code",
   "execution_count": null,
   "metadata": {},
   "outputs": [],
   "source": [
    "kmers_map(non_enzymes_map,20)\n",
    "\n"
   ]
  },
  {
   "cell_type": "markdown",
   "metadata": {},
   "source": [
    "<font size=\"5\">Create a dataframe<font>"
   ]
  },
  {
   "cell_type": "code",
   "execution_count": null,
   "metadata": {},
   "outputs": [],
   "source": [
    "def making_df(seq_map:dict)-> pd.DataFrame(): \n",
    "    headers=[]\n",
    "    mass=[]\n",
    "    labels=[]\n",
    "    embs=[]\n",
    "    emb_median_all=[]\n",
    "    emb_std_all=[]\n",
    "    emb_magnitude_all=[]\n",
    "    \n",
    "    \n",
    "    for header in seq_map:\n",
    "        headers.append(header)\n",
    "        entry=seq_map[header]\n",
    "        labels.append(entry.is_enzyme)\n",
    "        mass.append(entry.mass)\n",
    "        embs.append(entry.embeddings)\n",
    "        emb_median_all.append(entry.emb_median)     \n",
    "        emb_std_all.append(entry.emb_std)\n",
    "        emb_magnitude_all.append(entry.emb_magnitude)\n",
    "        \n",
    "    emb_pca_all=PCA_for_emb(np.array(embs)).flatten()\n",
    "\n",
    "    return pd.DataFrame(data={'Label':labels ,'Entry':headers,'Mass':mass, 'Emb median': emb_median_all, \n",
    "    'Emb std': emb_std_all, 'Emb magnitude': emb_magnitude_all, 'Emb PCA': emb_pca_all})\n",
    "\n",
    "enzymes_df=making_df(enzymes_map)\n",
    "enzymes_df=enzymes_df.sort_values(['Entry'],ascending=[True])\n",
    "\n",
    "non_enzymes_df=making_df(non_enzymes_map)\n",
    "non_enzymes_df=non_enzymes_df.sort_values(['Entry'],ascending=[True])\n",
    "\n",
    "df=pd.concat([enzymes_df,non_enzymes_df],axis=0)\n",
    "df=df.reset_index(drop=True)\n",
    "print(df)\n"
   ]
  },
  {
   "cell_type": "code",
   "execution_count": null,
   "metadata": {},
   "outputs": [],
   "source": [
    "split100_enzymes_df=making_df(enzymes_split100_map)\n",
    "split100_enzymes_df=split100_enzymes_df.sort_values(['Entry'],ascending=[True])\n",
    "split100_enzymes_df.to_csv(r'/home/trucbui/PBLGit/random_forest/dataframe_split100')  "
   ]
  },
  {
   "cell_type": "code",
   "execution_count": null,
   "metadata": {},
   "outputs": [],
   "source": [
    "split100_enzymes_df"
   ]
  },
  {
   "cell_type": "markdown",
   "metadata": {},
   "source": [
    "<font size=\"5\">Train the model</font>"
   ]
  },
  {
   "cell_type": "code",
   "execution_count": 2,
   "metadata": {},
   "outputs": [
    {
     "data": {
      "text/html": [
       "<div>\n",
       "<style scoped>\n",
       "    .dataframe tbody tr th:only-of-type {\n",
       "        vertical-align: middle;\n",
       "    }\n",
       "\n",
       "    .dataframe tbody tr th {\n",
       "        vertical-align: top;\n",
       "    }\n",
       "\n",
       "    .dataframe thead th {\n",
       "        text-align: right;\n",
       "    }\n",
       "</style>\n",
       "<table border=\"1\" class=\"dataframe\">\n",
       "  <thead>\n",
       "    <tr style=\"text-align: right;\">\n",
       "      <th></th>\n",
       "      <th>Label</th>\n",
       "      <th>Entry</th>\n",
       "      <th>Mass</th>\n",
       "      <th>Emb median</th>\n",
       "      <th>Emb std</th>\n",
       "      <th>Emb magnitude</th>\n",
       "      <th>Emb PCA</th>\n",
       "    </tr>\n",
       "  </thead>\n",
       "  <tbody>\n",
       "    <tr>\n",
       "      <th>0</th>\n",
       "      <td>0</td>\n",
       "      <td>A0A023GPJ0</td>\n",
       "      <td>16838.084</td>\n",
       "      <td>-0.003975</td>\n",
       "      <td>0.261235</td>\n",
       "      <td>13.217648</td>\n",
       "      <td>0.096967</td>\n",
       "    </tr>\n",
       "    <tr>\n",
       "      <th>1</th>\n",
       "      <td>0</td>\n",
       "      <td>A0A023PXA5</td>\n",
       "      <td>21573.306</td>\n",
       "      <td>-0.004092</td>\n",
       "      <td>0.290487</td>\n",
       "      <td>14.697795</td>\n",
       "      <td>-2.560811</td>\n",
       "    </tr>\n",
       "    <tr>\n",
       "      <th>2</th>\n",
       "      <td>0</td>\n",
       "      <td>A0A023PXB5</td>\n",
       "      <td>11167.681</td>\n",
       "      <td>-0.002225</td>\n",
       "      <td>0.273467</td>\n",
       "      <td>13.836568</td>\n",
       "      <td>-1.464287</td>\n",
       "    </tr>\n",
       "    <tr>\n",
       "      <th>3</th>\n",
       "      <td>0</td>\n",
       "      <td>A0A023PXB9</td>\n",
       "      <td>13363.901</td>\n",
       "      <td>-0.002172</td>\n",
       "      <td>0.280577</td>\n",
       "      <td>14.196331</td>\n",
       "      <td>-1.938881</td>\n",
       "    </tr>\n",
       "    <tr>\n",
       "      <th>4</th>\n",
       "      <td>0</td>\n",
       "      <td>A0A023PXC2</td>\n",
       "      <td>12387.448</td>\n",
       "      <td>-0.002959</td>\n",
       "      <td>0.283519</td>\n",
       "      <td>14.345193</td>\n",
       "      <td>-1.953885</td>\n",
       "    </tr>\n",
       "    <tr>\n",
       "      <th>...</th>\n",
       "      <td>...</td>\n",
       "      <td>...</td>\n",
       "      <td>...</td>\n",
       "      <td>...</td>\n",
       "      <td>...</td>\n",
       "      <td>...</td>\n",
       "      <td>...</td>\n",
       "    </tr>\n",
       "    <tr>\n",
       "      <th>264190</th>\n",
       "      <td>1</td>\n",
       "      <td>X2JCV5</td>\n",
       "      <td>58501.815</td>\n",
       "      <td>-0.002344</td>\n",
       "      <td>0.237367</td>\n",
       "      <td>12.010015</td>\n",
       "      <td>-0.880411</td>\n",
       "    </tr>\n",
       "    <tr>\n",
       "      <th>264191</th>\n",
       "      <td>1</td>\n",
       "      <td>X2JE85</td>\n",
       "      <td>56212.158</td>\n",
       "      <td>-0.002944</td>\n",
       "      <td>0.209053</td>\n",
       "      <td>10.577378</td>\n",
       "      <td>1.032388</td>\n",
       "    </tr>\n",
       "    <tr>\n",
       "      <th>264192</th>\n",
       "      <td>1</td>\n",
       "      <td>X2JI34</td>\n",
       "      <td>55010.061</td>\n",
       "      <td>-0.004155</td>\n",
       "      <td>0.205278</td>\n",
       "      <td>10.386407</td>\n",
       "      <td>1.329710</td>\n",
       "    </tr>\n",
       "    <tr>\n",
       "      <th>264193</th>\n",
       "      <td>1</td>\n",
       "      <td>X4Y2L4</td>\n",
       "      <td>55037.972</td>\n",
       "      <td>-0.001636</td>\n",
       "      <td>0.246415</td>\n",
       "      <td>12.467769</td>\n",
       "      <td>-1.267684</td>\n",
       "    </tr>\n",
       "    <tr>\n",
       "      <th>264194</th>\n",
       "      <td>1</td>\n",
       "      <td>X5CY81</td>\n",
       "      <td>43395.220</td>\n",
       "      <td>-0.001128</td>\n",
       "      <td>0.209107</td>\n",
       "      <td>10.580116</td>\n",
       "      <td>1.473836</td>\n",
       "    </tr>\n",
       "  </tbody>\n",
       "</table>\n",
       "<p>264195 rows × 7 columns</p>\n",
       "</div>"
      ],
      "text/plain": [
       "        Label       Entry       Mass  Emb median   Emb std  Emb magnitude  \\\n",
       "0           0  A0A023GPJ0  16838.084   -0.003975  0.261235      13.217648   \n",
       "1           0  A0A023PXA5  21573.306   -0.004092  0.290487      14.697795   \n",
       "2           0  A0A023PXB5  11167.681   -0.002225  0.273467      13.836568   \n",
       "3           0  A0A023PXB9  13363.901   -0.002172  0.280577      14.196331   \n",
       "4           0  A0A023PXC2  12387.448   -0.002959  0.283519      14.345193   \n",
       "...       ...         ...        ...         ...       ...            ...   \n",
       "264190      1      X2JCV5  58501.815   -0.002344  0.237367      12.010015   \n",
       "264191      1      X2JE85  56212.158   -0.002944  0.209053      10.577378   \n",
       "264192      1      X2JI34  55010.061   -0.004155  0.205278      10.386407   \n",
       "264193      1      X4Y2L4  55037.972   -0.001636  0.246415      12.467769   \n",
       "264194      1      X5CY81  43395.220   -0.001128  0.209107      10.580116   \n",
       "\n",
       "         Emb PCA  \n",
       "0       0.096967  \n",
       "1      -2.560811  \n",
       "2      -1.464287  \n",
       "3      -1.938881  \n",
       "4      -1.953885  \n",
       "...          ...  \n",
       "264190 -0.880411  \n",
       "264191  1.032388  \n",
       "264192  1.329710  \n",
       "264193 -1.267684  \n",
       "264194  1.473836  \n",
       "\n",
       "[264195 rows x 7 columns]"
      ]
     },
     "execution_count": 2,
     "metadata": {},
     "output_type": "execute_result"
    }
   ],
   "source": [
    "split100_enzymes_df=pd.read_csv(r'/home/trucbui/PBLGit/random_forest/dataframe_split100',index_col=[0])\n",
    "df=pd.read_csv(r'/home/trucbui/PBLGit/random_forest/dataframe',index_col=[0])\n",
    "df=df.drop(df.index[:9204])\n",
    "df=pd.concat([df,split100_enzymes_df],axis=0)\n",
    "df=df.reset_index(drop=True)\n",
    "df"
   ]
  },
  {
   "cell_type": "code",
   "execution_count": 3,
   "metadata": {},
   "outputs": [],
   "source": [
    "#Define the features and output:\n",
    "y = np.array(df['Label'])\n",
    "X = df.drop(['Label','Entry'],axis=1)\n",
    "#Split data into train an test, with test size of 20%:\n",
    "\n",
    "X_train, X_test, y_train, y_test = train_test_split(X, y, test_size = 0.33)\n",
    "#X_train,y_train=X,y\n",
    "#X_test = split100_enzymes_df.drop(['Label','Entry'],axis=1)\n",
    "#y_test = split100_enzymes_df['Label']\n",
    "\n",
    "#Build the model:\n",
    "rf = RandomForestClassifier(max_depth=10, min_samples_leaf=8,n_estimators=100)\n",
    "rf.fit(X_train, y_train)\n",
    "y_pred=rf.predict(X)"
   ]
  },
  {
   "cell_type": "markdown",
   "metadata": {},
   "source": [
    "<font size=\"5\">Evaluate the model</font>"
   ]
  },
  {
   "cell_type": "code",
   "execution_count": 4,
   "metadata": {},
   "outputs": [
    {
     "name": "stdout",
     "output_type": "stream",
     "text": [
      "accuracy on training set: 0.994803\n",
      "accuracy on test set: 0.994368\n",
      "F1 score: 0.9968671943516246\n",
      "MCC score: 0.9788896452357426\n"
     ]
    },
    {
     "data": {
      "image/png": "[encoded data removed]",
      "text/plain": [
       "<Figure size 640x480 with 2 Axes>"
      ]
     },
     "metadata": {},
     "output_type": "display_data"
    }
   ],
   "source": [
    "cm=confusion_matrix(y, y_pred)\n",
    "ConfusionMatrixDisplay(cm).plot()\n",
    "print(\"accuracy on training set: %f\" % rf.score(X_train, y_train))\n",
    "print(\"accuracy on test set: %f\" % rf.score(X_test, y_test))\n",
    "f1 = f1_score(y, y_pred, zero_division=\"warn\")\n",
    "print('F1 score:', f1)\n",
    "mcc_score=matthews_corrcoef(y, y_pred)\n",
    "print('MCC score:', mcc_score)\n"
   ]
  },
  {
   "cell_type": "markdown",
   "metadata": {},
   "source": [
    "<font size=\"5\">Make a tree</font>"
   ]
  },
  {
   "cell_type": "code",
   "execution_count": null,
   "metadata": {},
   "outputs": [],
   "source": [
    "tree = rf.estimators_[0]\n",
    "# Export the image to a dot file:\n",
    "export_graphviz(tree, out_file = 'tree.dot', feature_names = X.columns, rounded = True, precision = 1)\n",
    "# Use dot file to create a graph:\n",
    "(graph, ) = pydot.graph_from_dot_file('tree.dot')\n",
    "# Write graph to a png file:\n",
    "graph.write_png('tree_rf.png')"
   ]
  },
  {
   "cell_type": "code",
   "execution_count": null,
   "metadata": {},
   "outputs": [],
   "source": [
    "df.to_csv(r'/home/trucbui/PBLGit/random_forest/dataframe')  "
   ]
  },
  {
   "cell_type": "markdown",
   "metadata": {},
   "source": [
    "<font size=\"5\">Make a ROC curve</font>"
   ]
  },
  {
   "cell_type": "code",
   "execution_count": 6,
   "metadata": {},
   "outputs": [
    {
     "name": "stdout",
     "output_type": "stream",
     "text": [
      "ROC AUC Score: 0.9996396863178569\n"
     ]
    },
    {
     "data": {
      "image/png": "[encoded data removed]",
      "text/plain": [
       "<Figure size 800x600 with 1 Axes>"
      ]
     },
     "metadata": {},
     "output_type": "display_data"
    }
   ],
   "source": [
    "# Get predicted probabilities for the positive class\n",
    "y_pred_prob = rf.predict_proba(X_test)[:, 1]\n",
    "\n",
    "# Calculate the ROC curve\n",
    "fpr, tpr, thresholds = roc_curve(y_test, y_pred_prob)\n",
    "\n",
    "# Calculate the Area Under the ROC Curve (AUC)\n",
    "roc_auc = auc(fpr, tpr)\n",
    "print(\"ROC AUC Score:\", roc_auc)\n",
    "\n",
    "# Plot the ROC curve\n",
    "plt.figure(figsize=(8, 6))\n",
    "plt.plot(fpr, tpr, color='darkorange', lw=2, label='ROC curve (area = {:.2f})'.format(roc_auc))\n",
    "plt.plot([0, 1], [0, 1], color='navy', lw=2, linestyle='--')\n",
    "plt.xlim([0.0, 1.0])\n",
    "plt.ylim([0.0, 1.05])\n",
    "plt.xlabel('False Positive Rate')\n",
    "plt.ylabel('True Positive Rate')\n",
    "plt.title('Receiver Operating Characteristic (ROC) Curve for Random Forest')\n",
    "plt.legend(loc='lower right')\n",
    "plt.show()"
   ]
  }
 ],
 "metadata": {
  "kernelspec": {
   "display_name": "Python 3",
   "language": "python",
   "name": "python3"
  },
  "language_info": {
   "codemirror_mode": {
    "name": "ipython",
    "version": 3
   },
   "file_extension": ".py",
   "mimetype": "text/x-python",
   "name": "python",
   "nbconvert_exporter": "python",
   "pygments_lexer": "ipython3",
   "version": "3.10.12"
  },
  "orig_nbformat": 4
 },
 "nbformat": 4,
 "nbformat_minor": 2
}
