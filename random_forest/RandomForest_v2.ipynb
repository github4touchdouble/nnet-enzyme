{
 "cells": [
  {
   "cell_type": "markdown",
   "metadata": {},
   "source": [
    "Thanh Truc Bui"
   ]
  },
  {
   "cell_type": "code",
   "execution_count": 2,
   "metadata": {},
   "outputs": [],
   "source": [
    "import os\n",
    "from dotenv import load_dotenv\n",
    "import pandas as pd\n",
    "import numpy as np\n",
    "import pydot\n",
    "import h5py\n",
    "import math\n",
    "from sklearn.model_selection import train_test_split\n",
    "from sklearn.ensemble import RandomForestClassifier\n",
    "from sklearn.decomposition import PCA\n",
    "from sklearn.tree import export_graphviz\n",
    "from sklearn.metrics import matthews_corrcoef, f1_score, confusion_matrix, ConfusionMatrixDisplay\n",
    "import matplotlib.pyplot as plt\n",
    "from sklearn.metrics import roc_curve, roc_auc_score, auc\n",
    "\n",
    "load_dotenv() # load environment variables\n",
    "\n",
    "abs_path_to_split30_fasta = os.getenv(\"FASTA_ENZYMES\",\"not found\")\n",
    "abs_path_to_non_enzyme_fasta = os.getenv(\"FASTA_NON_ENZYMES\",\"not found\")\n",
    "path_to_split100_fasta=\"/home/trucbui/PycharmProjects/PBL2324/venv/Dataset/rostlab.org_public_senoner_pbl_2023_split100.fasta.txt\"\n"
   ]
  },
  {
   "cell_type": "markdown",
   "metadata": {},
   "source": [
    "<font size=\"5\">Read the protein mass table</font>"
   ]
  },
  {
   "cell_type": "code",
   "execution_count": 3,
   "metadata": {},
   "outputs": [],
   "source": [
    "\n",
    "def read_mass_csv(path):  \n",
    "    masses={}\n",
    "    with open(path, \"r\") as file:\n",
    "        for line in file:\n",
    "            info = line.split(\"\\t\")\n",
    "            char = info[0]\n",
    "            mass = info[1]\n",
    "            masses[char] = mass\n",
    "    return masses\n",
    "\n",
    "protein_masses=read_mass_csv(r'/home/trucbui/PBLGit/random_forest/mass.tsv')\n",
    "\n",
    "def cal_mass(seq):\n",
    "    mass = 0.0\n",
    "    for char in seq:\n",
    "        if char in protein_masses.keys():\n",
    "            mass += float(protein_masses[char])\n",
    "    mass = round(mass, 3)\n",
    "    return mass\n"
   ]
  },
  {
   "cell_type": "markdown",
   "metadata": {},
   "source": [
    "<font size=\"5\">Create a protein class</font>"
   ]
  },
  {
   "cell_type": "code",
   "execution_count": 6,
   "metadata": {},
   "outputs": [],
   "source": [
    "\n",
    "class Protein:\n",
    "    def __init__(self, header, seq, is_enzyme):\n",
    "        self.header = header\n",
    "        self.seq=seq\n",
    "        self.mass=cal_mass(seq)\n",
    "        self.is_enzyme=is_enzyme\n",
    "        self.embeddings=None\n",
    "        self.emb_median=0.0\n",
    "        self.emb_std=0.0\n",
    "        self.emb_magnitude=0.0\n",
    "        self.last_aa=seq[-1:]\n",
    "        \n",
    "        \n"
   ]
  },
  {
   "cell_type": "markdown",
   "metadata": {},
   "source": [
    "<font size=\"5\">Read data from fasta file</font>"
   ]
  },
  {
   "cell_type": "code",
   "execution_count": 7,
   "metadata": {},
   "outputs": [],
   "source": [
    "\n",
    "def readfasta(fasta:str, is_enzyme:bool) -> dict: \n",
    "    seq_map=dict()\n",
    "    enzyme=0\n",
    "    if is_enzyme==True:\n",
    "        enzyme=1\n",
    "    with open(fasta, \"r\") as path:\n",
    "        seq = \"\"\n",
    "        header = path.readline().rstrip()[1:]\n",
    "        for line in path.readlines():\n",
    "            if line.startswith(\">\"):\n",
    "                seq_map[header]=Protein(header,seq,enzyme)\n",
    "                seq = \"\"\n",
    "                header = line.rstrip()[1:]\n",
    "            else:\n",
    "                seq += line.rstrip()\n",
    "        seq_map[header]=Protein(header,seq,enzyme)\n",
    "    return seq_map\n",
    "\n",
    "enzymes_map=readfasta(abs_path_to_split30_fasta,True)\n",
    "non_enzymes_map=readfasta(abs_path_to_non_enzyme_fasta,False)\n",
    "#enzymes_split100_map=readfasta(path_to_split100_fasta,True)\n"
   ]
  },
  {
   "cell_type": "markdown",
   "metadata": {},
   "source": [
    "<font size=\"5\">Read data from esm2 embeddings</font>"
   ]
  },
  {
   "cell_type": "code",
   "execution_count": 5,
   "metadata": {},
   "outputs": [],
   "source": [
    "def magnitude(vector):\n",
    "    return math.sqrt(sum(pow(element, 2) for element in vector))"
   ]
  },
  {
   "cell_type": "code",
   "execution_count": 6,
   "metadata": {},
   "outputs": [],
   "source": [
    "def PCA_for_emb(emb:list,n:int):   #Reducing the embedding vector to n dimensions\n",
    "    pca = PCA(n_components=n)\n",
    "    emb_pca = pca.fit_transform(emb)\n",
    "    return emb_pca\n"
   ]
  },
  {
   "cell_type": "code",
   "execution_count": 7,
   "metadata": {},
   "outputs": [],
   "source": [
    "\n",
    "def read_esm2(path_to_esm2:str,seq_map:dict) -> dict: \n",
    "    protein_map=seq_map\n",
    "    with h5py.File(path_to_esm2) as hdf_handle:\n",
    "        for header, emb in hdf_handle.items():\n",
    "            if header in seq_map.keys():\n",
    "                protein_map[header].embeddings = a = np.array(list(emb))\n",
    "                protein_map[header].emb_median=np.median(a)                \n",
    "                protein_map[header].emb_std=np.std(a)\n",
    "                protein_map[header].emb_magnitude=magnitude(a)\n",
    "\n",
    "    return protein_map\n",
    "\n",
    "\n",
    "enzymes_map = read_esm2(os.getenv(\"ESM2_ENZYMES_SPLIT_30\"),enzymes_map)\n",
    "non_enzymes_map = read_esm2(os.getenv(\"ESM2_NON_ENZYMES\"),non_enzymes_map)\n"
   ]
  },
  {
   "cell_type": "code",
   "execution_count": null,
   "metadata": {},
   "outputs": [],
   "source": [
    "enzymes_split100_map = read_esm2(\"/home/trucbui/PycharmProjects/PBL2324/venv/Dataset/split100_esm2_3b.h5\",enzymes_split100_map)\n"
   ]
  },
  {
   "cell_type": "markdown",
   "metadata": {},
   "source": [
    "<font size=\"5\">Find out the most common last amino acid of the enzymes and non-enzymes set</font>"
   ]
  },
  {
   "cell_type": "code",
   "execution_count": null,
   "metadata": {},
   "outputs": [],
   "source": [
    "def most_common_last_aa(seq_map:dict):\n",
    "    last_aa_list=dict()\n",
    "    for header in seq_map.keys():\n",
    "        last=seq_map[header].last_aa\n",
    "        if not last in last_aa_list:\n",
    "            last_aa_list[last] = 0\n",
    "        last_aa_list[last]+=1\n",
    "    common_aa=[]\n",
    "    for aa in last_aa_list.keys():\n",
    "        if not aa==\"X\":\n",
    "            if (last_aa_list[aa]/len(seq_map))>0.09:\n",
    "                common_aa.append(aa)\n",
    "                print (last_aa_list[aa]/len(seq_map))\n",
    "    return common_aa\n",
    "\n",
    "enzymes_common_last_aa=most_common_last_aa(enzymes_map)\n",
    "print(enzymes_common_last_aa)\n",
    "non_enzymes_common_last_aa=most_common_last_aa(non_enzymes_map)\n",
    "print(non_enzymes_common_last_aa)\n"
   ]
  },
  {
   "cell_type": "markdown",
   "metadata": {},
   "source": [
    "The most common last amino acids are not significant and thus will be ignored"
   ]
  },
  {
   "cell_type": "markdown",
   "metadata": {},
   "source": [
    "<font size=\"5\">Looking for some kmers<font>"
   ]
  },
  {
   "cell_type": "code",
   "execution_count": 8,
   "metadata": {},
   "outputs": [],
   "source": [
    "def hamming_distance(Genome1:str, Genome2:str):\n",
    "    distance=0\n",
    "    for i in range(len(Genome1)):\n",
    "        if Genome1[i]!=Genome2[i]:\n",
    "            distance+=1\n",
    "    return distance\n",
    "\n",
    "def neighbors(Pattern: str, d: int):\n",
    "    if d==0:\n",
    "        return [Pattern]\n",
    "    \n",
    "    if len(Pattern)==1:\n",
    "        return ['A', 'C', 'G', 'T']\n",
    "    \n",
    "    neighborhood=[]\n",
    "    suffix_neighbors=neighbors(Pattern[1:], d)\n",
    "    for text in suffix_neighbors:\n",
    "        if hamming_distance(Pattern[1:], text)<d:\n",
    "            for x in ['A', 'C', 'G', 'T']:\n",
    "                neighborhood.append(x+text)\n",
    "        else:\n",
    "            neighborhood.append(Pattern[0]+text)\n",
    "    return neighborhood\n",
    "\n",
    "def max_map(freq_map):\n",
    "    max=0\n",
    "    for key in freq_map.keys():\n",
    "        if freq_map[key]>max:\n",
    "            max=freq_map[key]\n",
    "    return max\n",
    "\n",
    "def kmer_with_max_d_mismatch(protein_map:dict(), k:int, d: int):\n",
    "    Patterns=[]\n",
    "    kmers_map=dict()\n",
    "\n",
    "    for protein in protein_map.keys():\n",
    "        Text=protein_map[protein].seq\n",
    "        for i in range(len(Text)-k+1):\n",
    "            Pattern=Text[i:i+k]\n",
    "            neigherborhood=neighbors(Pattern, d)\n",
    "            for j in range(len(neigherborhood)):    #Every neighbor of a pattern can be a key in the map. Now we find out which key has the highest value\n",
    "                neighbor=neigherborhood[j]\n",
    "                if not neighbor in kmers_map.keys():\n",
    "                    kmers_map[neighbor]=1\n",
    "                else:\n",
    "                    kmers_map[neighbor]+=1\n",
    "    \n",
    "    m=max_map(kmers_map)\n",
    "    for key in kmers_map.keys():\n",
    "        if kmers_map[key]==m:\n",
    "            Patterns.append(key)\n",
    "    \n",
    "    return Patterns\n"
   ]
  },
  {
   "cell_type": "code",
   "execution_count": 10,
   "metadata": {},
   "outputs": [
    {
     "data": {
      "text/plain": [
       "['NNNNNNNNNNNNNNNNNNNA', 'NNNNNNNNNNNNNNNNNNNG']"
      ]
     },
     "execution_count": 10,
     "metadata": {},
     "output_type": "execute_result"
    }
   ],
   "source": [
    "kmer_with_max_d_mismatch(enzymes_map, 20, 1)\n"
   ]
  },
  {
   "cell_type": "code",
   "execution_count": 11,
   "metadata": {},
   "outputs": [
    {
     "data": {
      "text/plain": [
       "['NNNNNNNNNNNNNNNNNNNA']"
      ]
     },
     "execution_count": 11,
     "metadata": {},
     "output_type": "execute_result"
    }
   ],
   "source": [
    "kmer_with_max_d_mismatch(non_enzymes_map, 20, 1)\n"
   ]
  },
  {
   "cell_type": "markdown",
   "metadata": {},
   "source": [
    "Pick the best n for the PCA"
   ]
  },
  {
   "cell_type": "code",
   "execution_count": 8,
   "metadata": {},
   "outputs": [],
   "source": [
    "embs_enzymes=[]\n",
    "embs_non_enzymes=[]\n",
    "\n",
    "for protein in enzymes_map.keys():\n",
    "    embs_enzymes.append(enzymes_map[protein].embeddings)\n",
    "for protein in non_enzymes_map.keys():\n",
    "    embs_non_enzymes.append(non_enzymes_map[protein].embeddings)\n",
    "\n"
   ]
  },
  {
   "cell_type": "code",
   "execution_count": 9,
   "metadata": {},
   "outputs": [],
   "source": [
    "\n",
    "def pick_n_for_pca(embs):\n",
    "    pca = PCA().fit(embs)\n",
    "    plt.rcParams[\"figure.figsize\"] = (12,6)\n",
    "\n",
    "    fig, ax = plt.subplots()\n",
    "    xi = np.arange(1, 2561, step=1)\n",
    "    y = np.cumsum(pca.explained_variance_ratio_)\n",
    "\n",
    "    plt.ylim(0.0,1.1)\n",
    "    plt.plot(xi, y, marker='o', linestyle='--', color='b')\n",
    "\n",
    "    plt.xlabel('Number of Components')\n",
    "    plt.xticks([256,512,700,1024,2048,2560])    \n",
    "    plt.ylabel('Cumulative variance (%)')\n",
    "    plt.title('The number of components needed to explain variance')\n",
    "\n",
    "    plt.axhline(y=0.95, color='r', linestyle='-')\n",
    "    plt.text(0.5, 0.85, '95% cut-off threshold', color = 'red', fontsize=16)\n",
    "\n",
    "    ax.grid(axis='x')\n",
    "    plt.show()\n"
   ]
  },
  {
   "cell_type": "code",
   "execution_count": 10,
   "metadata": {},
   "outputs": [
    {
     "data": {
      "image/png": "[encoded data removed]",
      "text/plain": [
       "<Figure size 1200x600 with 1 Axes>"
      ]
     },
     "metadata": {},
     "output_type": "display_data"
    }
   ],
   "source": [
    "\n",
    "pick_n_for_pca(embs_enzymes)"
   ]
  },
  {
   "cell_type": "code",
   "execution_count": null,
   "metadata": {},
   "outputs": [],
   "source": [
    "pick_n_for_pca(embs_non_enzymes)"
   ]
  },
  {
   "cell_type": "markdown",
   "metadata": {},
   "source": [
    "Now that with n=700 we get 95% cut off, we choose PCA with 700 dimension"
   ]
  },
  {
   "cell_type": "markdown",
   "metadata": {},
   "source": [
    "<font size=\"5\">Create a dataframe<font>"
   ]
  },
  {
   "cell_type": "code",
   "execution_count": 11,
   "metadata": {},
   "outputs": [],
   "source": [
    "def making_df(seq_map:dict)-> pd.DataFrame(): \n",
    "    headers=[]\n",
    "    mass=[]\n",
    "    labels=[]\n",
    "    embs=[]\n",
    "    emb_median_all=[]\n",
    "    emb_std_all=[]\n",
    "    emb_magnitude_all=[]\n",
    "    \n",
    "    \n",
    "    for header in seq_map:\n",
    "        headers.append(header)\n",
    "        entry=seq_map[header]\n",
    "        labels.append(entry.is_enzyme)\n",
    "        mass.append(entry.mass)\n",
    "        embs.append(entry.embeddings)\n",
    "        emb_median_all.append(entry.emb_median)     \n",
    "        emb_std_all.append(entry.emb_std)\n",
    "        emb_magnitude_all.append(entry.emb_magnitude)\n",
    "        \n",
    "    emb_pca_all=PCA_for_emb(np.array(embs),700).tolist()\n",
    "\n",
    "    \n",
    "    return pd.DataFrame(data={'Label':labels ,'Entry':headers,'Mass':mass, 'Emb':embs, 'Emb median': emb_median_all, \n",
    "    'Emb std': emb_std_all, 'Emb magnitude': emb_magnitude_all, 'Emb PCA': emb_pca_all})\n"
   ]
  },
  {
   "cell_type": "code",
   "execution_count": 12,
   "metadata": {},
   "outputs": [
    {
     "name": "stdout",
     "output_type": "stream",
     "text": [
      "       Label       Entry        Mass  \\\n",
      "0          1  A0A024RBG1   20403.292   \n",
      "1          1  A0A024SMV2   42741.490   \n",
      "2          1  A0A060S684   63631.543   \n",
      "3          1  A0A075TXZ3   61430.846   \n",
      "4          1  A0A077K8G3   45202.778   \n",
      "...      ...         ...         ...   \n",
      "48701      0      X2JAU8  117164.590   \n",
      "48702      0      X5HYT8   46670.171   \n",
      "48703      0      X5LX76  118226.070   \n",
      "48704      0      X6R8D5   14504.182   \n",
      "48705      0      X6R8R1   52161.639   \n",
      "\n",
      "                                                     Emb  Emb median  \\\n",
      "0      [-0.015143169, 0.035552002, -0.02231326, 0.002...   -0.003883   \n",
      "1      [0.059097216, -0.034141198, 0.061426997, 0.006...   -0.002613   \n",
      "2      [-0.016934631, -0.04490467, 0.0054878886, -0.0...   -0.002250   \n",
      "3      [-0.06815035, -0.034723807, 0.03341713, -0.057...   -0.001353   \n",
      "4      [-0.03639361, 0.046453245, 0.06140146, -0.0697...   -0.004369   \n",
      "...                                                  ...         ...   \n",
      "48701  [-0.09689512, -0.090523794, -0.016701577, -0.0...   -0.003210   \n",
      "48702  [0.0023819576, -0.033620838, 0.043625146, -0.0...   -0.003682   \n",
      "48703  [-0.0035375275, -0.021880746, -0.028436316, 0....   -0.003806   \n",
      "48704  [-0.009083768, -0.058401734, 0.022719534, -0.0...   -0.004650   \n",
      "48705  [0.014232157, -0.04094929, -0.022718558, -0.08...   -0.001748   \n",
      "\n",
      "        Emb std  Emb magnitude  \\\n",
      "0      0.246559      12.475115   \n",
      "1      0.224955      11.381984   \n",
      "2      0.238975      12.091348   \n",
      "3      0.235385      11.909699   \n",
      "4      0.246203      12.457084   \n",
      "...         ...            ...   \n",
      "48701  0.218149      11.037591   \n",
      "48702  0.267518      13.535640   \n",
      "48703  0.255798      12.942582   \n",
      "48704  0.287314      14.537300   \n",
      "48705  0.203606      10.301779   \n",
      "\n",
      "                                                 Emb PCA  \n",
      "0      [-0.7201108336448669, 0.1448671519756317, 0.30...  \n",
      "1      [1.1132580041885376, -0.09059897065162659, -0....  \n",
      "2      [-0.14153903722763062, -0.16625411808490753, -...  \n",
      "3      [0.2052142322063446, -0.25431200861930847, -0....  \n",
      "4      [-0.11231575161218643, 0.1939609795808792, 0.3...  \n",
      "...                                                  ...  \n",
      "48701  [3.928795099258423, 1.0540282726287842, 0.0701...  \n",
      "48702  [-0.8071576356887817, 0.2815757989883423, 0.49...  \n",
      "48703  [0.036186333745718, -0.4261864721775055, -0.26...  \n",
      "48704  [-2.6940062046051025, 2.3132100105285645, 0.50...  \n",
      "48705  [3.5833911895751953, 2.3167362213134766, 0.453...  \n",
      "\n",
      "[48706 rows x 8 columns]\n"
     ]
    }
   ],
   "source": [
    "\n",
    "enzymes_df=making_df(enzymes_map)\n",
    "enzymes_df=enzymes_df.sort_values(['Entry'],ascending=[True])\n",
    "\n",
    "non_enzymes_df=making_df(non_enzymes_map)\n",
    "non_enzymes_df=non_enzymes_df.sort_values(['Entry'],ascending=[True])\n",
    "\n",
    "df=pd.concat([enzymes_df,non_enzymes_df],axis=0)\n",
    "df=df.reset_index(drop=True)\n",
    "print(df)\n"
   ]
  },
  {
   "cell_type": "code",
   "execution_count": null,
   "metadata": {},
   "outputs": [],
   "source": [
    "df.to_csv(r'/home/trucbui/PBLGit/random_forest/split30_and_non_enzymes_with_emb_df.csv', index = False)"
   ]
  },
  {
   "cell_type": "markdown",
   "metadata": {},
   "source": [
    "PCA -> df"
   ]
  },
  {
   "cell_type": "code",
   "execution_count": null,
   "metadata": {},
   "outputs": [],
   "source": [
    "for i in range(700):\n",
    "    df_with_enzyme_dup[f'PCA {i + 1}'] = df_with_enzyme_dup['Emb PCA'].apply(lambda x: x[i])\n",
    "df_with_enzyme_dup\n"
   ]
  },
  {
   "cell_type": "code",
   "execution_count": null,
   "metadata": {},
   "outputs": [],
   "source": [
    "'''\n",
    "split100_enzymes_df=making_df(enzymes_split100_map)\n",
    "split100_enzymes_df=split100_enzymes_df.sort_values(['Entry'],ascending=[True])\n",
    "split100_enzymes_df.to_csv(r'/home/trucbui/PBLGit/random_forest/dataframe_split100')  \n",
    "'''"
   ]
  },
  {
   "cell_type": "code",
   "execution_count": null,
   "metadata": {},
   "outputs": [],
   "source": [
    "#split100_enzymes_df"
   ]
  },
  {
   "cell_type": "markdown",
   "metadata": {},
   "source": [
    "<font size=\"5\">Train the model</font>"
   ]
  },
  {
   "cell_type": "code",
   "execution_count": null,
   "metadata": {},
   "outputs": [],
   "source": [
    "'''\n",
    "split100_enzymes_df=pd.read_csv(r'/home/trucbui/PBLGit/random_forest/dataframe_split100',index_col=[0])\n",
    "df=pd.read_csv(r'/home/trucbui/PBLGit/random_forest/dataframe_split30_and_non_enzymes',index_col=[0])\n",
    "df=df.drop(df.index[:9204])\n",
    "df=pd.concat([df,split100_enzymes_df],axis=0)\n",
    "df=df.reset_index(drop=True)\n",
    "df\n",
    "'''"
   ]
  },
  {
   "cell_type": "markdown",
   "metadata": {},
   "source": [
    "Duplicate the enzymes class to achieve a balanced dataframe"
   ]
  },
  {
   "cell_type": "code",
   "execution_count": null,
   "metadata": {},
   "outputs": [],
   "source": [
    "enzymes_df_dup=enzymes_df.loc[enzymes_df.index.repeat(4)].reset_index(drop=True)\n",
    "enzymes_df_dup"
   ]
  },
  {
   "cell_type": "code",
   "execution_count": null,
   "metadata": {},
   "outputs": [],
   "source": [
    "df_with_enzyme_dup=pd.concat([enzymes_df_dup,non_enzymes_df,],axis=0)\n",
    "df_with_enzyme_dup=df_with_enzyme_dup.reset_index(drop=True)\n",
    "df_with_enzyme_dup"
   ]
  },
  {
   "cell_type": "code",
   "execution_count": 77,
   "metadata": {},
   "outputs": [],
   "source": [
    "df_with_enzyme_dup.to_csv(r'/home/trucbui/PBLGit/random_forest/split30dup__and_non_enzymes_with_emb_df.csv', index = False)"
   ]
  },
  {
   "cell_type": "code",
   "execution_count": 8,
   "metadata": {},
   "outputs": [],
   "source": [
    "df_with_enzyme_dup=pd.read_csv(r'/home/trucbui/PBLGit/random_forest/split30dup__and_non_enzymes_with_emb_df.csv')"
   ]
  },
  {
   "cell_type": "code",
   "execution_count": 10,
   "metadata": {},
   "outputs": [
    {
     "data": {
      "text/html": [
       "<div>\n",
       "<style scoped>\n",
       "    .dataframe tbody tr th:only-of-type {\n",
       "        vertical-align: middle;\n",
       "    }\n",
       "\n",
       "    .dataframe tbody tr th {\n",
       "        vertical-align: top;\n",
       "    }\n",
       "\n",
       "    .dataframe thead th {\n",
       "        text-align: right;\n",
       "    }\n",
       "</style>\n",
       "<table border=\"1\" class=\"dataframe\">\n",
       "  <thead>\n",
       "    <tr style=\"text-align: right;\">\n",
       "      <th></th>\n",
       "      <th>Label</th>\n",
       "      <th>Entry</th>\n",
       "      <th>Mass</th>\n",
       "      <th>Emb</th>\n",
       "      <th>Emb median</th>\n",
       "      <th>Emb std</th>\n",
       "      <th>Emb magnitude</th>\n",
       "      <th>Emb PCA</th>\n",
       "      <th>PCA 1</th>\n",
       "      <th>PCA 2</th>\n",
       "      <th>...</th>\n",
       "      <th>PCA 691</th>\n",
       "      <th>PCA 692</th>\n",
       "      <th>PCA 693</th>\n",
       "      <th>PCA 694</th>\n",
       "      <th>PCA 695</th>\n",
       "      <th>PCA 696</th>\n",
       "      <th>PCA 697</th>\n",
       "      <th>PCA 698</th>\n",
       "      <th>PCA 699</th>\n",
       "      <th>PCA 700</th>\n",
       "    </tr>\n",
       "  </thead>\n",
       "  <tbody>\n",
       "    <tr>\n",
       "      <th>0</th>\n",
       "      <td>1</td>\n",
       "      <td>A0A024RBG1</td>\n",
       "      <td>20403.292</td>\n",
       "      <td>[-0.01514317  0.035552   -0.02231326 ...  0.00...</td>\n",
       "      <td>-0.003883</td>\n",
       "      <td>0.246559</td>\n",
       "      <td>12.475115</td>\n",
       "      <td>[-0.7201108336448669, 0.1448671519756317, 0.30...</td>\n",
       "      <td>-0.720111</td>\n",
       "      <td>0.144867</td>\n",
       "      <td>...</td>\n",
       "      <td>-0.014237</td>\n",
       "      <td>-0.005821</td>\n",
       "      <td>-0.006216</td>\n",
       "      <td>-0.009365</td>\n",
       "      <td>0.029519</td>\n",
       "      <td>0.003641</td>\n",
       "      <td>0.010205</td>\n",
       "      <td>-0.030442</td>\n",
       "      <td>-0.003021</td>\n",
       "      <td>0.033887</td>\n",
       "    </tr>\n",
       "    <tr>\n",
       "      <th>1</th>\n",
       "      <td>1</td>\n",
       "      <td>A0A024RBG1</td>\n",
       "      <td>20403.292</td>\n",
       "      <td>[-0.01514317  0.035552   -0.02231326 ...  0.00...</td>\n",
       "      <td>-0.003883</td>\n",
       "      <td>0.246559</td>\n",
       "      <td>12.475115</td>\n",
       "      <td>[-0.7201108336448669, 0.1448671519756317, 0.30...</td>\n",
       "      <td>-0.720111</td>\n",
       "      <td>0.144867</td>\n",
       "      <td>...</td>\n",
       "      <td>-0.014237</td>\n",
       "      <td>-0.005821</td>\n",
       "      <td>-0.006216</td>\n",
       "      <td>-0.009365</td>\n",
       "      <td>0.029519</td>\n",
       "      <td>0.003641</td>\n",
       "      <td>0.010205</td>\n",
       "      <td>-0.030442</td>\n",
       "      <td>-0.003021</td>\n",
       "      <td>0.033887</td>\n",
       "    </tr>\n",
       "    <tr>\n",
       "      <th>2</th>\n",
       "      <td>1</td>\n",
       "      <td>A0A024RBG1</td>\n",
       "      <td>20403.292</td>\n",
       "      <td>[-0.01514317  0.035552   -0.02231326 ...  0.00...</td>\n",
       "      <td>-0.003883</td>\n",
       "      <td>0.246559</td>\n",
       "      <td>12.475115</td>\n",
       "      <td>[-0.7201108336448669, 0.1448671519756317, 0.30...</td>\n",
       "      <td>-0.720111</td>\n",
       "      <td>0.144867</td>\n",
       "      <td>...</td>\n",
       "      <td>-0.014237</td>\n",
       "      <td>-0.005821</td>\n",
       "      <td>-0.006216</td>\n",
       "      <td>-0.009365</td>\n",
       "      <td>0.029519</td>\n",
       "      <td>0.003641</td>\n",
       "      <td>0.010205</td>\n",
       "      <td>-0.030442</td>\n",
       "      <td>-0.003021</td>\n",
       "      <td>0.033887</td>\n",
       "    </tr>\n",
       "    <tr>\n",
       "      <th>3</th>\n",
       "      <td>1</td>\n",
       "      <td>A0A024RBG1</td>\n",
       "      <td>20403.292</td>\n",
       "      <td>[-0.01514317  0.035552   -0.02231326 ...  0.00...</td>\n",
       "      <td>-0.003883</td>\n",
       "      <td>0.246559</td>\n",
       "      <td>12.475115</td>\n",
       "      <td>[-0.7201108336448669, 0.1448671519756317, 0.30...</td>\n",
       "      <td>-0.720111</td>\n",
       "      <td>0.144867</td>\n",
       "      <td>...</td>\n",
       "      <td>-0.014237</td>\n",
       "      <td>-0.005821</td>\n",
       "      <td>-0.006216</td>\n",
       "      <td>-0.009365</td>\n",
       "      <td>0.029519</td>\n",
       "      <td>0.003641</td>\n",
       "      <td>0.010205</td>\n",
       "      <td>-0.030442</td>\n",
       "      <td>-0.003021</td>\n",
       "      <td>0.033887</td>\n",
       "    </tr>\n",
       "    <tr>\n",
       "      <th>4</th>\n",
       "      <td>1</td>\n",
       "      <td>A0A024SMV2</td>\n",
       "      <td>42741.490</td>\n",
       "      <td>[ 0.05909722 -0.0341412   0.061427   ...  0.03...</td>\n",
       "      <td>-0.002613</td>\n",
       "      <td>0.224955</td>\n",
       "      <td>11.381984</td>\n",
       "      <td>[1.1132580041885376, -0.09059897065162659, -0....</td>\n",
       "      <td>1.113258</td>\n",
       "      <td>-0.090599</td>\n",
       "      <td>...</td>\n",
       "      <td>0.016227</td>\n",
       "      <td>0.046075</td>\n",
       "      <td>-0.012710</td>\n",
       "      <td>0.028700</td>\n",
       "      <td>-0.012934</td>\n",
       "      <td>-0.025600</td>\n",
       "      <td>0.019037</td>\n",
       "      <td>-0.041620</td>\n",
       "      <td>0.036419</td>\n",
       "      <td>0.036128</td>\n",
       "    </tr>\n",
       "    <tr>\n",
       "      <th>...</th>\n",
       "      <td>...</td>\n",
       "      <td>...</td>\n",
       "      <td>...</td>\n",
       "      <td>...</td>\n",
       "      <td>...</td>\n",
       "      <td>...</td>\n",
       "      <td>...</td>\n",
       "      <td>...</td>\n",
       "      <td>...</td>\n",
       "      <td>...</td>\n",
       "      <td>...</td>\n",
       "      <td>...</td>\n",
       "      <td>...</td>\n",
       "      <td>...</td>\n",
       "      <td>...</td>\n",
       "      <td>...</td>\n",
       "      <td>...</td>\n",
       "      <td>...</td>\n",
       "      <td>...</td>\n",
       "      <td>...</td>\n",
       "      <td>...</td>\n",
       "    </tr>\n",
       "    <tr>\n",
       "      <th>76313</th>\n",
       "      <td>0</td>\n",
       "      <td>X2JAU8</td>\n",
       "      <td>117164.590</td>\n",
       "      <td>[-0.09689512 -0.09052379 -0.01670158 ...  0.07...</td>\n",
       "      <td>-0.003210</td>\n",
       "      <td>0.218149</td>\n",
       "      <td>11.037591</td>\n",
       "      <td>[3.928795099258423, 1.0540282726287842, 0.0701...</td>\n",
       "      <td>3.928795</td>\n",
       "      <td>1.054028</td>\n",
       "      <td>...</td>\n",
       "      <td>0.020648</td>\n",
       "      <td>-0.013315</td>\n",
       "      <td>0.012706</td>\n",
       "      <td>0.006887</td>\n",
       "      <td>0.004746</td>\n",
       "      <td>0.021182</td>\n",
       "      <td>-0.018262</td>\n",
       "      <td>0.025106</td>\n",
       "      <td>-0.029632</td>\n",
       "      <td>-0.016835</td>\n",
       "    </tr>\n",
       "    <tr>\n",
       "      <th>76314</th>\n",
       "      <td>0</td>\n",
       "      <td>X5HYT8</td>\n",
       "      <td>46670.171</td>\n",
       "      <td>[ 0.00238196 -0.03362084  0.04362515 ... -0.00...</td>\n",
       "      <td>-0.003682</td>\n",
       "      <td>0.267518</td>\n",
       "      <td>13.535640</td>\n",
       "      <td>[-0.8071576356887817, 0.2815757989883423, 0.49...</td>\n",
       "      <td>-0.807158</td>\n",
       "      <td>0.281576</td>\n",
       "      <td>...</td>\n",
       "      <td>-0.023908</td>\n",
       "      <td>0.001889</td>\n",
       "      <td>0.015918</td>\n",
       "      <td>0.015016</td>\n",
       "      <td>-0.003596</td>\n",
       "      <td>0.013889</td>\n",
       "      <td>0.006753</td>\n",
       "      <td>-0.013292</td>\n",
       "      <td>-0.008591</td>\n",
       "      <td>0.003652</td>\n",
       "    </tr>\n",
       "    <tr>\n",
       "      <th>76315</th>\n",
       "      <td>0</td>\n",
       "      <td>X5LX76</td>\n",
       "      <td>118226.070</td>\n",
       "      <td>[-0.00353753 -0.02188075 -0.02843632 ...  0.03...</td>\n",
       "      <td>-0.003806</td>\n",
       "      <td>0.255798</td>\n",
       "      <td>12.942582</td>\n",
       "      <td>[0.036186333745718, -0.4261864721775055, -0.26...</td>\n",
       "      <td>0.036186</td>\n",
       "      <td>-0.426186</td>\n",
       "      <td>...</td>\n",
       "      <td>-0.009277</td>\n",
       "      <td>0.024921</td>\n",
       "      <td>-0.001686</td>\n",
       "      <td>-0.010260</td>\n",
       "      <td>0.013944</td>\n",
       "      <td>0.005201</td>\n",
       "      <td>0.007544</td>\n",
       "      <td>-0.029421</td>\n",
       "      <td>-0.018353</td>\n",
       "      <td>0.002027</td>\n",
       "    </tr>\n",
       "    <tr>\n",
       "      <th>76316</th>\n",
       "      <td>0</td>\n",
       "      <td>X6R8D5</td>\n",
       "      <td>14504.182</td>\n",
       "      <td>[-0.00908377 -0.05840173  0.02271953 ... -0.00...</td>\n",
       "      <td>-0.004650</td>\n",
       "      <td>0.287314</td>\n",
       "      <td>14.537300</td>\n",
       "      <td>[-2.6940062046051025, 2.3132100105285645, 0.50...</td>\n",
       "      <td>-2.694006</td>\n",
       "      <td>2.313210</td>\n",
       "      <td>...</td>\n",
       "      <td>0.007128</td>\n",
       "      <td>-0.001473</td>\n",
       "      <td>0.034751</td>\n",
       "      <td>-0.009290</td>\n",
       "      <td>0.000835</td>\n",
       "      <td>0.015074</td>\n",
       "      <td>0.003659</td>\n",
       "      <td>0.008645</td>\n",
       "      <td>-0.017182</td>\n",
       "      <td>0.007734</td>\n",
       "    </tr>\n",
       "    <tr>\n",
       "      <th>76317</th>\n",
       "      <td>0</td>\n",
       "      <td>X6R8R1</td>\n",
       "      <td>52161.639</td>\n",
       "      <td>[ 0.01423216 -0.04094929 -0.02271856 ...  0.09...</td>\n",
       "      <td>-0.001748</td>\n",
       "      <td>0.203606</td>\n",
       "      <td>10.301779</td>\n",
       "      <td>[3.5833911895751953, 2.3167362213134766, 0.453...</td>\n",
       "      <td>3.583391</td>\n",
       "      <td>2.316736</td>\n",
       "      <td>...</td>\n",
       "      <td>0.010618</td>\n",
       "      <td>-0.023415</td>\n",
       "      <td>-0.004548</td>\n",
       "      <td>-0.011632</td>\n",
       "      <td>-0.005228</td>\n",
       "      <td>0.048443</td>\n",
       "      <td>0.047757</td>\n",
       "      <td>0.002091</td>\n",
       "      <td>-0.017415</td>\n",
       "      <td>0.064904</td>\n",
       "    </tr>\n",
       "  </tbody>\n",
       "</table>\n",
       "<p>76318 rows × 708 columns</p>\n",
       "</div>"
      ],
      "text/plain": [
       "       Label       Entry        Mass  \\\n",
       "0          1  A0A024RBG1   20403.292   \n",
       "1          1  A0A024RBG1   20403.292   \n",
       "2          1  A0A024RBG1   20403.292   \n",
       "3          1  A0A024RBG1   20403.292   \n",
       "4          1  A0A024SMV2   42741.490   \n",
       "...      ...         ...         ...   \n",
       "76313      0      X2JAU8  117164.590   \n",
       "76314      0      X5HYT8   46670.171   \n",
       "76315      0      X5LX76  118226.070   \n",
       "76316      0      X6R8D5   14504.182   \n",
       "76317      0      X6R8R1   52161.639   \n",
       "\n",
       "                                                     Emb  Emb median  \\\n",
       "0      [-0.01514317  0.035552   -0.02231326 ...  0.00...   -0.003883   \n",
       "1      [-0.01514317  0.035552   -0.02231326 ...  0.00...   -0.003883   \n",
       "2      [-0.01514317  0.035552   -0.02231326 ...  0.00...   -0.003883   \n",
       "3      [-0.01514317  0.035552   -0.02231326 ...  0.00...   -0.003883   \n",
       "4      [ 0.05909722 -0.0341412   0.061427   ...  0.03...   -0.002613   \n",
       "...                                                  ...         ...   \n",
       "76313  [-0.09689512 -0.09052379 -0.01670158 ...  0.07...   -0.003210   \n",
       "76314  [ 0.00238196 -0.03362084  0.04362515 ... -0.00...   -0.003682   \n",
       "76315  [-0.00353753 -0.02188075 -0.02843632 ...  0.03...   -0.003806   \n",
       "76316  [-0.00908377 -0.05840173  0.02271953 ... -0.00...   -0.004650   \n",
       "76317  [ 0.01423216 -0.04094929 -0.02271856 ...  0.09...   -0.001748   \n",
       "\n",
       "        Emb std  Emb magnitude  \\\n",
       "0      0.246559      12.475115   \n",
       "1      0.246559      12.475115   \n",
       "2      0.246559      12.475115   \n",
       "3      0.246559      12.475115   \n",
       "4      0.224955      11.381984   \n",
       "...         ...            ...   \n",
       "76313  0.218149      11.037591   \n",
       "76314  0.267518      13.535640   \n",
       "76315  0.255798      12.942582   \n",
       "76316  0.287314      14.537300   \n",
       "76317  0.203606      10.301779   \n",
       "\n",
       "                                                 Emb PCA     PCA 1     PCA 2  \\\n",
       "0      [-0.7201108336448669, 0.1448671519756317, 0.30... -0.720111  0.144867   \n",
       "1      [-0.7201108336448669, 0.1448671519756317, 0.30... -0.720111  0.144867   \n",
       "2      [-0.7201108336448669, 0.1448671519756317, 0.30... -0.720111  0.144867   \n",
       "3      [-0.7201108336448669, 0.1448671519756317, 0.30... -0.720111  0.144867   \n",
       "4      [1.1132580041885376, -0.09059897065162659, -0....  1.113258 -0.090599   \n",
       "...                                                  ...       ...       ...   \n",
       "76313  [3.928795099258423, 1.0540282726287842, 0.0701...  3.928795  1.054028   \n",
       "76314  [-0.8071576356887817, 0.2815757989883423, 0.49... -0.807158  0.281576   \n",
       "76315  [0.036186333745718, -0.4261864721775055, -0.26...  0.036186 -0.426186   \n",
       "76316  [-2.6940062046051025, 2.3132100105285645, 0.50... -2.694006  2.313210   \n",
       "76317  [3.5833911895751953, 2.3167362213134766, 0.453...  3.583391  2.316736   \n",
       "\n",
       "       ...   PCA 691   PCA 692   PCA 693   PCA 694   PCA 695   PCA 696  \\\n",
       "0      ... -0.014237 -0.005821 -0.006216 -0.009365  0.029519  0.003641   \n",
       "1      ... -0.014237 -0.005821 -0.006216 -0.009365  0.029519  0.003641   \n",
       "2      ... -0.014237 -0.005821 -0.006216 -0.009365  0.029519  0.003641   \n",
       "3      ... -0.014237 -0.005821 -0.006216 -0.009365  0.029519  0.003641   \n",
       "4      ...  0.016227  0.046075 -0.012710  0.028700 -0.012934 -0.025600   \n",
       "...    ...       ...       ...       ...       ...       ...       ...   \n",
       "76313  ...  0.020648 -0.013315  0.012706  0.006887  0.004746  0.021182   \n",
       "76314  ... -0.023908  0.001889  0.015918  0.015016 -0.003596  0.013889   \n",
       "76315  ... -0.009277  0.024921 -0.001686 -0.010260  0.013944  0.005201   \n",
       "76316  ...  0.007128 -0.001473  0.034751 -0.009290  0.000835  0.015074   \n",
       "76317  ...  0.010618 -0.023415 -0.004548 -0.011632 -0.005228  0.048443   \n",
       "\n",
       "        PCA 697   PCA 698   PCA 699   PCA 700  \n",
       "0      0.010205 -0.030442 -0.003021  0.033887  \n",
       "1      0.010205 -0.030442 -0.003021  0.033887  \n",
       "2      0.010205 -0.030442 -0.003021  0.033887  \n",
       "3      0.010205 -0.030442 -0.003021  0.033887  \n",
       "4      0.019037 -0.041620  0.036419  0.036128  \n",
       "...         ...       ...       ...       ...  \n",
       "76313 -0.018262  0.025106 -0.029632 -0.016835  \n",
       "76314  0.006753 -0.013292 -0.008591  0.003652  \n",
       "76315  0.007544 -0.029421 -0.018353  0.002027  \n",
       "76316  0.003659  0.008645 -0.017182  0.007734  \n",
       "76317  0.047757  0.002091 -0.017415  0.064904  \n",
       "\n",
       "[76318 rows x 708 columns]"
      ]
     },
     "execution_count": 10,
     "metadata": {},
     "output_type": "execute_result"
    }
   ],
   "source": [
    "df_with_enzyme_dup"
   ]
  },
  {
   "cell_type": "code",
   "execution_count": 37,
   "metadata": {},
   "outputs": [],
   "source": [
    "#Define the features and output:\n",
    "y = df_with_enzyme_dup['Label']\n",
    "X = df_with_enzyme_dup.drop(['Label','Entry','Emb', 'Emb median','Emb std','Emb PCA'],axis=1)\n",
    "#X = df_with_enzyme_dup[['Emb std','Mass']]\n",
    "\n",
    "#Split data into train an test, with test size of 33%%:\n",
    "X_train, X_test, y_train, y_test = train_test_split(X, y, test_size = 0.33)\n"
   ]
  },
  {
   "cell_type": "code",
   "execution_count": 35,
   "metadata": {},
   "outputs": [],
   "source": [
    "\n",
    "#Build the model:\n",
    "rf = RandomForestClassifier(max_depth=10, min_samples_leaf=8,n_estimators=100)\n",
    "rf.fit(X_train, y_train)\n",
    "y_pred=rf.predict(X)"
   ]
  },
  {
   "cell_type": "markdown",
   "metadata": {},
   "source": [
    "<font size=\"5\">Evaluate the model</font>"
   ]
  },
  {
   "cell_type": "code",
   "execution_count": 36,
   "metadata": {},
   "outputs": [
    {
     "name": "stdout",
     "output_type": "stream",
     "text": [
      "accuracy on training set: 0.908728\n",
      "accuracy on test set: 0.886162\n",
      "F1 score: 0.9034374919894389\n",
      "MCC score: 0.8084540230318509\n"
     ]
    },
    {
     "data": {
      "image/png": "[encoded data removed]",
      "text/plain": [
       "<Figure size 640x480 with 2 Axes>"
      ]
     },
     "metadata": {},
     "output_type": "display_data"
    }
   ],
   "source": [
    "cm=confusion_matrix(y, y_pred)\n",
    "ConfusionMatrixDisplay(cm).plot()\n",
    "print(\"accuracy on training set: %f\" % rf.score(X_train, y_train))\n",
    "print(\"accuracy on test set: %f\" % rf.score(X_test, y_test))\n",
    "f1 = f1_score(y, y_pred, zero_division=\"warn\")\n",
    "print('F1 score:', f1)\n",
    "mcc_score=matthews_corrcoef(y, y_pred)\n",
    "print('MCC score:', mcc_score)\n"
   ]
  },
  {
   "cell_type": "markdown",
   "metadata": {},
   "source": [
    "<font size=\"5\">Make a tree</font>"
   ]
  },
  {
   "cell_type": "code",
   "execution_count": 31,
   "metadata": {},
   "outputs": [],
   "source": [
    "tree = rf.estimators_[0]\n",
    "# Export the image to a dot file:\n",
    "export_graphviz(tree, out_file = 'tree.dot', feature_names = X.columns, rounded = True, precision = 1)\n",
    "# Use dot file to create a graph:\n",
    "(graph, ) = pydot.graph_from_dot_file('tree.dot')\n",
    "# Write graph to a png file:\n",
    "graph.write_png('tree_rf.png')"
   ]
  },
  {
   "cell_type": "markdown",
   "metadata": {},
   "source": [
    "<font size=\"5\">Make a ROC curve</font>"
   ]
  },
  {
   "cell_type": "code",
   "execution_count": 30,
   "metadata": {},
   "outputs": [
    {
     "name": "stdout",
     "output_type": "stream",
     "text": [
      "ROC AUC Score: 0.9740765376335004\n"
     ]
    },
    {
     "data": {
      "image/png": "[encoded data removed]",
      "text/plain": [
       "<Figure size 800x600 with 1 Axes>"
      ]
     },
     "metadata": {},
     "output_type": "display_data"
    }
   ],
   "source": [
    "# Get predicted probabilities for the positive class\n",
    "y_pred_prob = rf.predict_proba(X_test)[:, 1]\n",
    "\n",
    "# Calculate the ROC curve\n",
    "fpr, tpr, thresholds = roc_curve(y_test, y_pred_prob)\n",
    "\n",
    "# Calculate the Area Under the ROC Curve (AUC)\n",
    "roc_auc = auc(fpr, tpr)\n",
    "print(\"ROC AUC Score:\", roc_auc)\n",
    "\n",
    "# Plot the ROC curve\n",
    "plt.figure(figsize=(8, 6))\n",
    "plt.plot(fpr, tpr, color='darkorange', lw=2, label='ROC curve (area = {:.2f})'.format(roc_auc))\n",
    "plt.plot([0, 1], [0, 1], color='navy', lw=2, linestyle='--')\n",
    "plt.xlim([0.0, 1.0])\n",
    "plt.ylim([0.0, 1.05])\n",
    "plt.xlabel('False Positive Rate')\n",
    "plt.ylabel('True Positive Rate')\n",
    "plt.title('Receiver Operating Characteristic (ROC) Curve for Random Forest')\n",
    "plt.legend(loc='lower right')\n",
    "plt.show()"
   ]
  }
 ],
 "metadata": {
  "kernelspec": {
   "display_name": "Python 3",
   "language": "python",
   "name": "python3"
  },
  "language_info": {
   "codemirror_mode": {
    "name": "ipython",
    "version": 3
   },
   "file_extension": ".py",
   "mimetype": "text/x-python",
   "name": "python",
   "nbconvert_exporter": "python",
   "pygments_lexer": "ipython3",
   "version": "3.10.12"
  },
  "orig_nbformat": 4
 },
 "nbformat": 4,
 "nbformat_minor": 2
}
