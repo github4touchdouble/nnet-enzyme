{
 "cells": [
  {
   "cell_type": "markdown",
   "metadata": {},
   "source": [
    "Thanh Truc Bui"
   ]
  },
  {
   "cell_type": "code",
   "execution_count": 17,
   "metadata": {},
   "outputs": [
    {
     "name": "stderr",
     "output_type": "stream",
     "text": [
      "Python-dotenv could not parse statement starting at line 8\n"
     ]
    }
   ],
   "source": [
    "import os\n",
    "from dotenv import load_dotenv\n",
    "import pandas as pd\n",
    "import numpy as np\n",
    "import pydot\n",
    "import h5py\n",
    "import math\n",
    "from sklearn.model_selection import train_test_split\n",
    "from sklearn.ensemble import RandomForestClassifier\n",
    "from sklearn.decomposition import PCA\n",
    "from sklearn.tree import export_graphviz\n",
    "from sklearn.metrics import matthews_corrcoef, f1_score, confusion_matrix, ConfusionMatrixDisplay\n",
    "import matplotlib.pyplot as plt\n",
    "from sklearn.metrics import roc_curve, roc_auc_score, auc\n",
    "\n",
    "load_dotenv() # load environment variables\n",
    "\n",
    "abs_path_to_split30_fasta = os.getenv(\"FASTA_ENZYMES\",\"not found\")\n",
    "abs_path_to_non_enzyme_fasta = os.getenv(\"FASTA_NON_ENZYMES\",\"not found\")\n"
   ]
  },
  {
   "cell_type": "markdown",
   "metadata": {},
   "source": [
    "<font size=\"5\">Read the protein mass table</font>"
   ]
  },
  {
   "cell_type": "code",
   "execution_count": 2,
   "metadata": {},
   "outputs": [],
   "source": [
    "\n",
    "def read_mass_csv(path):  \n",
    "    masses={}\n",
    "    with open(path, \"r\") as file:\n",
    "        for line in file:\n",
    "            info = line.split(\"\\t\")\n",
    "            char = info[0]\n",
    "            mass = info[1]\n",
    "            masses[char] = mass\n",
    "    return masses\n",
    "\n",
    "protein_masses=read_mass_csv(r'/home/trucbui/PBLGit/random_forest/mass.tsv')\n",
    "\n",
    "def cal_mass(seq):\n",
    "    mass = 0.0\n",
    "    for char in seq:\n",
    "        if char in protein_masses.keys():\n",
    "            mass += float(protein_masses[char])\n",
    "    mass = round(mass, 3)\n",
    "    return mass\n"
   ]
  },
  {
   "cell_type": "markdown",
   "metadata": {},
   "source": [
    "<font size=\"5\">Create a protein class</font>"
   ]
  },
  {
   "cell_type": "code",
   "execution_count": 3,
   "metadata": {},
   "outputs": [],
   "source": [
    "\n",
    "class Protein:\n",
    "    def __init__(self, header, seq, is_enzyme):\n",
    "        self.header = header\n",
    "        self.seq=seq\n",
    "        self.mass=cal_mass(seq)\n",
    "        self.is_enzyme=is_enzyme\n",
    "        self.embeddings=None\n",
    "        self.emb_median=0.0\n",
    "        self.emb_std=0.0\n",
    "        self.emb_magnitude=0.0\n",
    "        self.last_aa=seq[-1:]\n",
    "        \n",
    "        \n"
   ]
  },
  {
   "cell_type": "markdown",
   "metadata": {},
   "source": [
    "<font size=\"5\">Read data from fasta file</font>"
   ]
  },
  {
   "cell_type": "code",
   "execution_count": 4,
   "metadata": {},
   "outputs": [],
   "source": [
    "def readfasta_test(fasta:str, is_enzyme:bool)->pd.DataFrame(): \n",
    "    seq_list=[]\n",
    "    labels=[]\n",
    "    a=0\n",
    "    if is_enzyme==True:\n",
    "        a=1\n",
    "    with open(fasta, \"r\") as path:\n",
    "        for line in path.readlines():\n",
    "            if line.startswith(\">\"):\n",
    "                header = line.rstrip()[1:]\n",
    "                seq_list.append(header)\n",
    "                labels.append(a)\n",
    "    return pd.DataFrame(data={'Label':labels, 'Header': seq_list})\n",
    "                    \n",
    "    "
   ]
  },
  {
   "cell_type": "code",
   "execution_count": 5,
   "metadata": {},
   "outputs": [],
   "source": [
    "\n",
    "def readfasta(fasta:str, is_enzyme:bool) -> dict: \n",
    "    seq_map=dict()\n",
    "    enzyme=0\n",
    "    if is_enzyme==True:\n",
    "        enzyme=1\n",
    "    with open(fasta, \"r\") as path:\n",
    "        seq = \"\"\n",
    "        header = path.readline().rstrip()[1:]\n",
    "        for line in path.readlines():\n",
    "            if line.startswith(\">\"):\n",
    "                seq_map[header]=Protein(header,seq,enzyme)\n",
    "                seq = \"\"\n",
    "                header = line.rstrip()[1:]\n",
    "            else:\n",
    "                seq += line.rstrip()\n",
    "        seq_map[header]=Protein(header,seq,enzyme)\n",
    "    return seq_map\n",
    "\n",
    "enzymes_map=readfasta(abs_path_to_split30_fasta,True)\n",
    "non_enzymes_map=readfasta(abs_path_to_non_enzyme_fasta,False)\n"
   ]
  },
  {
   "cell_type": "markdown",
   "metadata": {},
   "source": [
    "<font size=\"5\">Read data from esm2 embeddings</font>"
   ]
  },
  {
   "cell_type": "code",
   "execution_count": 6,
   "metadata": {},
   "outputs": [],
   "source": [
    "def magnitude(vector):\n",
    "    return math.sqrt(sum(pow(element, 2) for element in vector))"
   ]
  },
  {
   "cell_type": "code",
   "execution_count": 7,
   "metadata": {},
   "outputs": [],
   "source": [
    "def PCA_for_emb(emb:list) -> float:   #Reducing the embedding vector to only one number\n",
    "    pca = PCA(n_components=1)\n",
    "    emb_pca = pca.fit_transform(emb)\n",
    "    return emb_pca"
   ]
  },
  {
   "cell_type": "code",
   "execution_count": 8,
   "metadata": {},
   "outputs": [],
   "source": [
    "\n",
    "def read_esm2(path_to_esm2:str,seq_map:dict) -> dict: \n",
    "    protein_map=seq_map\n",
    "    with h5py.File(path_to_esm2) as hdf_handle:\n",
    "        for header, emb in hdf_handle.items():\n",
    "            if header in seq_map.keys():\n",
    "                protein_map[header].embeddings = a = np.array(list(emb))\n",
    "                protein_map[header].emb_median=np.median(a)                \n",
    "                protein_map[header].emb_std=np.std(a)\n",
    "                protein_map[header].emb_magnitude=magnitude(a)\n",
    "\n",
    "    return protein_map\n",
    "\n",
    "\n",
    "enzymes_map = read_esm2(os.getenv(\"ESM2_ENZYMES_SPLIT_30\"),enzymes_map)\n",
    "non_enzymes_map = read_esm2(os.getenv(\"ESM2_NON_ENZYMES\"),non_enzymes_map)\n"
   ]
  },
  {
   "cell_type": "markdown",
   "metadata": {},
   "source": [
    "<font size=\"5\">Find out the most common last amino acid of the enzymes and non-enzymes set</font>"
   ]
  },
  {
   "cell_type": "code",
   "execution_count": 9,
   "metadata": {},
   "outputs": [
    {
     "name": "stdout",
     "output_type": "stream",
     "text": [
      "0.09245980008691873\n",
      "0.09104737070838766\n",
      "0.09821816601477619\n",
      "['K', 'S', 'L']\n",
      "0.09470406561693079\n",
      "0.09338767657333806\n",
      "['K', 'L']\n"
     ]
    }
   ],
   "source": [
    "def most_common_last_aa(seq_map:dict):\n",
    "    last_aa_list=dict()\n",
    "    for header in seq_map.keys():\n",
    "        last=seq_map[header].last_aa\n",
    "        if not last in last_aa_list:\n",
    "            last_aa_list[last] = 0\n",
    "        last_aa_list[last]+=1\n",
    "    common_aa=[]\n",
    "    for aa in last_aa_list.keys():\n",
    "        if not aa==\"X\":\n",
    "            if (last_aa_list[aa]/len(seq_map))>0.09:\n",
    "                common_aa.append(aa)\n",
    "                print (last_aa_list[aa]/len(seq_map))\n",
    "    return common_aa\n",
    "\n",
    "enzymes_common_last_aa=most_common_last_aa(enzymes_map)\n",
    "print(enzymes_common_last_aa)\n",
    "non_enzymes_common_last_aa=most_common_last_aa(non_enzymes_map)\n",
    "print(non_enzymes_common_last_aa)\n"
   ]
  },
  {
   "cell_type": "markdown",
   "metadata": {},
   "source": [
    "The most common last amino acids are not significant and thus will be ignored"
   ]
  },
  {
   "cell_type": "markdown",
   "metadata": {},
   "source": [
    "<font size=\"5\">Create a dataframe<font>"
   ]
  },
  {
   "cell_type": "code",
   "execution_count": 10,
   "metadata": {},
   "outputs": [
    {
     "name": "stdout",
     "output_type": "stream",
     "text": [
      "       Label       Entry        Mass  Emb median   Emb std  Emb magnitude  \\\n",
      "0          1  A0A024RBG1   20403.292   -0.003883  0.246559      12.475115   \n",
      "1          1  A0A024SMV2   42741.490   -0.002613  0.224955      11.381984   \n",
      "2          1  A0A060S684   63631.543   -0.002250  0.238975      12.091348   \n",
      "3          1  A0A075TXZ3   61430.846   -0.001353  0.235385      11.909699   \n",
      "4          1  A0A077K8G3   45202.778   -0.004369  0.246203      12.457084   \n",
      "...      ...         ...         ...         ...       ...            ...   \n",
      "48701      0      X2JAU8  117164.590   -0.003210  0.218149      11.037591   \n",
      "48702      0      X5HYT8   46670.171   -0.003682  0.267518      13.535640   \n",
      "48703      0      X5LX76  118226.070   -0.003806  0.255798      12.942582   \n",
      "48704      0      X6R8D5   14504.182   -0.004650  0.287314      14.537300   \n",
      "48705      0      X6R8R1   52161.639   -0.001748  0.203606      10.301779   \n",
      "\n",
      "        Emb PCA  \n",
      "0     -0.720111  \n",
      "1      1.113257  \n",
      "2     -0.141539  \n",
      "3      0.205214  \n",
      "4     -0.112316  \n",
      "...         ...  \n",
      "48701  3.928795  \n",
      "48702 -0.807158  \n",
      "48703  0.036186  \n",
      "48704 -2.694007  \n",
      "48705  3.583391  \n",
      "\n",
      "[48706 rows x 7 columns]\n"
     ]
    }
   ],
   "source": [
    "def making_df(seq_map:dict)-> pd.DataFrame(): \n",
    "    headers=[]\n",
    "    mass=[]\n",
    "    labels=[]\n",
    "    embs=[]\n",
    "    emb_median_all=[]\n",
    "    emb_std_all=[]\n",
    "    emb_magnitude_all=[]\n",
    "    \n",
    "    \n",
    "    for header in seq_map:\n",
    "        headers.append(header)\n",
    "        entry=seq_map[header]\n",
    "        labels.append(entry.is_enzyme)\n",
    "        mass.append(entry.mass)\n",
    "        embs.append(entry.embeddings)\n",
    "        emb_median_all.append(entry.emb_median)     \n",
    "        emb_std_all.append(entry.emb_std)\n",
    "        emb_magnitude_all.append(entry.emb_magnitude)\n",
    "        \n",
    "    emb_pca_all=PCA_for_emb(np.array(embs)).flatten()\n",
    "\n",
    "    return pd.DataFrame(data={'Label':labels ,'Entry':headers,'Mass':mass, 'Emb median': emb_median_all, \n",
    "    'Emb std': emb_std_all, 'Emb magnitude': emb_magnitude_all, 'Emb PCA': emb_pca_all})\n",
    "\n",
    "enzymes_df=making_df(enzymes_map)\n",
    "enzymes_df=enzymes_df.sort_values(['Entry'],ascending=[True])\n",
    "\n",
    "non_enzymes_df=making_df(non_enzymes_map)\n",
    "non_enzymes_df=non_enzymes_df.sort_values(['Entry'],ascending=[True])\n",
    "\n",
    "df=pd.concat([enzymes_df,non_enzymes_df],axis=0)\n",
    "df=df.reset_index(drop=True)\n",
    "print(df)\n"
   ]
  },
  {
   "cell_type": "markdown",
   "metadata": {},
   "source": [
    "<font size=\"5\">Train the model</font>"
   ]
  },
  {
   "cell_type": "code",
   "execution_count": 11,
   "metadata": {},
   "outputs": [],
   "source": [
    "#Define the features and output:\n",
    "y = np.array(df['Label'])\n",
    "X = df.drop(['Label','Entry'],axis=1)\n",
    "test=readfasta_test(\"/home/trucbui/PycharmProjects/PBL2324/venv/Dataset/no_enzyme_test.fasta\", False)\n",
    "#Split data into train an test, with test size of 20%:\n",
    "\n",
    "X_train, X_test, y_train, y_test = train_test_split(X, y, test_size = 0.20)\n",
    "#X_test = test.drop('Label') \n",
    "#y_test = test.drop('Header')\n",
    "#Build the model:\n",
    "rf = RandomForestClassifier(max_depth=10, min_samples_leaf=8,n_estimators=100)\n",
    "rf.fit(X_train, y_train)\n",
    "y_pred=rf.predict(X)"
   ]
  },
  {
   "cell_type": "markdown",
   "metadata": {},
   "source": [
    "<font size=\"5\">Evaluate the model</font>"
   ]
  },
  {
   "cell_type": "code",
   "execution_count": 12,
   "metadata": {},
   "outputs": [
    {
     "name": "stdout",
     "output_type": "stream",
     "text": [
      "accuracy on training set: 0.977620\n",
      "accuracy on test set: 0.970027\n",
      "F1 score: 0.9339162030203247\n",
      "MCC score: 0.9207594055459165\n"
     ]
    },
    {
     "data": {
      "image/png": "[encoded data removed]",
      "text/plain": [
       "<Figure size 640x480 with 2 Axes>"
      ]
     },
     "metadata": {},
     "output_type": "display_data"
    }
   ],
   "source": [
    "cm=confusion_matrix(y, y_pred)\n",
    "ConfusionMatrixDisplay(cm).plot()\n",
    "print(\"accuracy on training set: %f\" % rf.score(X_train, y_train))\n",
    "print(\"accuracy on test set: %f\" % rf.score(X_test, y_test))\n",
    "f1 = f1_score(y, y_pred, zero_division=\"warn\")\n",
    "print('F1 score:', f1)\n",
    "mcc_score=matthews_corrcoef(y, y_pred)\n",
    "print('MCC score:', mcc_score)\n"
   ]
  },
  {
   "cell_type": "markdown",
   "metadata": {},
   "source": [
    "<font size=\"5\">Make a tree</font>"
   ]
  },
  {
   "cell_type": "code",
   "execution_count": 13,
   "metadata": {},
   "outputs": [],
   "source": [
    "tree = rf.estimators_[0]\n",
    "# Export the image to a dot file:\n",
    "export_graphviz(tree, out_file = 'tree.dot', feature_names = X.columns, rounded = True, precision = 1)\n",
    "# Use dot file to create a graph:\n",
    "(graph, ) = pydot.graph_from_dot_file('tree.dot')\n",
    "# Write graph to a png file:\n",
    "graph.write_png('tree_rf.png')"
   ]
  },
  {
   "cell_type": "code",
   "execution_count": 14,
   "metadata": {},
   "outputs": [],
   "source": [
    "df.to_csv(r'/home/trucbui/PBLGit/random_forest/dataframe')  "
   ]
  },
  {
   "cell_type": "markdown",
   "metadata": {},
   "source": [
    "<font size=\"5\">Make a ROC curve</font>"
   ]
  },
  {
   "cell_type": "code",
   "execution_count": 19,
   "metadata": {},
   "outputs": [
    {
     "name": "stdout",
     "output_type": "stream",
     "text": [
      "ROC AUC Score: 0.991281046437346\n"
     ]
    },
    {
     "data": {
      "image/png": "[encoded data removed]",
      "text/plain": [
       "<Figure size 800x600 with 1 Axes>"
      ]
     },
     "metadata": {},
     "output_type": "display_data"
    }
   ],
   "source": [
    "# Get predicted probabilities for the positive class\n",
    "y_pred_prob = rf.predict_proba(X_test)[:, 1]\n",
    "\n",
    "# Calculate the ROC curve\n",
    "fpr, tpr, thresholds = roc_curve(y_test, y_pred_prob)\n",
    "\n",
    "# Calculate the Area Under the ROC Curve (AUC)\n",
    "roc_auc = auc(fpr, tpr)\n",
    "print(\"ROC AUC Score:\", roc_auc)\n",
    "\n",
    "# Plot the ROC curve\n",
    "plt.figure(figsize=(8, 6))\n",
    "plt.plot(fpr, tpr, color='darkorange', lw=2, label='ROC curve (area = {:.2f})'.format(roc_auc))\n",
    "plt.plot([0, 1], [0, 1], color='navy', lw=2, linestyle='--')\n",
    "plt.xlim([0.0, 1.0])\n",
    "plt.ylim([0.0, 1.05])\n",
    "plt.xlabel('False Positive Rate')\n",
    "plt.ylabel('True Positive Rate')\n",
    "plt.title('Receiver Operating Characteristic (ROC) Curve for Random Forest')\n",
    "plt.legend(loc='lower right')\n",
    "plt.show()"
   ]
  }
 ],
 "metadata": {
  "kernelspec": {
   "display_name": "Python 3",
   "language": "python",
   "name": "python3"
  },
  "language_info": {
   "codemirror_mode": {
    "name": "ipython",
    "version": 3
   },
   "file_extension": ".py",
   "mimetype": "text/x-python",
   "name": "python",
   "nbconvert_exporter": "python",
   "pygments_lexer": "ipython3",
   "version": "3.10.12"
  },
  "orig_nbformat": 4
 },
 "nbformat": 4,
 "nbformat_minor": 2
}
