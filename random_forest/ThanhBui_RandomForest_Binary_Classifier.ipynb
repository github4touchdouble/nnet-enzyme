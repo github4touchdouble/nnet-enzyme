{
 "cells": [
  {
   "cell_type": "code",
   "execution_count": 20,
   "metadata": {
    "id": "P3bRFq62-6j_"
   },
   "outputs": [],
   "source": [
    "import pandas as pd\n",
    "import numpy as np\n",
    "from sklearn.model_selection import train_test_split\n",
    "from sklearn.ensemble import RandomForestClassifier\n",
    "from sklearn.tree import export_graphviz\n",
    "from sklearn import preprocessing\n",
    "from sklearn.metrics import f1_score\n",
    "from IPython.display import Image\n",
    "import graphviz\n",
    "import pydot\n",
    "import matplotlib.pyplot as plt\n",
    "import seaborn as sns"
   ]
  },
  {
   "cell_type": "code",
   "execution_count": 21,
   "metadata": {
    "colab": {
     "base_uri": "https://localhost:8080/"
    },
    "id": "8IdlsSk9Icai",
    "outputId": "77ec971d-203a-4a07-a650-f0facaf16856"
   },
   "outputs": [
    {
     "name": "stdout",
     "output_type": "stream",
     "text": [
      "       Label  Header                                           Sequence  \\\n",
      "0          1  O88483  MPAPTQLFFPLVRNCELSRIYGTACYCHHKHLCCSPPYIPQNRLRY...   \n",
      "1          1  P25646  MRLGNAYAYCKPSQNVGLKLDLLRGLPGYVGHATSRINRLENQDNY...   \n",
      "2          1  O53896  MAKLARVVGLVQEEQPSDMTNHPRYSPPPQQPGTPGYAQGQQQTYS...   \n",
      "3          1  Q44238  MNKLAVLYAEHIATLQKRTREIIERENLDGVVFHSGQAKRQFLDDM...   \n",
      "4          1  Q9QYJ6  MEDGPSNNASCFRRLTECFLSPSLTDEKVKAYLSLHPQVLDEFVSE...   \n",
      "...      ...     ...                                                ...   \n",
      "76313      0  P06568  MKRKTAVKWLAVLAGAGLLYWGNKTYLNVSPKEIRVWVLSFGVFAP...   \n",
      "76314      0  P55731  MHGGIQRISLRGSMLMPPQSNWQDNRFSSVAAQVDVPRAHIRGHARFSI   \n",
      "76315      0  Q62901  MTADKDKDKDKEKDRDRDRDRERDKRDKARESENARPRRSCTLEGG...   \n",
      "76316      0  P05790  MRVKTFVILCCALQYVAYTNANINDFDEDYFGSDVTVQSSNTTDEI...   \n",
      "76317      0  Q9P258  MPRKKAAAAAWEEPSSGNGTARAGPRKRGGPAGRKRERPERCSSSS...   \n",
      "\n",
      "       Sequence length        Mass Most frequent aa  Last aa is H  \\\n",
      "0                  538   61150.671                L             0   \n",
      "1                  442   49371.802                L             0   \n",
      "2                  464   46406.112                A             0   \n",
      "3                  517   58942.608                A             0   \n",
      "4                  794   90085.144                L             0   \n",
      "...                ...         ...              ...           ...   \n",
      "76313              213   23297.599                L             0   \n",
      "76314               49    5492.785                R             0   \n",
      "76315             1559  171690.464                P             0   \n",
      "76316             5263  391348.011                G             0   \n",
      "76317              522   56031.155                G             0   \n",
      "\n",
      "       Last aa is Y  \n",
      "0                 0  \n",
      "1                 0  \n",
      "2                 0  \n",
      "3                 0  \n",
      "4                 0  \n",
      "...             ...  \n",
      "76313             0  \n",
      "76314             0  \n",
      "76315             0  \n",
      "76316             0  \n",
      "76317             0  \n",
      "\n",
      "[76318 rows x 8 columns]\n"
     ]
    }
   ],
   "source": [
    "df = pd.read_csv(\"/home/trucbui/PBLGit/random_forest/binary_classification_train.csv\", sep=\"\\t\")\n",
    "print(df)"
   ]
  },
  {
   "cell_type": "code",
   "execution_count": 22,
   "metadata": {
    "colab": {
     "base_uri": "https://localhost:8080/"
    },
    "id": "Pzq8Ut8gIj7u",
    "outputId": "b8bc68d3-f1d0-4348-c4c7-5c9aab281fa2"
   },
   "outputs": [
    {
     "name": "stdout",
     "output_type": "stream",
     "text": [
      "       Label  Header                                           Sequence  \\\n",
      "0          1  O88483  MPAPTQLFFPLVRNCELSRIYGTACYCHHKHLCCSPPYIPQNRLRY...   \n",
      "1          1  P25646  MRLGNAYAYCKPSQNVGLKLDLLRGLPGYVGHATSRINRLENQDNY...   \n",
      "2          1  O53896  MAKLARVVGLVQEEQPSDMTNHPRYSPPPQQPGTPGYAQGQQQTYS...   \n",
      "3          1  Q44238  MNKLAVLYAEHIATLQKRTREIIERENLDGVVFHSGQAKRQFLDDM...   \n",
      "4          1  Q9QYJ6  MEDGPSNNASCFRRLTECFLSPSLTDEKVKAYLSLHPQVLDEFVSE...   \n",
      "...      ...     ...                                                ...   \n",
      "76313      0  P06568  MKRKTAVKWLAVLAGAGLLYWGNKTYLNVSPKEIRVWVLSFGVFAP...   \n",
      "76314      0  P55731  MHGGIQRISLRGSMLMPPQSNWQDNRFSSVAAQVDVPRAHIRGHARFSI   \n",
      "76315      0  Q62901  MTADKDKDKDKEKDRDRDRDRERDKRDKARESENARPRRSCTLEGG...   \n",
      "76316      0  P05790  MRVKTFVILCCALQYVAYTNANINDFDEDYFGSDVTVQSSNTTDEI...   \n",
      "76317      0  Q9P258  MPRKKAAAAAWEEPSSGNGTARAGPRKRGGPAGRKRERPERCSSSS...   \n",
      "\n",
      "       Sequence length        Mass  Most frequent aa  Last aa is H  \\\n",
      "0                  538   61150.671                10             0   \n",
      "1                  442   49371.802                10             0   \n",
      "2                  464   46406.112                 0             0   \n",
      "3                  517   58942.608                 0             0   \n",
      "4                  794   90085.144                10             0   \n",
      "...                ...         ...               ...           ...   \n",
      "76313              213   23297.599                10             0   \n",
      "76314               49    5492.785                15             0   \n",
      "76315             1559  171690.464                13             0   \n",
      "76316             5263  391348.011                 6             0   \n",
      "76317              522   56031.155                 6             0   \n",
      "\n",
      "       Last aa is Y  \n",
      "0                 0  \n",
      "1                 0  \n",
      "2                 0  \n",
      "3                 0  \n",
      "4                 0  \n",
      "...             ...  \n",
      "76313             0  \n",
      "76314             0  \n",
      "76315             0  \n",
      "76316             0  \n",
      "76317             0  \n",
      "\n",
      "[76318 rows x 8 columns]\n"
     ]
    }
   ],
   "source": [
    "#Convert non numeric data into numeric data\n",
    "non_numeric_set=[df['Most frequent aa']]\n",
    "le = preprocessing.LabelEncoder()\n",
    "after_processing=[]\n",
    "for s in non_numeric_set:\n",
    "  after_processing.append(le.fit_transform(s))\n",
    "df['Most frequent aa']=after_processing[0]\n",
    "\n",
    "print(df)\n",
    "\n"
   ]
  },
  {
   "cell_type": "markdown",
   "metadata": {},
   "source": [
    "<font size=\"5\">Train the model</font>"
   ]
  },
  {
   "cell_type": "code",
   "execution_count": 23,
   "metadata": {},
   "outputs": [],
   "source": [
    "#Define the features and output:\n",
    "y = np.array(df['Label'])\n",
    "X = df.drop(['Label','Header','Sequence','Sequence length','Most frequent aa'], axis=1)\n",
    "#Split data into train an test, with test size of 20%:\n",
    "X_train, X_test, y_train, y_test = train_test_split(X, y, test_size = 0.20)\n",
    "#Build the model:\n",
    "rf = RandomForestClassifier()\n",
    "rf.fit(X_train, y_train)\n",
    "y_pred=rf.predict(X)"
   ]
  },
  {
   "cell_type": "markdown",
   "metadata": {},
   "source": [
    "<font size=\"5\">Evaluate the model</font>"
   ]
  },
  {
   "cell_type": "code",
   "execution_count": 24,
   "metadata": {
    "colab": {
     "base_uri": "https://localhost:8080/"
    },
    "id": "mqkH7muZUTJ1",
    "outputId": "7b0be411-7213-4f51-9d00-5f06dbc2dcbd"
   },
   "outputs": [
    {
     "name": "stdout",
     "output_type": "stream",
     "text": [
      "accuracy on training set: 0.999558\n",
      "accuracy on test set: 0.897013\n",
      "F1 score: 0.9787228380194543\n"
     ]
    }
   ],
   "source": [
    "print(\"accuracy on training set: %f\" % rf.score(X_train, y_train))\n",
    "print(\"accuracy on test set: %f\" % rf.score(X_test, y_test))\n",
    "f1 = f1_score(y, y_pred, zero_division=\"warn\")\n",
    "print('F1 score:', f1)"
   ]
  },
  {
   "cell_type": "markdown",
   "metadata": {},
   "source": [
    "<font size=\"5\">Make a tree</font>"
   ]
  },
  {
   "cell_type": "code",
   "execution_count": 25,
   "metadata": {
    "id": "jxyc77SQJBkU"
   },
   "outputs": [],
   "source": [
    "#Using only 5 nodes:\n",
    "rf_5 = RandomForestClassifier(max_depth=5)\n",
    "rf_5.fit(X_train, y_train)\n",
    "# Pull out one tree from the forest:\n",
    "tree = rf_5.estimators_[5]\n",
    "# Export the image to a dot file:\n",
    "export_graphviz(tree, out_file = 'tree.dot', feature_names = X.columns, rounded = True, precision = 1)\n",
    "# Use dot file to create a graph:\n",
    "(graph, ) = pydot.graph_from_dot_file('tree.dot')\n",
    "# Write graph to a png file:\n",
    "graph.write_png('tree_rf.png')"
   ]
  }
 ],
 "metadata": {
  "colab": {
   "provenance": []
  },
  "kernelspec": {
   "display_name": "Python 3",
   "language": "python",
   "name": "python3"
  },
  "language_info": {
   "codemirror_mode": {
    "name": "ipython",
    "version": 3
   },
   "file_extension": ".py",
   "mimetype": "text/x-python",
   "name": "python",
   "nbconvert_exporter": "python",
   "pygments_lexer": "ipython3",
   "version": "3.10.12"
  }
 },
 "nbformat": 4,
 "nbformat_minor": 1
}
