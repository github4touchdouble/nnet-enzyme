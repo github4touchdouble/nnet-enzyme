{
 "cells": [
  {
   "cell_type": "code",
   "execution_count": 1,
   "metadata": {
    "id": "P3bRFq62-6j_"
   },
   "outputs": [
    {
     "name": "stderr",
     "output_type": "stream",
     "text": [
      "Python-dotenv could not parse statement starting at line 8\n"
     ]
    },
    {
     "data": {
      "text/plain": [
       "True"
      ]
     },
     "execution_count": 1,
     "metadata": {},
     "output_type": "execute_result"
    }
   ],
   "source": [
    "import pandas as pd\n",
    "import numpy as np\n",
    "from sklearn.model_selection import train_test_split\n",
    "from sklearn.ensemble import RandomForestClassifier\n",
    "from sklearn.tree import export_graphviz\n",
    "#from sklearn import preprocessing\n",
    "from sklearn.metrics import f1_score\n",
    "from IPython.display import Image\n",
    "import graphviz\n",
    "import pydot\n",
    "#import matplotlib.pyplot as plt\n",
    "import seaborn as sns\n",
    "import h5py\n",
    "import os\n",
    "from dotenv import load_dotenv\n",
    "\n",
    "load_dotenv() # load environment variables"
   ]
  },
  {
   "cell_type": "code",
   "execution_count": 13,
   "metadata": {
    "colab": {
     "base_uri": "https://localhost:8080/"
    },
    "id": "8IdlsSk9Icai",
    "outputId": "77ec971d-203a-4a07-a650-f0facaf16856"
   },
   "outputs": [
    {
     "name": "stdout",
     "output_type": "stream",
     "text": [
      "       Label      Header  Sequence length        Mass Most frequent aa  \\\n",
      "0          1  A0A024RBG1              181   20403.285                E   \n",
      "1          1  A0A024SMV2              391   42741.476                A   \n",
      "2          1  A0A060S684              585   63631.507                A   \n",
      "3          1  A0A075TXZ3              561   61430.813                L   \n",
      "4          1  A0A077K8G3              407   45202.745                L   \n",
      "...      ...         ...              ...         ...              ...   \n",
      "48701      0      X2JAU8             1075  117164.578                E   \n",
      "48702      0      X5HYT8              425   46670.153                A   \n",
      "48703      0      X5LX76             1029  118226.052                S   \n",
      "48704      0      X6R8D5              127   14504.179                S   \n",
      "48705      0      X6R8R1              474   52161.620                L   \n",
      "\n",
      "       Last aa is H  Last aa is Y  \n",
      "0                 0             0  \n",
      "1                 0             0  \n",
      "2                 0             0  \n",
      "3                 0             0  \n",
      "4                 0             0  \n",
      "...             ...           ...  \n",
      "48701             0             0  \n",
      "48702             0             0  \n",
      "48703             0             0  \n",
      "48704             0             0  \n",
      "48705             0             0  \n",
      "\n",
      "[48706 rows x 7 columns]\n"
     ]
    }
   ],
   "source": [
    "df = pd.read_csv(\"/home/trucbui/PBLGit/random_forest/binary_classification_train.csv\", sep=\"\\t\")\n",
    "df = df.sort_values(['Label','Header'], ascending=(False,True))\n",
    "df=df.reset_index(drop=True)\n",
    "print(df)"
   ]
  },
  {
   "cell_type": "code",
   "execution_count": 3,
   "metadata": {
    "colab": {
     "base_uri": "https://localhost:8080/"
    },
    "id": "Pzq8Ut8gIj7u",
    "outputId": "b8bc68d3-f1d0-4348-c4c7-5c9aab281fa2"
   },
   "outputs": [
    {
     "data": {
      "text/plain": [
       "\"\\n#Convert non numeric data into numeric data    \\n#TODO: find another way to convert. The numeric data should not be ranked\\nnon_numeric_set=[df['Most frequent aa']]\\nle = preprocessing.LabelEncoder()\\nafter_processing=[]\\nfor s in non_numeric_set:\\n  after_processing.append(le.fit_transform(s))\\ndf['Most frequent aa']=after_processing[0]\\n\\nprint(df)\\n\""
      ]
     },
     "execution_count": 3,
     "metadata": {},
     "output_type": "execute_result"
    }
   ],
   "source": [
    "'''\n",
    "#Convert non numeric data into numeric data    \n",
    "#TODO: find another way to convert. The numeric data should not be ranked\n",
    "non_numeric_set=[df['Most frequent aa']]\n",
    "le = preprocessing.LabelEncoder()\n",
    "after_processing=[]\n",
    "for s in non_numeric_set:\n",
    "  after_processing.append(le.fit_transform(s))\n",
    "df['Most frequent aa']=after_processing[0]\n",
    "\n",
    "print(df)\n",
    "'''\n"
   ]
  },
  {
   "cell_type": "markdown",
   "metadata": {},
   "source": [
    "<font size=\"5\">Working with Embeddings</font>"
   ]
  },
  {
   "cell_type": "code",
   "execution_count": 12,
   "metadata": {},
   "outputs": [],
   "source": [
    "def read_esm2(path_to_esm2:str) -> pd.DataFrame:\n",
    "    \n",
    "    with h5py.File(path_to_esm2) as hdf_handle:\n",
    "        embeddings_max = []\n",
    "        embeddings_min = []\n",
    "        embeddings_median=[]\n",
    "        embeddings_deviation=[]\n",
    "    \n",
    "        for header, emb in hdf_handle.items():\n",
    "            emb = np.array(list(emb))\n",
    "            embeddings_max.append(np.amax(emb))\n",
    "            embeddings_min.append(np.min(emb))\n",
    "            embeddings_median.append(np.median(emb))\n",
    "            embeddings_deviation.append(np.std(emb))\n",
    "\n",
    "\n",
    "        return pd.DataFrame(data={\"Emb max\": embeddings_max, \"Emb min\": embeddings_min, \"Emb median\": embeddings_median, \"Emb std\":embeddings_deviation})\n",
    "    \n",
    "\n",
    "embeddings_esm2_enzymes_30 = read_esm2(os.getenv(\"ESM2_ENZYMES_SPLIT_30\"))\n",
    "embeddings_esm2_non_enzymes = read_esm2(os.getenv(\"ESM2_NON_ENZYMES\"))\n"
   ]
  },
  {
   "cell_type": "code",
   "execution_count": 16,
   "metadata": {},
   "outputs": [
    {
     "name": "stdout",
     "output_type": "stream",
     "text": [
      "         Emb max   Emb min  Emb median   Emb std\n",
      "0      12.089359 -0.613488   -0.003883  0.246559\n",
      "1      10.992490 -0.462509   -0.002613  0.224955\n",
      "2      11.732064 -0.775824   -0.002250  0.238975\n",
      "3      11.502498 -0.975507   -0.001353  0.235385\n",
      "4      12.043853 -0.965225   -0.004369  0.246203\n",
      "...          ...       ...         ...       ...\n",
      "48701   9.954324 -1.101609   -0.003210  0.218149\n",
      "48702  13.143876 -0.896627   -0.003682  0.267518\n",
      "48703  12.641706 -0.686069   -0.003806  0.255798\n",
      "48704  13.531825 -1.542869   -0.004650  0.287314\n",
      "48705   9.344967 -0.876774   -0.001748  0.203606\n",
      "\n",
      "[48706 rows x 4 columns]\n"
     ]
    }
   ],
   "source": [
    "emb_all=pd.concat([embeddings_esm2_enzymes_30,embeddings_esm2_non_enzymes],axis=0) #concat vertically\n",
    "emb_all=emb_all.reset_index(drop=True)\n",
    "print(emb_all)"
   ]
  },
  {
   "cell_type": "code",
   "execution_count": 17,
   "metadata": {},
   "outputs": [
    {
     "name": "stdout",
     "output_type": "stream",
     "text": [
      "       Label      Header  Sequence length        Mass Most frequent aa  \\\n",
      "0          1  A0A024RBG1              181   20403.285                E   \n",
      "1          1  A0A024SMV2              391   42741.476                A   \n",
      "2          1  A0A060S684              585   63631.507                A   \n",
      "3          1  A0A075TXZ3              561   61430.813                L   \n",
      "4          1  A0A077K8G3              407   45202.745                L   \n",
      "...      ...         ...              ...         ...              ...   \n",
      "48701      0      X2JAU8             1075  117164.578                E   \n",
      "48702      0      X5HYT8              425   46670.153                A   \n",
      "48703      0      X5LX76             1029  118226.052                S   \n",
      "48704      0      X6R8D5              127   14504.179                S   \n",
      "48705      0      X6R8R1              474   52161.620                L   \n",
      "\n",
      "       Last aa is H  Last aa is Y    Emb max   Emb min  Emb median   Emb std  \n",
      "0                 0             0  12.089359 -0.613488   -0.003883  0.246559  \n",
      "1                 0             0  10.992490 -0.462509   -0.002613  0.224955  \n",
      "2                 0             0  11.732064 -0.775824   -0.002250  0.238975  \n",
      "3                 0             0  11.502498 -0.975507   -0.001353  0.235385  \n",
      "4                 0             0  12.043853 -0.965225   -0.004369  0.246203  \n",
      "...             ...           ...        ...       ...         ...       ...  \n",
      "48701             0             0   9.954324 -1.101609   -0.003210  0.218149  \n",
      "48702             0             0  13.143876 -0.896627   -0.003682  0.267518  \n",
      "48703             0             0  12.641706 -0.686069   -0.003806  0.255798  \n",
      "48704             0             0  13.531825 -1.542869   -0.004650  0.287314  \n",
      "48705             0             0   9.344967 -0.876774   -0.001748  0.203606  \n",
      "\n",
      "[48706 rows x 11 columns]\n"
     ]
    }
   ],
   "source": [
    "df=pd.concat([df,emb_all],axis=1)\n",
    "print(df)"
   ]
  },
  {
   "cell_type": "markdown",
   "metadata": {},
   "source": [
    "<font size=\"5\">Train the model</font>"
   ]
  },
  {
   "cell_type": "code",
   "execution_count": 18,
   "metadata": {},
   "outputs": [],
   "source": [
    "#Define the features and output:\n",
    "y = np.array(df['Label'])\n",
    "X = df.drop(['Label','Header','Sequence length','Most frequent aa'],axis=1)\n",
    "#Split data into train an test, with test size of 20%:\n",
    "X_train, X_test, y_train, y_test = train_test_split(X, y, test_size = 0.20)\n",
    "#Build the model:\n",
    "rf = RandomForestClassifier()\n",
    "rf.fit(X_train, y_train)\n",
    "y_pred=rf.predict(X)"
   ]
  },
  {
   "cell_type": "markdown",
   "metadata": {},
   "source": [
    "<font size=\"5\">Evaluate the model</font>"
   ]
  },
  {
   "cell_type": "code",
   "execution_count": 19,
   "metadata": {
    "colab": {
     "base_uri": "https://localhost:8080/"
    },
    "id": "mqkH7muZUTJ1",
    "outputId": "7b0be411-7213-4f51-9d00-5f06dbc2dcbd"
   },
   "outputs": [
    {
     "name": "stdout",
     "output_type": "stream",
     "text": [
      "accuracy on training set: 0.999923\n",
      "accuracy on test set: 0.823342\n",
      "F1 score: 0.9020120495623508\n"
     ]
    }
   ],
   "source": [
    "print(\"accuracy on training set: %f\" % rf.score(X_train, y_train))\n",
    "print(\"accuracy on test set: %f\" % rf.score(X_test, y_test))\n",
    "f1 = f1_score(y, y_pred, zero_division=\"warn\")\n",
    "print('F1 score:', f1)"
   ]
  },
  {
   "cell_type": "markdown",
   "metadata": {},
   "source": [
    "<font size=\"5\">Make a tree</font>"
   ]
  },
  {
   "cell_type": "code",
   "execution_count": 21,
   "metadata": {
    "id": "jxyc77SQJBkU"
   },
   "outputs": [],
   "source": [
    "#Using only 5 nodes:\n",
    "rf_5 = RandomForestClassifier(max_depth=5)\n",
    "rf_5.fit(X_train, y_train)\n",
    "# Pull out one tree from the forest:\n",
    "tree = rf_5.estimators_[5]\n",
    "# Export the image to a dot file:\n",
    "export_graphviz(tree, out_file = 'tree.dot', feature_names = X.columns, rounded = True, precision = 1)\n",
    "# Use dot file to create a graph:\n",
    "(graph, ) = pydot.graph_from_dot_file('tree.dot')\n",
    "# Write graph to a png file:\n",
    "graph.write_png('tree_rf.png')"
   ]
  }
 ],
 "metadata": {
  "colab": {
   "provenance": []
  },
  "kernelspec": {
   "display_name": "Python 3",
   "language": "python",
   "name": "python3"
  },
  "language_info": {
   "codemirror_mode": {
    "name": "ipython",
    "version": 3
   },
   "file_extension": ".py",
   "mimetype": "text/x-python",
   "name": "python",
   "nbconvert_exporter": "python",
   "pygments_lexer": "ipython3",
   "version": "3.10.12"
  }
 },
 "nbformat": 4,
 "nbformat_minor": 1
}
