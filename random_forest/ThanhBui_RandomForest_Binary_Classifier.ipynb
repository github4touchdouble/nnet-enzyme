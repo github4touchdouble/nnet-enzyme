{
 "cells": [
  {
   "cell_type": "code",
   "execution_count": null,
   "metadata": {
    "id": "P3bRFq62-6j_"
   },
   "outputs": [],
   "source": [
    "import pandas as pd\n",
    "import numpy as np\n",
    "from sklearn.model_selection import train_test_split\n",
    "from sklearn.ensemble import RandomForestClassifier\n",
    "from sklearn.tree import export_graphviz\n",
    "from sklearn import preprocessing\n",
    "from IPython.display import Image\n",
    "import graphviz\n",
    "import pydot\n",
    "import matplotlib.pyplot as plt\n",
    "import seaborn as sns"
   ]
  },
  {
   "cell_type": "code",
   "execution_count": null,
   "metadata": {
    "colab": {
     "base_uri": "https://localhost:8080/",
     "height": 73
    },
    "id": "JcEt9H7gPlxE",
    "outputId": "8dd91d21-1bd8-47a2-ad02-086d95f122a4"
   },
   "outputs": [
    {
     "data": {
      "text/html": [
       "\n",
       "     <input type=\"file\" id=\"files-b6f665b4-8e3a-4d12-89c7-dccf2cc80e91\" name=\"files[]\" multiple disabled\n",
       "        style=\"border:none\" />\n",
       "     <output id=\"result-b6f665b4-8e3a-4d12-89c7-dccf2cc80e91\">\n",
       "      Upload widget is only available when the cell has been executed in the\n",
       "      current browser session. Please rerun this cell to enable.\n",
       "      </output>\n",
       "      <script>// Copyright 2017 Google LLC\n",
       "//\n",
       "// Licensed under the Apache License, Version 2.0 (the \"License\");\n",
       "// you may not use this file except in compliance with the License.\n",
       "// You may obtain a copy of the License at\n",
       "//\n",
       "//      http://www.apache.org/licenses/LICENSE-2.0\n",
       "//\n",
       "// Unless required by applicable law or agreed to in writing, software\n",
       "// distributed under the License is distributed on an \"AS IS\" BASIS,\n",
       "// WITHOUT WARRANTIES OR CONDITIONS OF ANY KIND, either express or implied.\n",
       "// See the License for the specific language governing permissions and\n",
       "// limitations under the License.\n",
       "\n",
       "/**\n",
       " * @fileoverview Helpers for google.colab Python module.\n",
       " */\n",
       "(function(scope) {\n",
       "function span(text, styleAttributes = {}) {\n",
       "  const element = document.createElement('span');\n",
       "  element.textContent = text;\n",
       "  for (const key of Object.keys(styleAttributes)) {\n",
       "    element.style[key] = styleAttributes[key];\n",
       "  }\n",
       "  return element;\n",
       "}\n",
       "\n",
       "// Max number of bytes which will be uploaded at a time.\n",
       "const MAX_PAYLOAD_SIZE = 100 * 1024;\n",
       "\n",
       "function _uploadFiles(inputId, outputId) {\n",
       "  const steps = uploadFilesStep(inputId, outputId);\n",
       "  const outputElement = document.getElementById(outputId);\n",
       "  // Cache steps on the outputElement to make it available for the next call\n",
       "  // to uploadFilesContinue from Python.\n",
       "  outputElement.steps = steps;\n",
       "\n",
       "  return _uploadFilesContinue(outputId);\n",
       "}\n",
       "\n",
       "// This is roughly an async generator (not supported in the browser yet),\n",
       "// where there are multiple asynchronous steps and the Python side is going\n",
       "// to poll for completion of each step.\n",
       "// This uses a Promise to block the python side on completion of each step,\n",
       "// then passes the result of the previous step as the input to the next step.\n",
       "function _uploadFilesContinue(outputId) {\n",
       "  const outputElement = document.getElementById(outputId);\n",
       "  const steps = outputElement.steps;\n",
       "\n",
       "  const next = steps.next(outputElement.lastPromiseValue);\n",
       "  return Promise.resolve(next.value.promise).then((value) => {\n",
       "    // Cache the last promise value to make it available to the next\n",
       "    // step of the generator.\n",
       "    outputElement.lastPromiseValue = value;\n",
       "    return next.value.response;\n",
       "  });\n",
       "}\n",
       "\n",
       "/**\n",
       " * Generator function which is called between each async step of the upload\n",
       " * process.\n",
       " * @param {string} inputId Element ID of the input file picker element.\n",
       " * @param {string} outputId Element ID of the output display.\n",
       " * @return {!Iterable<!Object>} Iterable of next steps.\n",
       " */\n",
       "function* uploadFilesStep(inputId, outputId) {\n",
       "  const inputElement = document.getElementById(inputId);\n",
       "  inputElement.disabled = false;\n",
       "\n",
       "  const outputElement = document.getElementById(outputId);\n",
       "  outputElement.innerHTML = '';\n",
       "\n",
       "  const pickedPromise = new Promise((resolve) => {\n",
       "    inputElement.addEventListener('change', (e) => {\n",
       "      resolve(e.target.files);\n",
       "    });\n",
       "  });\n",
       "\n",
       "  const cancel = document.createElement('button');\n",
       "  inputElement.parentElement.appendChild(cancel);\n",
       "  cancel.textContent = 'Cancel upload';\n",
       "  const cancelPromise = new Promise((resolve) => {\n",
       "    cancel.onclick = () => {\n",
       "      resolve(null);\n",
       "    };\n",
       "  });\n",
       "\n",
       "  // Wait for the user to pick the files.\n",
       "  const files = yield {\n",
       "    promise: Promise.race([pickedPromise, cancelPromise]),\n",
       "    response: {\n",
       "      action: 'starting',\n",
       "    }\n",
       "  };\n",
       "\n",
       "  cancel.remove();\n",
       "\n",
       "  // Disable the input element since further picks are not allowed.\n",
       "  inputElement.disabled = true;\n",
       "\n",
       "  if (!files) {\n",
       "    return {\n",
       "      response: {\n",
       "        action: 'complete',\n",
       "      }\n",
       "    };\n",
       "  }\n",
       "\n",
       "  for (const file of files) {\n",
       "    const li = document.createElement('li');\n",
       "    li.append(span(file.name, {fontWeight: 'bold'}));\n",
       "    li.append(span(\n",
       "        `(${file.type || 'n/a'}) - ${file.size} bytes, ` +\n",
       "        `last modified: ${\n",
       "            file.lastModifiedDate ? file.lastModifiedDate.toLocaleDateString() :\n",
       "                                    'n/a'} - `));\n",
       "    const percent = span('0% done');\n",
       "    li.appendChild(percent);\n",
       "\n",
       "    outputElement.appendChild(li);\n",
       "\n",
       "    const fileDataPromise = new Promise((resolve) => {\n",
       "      const reader = new FileReader();\n",
       "      reader.onload = (e) => {\n",
       "        resolve(e.target.result);\n",
       "      };\n",
       "      reader.readAsArrayBuffer(file);\n",
       "    });\n",
       "    // Wait for the data to be ready.\n",
       "    let fileData = yield {\n",
       "      promise: fileDataPromise,\n",
       "      response: {\n",
       "        action: 'continue',\n",
       "      }\n",
       "    };\n",
       "\n",
       "    // Use a chunked sending to avoid message size limits. See b/62115660.\n",
       "    let position = 0;\n",
       "    do {\n",
       "      const length = Math.min(fileData.byteLength - position, MAX_PAYLOAD_SIZE);\n",
       "      const chunk = new Uint8Array(fileData, position, length);\n",
       "      position += length;\n",
       "\n",
       "      const base64 = btoa(String.fromCharCode.apply(null, chunk));\n",
       "      yield {\n",
       "        response: {\n",
       "          action: 'append',\n",
       "          file: file.name,\n",
       "          data: base64,\n",
       "        },\n",
       "      };\n",
       "\n",
       "      let percentDone = fileData.byteLength === 0 ?\n",
       "          100 :\n",
       "          Math.round((position / fileData.byteLength) * 100);\n",
       "      percent.textContent = `${percentDone}% done`;\n",
       "\n",
       "    } while (position < fileData.byteLength);\n",
       "  }\n",
       "\n",
       "  // All done.\n",
       "  yield {\n",
       "    response: {\n",
       "      action: 'complete',\n",
       "    }\n",
       "  };\n",
       "}\n",
       "\n",
       "scope.google = scope.google || {};\n",
       "scope.google.colab = scope.google.colab || {};\n",
       "scope.google.colab._files = {\n",
       "  _uploadFiles,\n",
       "  _uploadFilesContinue,\n",
       "};\n",
       "})(self);\n",
       "</script> "
      ],
      "text/plain": [
       "<IPython.core.display.HTML object>"
      ]
     },
     "metadata": {},
     "output_type": "display_data"
    },
    {
     "name": "stdout",
     "output_type": "stream",
     "text": [
      "Saving binary_classification_train.csv to binary_classification_train.csv\n"
     ]
    }
   ],
   "source": [
    "import io\n",
    "from google.colab import files\n",
    "uploaded = files.upload()"
   ]
  },
  {
   "cell_type": "code",
   "execution_count": null,
   "metadata": {
    "colab": {
     "base_uri": "https://localhost:8080/"
    },
    "id": "8IdlsSk9Icai",
    "outputId": "77ec971d-203a-4a07-a650-f0facaf16856"
   },
   "outputs": [
    {
     "name": "stdout",
     "output_type": "stream",
     "text": [
      "       Label  Header                                           Sequence  \\\n",
      "0          1  O88483  MPAPTQLFFPLVRNCELSRIYGTACYCHHKHLCCSPPYIPQNRLRY...   \n",
      "1          1  P25646  MRLGNAYAYCKPSQNVGLKLDLLRGLPGYVGHATSRINRLENQDNY...   \n",
      "2          1  O53896  MAKLARVVGLVQEEQPSDMTNHPRYSPPPQQPGTPGYAQGQQQTYS...   \n",
      "3          1  Q44238  MNKLAVLYAEHIATLQKRTREIIERENLDGVVFHSGQAKRQFLDDM...   \n",
      "4          1  Q9QYJ6  MEDGPSNNASCFRRLTECFLSPSLTDEKVKAYLSLHPQVLDEFVSE...   \n",
      "...      ...     ...                                                ...   \n",
      "76313      0  P06568  MKRKTAVKWLAVLAGAGLLYWGNKTYLNVSPKEIRVWVLSFGVFAP...   \n",
      "76314      0  P55731  MHGGIQRISLRGSMLMPPQSNWQDNRFSSVAAQVDVPRAHIRGHARFSI   \n",
      "76315      0  Q62901  MTADKDKDKDKEKDRDRDRDRERDKRDKARESENARPRRSCTLEGG...   \n",
      "76316      0  P05790  MRVKTFVILCCALQYVAYTNANINDFDEDYFGSDVTVQSSNTTDEI...   \n",
      "76317      0  Q9P258  MPRKKAAAAAWEEPSSGNGTARAGPRKRGGPAGRKRERPERCSSSS...   \n",
      "\n",
      "       Sequence length        Mass Most frequent aa  Last aa is H  \\\n",
      "0                  538   61150.671                L             0   \n",
      "1                  442   49371.802                L             0   \n",
      "2                  464   46406.112                A             0   \n",
      "3                  517   58942.608                A             0   \n",
      "4                  794   90085.144                L             0   \n",
      "...                ...         ...              ...           ...   \n",
      "76313              213   23297.599                L             0   \n",
      "76314               49    5492.785                R             0   \n",
      "76315             1559  171690.464                P             0   \n",
      "76316             5263  391348.011                G             0   \n",
      "76317              522   56031.155                G             0   \n",
      "\n",
      "       Last aa is Y  \n",
      "0                 0  \n",
      "1                 0  \n",
      "2                 0  \n",
      "3                 0  \n",
      "4                 0  \n",
      "...             ...  \n",
      "76313             0  \n",
      "76314             0  \n",
      "76315             0  \n",
      "76316             0  \n",
      "76317             0  \n",
      "\n",
      "[76318 rows x 8 columns]\n"
     ]
    }
   ],
   "source": [
    "df = pd.read_csv(\"/content/binary_classification_train.csv\", sep=\"\\t\")\n",
    "print(df)"
   ]
  },
  {
   "cell_type": "markdown",
   "metadata": {
    "id": "fp4YK-G4IFq4"
   },
   "source": [
    "# New Section"
   ]
  },
  {
   "cell_type": "code",
   "execution_count": null,
   "metadata": {
    "colab": {
     "base_uri": "https://localhost:8080/"
    },
    "id": "Pzq8Ut8gIj7u",
    "outputId": "b8bc68d3-f1d0-4348-c4c7-5c9aab281fa2"
   },
   "outputs": [
    {
     "name": "stdout",
     "output_type": "stream",
     "text": [
      "       Label  Header                                           Sequence  \\\n",
      "0          1  O88483  MPAPTQLFFPLVRNCELSRIYGTACYCHHKHLCCSPPYIPQNRLRY...   \n",
      "1          1  P25646  MRLGNAYAYCKPSQNVGLKLDLLRGLPGYVGHATSRINRLENQDNY...   \n",
      "2          1  O53896  MAKLARVVGLVQEEQPSDMTNHPRYSPPPQQPGTPGYAQGQQQTYS...   \n",
      "3          1  Q44238  MNKLAVLYAEHIATLQKRTREIIERENLDGVVFHSGQAKRQFLDDM...   \n",
      "4          1  Q9QYJ6  MEDGPSNNASCFRRLTECFLSPSLTDEKVKAYLSLHPQVLDEFVSE...   \n",
      "...      ...     ...                                                ...   \n",
      "76313      0  P06568  MKRKTAVKWLAVLAGAGLLYWGNKTYLNVSPKEIRVWVLSFGVFAP...   \n",
      "76314      0  P55731  MHGGIQRISLRGSMLMPPQSNWQDNRFSSVAAQVDVPRAHIRGHARFSI   \n",
      "76315      0  Q62901  MTADKDKDKDKEKDRDRDRDRERDKRDKARESENARPRRSCTLEGG...   \n",
      "76316      0  P05790  MRVKTFVILCCALQYVAYTNANINDFDEDYFGSDVTVQSSNTTDEI...   \n",
      "76317      0  Q9P258  MPRKKAAAAAWEEPSSGNGTARAGPRKRGGPAGRKRERPERCSSSS...   \n",
      "\n",
      "       Sequence length        Mass  Most frequent aa  Last aa is H  \\\n",
      "0                  538   61150.671                10             0   \n",
      "1                  442   49371.802                10             0   \n",
      "2                  464   46406.112                 0             0   \n",
      "3                  517   58942.608                 0             0   \n",
      "4                  794   90085.144                10             0   \n",
      "...                ...         ...               ...           ...   \n",
      "76313              213   23297.599                10             0   \n",
      "76314               49    5492.785                15             0   \n",
      "76315             1559  171690.464                13             0   \n",
      "76316             5263  391348.011                 6             0   \n",
      "76317              522   56031.155                 6             0   \n",
      "\n",
      "       Last aa is Y  \n",
      "0                 0  \n",
      "1                 0  \n",
      "2                 0  \n",
      "3                 0  \n",
      "4                 0  \n",
      "...             ...  \n",
      "76313             0  \n",
      "76314             0  \n",
      "76315             0  \n",
      "76316             0  \n",
      "76317             0  \n",
      "\n",
      "[76318 rows x 8 columns]\n"
     ]
    }
   ],
   "source": [
    "#Convert non numeric data into numeric data\n",
    "non_numeric_set=[df['Most frequent aa']]\n",
    "le = preprocessing.LabelEncoder()\n",
    "after_processing=[]\n",
    "for s in non_numeric_set:\n",
    "  after_processing.append(le.fit_transform(s))\n",
    "df['Most frequent aa']=after_processing[0]\n",
    "\n",
    "print(df)\n",
    "\n"
   ]
  },
  {
   "cell_type": "code",
   "execution_count": null,
   "metadata": {
    "colab": {
     "base_uri": "https://localhost:8080/"
    },
    "id": "mqkH7muZUTJ1",
    "outputId": "7b0be411-7213-4f51-9d00-5f06dbc2dcbd"
   },
   "outputs": [
    {
     "name": "stdout",
     "output_type": "stream",
     "text": [
      "accuracy on training set: 0.999951\n",
      "accuracy on test set: 0.898716\n"
     ]
    }
   ],
   "source": [
    "#Define the features and output:\n",
    "y = np.array(df['Label'])\n",
    "X = df.drop(['Label','Header','Sequence'], axis=1)\n",
    "#Split data into train an test, with test size of 20%:\n",
    "X_train, X_test, y_train, y_test = train_test_split(X, y, test_size = 0.20)\n",
    "#Build the model:\n",
    "rf = RandomForestClassifier()\n",
    "rf.fit(X_train, y_train)\n",
    "#Evaluate the model:\n",
    "print(\"accuracy on training set: %f\" % rf.score(X_train, y_train))\n",
    "print(\"accuracy on test set: %f\" % rf.score(X_test, y_test))"
   ]
  },
  {
   "cell_type": "code",
   "execution_count": null,
   "metadata": {
    "id": "jxyc77SQJBkU"
   },
   "outputs": [],
   "source": [
    "#Using only 5 nodes:\n",
    "rf_5 = RandomForestClassifier(max_depth=5)\n",
    "rf_5.fit(X_train, y_train)\n",
    "# Pull out one tree from the forest:\n",
    "tree = rf_5.estimators_[5]\n",
    "# Export the image to a dot file:\n",
    "export_graphviz(tree, out_file = 'tree.dot', feature_names = X.columns, rounded = True, precision = 1)\n",
    "# Use dot file to create a graph:\n",
    "(graph, ) = pydot.graph_from_dot_file('tree.dot')\n",
    "# Write graph to a png file:\n",
    "graph.write_png('tree_rf.png')"
   ]
  }
 ],
 "metadata": {
  "colab": {
   "provenance": []
  },
  "kernelspec": {
   "display_name": "Python 3",
   "language": "python",
   "name": "python3"
  },
  "language_info": {
   "codemirror_mode": {
    "name": "ipython",
    "version": 3
   },
   "file_extension": ".py",
   "mimetype": "text/x-python",
   "name": "python",
   "nbconvert_exporter": "python",
   "pygments_lexer": "ipython3",
   "version": "3.7.3"
  }
 },
 "nbformat": 4,
 "nbformat_minor": 1
}
