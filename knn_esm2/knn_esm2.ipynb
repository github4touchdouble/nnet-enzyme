{
 "cells": [
  {
   "cell_type": "markdown",
   "source": [
    "# Reading in ESM2 Embeddings"
   ],
   "metadata": {
    "collapsed": false
   }
  },
  {
   "cell_type": "code",
   "execution_count": 1,
   "outputs": [
    {
     "data": {
      "text/plain": "True"
     },
     "execution_count": 1,
     "metadata": {},
     "output_type": "execute_result"
    }
   ],
   "source": [
    "import numpy as np\n",
    "import matplotlib.pyplot as plt\n",
    "import pandas as pd\n",
    "from sklearn.model_selection import train_test_split\n",
    "from sklearn.svm import SVC\n",
    "from sklearn.metrics import f1_score\n",
    "from sklearn.metrics import auc, roc_curve\n",
    "from sklearn.metrics import ConfusionMatrixDisplay\n",
    "from dotenv import load_dotenv\n",
    "import os\n",
    "from reading_util import *\n",
    "load_dotenv()"
   ],
   "metadata": {
    "collapsed": false
   }
  },
  {
   "cell_type": "code",
   "execution_count": 2,
   "outputs": [
    {
     "name": "stdout",
     "output_type": "stream",
     "text": [
      "9204\n",
      "39502\n"
     ]
    },
    {
     "data": {
      "text/plain": "        Entry                                          Embedding  Label\n0  A0A024RBG1  [-0.015143169, 0.035552002, -0.02231326, 0.002...      1\n1  A0A024SMV2  [0.059097216, -0.034141198, 0.061426997, 0.006...      1\n2  A0A060S684  [-0.016934631, -0.04490467, 0.0054878886, -0.0...      1\n3  A0A075TXZ3  [-0.06815035, -0.034723807, 0.03341713, -0.057...      1\n4  A0A077K8G3  [-0.03639361, 0.046453245, 0.06140146, -0.0697...      1",
      "text/html": "<div>\n<style scoped>\n    .dataframe tbody tr th:only-of-type {\n        vertical-align: middle;\n    }\n\n    .dataframe tbody tr th {\n        vertical-align: top;\n    }\n\n    .dataframe thead th {\n        text-align: right;\n    }\n</style>\n<table border=\"1\" class=\"dataframe\">\n  <thead>\n    <tr style=\"text-align: right;\">\n      <th></th>\n      <th>Entry</th>\n      <th>Embedding</th>\n      <th>Label</th>\n    </tr>\n  </thead>\n  <tbody>\n    <tr>\n      <th>0</th>\n      <td>A0A024RBG1</td>\n      <td>[-0.015143169, 0.035552002, -0.02231326, 0.002...</td>\n      <td>1</td>\n    </tr>\n    <tr>\n      <th>1</th>\n      <td>A0A024SMV2</td>\n      <td>[0.059097216, -0.034141198, 0.061426997, 0.006...</td>\n      <td>1</td>\n    </tr>\n    <tr>\n      <th>2</th>\n      <td>A0A060S684</td>\n      <td>[-0.016934631, -0.04490467, 0.0054878886, -0.0...</td>\n      <td>1</td>\n    </tr>\n    <tr>\n      <th>3</th>\n      <td>A0A075TXZ3</td>\n      <td>[-0.06815035, -0.034723807, 0.03341713, -0.057...</td>\n      <td>1</td>\n    </tr>\n    <tr>\n      <th>4</th>\n      <td>A0A077K8G3</td>\n      <td>[-0.03639361, 0.046453245, 0.06140146, -0.0697...</td>\n      <td>1</td>\n    </tr>\n  </tbody>\n</table>\n</div>"
     },
     "execution_count": 2,
     "metadata": {},
     "output_type": "execute_result"
    }
   ],
   "source": [
    "esm2_enzymes_30 = os.getenv(\"ESM2_ENZYMES_SPLIT_30\")\n",
    "esm2_non_enzymes = os.getenv(\"ESM2_NON_ENZYMES\")\n",
    "\n",
    "ml_df = load_ml_df(path_to_enzyme_esm2=esm2_enzymes_30, path_to_non_enzyme_esm2=esm2_non_enzymes)\n",
    "ml_df.head()\n"
   ],
   "metadata": {
    "collapsed": false
   }
  },
  {
   "cell_type": "markdown",
   "source": [
    "KNN"
   ],
   "metadata": {
    "collapsed": false
   }
  }
 ],
 "metadata": {
  "kernelspec": {
   "display_name": "Python 3",
   "language": "python",
   "name": "python3"
  },
  "language_info": {
   "codemirror_mode": {
    "name": "ipython",
    "version": 2
   },
   "file_extension": ".py",
   "mimetype": "text/x-python",
   "name": "python",
   "nbconvert_exporter": "python",
   "pygments_lexer": "ipython2",
   "version": "2.7.6"
  }
 },
 "nbformat": 4,
 "nbformat_minor": 0
}
