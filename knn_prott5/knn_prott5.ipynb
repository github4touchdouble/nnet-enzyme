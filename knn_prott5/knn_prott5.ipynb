{
 "cells": [
  {
   "cell_type": "code",
   "execution_count": null,
   "metadata": {
    "collapsed": true
   },
   "outputs": [],
   "source": [
    "import os\n",
    "from dotenv import load_dotenv\n",
    "\n",
    "import pandas as pd\n",
    "from reading_util import enzyme_split30_preprocessing, read_h5, apply_prott5, read_fasta\n",
    "\n",
    "from sklearn.model_selection import train_test_split\n",
    "from sklearn.neighbors import KNeighborsClassifier\n",
    "from sklearn.pipeline import Pipeline\n",
    "from sklearn.preprocessing import StandardScaler\n",
    "from sklearn.inspection import DecisionBoundaryDisplay"
   ]
  },
  {
   "cell_type": "code",
   "execution_count": null,
   "outputs": [],
   "source": [
    "load_dotenv()\n",
    "path_to_non_enzymes = os.getenv(\"FASTA_NON_ENZYMES\")\n",
    "path_to_csv_split30 = os.getenv(\"CSV30_ENZYMES\", \"not found\")\n",
    "\n",
    "path_to_prott5_ne = os.getenv(\"PROTT5_NON_ENZYMES\", \"not found\")\n",
    "path_to_prott5 = os.getenv(\"PROTT5_ENZYMES_SPLIT_X\", \"not found\")\n",
    "path_to_csv_split30_prott5 = os.getenv(\"CSV30_ENZYMES_PROTT5_APPLIED\")\n",
    "path_to_non_enzymes_prott5 = os.getenv(\"NON_ENZYMES_PROTT5_APPLIED\")"
   ],
   "metadata": {
    "collapsed": false
   }
  },
  {
   "cell_type": "markdown",
   "source": [
    "# Import and format data"
   ],
   "metadata": {
    "collapsed": false
   }
  },
  {
   "cell_type": "code",
   "execution_count": null,
   "outputs": [],
   "source": [
    "enzymes = enzyme_split30_preprocessing(pd.read_csv(path_to_csv_split30, delimiter=\",\"))\n",
    "enzymes.head()\n"
   ],
   "metadata": {
    "collapsed": false
   }
  },
  {
   "cell_type": "code",
   "execution_count": null,
   "outputs": [],
   "source": [
    "enzymes = apply_prott5(read_h5(path_to_prott5), enzymes)\n",
    "enzymes.head()"
   ],
   "metadata": {
    "collapsed": false
   }
  },
  {
   "cell_type": "code",
   "execution_count": null,
   "outputs": [],
   "source": [
    "enzymes.to_csv(path_to_csv_split30_prott5)"
   ],
   "metadata": {
    "collapsed": false
   }
  },
  {
   "cell_type": "code",
   "execution_count": null,
   "outputs": [],
   "source": [
    "non_enzymes = read_fasta(path_to_non_enzymes)\n",
    "non_enzymes.head()"
   ],
   "metadata": {
    "collapsed": false
   }
  },
  {
   "cell_type": "code",
   "execution_count": null,
   "outputs": [],
   "source": [
    "non_enzymes = apply_prott5(read_h5(path_to_prott5_ne), non_enzymes)\n",
    "non_enzymes.head()"
   ],
   "metadata": {
    "collapsed": false
   }
  },
  {
   "cell_type": "markdown",
   "source": [
    "# Get CSVs if prott5 is applied already"
   ],
   "metadata": {
    "collapsed": false
   }
  },
  {
   "cell_type": "code",
   "execution_count": null,
   "outputs": [],
   "source": [
    "enzymes = pd.read_csv(path_to_csv_split30_prott5, delimiter=\",\")\n",
    "enzymes.head()"
   ],
   "metadata": {
    "collapsed": false
   }
  },
  {
   "cell_type": "code",
   "execution_count": null,
   "outputs": [],
   "source": [
    "non_enzymes = pd.read_csv(path_to_non_enzymes_prott5, delimiter=\",\")\n",
    "non_enzymes.head()"
   ],
   "metadata": {
    "collapsed": false
   }
  },
  {
   "cell_type": "markdown",
   "source": [
    "# Apply KNN"
   ],
   "metadata": {
    "collapsed": false
   }
  },
  {
   "cell_type": "code",
   "execution_count": null,
   "outputs": [],
   "source": [
    "# Split data\n",
    "enzymes[\"Label\"] = 1\n",
    "non_enzymes[\"Label\"] = 0\n",
    "\n",
    "bin = pd.concat([enzymes[[\"Label\", \"Embedding\"]], non_enzymes[[\"Label\", \"Embedding\"]]], ignore_index=True)\n",
    "\n",
    "bin = bin.sample(frac=1, random_state=42).reset_index(drop=True)\n",
    "\n",
    "#Split data\n",
    "X_train, X_test, y_train, y_test = train_test_split(bin[\"Embedding\"], bin[\"Label\"], test_size=0.2, random_state=42)"
   ],
   "metadata": {
    "collapsed": false
   }
  },
  {
   "cell_type": "code",
   "execution_count": null,
   "outputs": [],
   "source": [
    "# Perform KNN\n",
    "clf = Pipeline(\n",
    "    steps=[(\"scaler\", StandardScaler()), (\"knn\", KNeighborsClassifier(n_neighbors=11))]\n",
    ")"
   ],
   "metadata": {
    "collapsed": false
   }
  },
  {
   "cell_type": "code",
   "execution_count": null,
   "outputs": [],
   "source": [],
   "metadata": {
    "collapsed": false,
    "pycharm": {
     "is_executing": true
    }
   }
  },
  {
   "cell_type": "code",
   "execution_count": null,
   "outputs": [],
   "source": [],
   "metadata": {
    "collapsed": false
   }
  }
 ],
 "metadata": {
  "kernelspec": {
   "display_name": "Python 3",
   "language": "python",
   "name": "python3"
  },
  "language_info": {
   "codemirror_mode": {
    "name": "ipython",
    "version": 2
   },
   "file_extension": ".py",
   "mimetype": "text/x-python",
   "name": "python",
   "nbconvert_exporter": "python",
   "pygments_lexer": "ipython2",
   "version": "2.7.6"
  }
 },
 "nbformat": 4,
 "nbformat_minor": 0
}
