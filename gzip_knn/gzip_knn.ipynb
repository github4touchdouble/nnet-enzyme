{
 "cells": [
  {
   "cell_type": "code",
   "execution_count": 24,
   "metadata": {
    "collapsed": true,
    "ExecuteTime": {
     "end_time": "2023-08-15T11:06:16.165884718Z",
     "start_time": "2023-08-15T11:06:16.122890124Z"
    }
   },
   "outputs": [],
   "source": [
    "import gzip\n",
    "import pandas as pd\n",
    "from sklearn.neighbors import KNeighborsClassifier\n",
    "import multiprocessing\n",
    "from sklearn.model_selection import train_test_split\n",
    "from sklearn.metrics import roc_curve, auc\n",
    "import matplotlib.pyplot as plt\n",
    "import seaborn as sns\n",
    "sns.set_style(\"ticks\")"
   ]
  },
  {
   "cell_type": "code",
   "execution_count": 25,
   "outputs": [],
   "source": [
    "def read_fasta_to_df(file) -> pd.DataFrame:\n",
    "    \"\"\"\n",
    "    method for reading in fasta file and converting it to a pandas dataframe\n",
    "    \"\"\"\n",
    "    fasta_dict = {\"Entry\": \"Sequence\"}\n",
    "    with open(file, \"r\") as f:\n",
    "        lines = f.readlines()\n",
    "    current_key = \"\"\n",
    "    for line in lines:\n",
    "        line = line.strip(\"\\n\")\n",
    "        if line[0] == \">\":\n",
    "            fasta_dict[line[1::]] = \"\"\n",
    "            current_key = line[1::]\n",
    "        else:\n",
    "            fasta_dict[current_key] += line\n",
    "    f.close()\n",
    "\n",
    "    # Set the first row as column names\n",
    "    df = pd.DataFrame.from_dict(fasta_dict, orient=\"index\")\n",
    "    df.columns = df.iloc[0]\n",
    "    df = df[1:]\n",
    "    return df\n"
   ],
   "metadata": {
    "collapsed": false,
    "ExecuteTime": {
     "end_time": "2023-08-15T11:06:16.525171411Z",
     "start_time": "2023-08-15T11:06:16.501290100Z"
    }
   }
  },
  {
   "cell_type": "code",
   "execution_count": 26,
   "outputs": [],
   "source": [
    "def filter_unwanted_seqs(df: pd.DataFrame, enzymes=bool):\n",
    "\n",
    "    # remove unwanted aas\n",
    "    df = df[~df['Sequence'].str.contains('O')]\n",
    "    df = df[~df['Sequence'].str.contains('U')]\n",
    "\n",
    "    # for enzymes remove multifunctional enzymes\n",
    "    if enzymes:\n",
    "        multifunc_enzymes = df[df['EC number'].str.contains(';')]\n",
    "        to_remove = []\n",
    "        for ec in multifunc_enzymes['EC number']:\n",
    "            ec = ec.split(';')\n",
    "            if ec[0][0] != ec[1][0]:\n",
    "                to_remove.append(ec)\n",
    "        df = df[~df['EC number'].isin(to_remove)]\n",
    "\n",
    "    return df\n",
    "\n"
   ],
   "metadata": {
    "collapsed": false,
    "ExecuteTime": {
     "end_time": "2023-08-15T11:06:16.933014364Z",
     "start_time": "2023-08-15T11:06:16.919740675Z"
    }
   }
  },
  {
   "cell_type": "code",
   "execution_count": 40,
   "outputs": [
    {
     "name": "stdout",
     "output_type": "stream",
     "text": [
      "MSPKSVPDIGDVLARQAEDIDTRYHPSAALRRQLNKVFPTHWSFLLGEIALYSFIVLLLTGVYLTLFFDPSMTDVTYNGVYQPLRGVEMSRAYQSTLDISFEVRGGLFVRQIHHWAALMFTAAIMVHLARIFFTGAFRRPRETNWVIGSLLLILAMFEGYFGYSMPDDLLSGIGLRAALSSITLGIPVIGTWLHWALFGGDFPGTILIPRLYALHILLIPGVILALIGLHLALVWFQKHTQFPGPGRTEYNVVGVRVMPVFAFKSGAFFAAIVGVLGLMGGFLQINPIWNLGPYKPSQVSAGSQPDFYMMWTEGLARIWPAWEFYFWHHTIPAPVWVAVIMALVFVLLITYPFLEKRFTGDYAHHNLLQRPRDVPVRTSIGAMAITFYMVLTLAAMNDIIALKFHISLNATTWIGRIGMVILPLLVYFITYRWCIGLQRSDRAVLEHGIETGIIKRLPHGAYIELHQPLGPVDDHGHPIPLEYQGTAVPKRMNKLGSAGSPSSGSFLFADPVSEDAALREATHVAEQRALTALREHQDSIASSPNGERGKH\n",
      "1\n"
     ]
    },
    {
     "data": {
      "text/plain": "<Figure size 500x500 with 1 Axes>",
      "image/png": "[encoded data removed]"
     },
     "metadata": {},
     "output_type": "display_data"
    }
   ],
   "source": [
    "enzymes = pd.read_csv(\"/home/malte/Desktop/Dataset/data/enzymes/csv/split30.csv\", sep=\",\")\n",
    "non_enzymes = read_fasta_to_df(\"/home/malte/Desktop/Dataset/data/non_enzyme/fasta/no_enzyme_train.fasta\")\n",
    "\n",
    "enzymes = filter_unwanted_seqs(df=enzymes, enzymes=True)\n",
    "enzymes.set_index(\"Entry\", inplace=True)\n",
    "non_enzymes = filter_unwanted_seqs(df=non_enzymes, enzymes=False)\n",
    "non_enzymes = non_enzymes[non_enzymes[\"Sequence\"].apply(len) <= 1022]\n",
    "# sns.displot(non_enzymes, x=non_enzymes[\"Sequence\"].apply(len), element=\"step\")\n",
    "non_enzymes = non_enzymes[non_enzymes[\"Sequence\"].apply(len) <= 1022]\n",
    "\n",
    "# plt.hist(enzymes[\"Sequence\"].apply(len), bins=60)\n",
    "# fill in y label\n",
    "enzymes[\"Label\"] = 1\n",
    "non_enzymes[\"Label\"] = -1\n",
    "non_enzymes[\"EC number\"] = -1\n",
    "\n",
    "\n",
    "# filter short sequences and make dfs equally big\n",
    "# enzymes = enzymes[enzymes[\"Sequence\"].apply(len) > 200]\n",
    "# non_enzymes = non_enzymes[non_enzymes[\"Sequence\"].apply(len) > 200]\n",
    "non_enzymes = non_enzymes.sample(len(enzymes), random_state=42)\n",
    "\n",
    "# combine df to main dataframe for knn\n",
    "df = pd.concat([enzymes, non_enzymes])\n",
    "palette = {1: \"tab:cyan\", -1: \"tab:orange\"}\n",
    "sns.displot(df, x=df[\"Sequence\"].apply(len), hue=\"Label\", element=\"step\", palette=palette, legend=False)\n",
    "plt.legend(title='Label', loc='upper right', labels=['Enzyme', 'Non Enzyme'])\n",
    "\n",
    "train_x, test_x, train_y, test_y = train_test_split(df[\"Sequence\"], df[\"Label\"], random_state=42, test_size=0.3)\n",
    "\n",
    "print(train_x[0])\n",
    "print(train_y[0])\n",
    "\n",
    "train_x_list = train_x.tolist()\n",
    "test_x_list = test_x.tolist()\n",
    "\n",
    "NUM_PROCESSES = 16\n",
    "\n"
   ],
   "metadata": {
    "collapsed": false,
    "ExecuteTime": {
     "end_time": "2023-08-15T11:17:41.913076736Z",
     "start_time": "2023-08-15T11:17:41.060762055Z"
    }
   }
  },
  {
   "cell_type": "code",
   "execution_count": 41,
   "outputs": [
    {
     "name": "stdout",
     "output_type": "stream",
     "text": [
      "9186\n",
      "9186\n"
     ]
    }
   ],
   "source": [
    "print(len(enzymes))\n",
    "print(len(non_enzymes))"
   ],
   "metadata": {
    "collapsed": false,
    "ExecuteTime": {
     "end_time": "2023-08-15T11:17:56.653583560Z",
     "start_time": "2023-08-15T11:17:56.636437272Z"
    }
   }
  },
  {
   "cell_type": "code",
   "execution_count": 14,
   "outputs": [],
   "source": [
    "def ncd(x:str, x2:str):\n",
    "    x_compressed = len(gzip.compress(x.encode()))\n",
    "    x2_compressed = len(gzip.compress(x2.encode()))\n",
    "    xx2 = len(gzip.compress((\" \".join([x,x2])).encode()))\n",
    "    return (xx2 - min(x_compressed, x2_compressed)) / max(x_compressed, x2_compressed)"
   ],
   "metadata": {
    "collapsed": false,
    "ExecuteTime": {
     "end_time": "2023-08-14T10:33:08.025962159Z",
     "start_time": "2023-08-14T10:33:08.020585332Z"
    }
   }
  },
  {
   "cell_type": "code",
   "execution_count": 15,
   "outputs": [],
   "source": [
    "# Initialize NCD matrices\n",
    "train_ncd = [[0] * len(train_x_list) for _ in range(len(train_x_list))]\n",
    "test_ncd = [[0] * len(train_x_list) for _ in range(len(test_x_list))]"
   ],
   "metadata": {
    "collapsed": false,
    "ExecuteTime": {
     "end_time": "2023-08-14T10:33:10.063902336Z",
     "start_time": "2023-08-14T10:33:08.532892917Z"
    }
   }
  },
  {
   "cell_type": "code",
   "execution_count": 16,
   "outputs": [],
   "source": [
    "# Helper function to compute NCD row\n",
    "def calculate_ncd_row(data_row): # data row is a tuple of (index, text)\n",
    "    i = data_row[0] # index of the data and data_row[1] is the text data\n",
    "    # calcs the row of NCD values for the given data sample\n",
    "    row = [ncd(data_row[1], train_x_list[j]) for j in range(len(train_x_list))]\n",
    "    return i, row # return index and row's ncd values"
   ],
   "metadata": {
    "collapsed": false,
    "ExecuteTime": {
     "end_time": "2023-08-14T10:33:10.716246752Z",
     "start_time": "2023-08-14T10:33:10.704224913Z"
    }
   }
  },
  {
   "cell_type": "code",
   "execution_count": 17,
   "outputs": [],
   "source": [
    "with multiprocessing.Pool(NUM_PROCESSES) as pool:\n",
    "    # Compute train NCD\n",
    "    train_data = list(enumerate(train_x_list))\n",
    "    train_results = pool.map(calculate_ncd_row, train_data)\n",
    "\n",
    "    # Compute test NCD\n",
    "    test_data = list(enumerate(test_x_list))\n",
    "    test_results = pool.map(calculate_ncd_row, test_data)"
   ],
   "metadata": {
    "collapsed": false,
    "ExecuteTime": {
     "end_time": "2023-08-14T11:10:21.211224540Z",
     "start_time": "2023-08-14T10:33:14.461698439Z"
    }
   }
  },
  {
   "cell_type": "code",
   "execution_count": 18,
   "outputs": [],
   "source": [
    "# Insert rows into NCD matrices\n",
    "for i, row in train_results:\n",
    "    train_ncd[i] = row\n",
    "\n",
    "for i, row in test_results:\n",
    "    test_ncd[i] = row"
   ],
   "metadata": {
    "collapsed": false,
    "ExecuteTime": {
     "end_time": "2023-08-14T11:30:09.728137526Z",
     "start_time": "2023-08-14T11:30:09.247085912Z"
    }
   }
  },
  {
   "cell_type": "code",
   "execution_count": 29,
   "outputs": [
    {
     "name": "stdout",
     "output_type": "stream",
     "text": [
      "Accuracy: 0.6233040702314445\n"
     ]
    }
   ],
   "source": [
    "# KNN classification\n",
    "neigh = KNeighborsClassifier(n_neighbors=23)\n",
    "neigh.fit(train_ncd, train_y)\n",
    "\n",
    "accuracy = neigh.score(test_ncd, test_y)\n",
    "print(\"Accuracy:\", accuracy)"
   ],
   "metadata": {
    "collapsed": false,
    "ExecuteTime": {
     "end_time": "2023-08-14T11:36:19.484718048Z",
     "start_time": "2023-08-14T11:35:59.998311373Z"
    }
   }
  },
  {
   "cell_type": "code",
   "execution_count": 30,
   "outputs": [],
   "source": [
    "# Compute ROC curve and AUC"
   ],
   "metadata": {
    "collapsed": false,
    "ExecuteTime": {
     "end_time": "2023-08-14T11:36:19.555149529Z",
     "start_time": "2023-08-14T11:36:19.487410123Z"
    }
   }
  },
  {
   "cell_type": "code",
   "execution_count": 31,
   "outputs": [
    {
     "data": {
      "text/plain": "<Figure size 640x480 with 1 Axes>",
      "image/png": "[encoded data removed]"
     },
     "metadata": {},
     "output_type": "display_data"
    },
    {
     "name": "stdout",
     "output_type": "stream",
     "text": [
      "AUC: 0.6722405422538273\n"
     ]
    }
   ],
   "source": [
    "# Predict probabilities for the positive class (class 1)\n",
    "y_prob = neigh.predict_proba(test_ncd)[:, 1]\n",
    "\n",
    "# Compute ROC curve and AUC\n",
    "fpr, tpr, thresholds = roc_curve(test_y, y_prob)\n",
    "roc_auc = auc(fpr, tpr)\n",
    "\n",
    "# Plot ROC curve\n",
    "plt.figure()\n",
    "plt.plot(fpr, tpr, color='darkorange', lw=2, label='ROC curve (area = %0.2f)' % roc_auc)\n",
    "plt.plot([0, 1], [0, 1], color='navy', lw=2, linestyle='--')\n",
    "plt.xlim([0.0, 1.0])\n",
    "plt.ylim([0.0, 1.05])\n",
    "plt.xlabel('False Positive Rate')\n",
    "plt.ylabel('True Positive Rate')\n",
    "plt.title('Receiver Operating Characteristic')\n",
    "plt.legend(loc=\"lower right\")\n",
    "plt.show()\n",
    "\n",
    "print(\"AUC:\", roc_auc)\n"
   ],
   "metadata": {
    "collapsed": false,
    "ExecuteTime": {
     "end_time": "2023-08-14T11:36:35.106797136Z",
     "start_time": "2023-08-14T11:36:19.530881765Z"
    }
   }
  },
  {
   "cell_type": "code",
   "execution_count": 22,
   "outputs": [],
   "source": [
    "k_val = ['3','5','7','9','11','13']\n",
    "accs = [0.6852322206095791,\n",
    "        0.6994188158372684,\n",
    "        0.706277213352685,\n",
    "        0.7135341074020319,\n",
    "        0.7193396226415094,\n",
    "        0.7177068214804064\n",
    "        ]\n",
    "aucs = [0.7327608168875566,\n",
    "        0.7530599575534589,\n",
    "        0.7676071682719114,\n",
    "        0.7684117326044725,\n",
    "        0.7785173028728516,\n",
    "        0.7815764510563281\n",
    "        ]"
   ],
   "metadata": {
    "collapsed": false,
    "ExecuteTime": {
     "end_time": "2023-08-15T11:05:47.925821529Z",
     "start_time": "2023-08-15T11:05:47.883971461Z"
    }
   }
  },
  {
   "cell_type": "code",
   "execution_count": 81,
   "outputs": [
    {
     "data": {
      "text/plain": "<Figure size 640x480 with 1 Axes>",
      "image/png": "[encoded data removed]"
     },
     "metadata": {},
     "output_type": "display_data"
    }
   ],
   "source": [
    "ax = sns.lineplot(x=k_val, y=accs, legend=False, color=\"orange\")\n",
    "sns.lineplot(x=k_val, y=aucs, legend=False, color=\"red\")\n",
    "ax.set_title(\"Comparing different values for k\")\n",
    "ax.set(xlabel=\"k\")\n",
    "plt.legend(title='Legend', loc='upper left', labels=['Accuracy', 'AUC'],\n",
    "           handles=[plt.Line2D([], [], color='orange', label='Accuracy'),\n",
    "                    plt.Line2D([], [], color='red', label='AUC')])\n",
    "plt.show()\n"
   ],
   "metadata": {
    "collapsed": false,
    "ExecuteTime": {
     "end_time": "2023-08-15T12:13:04.526540993Z",
     "start_time": "2023-08-15T12:13:04.304267601Z"
    }
   }
  },
  {
   "cell_type": "markdown",
   "source": [
    "# Looking into the sequence compression and distance calculation"
   ],
   "metadata": {
    "collapsed": false
   }
  },
  {
   "cell_type": "code",
   "execution_count": 86,
   "outputs": [
    {
     "name": "stdout",
     "output_type": "stream",
     "text": [
      "SEQUENCE:\n",
      "---------\n",
      "MPAPTQLFFPLVRNCELSRIYGTACYCHHKHLCCSPPYIPQNRLRYTPHPAYATFCRPRENWWQYTQGRRYASTPQKFYLTPPQVNSILKANEYSFKVPEFDGKNVSSILGFDSNRLPANAPIEDRRSATTCLQTRGMLLGVFDGHAGCACSQAVSERLFYYIAVSLLPHETLLEIENAVESGRALLPILQWHKHPNDYFSKEASKLYFNGLRTYWQELIDLNTGESADIDVKEALINAFKRLDNDISLEAQVGDPNSFLNYLVLRVAFSGATACVAHVDGVDLHVANTGDSRAMLGVQEEDGSWSAVTLSNDHNAQNERELQRLKLEHPKNEAKSVVKQDRLLGLLMPFRAFGDVKFKWSIDLQKRVIESGPDQLNDNEYTKFIPPNYHTPPYLTAEPEVTYHRLRPQDKFLVLATDGLWETMHRQDVVRIVGEYLTGMHHQQPIAVGGYKVTLGQMHGLLTERRAKMSSVFEDQNAATHLIRHAVGNNEFGAVDHERLSKMLSLPEELARMYRDDITIIVVQFNSHVVGAYQNQEQ\n",
      "LENGTH: 538\n",
      "\n",
      "COMPRESSED SEQUENCE:\n",
      "--------------------\n",
      "b'\\x1f\\x8b\\x08\\x00\\x14n\\xdbd\\x02\\xff\\r\\x90[\\x0eE1\\x04E\\xc7&\\x87jS\\x15\\x8f\\xc6M\\xe7?\\x91\\xebO\\xd8aY\\xc7\\xc0\\xae\\xcb\\x18&\\x15\\xfa\\x91d\\xac\\xc7\\x17\\xbe\\xf7\\xcd\\xb9\\xa7|_\\x9a\\xbde\\xae!\\xf1\\xaeM\\x83\\x07w|aA\\xfa\\xfb\\xf9\\xbb\\xce\\x11\\x0f\\xf2\\x9a\\xef\\xf1\\xe4\\x9ayi.\\xd9\\xa0\\xf4r\\xec2\\x1a\\xc8[+\\xbb\\xc9\\x03\\xb3\\x17\\x19(\\xd8\"\\x8cH\\xb8\\xf7\\x13\\xbf\\xc1G\\x84\\xab\\x93\\x13\\xf8\\x83/\\x1d*)d\\xbc\\xb7\\xba\\x12\\xb1IW\\x84\\x16)\\x14%\\x07tk\\x89\\xff\\x9a\\xd1\\x14\\xdf\\xc8M\\x90[\\xdeP\\x96\\xb8\\xef\\xe7$\\x0bE/S\\x02.\\xac\\x1e\\xcbR\\x18;\\x04\\x15W\\n\\x81\\x17\\xa3i\\x0e\\xd1\\'%Q0\\x92\\xa1?/\\x98\\x85\\\\(\\xb3\\xa0\\x17`\\x06\\x9cfs\"\\xe4\\xfc%\\xd4\\x95T\\x9c\\n\\xae\\x14$\\x1e\\xb2\\x85\\xa6m%\\xd8Y\\xb5\\x1d\\xa3\\x7f\\x1196\\x02\\x06\\xf7\\xed\\xb1\\x7f\\xd94\\xbe\\xa3V\\xc3\\x1b\\xba(\\xb6\\x9e\\xbb\\xc72\\xd37\\xdbZ\\xab\\x032\\xaa\\xfbf\\x9b6\\xc7=\\x9a\\n.\\xb2\\xfc\\xe8\\x9e\\x19\\x8eU\\xb1\\x8a\\xa9\\x93|\\xe6t\\xb7V\\xc3\\xfcv\\x03\\xb1\\x9f\\xd9\\'/E\\xc0>\\x995\\x08]\\x01\\xee\\x94\\x15\\xb3c\\xaa4\\x18\\ngK\\xcd}$\\xc5\\x88\\x04\\xe2\\xbc@\\\\w\\xad*\\x1f\\x9a\\xb3\\x8a\\xe1\\xb9:\\xf9\\x1f\\xd4N\\xd4b\\x1a\\x02\\x00\\x00'\n",
      "\n",
      "LENGTH: 335\n"
     ]
    }
   ],
   "source": [
    "x = df[\"Sequence\"][0]\n",
    "print(f\"SEQUENCE:\\n---------\\n{x}\\nLENGTH: {len(x)}\\n\")\n",
    "x_comp = gzip.compress(x.encode())\n",
    "print(f\"COMPRESSED SEQUENCE:\\n--------------------\\n{x_comp}\\n\")\n",
    "print(f\"LENGTH: {len(x_comp)}\")"
   ],
   "metadata": {
    "collapsed": false,
    "ExecuteTime": {
     "end_time": "2023-08-15T12:22:44.480628257Z",
     "start_time": "2023-08-15T12:22:44.470338524Z"
    }
   }
  },
  {
   "cell_type": "code",
   "execution_count": 85,
   "outputs": [
    {
     "name": "stdout",
     "output_type": "stream",
     "text": [
      "SEQUENCE:\n",
      "---------\n",
      "MRLGNAYAYCKPSQNVGLKLDLLRGLPGYVGHATSRINRLENQDNYSIKMMRSWPNAYGSALNCSVFDGHGEKGAQLSQLLADKLCSSLDFPEPSWDKQDLKKLVQEYARRFPEGNYWKHKLSTFEKFYNKFIKNCNSKQELLLMKEGDSAILGQNGGRMIFDKMGNIIDKIALLTELDRLRLFYGFARFDLDQCCGLGTAAGSTASSIFLYPYDDPNAPIDEGKDDDSWIISHSGLLKLIVTQVGDSKIILCDQDGIAHALTTTHHINSSRERHRLSIDPSRLDPDAFGETRFLNNFANTRSFGDVAGKPYGISSEPDIFSFLVGNTLHLPRSERSKLPFNGDECFLALVTDGITNKLADQEVVDLITSTVNSWGLKKATPQFVAEETIKFIQAIATKHSDNATCVVVRLSNWGNWPNVDRTGPQRETKLMNAQSNETKLN\n",
      "LENGTH: 442\n",
      "\n",
      "COMPRESSED SEQUENCE:\n",
      "--------------------\n",
      "b'\\x1f\\x8b\\x08\\x00\\x0en\\xdbd\\x02\\xff\\x15\\x90Q\\x8aE1\\x08C\\xd7&\\xb5\\xb5b\\xae\\xb4*}t\\xff\\x1b\\x99\\xce_\\x08\\x84$\\xe7\\x0b\\x88\\xd3\\xa5\\xdbl\\xe5\\xf6#00\\x10\\x82%\\xf7\\xc8\\xa4\\xcaP\\x0ft\\xdf\\xec7\\xd5\\xbe/\\xf2\\xb7^D\\x92\\xe0-\\xcf`\\x99\\xd2Mh#7@lh\\x99\\xe0\\xb1\\xfa\\xca\\x1f\\xdbf\\x98\\xe1\\xec~)\\xe2\\x99\\xe2\\xf7g\\xd3\\x905\\xba\\x8d\\xeb6\\xd4\\xbcy\\xda\\xee\\x00>\\xeb\\xc2I\\n\\xd9.\\x12\\x9f\\x0e\\xb6O\\\\\\x95M\\t\\xa8\\x0e\\x0e\\x04\\xc6\\x95A1\\x18\\xbc[\\x13H\\x11I\\x16e\\xea\\xc0]\\x97\\xf9-\\\\\\xca]\\x8c\\x99\\xf3\\xa7\\x9a3\\x05\\xef\\x9b\\x9e\\xda\\xe75\\x98*\\x1ao\\x16\\xa5I\\xa8\\xaa9\\xd53\\xa3\\xc7\\x0c\\xa4\\xf2\\xca\\x00/\\xa6!\\xbdb\\xc0}\\x90W\\xe4\\x10>$\\xb6\\xaehf_\\xac#\\x07\\x8exabE\\xf6H\\xc3\\x1a.\\xdc\\xdb\\x00\\xe1\\xd4+(\\xb7Ge\\xf7s\\x18ZY\\xc7\\xf3\\xf70\\x1b\\xd5\\xda\\xe3P\\xef\\xa5\\x8f\\xc1&\\xa5\\xb2\\x99\\xecT\\xed\\x9c\\xf3V\\xf8O\\xfc\\xa1>\\x1c%kG/\\xc3\\xe7\\xb4\\xd3\\xff\\x95\\xff\\x01<\\x0e\\x1e\\xf5\\xba\\x01\\x00\\x00'\n",
      "\n",
      "LENGTH: 282\n"
     ]
    }
   ],
   "source": [
    "x2 = df[\"Sequence\"][1]\n",
    "print(f\"SEQUENCE:\\n---------\\n{x2}\\nLENGTH: {len(x2)}\\n\")\n",
    "x2_comp = gzip.compress(x2.encode())\n",
    "print(f\"COMPRESSED SEQUENCE:\\n--------------------\\n{x2_comp}\\n\")\n",
    "print(f\"LENGTH: {len(x2_comp)}\")"
   ],
   "metadata": {
    "collapsed": false,
    "ExecuteTime": {
     "end_time": "2023-08-15T12:22:38.788329210Z",
     "start_time": "2023-08-15T12:22:38.744105371Z"
    }
   }
  },
  {
   "cell_type": "markdown",
   "source": [
    "## Combining x and x2 to xx2"
   ],
   "metadata": {
    "collapsed": false
   }
  },
  {
   "cell_type": "code",
   "execution_count": 58,
   "outputs": [
    {
     "name": "stdout",
     "output_type": "stream",
     "text": [
      "COMPRESSED SEQUENCE:\n",
      "--------------------\n",
      "b'\\x1f\\x8b\\x08\\x00\\x99a\\xdbd\\x02\\xff\\x1d\\x93Q\\xae\\xed \\x08E\\xa7\\xf2\\xa6B\\n\\xa2\\x81\\x12\\x04b\\xe3\\xfc\\'r9\\xef\\xcfX\\xaa\\xb0\\xf6\\xf2u\\xf0\\xda:\\x86\\xeb\\t{H3\\xd6\\xe5\\x82\\xe7>s\\xca\\xd4\\xe7I\\xf7\\xbb|[h\\xdc\\xf2\\xe9p\\xa1\\xc6\\x13\\x1ed\\xdf\\xb7om\\x8e\\xb8\\x90\\xe5[\\xc6\\xd5r\\xdf\\xc7r\\xa9\\x80\\xd1\\xcd!\\xc7i \\x8b\\x9d\\xecM\\x1e\\x98}\\x90\\x83\\x81/\\xc2\\x88\\x84\\xaaGw\\x05\\xbf\\xaa|\\xbar\\x02?\\xf0\\xe4\\x86\\x93\\x14:\\xee]\\xbdR\\xf5I\\xa5J\\x8b\\x0c\\x0e%\\x07\\xf4\\xd6\\xd2\\xfdu\\x8fnxG\\nA\\x8a\\xdea\\xacQ\\xf7\\xdb\\xa4\\x0b\\xd5\\x8a)\\x01\\x17\\x9e\\xfe\\xac\\xcb`H(\\x1a\\xaeT\\x82}\\x18\\xddr\\xa8]=\\x1a\\x07F2\\xf4\\xe4\\x07\\xe6A>\\xa8\\xf3@\\x1f\\x80\\x19\\xf0vo\\x9b\\x089\\xbf\\x84S\\x9a\\x86\\xd3`\\x1b\\x05\\xe9\\x0e\\x15\\xa5\\xe9b\\x04\\x92\\xe7\\xc8\\xc6\\xe8YT_\\x1f\\x01\\x83\\xfb\\xee!_v7[\\xe2\\xacn\\xdeq\\xaba\\xe3)\\x19\\xcb\\xdd\\xeelj\\x8d\\x0e\\xc8\\xe9\\xd4\\x9dM\\xda7\\xca\\xe8\\xae\\xa0\\x90\\xf5\\xa3zgl<\\'\\xd6a\\xeaJ~\\xe7\\xdc\\xdb\\x1b\\r\\xf3\\x95n\\x88\\xf7;\\xfb\\xca\\xa2\\x08\\x907\\xf3\\x0c\\xc2m\\x005u\\xc5\\xec23\\x1a\\x0c\\x07gCMy5\\xd5\\x89\\x14\\xe2\\xbd\\x81\\xb8j\\xads\\xf6\\xb0\\x9c\\xe70\\xdcm\\x9b\\xf6\\xbf7\\x94\\xad\\xd3\\xbe\\x8fxn;\\xdcs\\xa2j\\xb0:\\xdf\\xd3AU\\xbb\\xd2i\\x92m\\xb4\\x9bK\\xde7\\xf2\\xf3\\xfe\\x85\\x13\\xd4\\x9e\\xfc\\x1f\\'\\x930l\\xcd\\xad\\n(\\xfad*\\x0e\\'\\xcf\\x0f\\x9b\\x94\\x8ah\\x93\\xbd\\x10\\xd1\\x9bl\\xf7\\x93)\\x9a5\\xa8e\\xb2\\xc6#\\xf6XJ\\xa7\\xd9<\\x85:\\x0ch\\x8b\\xb61\\xc7\\xbb\\x06\\xca\\xcb\\xb6\\x16\\xca\\x82\\xdf\\xec\\xda\\xe0\\x7f\\xca\\xf0\\x80\\x18\\xa8\\xb8\\x9f\\x87\\xb5]\\x06\\xce\\x82\\xd6o\\xe8\\xf5\\x8b\\x9dy\\xcb\\x87\\xc4\\x82\\x88\\xf9\\xad\\x953\\x1b\\x9d\\xe8:\\xf5S\"e-}p#/\\x98\\xa0U5\\xe7\\xb2\\xcc\\xa0\\xe8d:G\\xcfv\\xc8\\xb1\\xa3\\xa5\\x8a\\xb6\\xc7Fk\\x12\\xf9K\\x1aX\\xfc\\xf2\\xca$\\xc75Z\\xad\\x06_:\\xd5\\xa3en=\\xbd\\xf5Dz\\x86\\x82\\x9eNv\\x95IS\\xd9t\\xda\\xb6UY\\xfdr\\xbe\\xc6,\\xd0\\xafi\\x1c \\xaa\\xd5\\x0c6,(\\x99\\x89\\x06\\xf5\\x9c\\xb6\\xa0\\xfd\\xfb\\xd8\\x1a\\xf5\\xc1(\\xf6\\x1dT\\xa2o\\x0b\\x99\\xf6[\\xd9\\x1f\\xd6J\\x91\\x1b\\xd5\\x03\\x00\\x00'\n",
      "\n",
      "LENGTH: 590\n"
     ]
    }
   ],
   "source": [
    "xx2_comp = gzip.compress(\" \".join([x, x2]).encode())\n",
    "print(f\"COMPRESSED SEQUENCE:\\n--------------------\\n{xx2_comp}\\n\")\n",
    "print(f\"LENGTH: {len(xx2_comp)}\")\n"
   ],
   "metadata": {
    "collapsed": false,
    "ExecuteTime": {
     "end_time": "2023-08-15T11:29:29.684697813Z",
     "start_time": "2023-08-15T11:29:29.634981618Z"
    }
   }
  },
  {
   "cell_type": "markdown",
   "source": [
    "## Calulating normalized compression distances"
   ],
   "metadata": {
    "collapsed": false
   }
  },
  {
   "cell_type": "code",
   "execution_count": 61,
   "outputs": [
    {
     "name": "stdout",
     "output_type": "stream",
     "text": [
      "Normalized compression distance: 0.9194029850746268\n"
     ]
    }
   ],
   "source": [
    "# saving lengths\n",
    "x_comp_length = len(x_comp)\n",
    "x2_comp_length = len(x2_comp)\n",
    "xx2_comp_length = len(xx2_comp)\n",
    "\n",
    "\n",
    "ncd = (xx2_comp_length - min(x_comp_length, x2_comp_length)) / max(x_comp_length, x2_comp_length)\n",
    "print(f\"Normalized compression distance: {ncd}\")"
   ],
   "metadata": {
    "collapsed": false,
    "ExecuteTime": {
     "end_time": "2023-08-15T11:33:25.149478109Z",
     "start_time": "2023-08-15T11:33:25.109023925Z"
    }
   }
  },
  {
   "cell_type": "markdown",
   "source": [
    "### Now we need to compare every sequence to every other sequence in the dataframe:"
   ],
   "metadata": {
    "collapsed": false
   }
  },
  {
   "cell_type": "code",
   "execution_count": 63,
   "outputs": [],
   "source": [
    "def ncd(x, x2):\n",
    "  x_compressed = len(gzip.compress(x.encode()))\n",
    "  x2_compressed = len(gzip.compress(x2.encode()))\n",
    "  xx2 = len(gzip.compress((\" \".join([x,x2])).encode()))\n",
    "  return (xx2 - min(x_compressed, x2_compressed)) / max(x_compressed, x2_compressed)"
   ],
   "metadata": {
    "collapsed": false,
    "ExecuteTime": {
     "end_time": "2023-08-15T11:35:36.077398713Z",
     "start_time": "2023-08-15T11:35:36.032582440Z"
    }
   }
  },
  {
   "cell_type": "code",
   "execution_count": 64,
   "outputs": [],
   "source": [
    "example_df = df[\"Sequence\"][1:10]\n",
    "train_ncd = [[ncd(example_df[i], example_df[j]) for j in range(len(example_df))] for i in range(len(example_df))]"
   ],
   "metadata": {
    "collapsed": false,
    "ExecuteTime": {
     "end_time": "2023-08-15T11:35:36.524798206Z",
     "start_time": "2023-08-15T11:35:36.495846252Z"
    }
   }
  },
  {
   "cell_type": "code",
   "execution_count": 69,
   "outputs": [
    {
     "name": "stdout",
     "output_type": "stream",
     "text": [
      "[0]: [0.04609929078014184, 0.900709219858156, 0.913312693498452, 0.9438669438669439, 0.9477124183006536, 0.9113475177304965, 0.9524714828897338, 0.8936170212765957, 0.8829787234042553]\n",
      "[1]: [0.9078014184397163, 0.04285714285714286, 0.9256965944272446, 0.9584199584199584, 0.9651416122004357, 0.9142857142857143, 0.9524714828897338, 0.9071428571428571, 0.9]\n",
      "[2]: [0.9164086687306502, 0.9256965944272446, 0.034055727554179564, 0.9584199584199584, 0.9564270152505446, 0.9287925696594427, 0.9562737642585551, 0.9071207430340558, 0.9009287925696594]\n",
      "[3]: [0.9438669438669439, 0.9667359667359667, 0.9542619542619543, 0.037422037422037424, 0.9646569646569647, 0.9563409563409564, 0.9600760456273765, 0.9417879417879418, 0.9459459459459459]\n",
      "[4]: [0.9477124183006536, 0.9651416122004357, 0.9586056644880174, 0.9667359667359667, 0.034858387799564274, 0.9455337690631809, 0.9657794676806084, 0.9498910675381264, 0.9368191721132898]\n",
      "[5]: [0.9042553191489362, 0.9142857142857143, 0.9287925696594427, 0.9604989604989606, 0.9498910675381264, 0.04477611940298507, 0.9600760456273765, 0.8917910447761194, 0.8768656716417911]\n",
      "[6]: [0.9486692015209125, 0.9562737642585551, 0.9543726235741445, 0.9657794676806084, 0.9657794676806084, 0.9581749049429658, 0.03612167300380228, 0.9486692015209125, 0.9429657794676806]\n",
      "[7]: [0.8936170212765957, 0.9071428571428571, 0.9195046439628483, 0.9480249480249481, 0.9411764705882353, 0.8992537313432836, 0.9505703422053232, 0.052845528455284556, 0.8780487804878049]\n",
      "[8]: [0.8829787234042553, 0.9035714285714286, 0.9071207430340558, 0.9459459459459459, 0.9433551198257081, 0.8768656716417911, 0.9429657794676806, 0.8780487804878049, 0.06382978723404255]\n"
     ]
    }
   ],
   "source": [
    "for i in range(len(train_ncd)):\n",
    "    print(f\"[{i}]: {train_ncd[i]}\")"
   ],
   "metadata": {
    "collapsed": false,
    "ExecuteTime": {
     "end_time": "2023-08-15T11:37:28.940118728Z",
     "start_time": "2023-08-15T11:37:28.929175855Z"
    }
   }
  },
  {
   "cell_type": "code",
   "execution_count": null,
   "outputs": [],
   "source": [],
   "metadata": {
    "collapsed": false
   }
  }
 ],
 "metadata": {
  "kernelspec": {
   "display_name": "Python 3",
   "language": "python",
   "name": "python3"
  },
  "language_info": {
   "codemirror_mode": {
    "name": "ipython",
    "version": 2
   },
   "file_extension": ".py",
   "mimetype": "text/x-python",
   "name": "python",
   "nbconvert_exporter": "python",
   "pygments_lexer": "ipython2",
   "version": "2.7.6"
  }
 },
 "nbformat": 4,
 "nbformat_minor": 0
}
