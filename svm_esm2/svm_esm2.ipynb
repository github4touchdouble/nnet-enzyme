{
 "cells": [
  {
   "cell_type": "markdown",
   "source": [
    "# Reading in ESM2 Embeddings"
   ],
   "metadata": {
    "collapsed": false
   }
  },
  {
   "cell_type": "code",
   "execution_count": 16,
   "outputs": [
    {
     "data": {
      "text/plain": "True"
     },
     "execution_count": 16,
     "metadata": {},
     "output_type": "execute_result"
    }
   ],
   "source": [
    "import h5py\n",
    "import numpy as np\n",
    "import pandas as pd\n",
    "from dotenv import load_dotenv\n",
    "import os\n",
    "from data_manipulation.reading_util import *\n",
    "\n",
    "load_dotenv()"
   ],
   "metadata": {
    "collapsed": false,
    "ExecuteTime": {
     "end_time": "2023-08-20T16:02:59.045415497Z",
     "start_time": "2023-08-20T16:02:59.006283401Z"
    }
   }
  },
  {
   "cell_type": "code",
   "execution_count": 17,
   "outputs": [],
   "source": [
    "def read_esm2(path_to_esm2:str, is_enzyme:bool) -> pd.DataFrame:\n",
    "    \"\"\"\n",
    "    :param path_to_esm2: Absolute path to esm2 file\n",
    "    :return: A dataframe\n",
    "    \"\"\"\n",
    "    with h5py.File(path_to_esm2) as hdf_handle:\n",
    "        headers = []\n",
    "        embeddings = []\n",
    "\n",
    "        for header, emb in hdf_handle.items():\n",
    "            headers.append(header)\n",
    "            embeddings.append(np.array(list(emb)))\n",
    "\n",
    "        df = pd.DataFrame(data={\"Entry\": headers, \"Embedding\": embeddings})\n",
    "\n",
    "        if is_enzyme:\n",
    "            df[\"Label\"] = 1\n",
    "        else:\n",
    "            df[\"Label\"] = -1\n",
    "\n",
    "        return df"
   ],
   "metadata": {
    "collapsed": false,
    "ExecuteTime": {
     "end_time": "2023-08-20T16:02:59.409653910Z",
     "start_time": "2023-08-20T16:02:59.404733997Z"
    }
   }
  },
  {
   "cell_type": "code",
   "execution_count": 18,
   "outputs": [],
   "source": [
    "\n",
    "def load_ml_df(path_to_enzyme_esm2:str,path_to_non_enzyme_esm2:str):\n",
    "\n",
    "    enzymes = read_esm2(path_to_enzyme_esm2, True)\n",
    "    non_enzymes = read_esm2(path_to_non_enzyme_esm2, False)\n",
    "    enzymes = filter_unwanted_seqs(enzymes, True)\n",
    "    non_enzymes = filter_unwanted_seqs(non_enzymes, False)\n",
    "\n",
    "    print(len(enzymes))\n",
    "    print(len(non_enzymes))\n",
    "\n",
    "    return pd.concat([enzymes, non_enzymes])\n"
   ],
   "metadata": {
    "collapsed": false,
    "ExecuteTime": {
     "end_time": "2023-08-20T16:02:59.965175482Z",
     "start_time": "2023-08-20T16:02:59.958522458Z"
    }
   }
  },
  {
   "cell_type": "code",
   "execution_count": null,
   "outputs": [],
   "source": [
    "esm2_enzymes_30 = os.getenv(\"ESM2_ENZYMES_SPLIT_30\")\n",
    "esm2_non_enzymes_30 = os.getenv(\"ESM2_NON_ENZYMES_SPLIT_30\")\n",
    "\n",
    "ml_df = load_ml_df(path_to_enzyme_esm2=esm2_enzymes_30, path_to_non_enzyme_esm2=esm2_non_enzymes_30)\n",
    "ml_df.head()\n"
   ],
   "metadata": {
    "collapsed": false,
    "is_executing": true,
    "ExecuteTime": {
     "start_time": "2023-08-20T16:03:00.406332497Z"
    }
   }
  },
  {
   "cell_type": "code",
   "execution_count": null,
   "outputs": [],
   "source": [],
   "metadata": {
    "collapsed": false
   }
  }
 ],
 "metadata": {
  "kernelspec": {
   "display_name": "Python 3 (ipykernel)",
   "language": "python",
   "name": "python3"
  },
  "language_info": {
   "codemirror_mode": {
    "name": "ipython",
    "version": 3
   },
   "file_extension": ".py",
   "mimetype": "text/x-python",
   "name": "python",
   "nbconvert_exporter": "python",
   "pygments_lexer": "ipython3",
   "version": "3.9.13"
  },
  "vscode": {
   "interpreter": {
    "hash": "3035bb539a6eea63d72b317287b7f88b17cc3010f86ad15577a4839cf7e019ed"
   }
  }
 },
 "nbformat": 4,
 "nbformat_minor": 2
}
