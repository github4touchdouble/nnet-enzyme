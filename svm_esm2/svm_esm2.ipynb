{
 "cells": [
  {
   "cell_type": "markdown",
   "source": [
    "# Reading in ESM2 Embeddings"
   ],
   "metadata": {
    "collapsed": false
   }
  },
  {
   "cell_type": "code",
   "execution_count": 1,
   "outputs": [
    {
     "data": {
      "text/plain": "True"
     },
     "execution_count": 1,
     "metadata": {},
     "output_type": "execute_result"
    }
   ],
   "source": [
    "import h5py\n",
    "import numpy as np\n",
    "import pandas as pd\n",
    "from sklearn.model_selection import train_test_split\n",
    "from sklearn.svm import SVC\n",
    "from sklearn.metrics import f1_score\n",
    "from sklearn.metrics import ConfusionMatrixDisplay\n",
    "from dotenv import load_dotenv\n",
    "import os\n",
    "from data_manipulation.reading_util import *\n",
    "\n",
    "load_dotenv()"
   ],
   "metadata": {
    "collapsed": false,
    "ExecuteTime": {
     "end_time": "2023-08-20T16:55:18.128531282Z",
     "start_time": "2023-08-20T16:55:17.252885031Z"
    }
   }
  },
  {
   "cell_type": "code",
   "execution_count": 2,
   "outputs": [],
   "source": [
    "def read_esm2(path_to_esm2:str, is_enzyme:bool) -> pd.DataFrame:\n",
    "    \"\"\"\n",
    "    :param path_to_esm2: Absolute path to esm2 file\n",
    "    :return: A dataframe\n",
    "    \"\"\"\n",
    "    with h5py.File(path_to_esm2) as hdf_handle:\n",
    "        headers = []\n",
    "        embeddings = []\n",
    "\n",
    "        for header, emb in hdf_handle.items():\n",
    "            headers.append(header)\n",
    "            embeddings.append(np.array(list(emb)))\n",
    "\n",
    "        df = pd.DataFrame(data={\"Entry\": headers, \"Embedding\": embeddings})\n",
    "\n",
    "        if is_enzyme:\n",
    "            df[\"Label\"] = 1\n",
    "        else:\n",
    "            df[\"Label\"] = -1\n",
    "\n",
    "        return df"
   ],
   "metadata": {
    "collapsed": false,
    "ExecuteTime": {
     "end_time": "2023-08-20T16:55:18.133579680Z",
     "start_time": "2023-08-20T16:55:18.130702541Z"
    }
   }
  },
  {
   "cell_type": "code",
   "execution_count": 3,
   "outputs": [],
   "source": [
    "\n",
    "def load_ml_df(path_to_enzyme_esm2:str,path_to_non_enzyme_esm2:str):\n",
    "\n",
    "    enzymes = read_esm2(path_to_enzyme_esm2, True)\n",
    "    non_enzymes = read_esm2(path_to_non_enzyme_esm2, False)\n",
    "\n",
    "    print(len(enzymes))\n",
    "    print(len(non_enzymes))\n",
    "\n",
    "    return pd.concat([enzymes, non_enzymes])\n"
   ],
   "metadata": {
    "collapsed": false,
    "ExecuteTime": {
     "end_time": "2023-08-20T16:55:18.138006011Z",
     "start_time": "2023-08-20T16:55:18.135134586Z"
    }
   }
  },
  {
   "cell_type": "code",
   "execution_count": 4,
   "outputs": [
    {
     "name": "stdout",
     "output_type": "stream",
     "text": [
      "9204\n",
      "39502\n"
     ]
    },
    {
     "data": {
      "text/plain": "        Entry                                          Embedding  Label\n0  A0A024RBG1  [-0.015143169, 0.035552002, -0.02231326, 0.002...      1\n1  A0A024SMV2  [0.059097216, -0.034141198, 0.061426997, 0.006...      1\n2  A0A060S684  [-0.016934631, -0.04490467, 0.0054878886, -0.0...      1\n3  A0A075TXZ3  [-0.06815035, -0.034723807, 0.03341713, -0.057...      1\n4  A0A077K8G3  [-0.03639361, 0.046453245, 0.06140146, -0.0697...      1",
      "text/html": "<div>\n<style scoped>\n    .dataframe tbody tr th:only-of-type {\n        vertical-align: middle;\n    }\n\n    .dataframe tbody tr th {\n        vertical-align: top;\n    }\n\n    .dataframe thead th {\n        text-align: right;\n    }\n</style>\n<table border=\"1\" class=\"dataframe\">\n  <thead>\n    <tr style=\"text-align: right;\">\n      <th></th>\n      <th>Entry</th>\n      <th>Embedding</th>\n      <th>Label</th>\n    </tr>\n  </thead>\n  <tbody>\n    <tr>\n      <th>0</th>\n      <td>A0A024RBG1</td>\n      <td>[-0.015143169, 0.035552002, -0.02231326, 0.002...</td>\n      <td>1</td>\n    </tr>\n    <tr>\n      <th>1</th>\n      <td>A0A024SMV2</td>\n      <td>[0.059097216, -0.034141198, 0.061426997, 0.006...</td>\n      <td>1</td>\n    </tr>\n    <tr>\n      <th>2</th>\n      <td>A0A060S684</td>\n      <td>[-0.016934631, -0.04490467, 0.0054878886, -0.0...</td>\n      <td>1</td>\n    </tr>\n    <tr>\n      <th>3</th>\n      <td>A0A075TXZ3</td>\n      <td>[-0.06815035, -0.034723807, 0.03341713, -0.057...</td>\n      <td>1</td>\n    </tr>\n    <tr>\n      <th>4</th>\n      <td>A0A077K8G3</td>\n      <td>[-0.03639361, 0.046453245, 0.06140146, -0.0697...</td>\n      <td>1</td>\n    </tr>\n  </tbody>\n</table>\n</div>"
     },
     "execution_count": 4,
     "metadata": {},
     "output_type": "execute_result"
    }
   ],
   "source": [
    "esm2_enzymes_30 = os.getenv(\"ESM2_ENZYMES_SPLIT_30\")\n",
    "esm2_non_enzymes = os.getenv(\"ESM2_NON_ENZYMES\")\n",
    "\n",
    "ml_df = load_ml_df(path_to_enzyme_esm2=esm2_enzymes_30, path_to_non_enzyme_esm2=esm2_non_enzymes)\n",
    "ml_df.head()\n",
    "\n",
    "# TODO: We probably need to reduce the size of our non_enzyme embeddings"
   ],
   "metadata": {
    "collapsed": false,
    "ExecuteTime": {
     "end_time": "2023-08-20T17:00:20.357587112Z",
     "start_time": "2023-08-20T16:55:18.257296058Z"
    }
   }
  },
  {
   "cell_type": "markdown",
   "source": [
    "# SVM"
   ],
   "metadata": {
    "collapsed": false
   }
  },
  {
   "cell_type": "code",
   "execution_count": 5,
   "outputs": [
    {
     "name": "stdout",
     "output_type": "stream",
     "text": [
      "Accuracy: 0.934220251293422\n",
      "F1:  0.8301886792452831\n"
     ]
    }
   ],
   "source": [
    "\n",
    "X = np.array(list(ml_df[\"Embedding\"]))\n",
    "\n",
    "# creating a training set and test set\n",
    "X_train, X_test, y_train, y_test = train_test_split(X, ml_df[\"Label\"],random_state=42)\n",
    "\n",
    "clf_svm = SVC(kernel='linear', random_state=42)\n",
    "clf_svm.fit(X_train, y_train)\n",
    "# ConfusionMatrixDisplay.from_estimator(clf_svm, np.array(X_test).reshape(-1, 1), np.array(y_test))\n",
    "\n",
    "accuracy = clf_svm.score(X_test, y_test)\n",
    "\n",
    "predictions = clf_svm.predict(X_test)\n",
    "f1 = f1_score(y_test, predictions)\n",
    "print(\"Accuracy:\", accuracy)\n",
    "print(\"F1: \", f1)\n"
   ],
   "metadata": {
    "collapsed": false,
    "ExecuteTime": {
     "end_time": "2023-08-20T17:22:59.759902549Z",
     "start_time": "2023-08-20T17:00:20.362388197Z"
    }
   }
  }
 ],
 "metadata": {
  "kernelspec": {
   "display_name": "Python 3 (ipykernel)",
   "language": "python",
   "name": "python3"
  },
  "language_info": {
   "codemirror_mode": {
    "name": "ipython",
    "version": 3
   },
   "file_extension": ".py",
   "mimetype": "text/x-python",
   "name": "python",
   "nbconvert_exporter": "python",
   "pygments_lexer": "ipython3",
   "version": "3.9.13"
  },
  "vscode": {
   "interpreter": {
    "hash": "3035bb539a6eea63d72b317287b7f88b17cc3010f86ad15577a4839cf7e019ed"
   }
  }
 },
 "nbformat": 4,
 "nbformat_minor": 2
}
