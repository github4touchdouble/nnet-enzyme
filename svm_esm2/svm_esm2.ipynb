{
 "cells": [
  {
   "cell_type": "markdown",
   "source": [
    "# Reading in ESM2 Embeddings"
   ],
   "metadata": {
    "collapsed": false
   }
  },
  {
   "cell_type": "code",
   "execution_count": 1,
   "outputs": [
    {
     "data": {
      "text/plain": "True"
     },
     "execution_count": 1,
     "metadata": {},
     "output_type": "execute_result"
    }
   ],
   "source": [
    "import h5py\n",
    "import numpy as np\n",
    "import pandas as pd\n",
    "from sklearn.model_selection import train_test_split\n",
    "from sklearn.svm import SVC\n",
    "from sklearn.metrics import f1_score\n",
    "from sklearn.metrics import ConfusionMatrixDisplay\n",
    "from dotenv import load_dotenv\n",
    "import os\n",
    "from data_manipulation.reading_util import *\n",
    "\n",
    "load_dotenv()"
   ],
   "metadata": {
    "collapsed": false,
    "ExecuteTime": {
     "end_time": "2023-08-20T16:55:18.128531282Z",
     "start_time": "2023-08-20T16:55:17.252885031Z"
    }
   }
  },
  {
   "cell_type": "code",
   "execution_count": 2,
   "outputs": [],
   "source": [
    "def read_esm2(path_to_esm2:str, is_enzyme:bool) -> pd.DataFrame:\n",
    "    \"\"\"\n",
    "    :param path_to_esm2: Absolute path to esm2 file\n",
    "    :return: A dataframe\n",
    "    \"\"\"\n",
    "    with h5py.File(path_to_esm2) as hdf_handle:\n",
    "        headers = []\n",
    "        embeddings = []\n",
    "\n",
    "        for header, emb in hdf_handle.items():\n",
    "            headers.append(header)\n",
    "            embeddings.append(np.array(list(emb)))\n",
    "\n",
    "        df = pd.DataFrame(data={\"Entry\": headers, \"Embedding\": embeddings})\n",
    "\n",
    "        if is_enzyme:\n",
    "            df[\"Label\"] = 1\n",
    "        else:\n",
    "            df[\"Label\"] = -1\n",
    "\n",
    "        return df"
   ],
   "metadata": {
    "collapsed": false,
    "ExecuteTime": {
     "end_time": "2023-08-20T16:55:18.133579680Z",
     "start_time": "2023-08-20T16:55:18.130702541Z"
    }
   }
  },
  {
   "cell_type": "code",
   "execution_count": 3,
   "outputs": [],
   "source": [
    "\n",
    "def load_ml_df(path_to_enzyme_esm2:str,path_to_non_enzyme_esm2:str):\n",
    "\n",
    "    enzymes = read_esm2(path_to_enzyme_esm2, True)\n",
    "    non_enzymes = read_esm2(path_to_non_enzyme_esm2, False)\n",
    "\n",
    "    print(len(enzymes))\n",
    "    print(len(non_enzymes))\n",
    "\n",
    "    return pd.concat([enzymes, non_enzymes])\n"
   ],
   "metadata": {
    "collapsed": false,
    "ExecuteTime": {
     "end_time": "2023-08-20T16:55:18.138006011Z",
     "start_time": "2023-08-20T16:55:18.135134586Z"
    }
   }
  },
  {
   "cell_type": "code",
   "execution_count": null,
   "outputs": [],
   "source": [
    "esm2_enzymes_30 = os.getenv(\"ESM2_ENZYMES_SPLIT_30\")\n",
    "esm2_non_enzymes = os.getenv(\"ESM2_NON_ENZYMES\")\n",
    "\n",
    "ml_df = load_ml_df(path_to_enzyme_esm2=esm2_enzymes_30, path_to_non_enzyme_esm2=esm2_non_enzymes)\n",
    "ml_df.head()\n",
    "\n",
    "# TODO: We probably need to reduce the size of our non_enzyme embeddings"
   ],
   "metadata": {
    "collapsed": false,
    "is_executing": true,
    "ExecuteTime": {
     "start_time": "2023-08-20T16:55:18.257296058Z"
    }
   }
  },
  {
   "cell_type": "markdown",
   "source": [
    "# SVM"
   ],
   "metadata": {
    "collapsed": false
   }
  },
  {
   "cell_type": "code",
   "execution_count": null,
   "outputs": [],
   "source": [
    "\n",
    "X = np.array(list(ml_df[\"Embedding\"]))\n",
    "\n",
    "# creating a training set and test set\n",
    "X_train, X_test, y_train, y_test = train_test_split(X, ml_df[\"Label\"],random_state=42)\n",
    "\n",
    "clf_svm = SVC(kernel='linear', random_state=42)\n",
    "clf_svm.fit(X_train, y_train)\n",
    "# ConfusionMatrixDisplay.from_estimator(clf_svm, np.array(X_test).reshape(-1, 1), np.array(y_test))\n",
    "\n",
    "accuracy = clf_svm.score(X_test, y_test)\n",
    "\n",
    "predictions = clf_svm.predict(X_test)\n",
    "f1 = f1_score(y_test, predictions)\n",
    "print(\"Accuracy:\", accuracy)\n",
    "print(\"F1: \", f1)"
   ],
   "metadata": {
    "collapsed": false,
    "is_executing": true
   }
  },
  {
   "cell_type": "code",
   "execution_count": null,
   "outputs": [],
   "source": [],
   "metadata": {
    "collapsed": false
   }
  }
 ],
 "metadata": {
  "kernelspec": {
   "display_name": "Python 3 (ipykernel)",
   "language": "python",
   "name": "python3"
  },
  "language_info": {
   "codemirror_mode": {
    "name": "ipython",
    "version": 3
   },
   "file_extension": ".py",
   "mimetype": "text/x-python",
   "name": "python",
   "nbconvert_exporter": "python",
   "pygments_lexer": "ipython3",
   "version": "3.9.13"
  },
  "vscode": {
   "interpreter": {
    "hash": "3035bb539a6eea63d72b317287b7f88b17cc3010f86ad15577a4839cf7e019ed"
   }
  }
 },
 "nbformat": 4,
 "nbformat_minor": 2
}
