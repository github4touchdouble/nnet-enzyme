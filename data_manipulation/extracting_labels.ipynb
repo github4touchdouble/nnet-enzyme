{
 "cells": [
  {
   "cell_type": "code",
   "execution_count": 1,
   "outputs": [
    {
     "data": {
      "text/plain": "True"
     },
     "execution_count": 1,
     "metadata": {},
     "output_type": "execute_result"
    }
   ],
   "source": [
    "import pandas as pd\n",
    "\n",
    "import os\n",
    "from dotenv import load_dotenv\n",
    "\n",
    "load_dotenv()\n"
   ],
   "metadata": {
    "collapsed": false,
    "ExecuteTime": {
     "end_time": "2023-09-06T11:04:37.558049671Z",
     "start_time": "2023-09-06T11:04:37.531614126Z"
    }
   },
   "id": "addb850c60935014"
  },
  {
   "cell_type": "markdown",
   "source": [
    "# Extracting labels form csv split100"
   ],
   "metadata": {
    "collapsed": false
   },
   "id": "5be272eab62cef98"
  },
  {
   "cell_type": "code",
   "execution_count": 2,
   "outputs": [],
   "source": [
    "enzymes = pd.read_csv(os.getenv(\"CSV100_ENZYMES\"))"
   ],
   "metadata": {
    "collapsed": false,
    "ExecuteTime": {
     "end_time": "2023-09-06T11:09:24.783627391Z",
     "start_time": "2023-09-06T11:09:23.974586414Z"
    }
   },
   "id": "8b8cbdcfb9072c89"
  },
  {
   "cell_type": "code",
   "execution_count": 6,
   "outputs": [],
   "source": [
    "enzymes = enzymes.drop(\"Sequence\", axis=1)"
   ],
   "metadata": {
    "collapsed": false,
    "ExecuteTime": {
     "end_time": "2023-09-06T11:10:09.118292587Z",
     "start_time": "2023-09-06T11:10:09.075547308Z"
    }
   },
   "id": "9b9a0a8fbfc6bd2a"
  },
  {
   "cell_type": "code",
   "execution_count": 7,
   "outputs": [
    {
     "data": {
      "text/plain": "    Entry  EC number\n0  P51451   2.7.10.2\n1  C7C422    3.5.2.6\n2  Q07457   2.3.2.27\n3  Q07009  3.4.22.53\n4  Q9TTH8  3.4.22.54",
      "text/html": "<div>\n<style scoped>\n    .dataframe tbody tr th:only-of-type {\n        vertical-align: middle;\n    }\n\n    .dataframe tbody tr th {\n        vertical-align: top;\n    }\n\n    .dataframe thead th {\n        text-align: right;\n    }\n</style>\n<table border=\"1\" class=\"dataframe\">\n  <thead>\n    <tr style=\"text-align: right;\">\n      <th></th>\n      <th>Entry</th>\n      <th>EC number</th>\n    </tr>\n  </thead>\n  <tbody>\n    <tr>\n      <th>0</th>\n      <td>P51451</td>\n      <td>2.7.10.2</td>\n    </tr>\n    <tr>\n      <th>1</th>\n      <td>C7C422</td>\n      <td>3.5.2.6</td>\n    </tr>\n    <tr>\n      <th>2</th>\n      <td>Q07457</td>\n      <td>2.3.2.27</td>\n    </tr>\n    <tr>\n      <th>3</th>\n      <td>Q07009</td>\n      <td>3.4.22.53</td>\n    </tr>\n    <tr>\n      <th>4</th>\n      <td>Q9TTH8</td>\n      <td>3.4.22.54</td>\n    </tr>\n  </tbody>\n</table>\n</div>"
     },
     "execution_count": 7,
     "metadata": {},
     "output_type": "execute_result"
    }
   ],
   "source": [
    "enzymes.head()"
   ],
   "metadata": {
    "collapsed": false,
    "ExecuteTime": {
     "end_time": "2023-09-06T11:10:12.146049504Z",
     "start_time": "2023-09-06T11:10:12.129157421Z"
    }
   },
   "id": "500da7f9d86e8be0"
  },
  {
   "cell_type": "code",
   "execution_count": 8,
   "outputs": [],
   "source": [
    "enzymes.to_csv(\"label_dict.csv\", sep=\"\\t\")"
   ],
   "metadata": {
    "collapsed": false,
    "ExecuteTime": {
     "end_time": "2023-09-06T11:11:35.838396649Z",
     "start_time": "2023-09-06T11:11:35.546899793Z"
    }
   },
   "id": "e60adbafca6f171e"
  },
  {
   "cell_type": "code",
   "execution_count": null,
   "outputs": [],
   "source": [],
   "metadata": {
    "collapsed": false
   },
   "id": "2453c0d48fae87b2"
  }
 ],
 "metadata": {
  "kernelspec": {
   "display_name": "Python 3",
   "language": "python",
   "name": "python3"
  },
  "language_info": {
   "codemirror_mode": {
    "name": "ipython",
    "version": 2
   },
   "file_extension": ".py",
   "mimetype": "text/x-python",
   "name": "python",
   "nbconvert_exporter": "python",
   "pygments_lexer": "ipython2",
   "version": "2.7.6"
  }
 },
 "nbformat": 4,
 "nbformat_minor": 5
}
