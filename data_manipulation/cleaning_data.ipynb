{
 "cells": [
  {
   "cell_type": "code",
   "execution_count": 1,
   "id": "initial_id",
   "metadata": {
    "collapsed": true,
    "ExecuteTime": {
     "end_time": "2023-09-12T20:29:53.927801227Z",
     "start_time": "2023-09-12T20:29:52.186087884Z"
    }
   },
   "outputs": [
    {
     "data": {
      "text/plain": "True"
     },
     "execution_count": 1,
     "metadata": {},
     "output_type": "execute_result"
    }
   ],
   "source": [
    "import pandas as pd\n",
    "from reading_util import filter_unwanted_seqs\n",
    "from reading_util import read_fasta_to_df\n",
    "import os\n",
    "\n",
    "from dotenv import load_dotenv\n",
    "load_dotenv()"
   ]
  },
  {
   "cell_type": "code",
   "execution_count": 2,
   "outputs": [],
   "source": [
    "split10_csv = os.getenv(\"CSV10_ENZYMES\")\n",
    "split30_csv = os.getenv(\"CSV30_ENZYMES\")\n",
    "split50_csv = os.getenv(\"CSV50_ENZYMES\")\n",
    "split70_csv = os.getenv(\"CSV70_ENZYMES\")\n",
    "split100_csv = os.getenv(\"CSV100_ENZYMES\")\n",
    "\n",
    "non_enzyme_fasta = os.getenv(\"FASTA_NON_ENZYMES\")\n",
    "\n",
    "splits = [\n",
    "    split10_csv,\n",
    "    split30_csv,\n",
    "    split50_csv,\n",
    "    split70_csv,\n",
    "    split100_csv\n",
    "    ]\n",
    "\n",
    "split_nu  = [10, 30, 50, 70, 100]"
   ],
   "metadata": {
    "collapsed": false,
    "ExecuteTime": {
     "end_time": "2023-09-12T20:29:57.175310572Z",
     "start_time": "2023-09-12T20:29:57.165872806Z"
    }
   },
   "id": "9efc44a73690915"
  },
  {
   "cell_type": "code",
   "execution_count": 3,
   "outputs": [],
   "source": [
    "i = 0\n",
    "for path in splits:\n",
    "    df = pd.read_csv(path, header=0, sep=\",\")\n",
    "    df = filter_unwanted_seqs(df, True)\n",
    "    out_path = f\"/home/malte/Desktop/Dataset/data/cleaned_seqs/split{split_nu[i]}.csv\"\n",
    "    df.to_csv(out_path, sep=\",\", index=False)\n",
    "    i+=1"
   ],
   "metadata": {
    "collapsed": false,
    "ExecuteTime": {
     "end_time": "2023-09-12T20:30:03.065743122Z",
     "start_time": "2023-09-12T20:29:57.883386706Z"
    }
   },
   "id": "6daf9e2fea90a76"
  },
  {
   "cell_type": "code",
   "execution_count": 4,
   "outputs": [
    {
     "name": "stdout",
     "output_type": "stream",
     "text": [
      "39502\n",
      "37347\n"
     ]
    }
   ],
   "source": [
    "df = read_fasta_to_df(non_enzyme_fasta)\n",
    "print(len(df))\n",
    "df = filter_unwanted_seqs(df, False)\n",
    "out_path = f\"/home/malte/Desktop/Dataset/data/cleaned_seqs/non_enzymes.csv\"\n",
    "df.to_csv(out_path, sep=\",\", index=False)\n",
    "print(len(df))"
   ],
   "metadata": {
    "collapsed": false,
    "ExecuteTime": {
     "end_time": "2023-09-12T20:30:04.687702265Z",
     "start_time": "2023-09-12T20:30:04.219627585Z"
    }
   },
   "id": "5720c01d0b2f1f96"
  },
  {
   "cell_type": "code",
   "execution_count": 14,
   "outputs": [
    {
     "name": "stdout",
     "output_type": "stream",
     "text": [
      "7212\n"
     ]
    }
   ],
   "source": [],
   "metadata": {
    "collapsed": false,
    "ExecuteTime": {
     "end_time": "2023-09-12T20:16:45.767067756Z",
     "start_time": "2023-09-12T20:16:45.691614614Z"
    }
   },
   "id": "13e6435ddade25f5"
  },
  {
   "cell_type": "code",
   "execution_count": null,
   "outputs": [],
   "source": [],
   "metadata": {
    "collapsed": false
   },
   "id": "830ce8da47c9b441"
  }
 ],
 "metadata": {
  "kernelspec": {
   "display_name": "Python 3",
   "language": "python",
   "name": "python3"
  },
  "language_info": {
   "codemirror_mode": {
    "name": "ipython",
    "version": 2
   },
   "file_extension": ".py",
   "mimetype": "text/x-python",
   "name": "python",
   "nbconvert_exporter": "python",
   "pygments_lexer": "ipython2",
   "version": "2.7.6"
  }
 },
 "nbformat": 4,
 "nbformat_minor": 5
}
