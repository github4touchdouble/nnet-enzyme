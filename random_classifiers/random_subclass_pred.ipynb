{
 "cells": [
  {
   "cell_type": "code",
   "execution_count": 8,
   "id": "initial_id",
   "metadata": {
    "collapsed": true,
    "ExecuteTime": {
     "end_time": "2023-10-18T20:35:28.110429242Z",
     "start_time": "2023-10-18T20:35:28.066540839Z"
    }
   },
   "outputs": [],
   "source": [
    "import pandas as pd\n",
    "import random\n",
    "import numpy as np\n",
    "import seaborn as sns\n",
    "import matplotlib.pyplot as plt\n",
    "from sklearn.model_selection import train_test_split\n",
    "from collections import Counter\n",
    "\n",
    "\n",
    "\n",
    "from sklearn.metrics import classification_report, confusion_matrix\n",
    "import h5py\n",
    "import time\n",
    "\n",
    "import os\n",
    "from dotenv import load_dotenv\n",
    "\n",
    "load_dotenv()\n",
    "\n",
    "from data_manipulation.reading_util import load_all_sub_classes\n"
   ]
  },
  {
   "cell_type": "code",
   "execution_count": 9,
   "outputs": [],
   "source": [
    "EC_TO_LABEL = {\n",
    "    \"1.1\": 0,\n",
    "    \"1.2\": 1,\n",
    "    \"1.3\": 2,\n",
    "    \"1.4\": 3,\n",
    "    \"1.5\": 4,\n",
    "    \"1.6\": 5,\n",
    "    \"1.7\": 6,\n",
    "    \"1.8\": 7,\n",
    "    \"1.11\": 8,\n",
    "    \"1.12\": 9,\n",
    "    \"1.13\": 10,\n",
    "    \"1.14\": 11,\n",
    "    \"1.15\": 12,\n",
    "    \"1.16\": 13,\n",
    "    \"1.17\": 14,\n",
    "    \"1.18\": 15,\n",
    "    \"1.21\": 16,\n",
    "    \"1.10\": 17,\n",
    "    \"1.20\": 17,\n",
    "    \"1.23\": 17,\n",
    "    \"1.97\": 17,\n",
    "    \"2.1\": 18,\n",
    "    \"2.3\": 19,\n",
    "    \"2.4\": 20,\n",
    "    \"2.5\": 21,\n",
    "    \"2.6\": 22,\n",
    "    \"2.7\": 23,\n",
    "    \"2.8\": 24,\n",
    "    \"2.2\": 25,\n",
    "    \"2.9\": 25,\n",
    "    \"2.10\": 25,\n",
    "    \"3.1\": 26,\n",
    "    \"3.2\": 27,\n",
    "    \"3.4\": 28,\n",
    "    \"3.5\": 29,\n",
    "    \"3.6\": 30,\n",
    "    \"3.3\": 31,\n",
    "    \"3.7\": 31,\n",
    "    \"3.8\": 31,\n",
    "    \"3.9\": 31,\n",
    "    \"3.11\": 31,\n",
    "    \"3.13\": 31,\n",
    "    \"4.1\": 32,\n",
    "    \"4.2\": 33,\n",
    "    \"4.3\": 34,\n",
    "    \"4.4\": 35,\n",
    "    \"4.6\": 36,\n",
    "    \"4.99\": 37,\n",
    "    \"4.7\": 37,\n",
    "    \"4.5\": 37,\n",
    "    \"5.1\": 38,\n",
    "    \"5.2\": 39,\n",
    "    \"5.3\": 40,\n",
    "    \"5.4\": 41,\n",
    "    \"5.5\": 42,\n",
    "    \"5.6\": 43,\n",
    "    \"5.7\": 43,\n",
    "    \"5.99\": 43,\n",
    "    \"6.1\": 44,\n",
    "    \"6.2\": 45,\n",
    "    \"6.3\": 46,\n",
    "    \"6.5\": 47,\n",
    "    \"6.4\": 47,\n",
    "    \"6.6\": 47,\n",
    "    \"7.1\": 48,\n",
    "    \"7.2\": 49,\n",
    "    \"7.3\": 50,\n",
    "    \"7.4\": 50,\n",
    "    \"7.5\": 50,\n",
    "    \"7.6\": 50,\n",
    "}\n",
    "\n"
   ],
   "metadata": {
    "collapsed": false,
    "ExecuteTime": {
     "end_time": "2023-10-18T20:35:28.935893150Z",
     "start_time": "2023-10-18T20:35:28.932768169Z"
    }
   },
   "id": "d308fdd06ac799e5"
  },
  {
   "cell_type": "code",
   "execution_count": 4,
   "outputs": [],
   "source": [
    "emb_path = os.getenv(\"ESM2_ENZYMES_SPLIT_10\")\n",
    "csv_path = os.getenv(\"CSV10_ENZYMES\")\n",
    "\n",
    "X, y, label_to_sec = load_all_sub_classes(emb_path, csv_path, allowed_labels=EC_TO_LABEL)"
   ],
   "metadata": {
    "collapsed": false,
    "ExecuteTime": {
     "end_time": "2023-10-18T20:29:07.748255623Z",
     "start_time": "2023-10-18T20:29:07.739047681Z"
    }
   },
   "id": "ffc97610b574b0b3"
  },
  {
   "cell_type": "code",
   "execution_count": 32,
   "outputs": [],
   "source": [
    "def make_prediction(y):\n",
    "\n",
    "    count_dict = Counter(y)\n",
    "    predictions = []\n",
    "\n",
    "    for key in count_dict.keys():\n",
    "        count_dict[key] = count_dict[key] / len(y)\n",
    "        \n",
    "    for _ in y:    \n",
    "        predicted_label = random.choices(list(count_dict.keys()), weights=count_dict.values())[0]\n",
    "        predictions.append(predicted_label)\n",
    "    \n",
    "    counter = 0\n",
    "    \n",
    "    for pred_label, true_label in zip(predictions, y):\n",
    "        if pred_label == true_label:\n",
    "            counter+=1\n",
    "            \n",
    "    print(f\"Correctly classified {counter} samples of {len(y)}\")\n",
    "\n",
    "\n",
    "    report = classification_report(y, predictions, zero_division=0)\n",
    "    print(report)\n",
    "\n",
    "    conf_matrix = confusion_matrix(y, predictions)\n",
    "    row_sums = conf_matrix.sum(axis=1)\n",
    "    conf_matrix_percent = (conf_matrix.T / row_sums).T * 100\n",
    "\n",
    "    # Create a confusion matrix heatmap\n",
    "    plt.figure(figsize=(10, 7))\n",
    "\n",
    "    # Plot the heatmap with percentwise coloring\n",
    "    heatmap = sns.heatmap(conf_matrix_percent, annot=False, fmt=\".2f\", cmap=\"binary\", cbar=False)\n",
    "\n",
    "    # Remove x and y tick labels\n",
    "    heatmap.set_xticks([])\n",
    "    heatmap.set_yticks([])\n",
    "\n",
    "    plt.xlabel(\"Predicted\", fontsize=12)\n",
    "    plt.ylabel(\"Actual\", fontsize=12)\n",
    "\n",
    "    plt.title(\"Confusion Matrix (Percentwise Color)\", fontsize=12)\n",
    "    plt.show()\n",
    "\n",
    "\n",
    "\n"
   ],
   "metadata": {
    "collapsed": false,
    "ExecuteTime": {
     "end_time": "2023-10-18T20:51:08.991964827Z",
     "start_time": "2023-10-18T20:51:08.972466434Z"
    }
   },
   "id": "6b80b9f15a2c04c4"
  },
  {
   "cell_type": "code",
   "execution_count": 33,
   "outputs": [
    {
     "name": "stdout",
     "output_type": "stream",
     "text": [
      "Correctly classified 566 samples of 7212\n",
      "              precision    recall  f1-score   support\n",
      "\n",
      "           0       0.03      0.03      0.03       140\n",
      "           1       0.02      0.02      0.02        52\n",
      "           2       0.02      0.02      0.02        96\n",
      "           3       0.00      0.00      0.00        23\n",
      "           4       0.00      0.00      0.00        61\n",
      "           5       0.00      0.00      0.00        16\n",
      "           6       0.00      0.00      0.00        31\n",
      "           7       0.00      0.00      0.00        61\n",
      "           8       0.00      0.00      0.00        42\n",
      "           9       0.00      0.00      0.00        17\n",
      "          10       0.00      0.00      0.00        54\n",
      "          11       0.02      0.02      0.02       181\n",
      "          12       0.00      0.00      0.00        18\n",
      "          13       0.00      0.00      0.00        19\n",
      "          14       0.00      0.00      0.00        40\n",
      "          15       0.00      0.00      0.00         9\n",
      "          16       0.00      0.00      0.00        16\n",
      "          17       0.00      0.00      0.00        18\n",
      "          18       0.05      0.04      0.05       402\n",
      "          19       0.09      0.10      0.09       602\n",
      "          20       0.04      0.04      0.04       284\n",
      "          21       0.01      0.01      0.01       164\n",
      "          22       0.00      0.00      0.00        23\n",
      "          23       0.20      0.21      0.20      1399\n",
      "          24       0.00      0.00      0.00        59\n",
      "          25       0.00      0.00      0.00        19\n",
      "          26       0.13      0.13      0.13       871\n",
      "          27       0.05      0.04      0.05       359\n",
      "          28       0.04      0.04      0.04       313\n",
      "          29       0.03      0.03      0.03       246\n",
      "          30       0.05      0.05      0.05       327\n",
      "          31       0.00      0.00      0.00        33\n",
      "          32       0.01      0.01      0.01       163\n",
      "          33       0.01      0.01      0.01       218\n",
      "          34       0.03      0.03      0.03        38\n",
      "          35       0.00      0.00      0.00        30\n",
      "          36       0.02      0.02      0.02        50\n",
      "          37       0.00      0.00      0.00        16\n",
      "          38       0.00      0.00      0.00        48\n",
      "          39       0.00      0.00      0.00        74\n",
      "          40       0.00      0.00      0.00        73\n",
      "          41       0.00      0.00      0.00        72\n",
      "          42       0.00      0.00      0.00        15\n",
      "          43       0.00      0.00      0.00        22\n",
      "          44       0.00      0.00      0.00        55\n",
      "          45       0.00      0.00      0.00        15\n",
      "          46       0.02      0.02      0.02       120\n",
      "          47       0.00      0.00      0.00        43\n",
      "          48       0.02      0.02      0.02       105\n",
      "          49       0.00      0.00      0.00        29\n",
      "          50       0.04      0.03      0.04        31\n",
      "\n",
      "    accuracy                           0.08      7212\n",
      "   macro avg       0.02      0.02      0.02      7212\n",
      "weighted avg       0.08      0.08      0.08      7212\n"
     ]
    },
    {
     "data": {
      "text/plain": "<Figure size 1000x700 with 1 Axes>",
      "image/png": "[encoded data removed]"
     },
     "metadata": {},
     "output_type": "display_data"
    }
   ],
   "source": [
    "make_prediction(y)"
   ],
   "metadata": {
    "collapsed": false,
    "ExecuteTime": {
     "end_time": "2023-10-18T20:51:09.890186175Z",
     "start_time": "2023-10-18T20:51:09.557344023Z"
    }
   },
   "id": "8f1deb4e926d1b0b"
  },
  {
   "cell_type": "code",
   "execution_count": null,
   "outputs": [],
   "source": [],
   "metadata": {
    "collapsed": false
   },
   "id": "e4394944dbeb839f"
  }
 ],
 "metadata": {
  "kernelspec": {
   "display_name": "Python 3",
   "language": "python",
   "name": "python3"
  },
  "language_info": {
   "codemirror_mode": {
    "name": "ipython",
    "version": 2
   },
   "file_extension": ".py",
   "mimetype": "text/x-python",
   "name": "python",
   "nbconvert_exporter": "python",
   "pygments_lexer": "ipython2",
   "version": "2.7.6"
  }
 },
 "nbformat": 4,
 "nbformat_minor": 5
}
