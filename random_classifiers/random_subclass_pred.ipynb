{
 "cells": [
  {
   "cell_type": "code",
   "execution_count": 2,
   "id": "initial_id",
   "metadata": {
    "collapsed": true,
    "ExecuteTime": {
     "end_time": "2023-10-19T08:29:01.000763176Z",
     "start_time": "2023-10-19T08:28:59.823503293Z"
    }
   },
   "outputs": [],
   "source": [
    "import pandas as pd\n",
    "import random\n",
    "import numpy as np\n",
    "import seaborn as sns\n",
    "import matplotlib.pyplot as plt\n",
    "from sklearn.model_selection import train_test_split\n",
    "from collections import Counter\n",
    "import math\n",
    "\n",
    "\n",
    "from sklearn.metrics import classification_report, confusion_matrix\n",
    "import h5py\n",
    "import time\n",
    "\n",
    "import os\n",
    "from dotenv import load_dotenv\n",
    "\n",
    "load_dotenv()\n",
    "\n",
    "from data_manipulation.reading_util import load_all_sub_classes\n"
   ]
  },
  {
   "cell_type": "code",
   "execution_count": 3,
   "outputs": [],
   "source": [
    "EC_TO_LABEL = {\n",
    "    \"1.1\": 0,\n",
    "    \"1.2\": 1,\n",
    "    \"1.3\": 2,\n",
    "    \"1.4\": 3,\n",
    "    \"1.5\": 4,\n",
    "    \"1.6\": 5,\n",
    "    \"1.7\": 6,\n",
    "    \"1.8\": 7,\n",
    "    \"1.11\": 8,\n",
    "    \"1.12\": 9,\n",
    "    \"1.13\": 10,\n",
    "    \"1.14\": 11,\n",
    "    \"1.15\": 12,\n",
    "    \"1.16\": 13,\n",
    "    \"1.17\": 14,\n",
    "    \"1.18\": 15,\n",
    "    \"1.21\": 16,\n",
    "    \"1.10\": 17,\n",
    "    \"1.20\": 17,\n",
    "    \"1.23\": 17,\n",
    "    \"1.97\": 17,\n",
    "    \"2.1\": 18,\n",
    "    \"2.3\": 19,\n",
    "    \"2.4\": 20,\n",
    "    \"2.5\": 21,\n",
    "    \"2.6\": 22,\n",
    "    \"2.7\": 23,\n",
    "    \"2.8\": 24,\n",
    "    \"2.2\": 25,\n",
    "    \"2.9\": 25,\n",
    "    \"2.10\": 25,\n",
    "    \"3.1\": 26,\n",
    "    \"3.2\": 27,\n",
    "    \"3.4\": 28,\n",
    "    \"3.5\": 29,\n",
    "    \"3.6\": 30,\n",
    "    \"3.3\": 31,\n",
    "    \"3.7\": 31,\n",
    "    \"3.8\": 31,\n",
    "    \"3.9\": 31,\n",
    "    \"3.11\": 31,\n",
    "    \"3.13\": 31,\n",
    "    \"4.1\": 32,\n",
    "    \"4.2\": 33,\n",
    "    \"4.3\": 34,\n",
    "    \"4.4\": 35,\n",
    "    \"4.6\": 36,\n",
    "    \"4.99\": 37,\n",
    "    \"4.7\": 37,\n",
    "    \"4.5\": 37,\n",
    "    \"5.1\": 38,\n",
    "    \"5.2\": 39,\n",
    "    \"5.3\": 40,\n",
    "    \"5.4\": 41,\n",
    "    \"5.5\": 42,\n",
    "    \"5.6\": 43,\n",
    "    \"5.7\": 43,\n",
    "    \"5.99\": 43,\n",
    "    \"6.1\": 44,\n",
    "    \"6.2\": 45,\n",
    "    \"6.3\": 46,\n",
    "    \"6.5\": 47,\n",
    "    \"6.4\": 47,\n",
    "    \"6.6\": 47,\n",
    "    \"7.1\": 48,\n",
    "    \"7.2\": 49,\n",
    "    \"7.3\": 50,\n",
    "    \"7.4\": 50,\n",
    "    \"7.5\": 50,\n",
    "    \"7.6\": 50,\n",
    "}\n",
    "\n"
   ],
   "metadata": {
    "collapsed": false,
    "ExecuteTime": {
     "end_time": "2023-10-19T08:29:01.048940111Z",
     "start_time": "2023-10-19T08:29:01.006137501Z"
    }
   },
   "id": "d308fdd06ac799e5"
  },
  {
   "cell_type": "code",
   "execution_count": 4,
   "outputs": [
    {
     "name": "stdout",
     "output_type": "stream",
     "text": [
      "LOG: 3 Sequences with aa O in /home/malte/Desktop/Dataset/data/enzymes/csv/split30.csv\n",
      "LOG: 15 Sequences with aa U in /home/malte/Desktop/Dataset/data/enzymes/csv/split30.csv\n",
      "LOG: 203 multifunctional enzymes with diff ec main classes in /home/malte/Desktop/Dataset/data/enzymes/csv/split30.csv\n",
      "LOG: 221 entries will be ignored\n",
      "LOG: Data loaded in: 0.999 min\n",
      "LOG: ESM2 of enzymes: 9204\n",
      "LOG: Labels of enzymes: 9204\n"
     ]
    }
   ],
   "source": [
    "emb_path = os.getenv(\"ESM2_ENZYMES_SPLIT_30\")\n",
    "csv_path = os.getenv(\"CSV30_ENZYMES\")\n",
    "\n",
    "X, y, label_to_sec = load_all_sub_classes(emb_path, csv_path, allowed_labels=EC_TO_LABEL)"
   ],
   "metadata": {
    "collapsed": false,
    "ExecuteTime": {
     "end_time": "2023-10-19T08:30:01.474863354Z",
     "start_time": "2023-10-19T08:29:01.048703965Z"
    }
   },
   "id": "ffc97610b574b0b3"
  },
  {
   "cell_type": "code",
   "execution_count": 5,
   "outputs": [],
   "source": [
    "def make_prediction(y):\n",
    "\n",
    "    X_train, X_test, y_train, y_test = train_test_split(X, y, test_size=0.30, random_state=42)\n",
    "    count_dict = Counter(y_test)\n",
    "    predictions = []\n",
    "\n",
    "    for key in count_dict.keys():\n",
    "        count_dict[key] /= len(y_test)\n",
    "        \n",
    "    for _ in y_test:    \n",
    "        predicted_label = random.choices(list(count_dict.keys()), weights=count_dict.values())[0]\n",
    "        predictions.append(predicted_label)\n",
    "    \n",
    "    counter = 0\n",
    "    \n",
    "    for pred_label, true_label in zip(predictions, y_test):\n",
    "        if pred_label == true_label:\n",
    "            counter+=1\n",
    "            \n",
    "    print(f\"Correctly classified {counter} samples of {len(y_test)}\")\n",
    "\n",
    "\n",
    "    report = classification_report(y_test, predictions, zero_division=0)\n",
    "    print(report)\n",
    "\n",
    "    conf_matrix = confusion_matrix(y_test, predictions)\n",
    "    row_sums = conf_matrix.sum(axis=1)\n",
    "    conf_matrix_percent = (conf_matrix.T / row_sums).T * 100\n",
    "\n",
    "    # Create a confusion matrix heatmap\n",
    "    plt.figure(figsize=(10, 7))\n",
    "\n",
    "    # Plot the heatmap with percentwise coloring\n",
    "    heatmap = sns.heatmap(conf_matrix_percent, annot=False, fmt=\".2f\", cmap=\"binary\", cbar=False)\n",
    "\n",
    "    # Remove x and y tick labels\n",
    "    heatmap.set_xticks([])\n",
    "    heatmap.set_yticks([])\n",
    "\n",
    "    plt.xlabel(\"Predicted\", fontsize=12)\n",
    "    plt.ylabel(\"Actual\", fontsize=12)\n",
    "\n",
    "    plt.title(\"Confusion Matrix (Percentwise Color)\", fontsize=12)\n",
    "    plt.show()\n",
    "\n",
    "\n",
    "    y_sorted = y.copy()\n",
    "    y_sorted.sort()\n",
    "    label_to_sec = {i: sec_ec_class for i, sec_ec_class in enumerate(EC_TO_LABEL.keys())}\n",
    "    y_ec_classes = [label_to_sec[label] for label in y_sorted]\n",
    "\n",
    "    sns.set(style=\"whitegrid\")\n",
    "    plt.figure(figsize=(10, 6))  # Adjust the figure size if needed\n",
    "    sns.set(font_scale=0.8)  # Adjust font size as needed\n",
    "\n",
    "    countplot = sns.countplot(x=y_ec_classes)\n",
    "    countplot.set_xticklabels(countplot.get_xticklabels(), rotation=90)\n",
    "\n",
    "    # Add labels and title\n",
    "    plt.title(\"Preprocessed labels for multiclass CNN\")\n",
    "    plt.xlabel(\"Labels\")\n",
    "    plt.ylabel(\"Count\")\n",
    "\n",
    "    # Show the plot\n",
    "    plt.show()\n",
    "    \n",
    "    # Calculate the accuracy\n",
    "    accuracy = counter / len(y_test)\n",
    "\n",
    "    # Calculate the standard error\n",
    "    standard_error = math.sqrt((accuracy * (1 - accuracy)) / len(y_test))\n",
    "\n",
    "    print(f\"Accuracy: {accuracy:.4f}\")\n",
    "    print(f\"Standard Error: {standard_error:.4f}\")\n",
    "\n",
    "\n",
    "\n"
   ],
   "metadata": {
    "collapsed": false,
    "ExecuteTime": {
     "end_time": "2023-10-19T08:30:01.475695163Z",
     "start_time": "2023-10-19T08:30:01.468424343Z"
    }
   },
   "id": "6b80b9f15a2c04c4"
  },
  {
   "cell_type": "code",
   "execution_count": 6,
   "outputs": [
    {
     "name": "stdout",
     "output_type": "stream",
     "text": [
      "Correctly classified 234 samples of 2762\n",
      "              precision    recall  f1-score   support\n",
      "\n",
      "           0       0.05      0.04      0.05        68\n",
      "           1       0.00      0.00      0.00        18\n",
      "           2       0.00      0.00      0.00        36\n",
      "           3       0.00      0.00      0.00         6\n",
      "           4       0.03      0.03      0.03        34\n",
      "           5       0.00      0.00      0.00         7\n",
      "           6       0.00      0.00      0.00        14\n",
      "           7       0.00      0.00      0.00        23\n",
      "           8       0.00      0.00      0.00        14\n",
      "           9       0.00      0.00      0.00         7\n",
      "          10       0.00      0.00      0.00        21\n",
      "          11       0.02      0.03      0.02        74\n",
      "          12       0.00      0.00      0.00         2\n",
      "          13       0.00      0.00      0.00         9\n",
      "          14       0.00      0.00      0.00        15\n",
      "          15       0.00      0.00      0.00         3\n",
      "          16       0.00      0.00      0.00         7\n",
      "          17       0.00      0.00      0.00         9\n",
      "          18       0.03      0.03      0.03       151\n",
      "          19       0.07      0.07      0.07       212\n",
      "          20       0.07      0.07      0.07       116\n",
      "          21       0.03      0.03      0.03        69\n",
      "          22       0.00      0.00      0.00        17\n",
      "          23       0.22      0.24      0.23       545\n",
      "          24       0.00      0.00      0.00        14\n",
      "          25       0.00      0.00      0.00        10\n",
      "          26       0.15      0.16      0.16       303\n",
      "          27       0.04      0.05      0.05       152\n",
      "          28       0.02      0.02      0.02       111\n",
      "          29       0.04      0.05      0.05        83\n",
      "          30       0.03      0.02      0.02       128\n",
      "          31       0.06      0.08      0.07        12\n",
      "          32       0.01      0.01      0.01        70\n",
      "          33       0.00      0.00      0.00        81\n",
      "          34       0.00      0.00      0.00        17\n",
      "          35       0.00      0.00      0.00         9\n",
      "          36       0.09      0.05      0.06        20\n",
      "          37       0.00      0.00      0.00         6\n",
      "          38       0.00      0.00      0.00        18\n",
      "          39       0.03      0.03      0.03        32\n",
      "          40       0.00      0.00      0.00        23\n",
      "          41       0.00      0.00      0.00        24\n",
      "          42       0.00      0.00      0.00         6\n",
      "          43       0.00      0.00      0.00         7\n",
      "          44       0.00      0.00      0.00        25\n",
      "          45       0.00      0.00      0.00         9\n",
      "          46       0.00      0.00      0.00        56\n",
      "          47       0.00      0.00      0.00        20\n",
      "          48       0.02      0.03      0.03        33\n",
      "          49       0.00      0.00      0.00        10\n",
      "          50       0.00      0.00      0.00         6\n",
      "\n",
      "    accuracy                           0.08      2762\n",
      "   macro avg       0.02      0.02      0.02      2762\n",
      "weighted avg       0.08      0.08      0.08      2762\n"
     ]
    },
    {
     "data": {
      "text/plain": "<Figure size 1000x700 with 1 Axes>",
      "image/png": "[encoded data removed]"
     },
     "metadata": {},
     "output_type": "display_data"
    },
    {
     "data": {
      "text/plain": "<Figure size 1000x600 with 1 Axes>",
      "image/png": "[encoded data removed]"
     },
     "metadata": {},
     "output_type": "display_data"
    },
    {
     "name": "stdout",
     "output_type": "stream",
     "text": [
      "Accuracy: 0.0847\n",
      "Standard Error: 0.0053\n"
     ]
    }
   ],
   "source": [
    "make_prediction(y)"
   ],
   "metadata": {
    "collapsed": false,
    "ExecuteTime": {
     "end_time": "2023-10-19T08:30:02.332529935Z",
     "start_time": "2023-10-19T08:30:01.468865124Z"
    }
   },
   "id": "8f1deb4e926d1b0b"
  },
  {
   "cell_type": "code",
   "execution_count": null,
   "outputs": [],
   "source": [],
   "metadata": {
    "collapsed": false
   },
   "id": "e4394944dbeb839f"
  }
 ],
 "metadata": {
  "kernelspec": {
   "display_name": "Python 3",
   "language": "python",
   "name": "python3"
  },
  "language_info": {
   "codemirror_mode": {
    "name": "ipython",
    "version": 2
   },
   "file_extension": ".py",
   "mimetype": "text/x-python",
   "name": "python",
   "nbconvert_exporter": "python",
   "pygments_lexer": "ipython2",
   "version": "2.7.6"
  }
 },
 "nbformat": 4,
 "nbformat_minor": 5
}
