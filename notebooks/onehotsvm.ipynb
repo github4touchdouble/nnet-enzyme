{
 "cells": [
  {
   "cell_type": "markdown",
   "source": [
    "# Import dependencies"
   ],
   "metadata": {
    "collapsed": false
   }
  },
  {
   "cell_type": "code",
   "execution_count": 4,
   "outputs": [],
   "source": [
    "import pandas as pd\n",
    "import numpy as np\n",
    "import matplotlib.pyplot as plt\n",
    "import matplotlib.colors as colors\n",
    "from sklearn.utils import resample\n",
    "from sklearn.model_selection import train_test_split\n",
    "from sklearn.preprocessing import scale\n",
    "from sklearn.preprocessing import OneHotEncoder\n",
    "from sklearn.svm import SVC\n",
    "from sklearn.model_selection import GridSearchCV\n",
    "from sklearn.metrics import confusion_matrix\n",
    "from sklearn.decomposition import PCA\n",
    "from Bio import SeqIO\n",
    "\n"
   ],
   "metadata": {
    "collapsed": false
   }
  },
  {
   "cell_type": "markdown",
   "source": [
    "# Import data & convert it to dataframe"
   ],
   "metadata": {
    "collapsed": false
   }
  },
  {
   "cell_type": "code",
   "execution_count": 5,
   "outputs": [],
   "source": [
    "enzyme_df = pd.read_csv('', header=0, sep=',')\n",
    "enzyme_df = enzyme_df.drop('EC number', axis=1)\n",
    "enzyme_df = enzyme_df.drop('Entry', axis=1)\n",
    "with open(\"\") as file:\n",
    "    recs = SeqIO.parse(file, 'fasta')\n",
    "    data = []\n",
    "    for rec in recs:\n",
    "        data.append({'id': rec.id, 'sequence': str(rec.seq)})\n",
    "    non_enzyme_df = pd.DataFrame(data)\n",
    "    non_enzyme_df = non_enzyme_df.drop('id', axis=1)"
   ],
   "metadata": {
    "collapsed": false
   }
  },
  {
   "cell_type": "markdown",
   "source": [
    "#### Look at dataframes"
   ],
   "metadata": {
    "collapsed": false
   }
  },
  {
   "cell_type": "code",
   "execution_count": 6,
   "outputs": [
    {
     "data": {
      "text/plain": "                                            Sequence\n0  MPAPTQLFFPLVRNCELSRIYGTACYCHHKHLCCSPPYIPQNRLRY...\n1  MRLGNAYAYCKPSQNVGLKLDLLRGLPGYVGHATSRINRLENQDNY...\n2  MAKLARVVGLVQEEQPSDMTNHPRYSPPPQQPGTPGYAQGQQQTYS...\n3  MNKLAVLYAEHIATLQKRTREIIERENLDGVVFHSGQAKRQFLDDM...\n4  MEDGPSNNASCFRRLTECFLSPSLTDEKVKAYLSLHPQVLDEFVSE...",
      "text/html": "<div>\n<style scoped>\n    .dataframe tbody tr th:only-of-type {\n        vertical-align: middle;\n    }\n\n    .dataframe tbody tr th {\n        vertical-align: top;\n    }\n\n    .dataframe thead th {\n        text-align: right;\n    }\n</style>\n<table border=\"1\" class=\"dataframe\">\n  <thead>\n    <tr style=\"text-align: right;\">\n      <th></th>\n      <th>Sequence</th>\n    </tr>\n  </thead>\n  <tbody>\n    <tr>\n      <th>0</th>\n      <td>MPAPTQLFFPLVRNCELSRIYGTACYCHHKHLCCSPPYIPQNRLRY...</td>\n    </tr>\n    <tr>\n      <th>1</th>\n      <td>MRLGNAYAYCKPSQNVGLKLDLLRGLPGYVGHATSRINRLENQDNY...</td>\n    </tr>\n    <tr>\n      <th>2</th>\n      <td>MAKLARVVGLVQEEQPSDMTNHPRYSPPPQQPGTPGYAQGQQQTYS...</td>\n    </tr>\n    <tr>\n      <th>3</th>\n      <td>MNKLAVLYAEHIATLQKRTREIIERENLDGVVFHSGQAKRQFLDDM...</td>\n    </tr>\n    <tr>\n      <th>4</th>\n      <td>MEDGPSNNASCFRRLTECFLSPSLTDEKVKAYLSLHPQVLDEFVSE...</td>\n    </tr>\n  </tbody>\n</table>\n</div>"
     },
     "execution_count": 6,
     "metadata": {},
     "output_type": "execute_result"
    }
   ],
   "source": [
    "enzyme_df.head()"
   ],
   "metadata": {
    "collapsed": false
   }
  },
  {
   "cell_type": "code",
   "execution_count": 7,
   "outputs": [
    {
     "data": {
      "text/plain": "                                            sequence\n0  MRKVLKKAALCTFGFSMLFGCASEEDTIVMAPVPVVQNQFEPTTEW...\n1  MRYFVIGTMIALAGLLVGGGVGSYFTSSKLLKQFQNIPGSPIVLSA...\n2  MICASKITMLGLLVMCTLGGVLGKVDIRQTTANKAFMETMRADGYE...\n3  MIICNFMNICMIDPNDVYKWFMEFSLDSYDWVMINNVYSMGLFADG...\n4          DCEQHTDCSAASGPVYCCQDSDCCGGVDYICTNYGQCVRHF",
      "text/html": "<div>\n<style scoped>\n    .dataframe tbody tr th:only-of-type {\n        vertical-align: middle;\n    }\n\n    .dataframe tbody tr th {\n        vertical-align: top;\n    }\n\n    .dataframe thead th {\n        text-align: right;\n    }\n</style>\n<table border=\"1\" class=\"dataframe\">\n  <thead>\n    <tr style=\"text-align: right;\">\n      <th></th>\n      <th>sequence</th>\n    </tr>\n  </thead>\n  <tbody>\n    <tr>\n      <th>0</th>\n      <td>MRKVLKKAALCTFGFSMLFGCASEEDTIVMAPVPVVQNQFEPTTEW...</td>\n    </tr>\n    <tr>\n      <th>1</th>\n      <td>MRYFVIGTMIALAGLLVGGGVGSYFTSSKLLKQFQNIPGSPIVLSA...</td>\n    </tr>\n    <tr>\n      <th>2</th>\n      <td>MICASKITMLGLLVMCTLGGVLGKVDIRQTTANKAFMETMRADGYE...</td>\n    </tr>\n    <tr>\n      <th>3</th>\n      <td>MIICNFMNICMIDPNDVYKWFMEFSLDSYDWVMINNVYSMGLFADG...</td>\n    </tr>\n    <tr>\n      <th>4</th>\n      <td>DCEQHTDCSAASGPVYCCQDSDCCGGVDYICTNYGQCVRHF</td>\n    </tr>\n  </tbody>\n</table>\n</div>"
     },
     "execution_count": 7,
     "metadata": {},
     "output_type": "execute_result"
    }
   ],
   "source": [
    "non_enzyme_df.head()"
   ],
   "metadata": {
    "collapsed": false
   }
  },
  {
   "cell_type": "markdown",
   "source": [
    "#### Verify data errors"
   ],
   "metadata": {
    "collapsed": false
   }
  },
  {
   "cell_type": "code",
   "execution_count": 8,
   "outputs": [
    {
     "data": {
      "text/plain": "True"
     },
     "execution_count": 8,
     "metadata": {},
     "output_type": "execute_result"
    }
   ],
   "source": [
    "(len(enzyme_df['Sequence']) != 0 ) & (len(non_enzyme_df['sequence']) != 0)"
   ],
   "metadata": {
    "collapsed": false
   }
  },
  {
   "cell_type": "code",
   "execution_count": 9,
   "outputs": [
    {
     "data": {
      "text/plain": "9204"
     },
     "execution_count": 9,
     "metadata": {},
     "output_type": "execute_result"
    }
   ],
   "source": [
    "len(enzyme_df)"
   ],
   "metadata": {
    "collapsed": false
   }
  },
  {
   "cell_type": "code",
   "execution_count": 10,
   "outputs": [
    {
     "data": {
      "text/plain": "39502"
     },
     "execution_count": 10,
     "metadata": {},
     "output_type": "execute_result"
    }
   ],
   "source": [
    "len(non_enzyme_df)"
   ],
   "metadata": {
    "collapsed": false
   }
  },
  {
   "cell_type": "code",
   "execution_count": 11,
   "outputs": [
    {
     "name": "stdout",
     "output_type": "stream",
     "text": [
      "1000\n"
     ]
    }
   ],
   "source": [
    "enzyme_df_downsampled = resample(enzyme_df,replace=False,n_samples=1000,random_state=42)\n",
    "print(len(enzyme_df_downsampled))"
   ],
   "metadata": {
    "collapsed": false
   }
  },
  {
   "cell_type": "code",
   "execution_count": 12,
   "outputs": [
    {
     "name": "stdout",
     "output_type": "stream",
     "text": [
      "1000\n"
     ]
    }
   ],
   "source": [
    "non_enzyme_df_downsampled = resample(non_enzyme_df,replace=False,n_samples=1000,random_state=42)\n",
    "print(len(non_enzyme_df_downsampled))"
   ],
   "metadata": {
    "collapsed": false
   }
  },
  {
   "cell_type": "markdown",
   "source": [
    "# Format data"
   ],
   "metadata": {
    "collapsed": false
   }
  },
  {
   "cell_type": "code",
   "execution_count": 44,
   "outputs": [],
   "source": [
    "amino_acids = ['A', 'C', 'D', 'E', 'F', 'G', 'H', 'I', 'K', 'L', 'M', 'N', 'O', 'P', 'Q', 'R', 'S', 'T', 'U', 'V', 'W', 'Y', 'X']\n",
    "encoder = OneHotEncoder(categories=[amino_acids])\n",
    "def one_hot_encode_sequence(sequence):\n",
    "    res = []\n",
    "    bin = pd.get_dummies(list(sequence))\n",
    "    for index, row in bin.iterrows():\n",
    "        bin_res = []\n",
    "        for acid in amino_acids:\n",
    "            if acid not in list(sequence):\n",
    "               entry = False\n",
    "            else:\n",
    "                entry = row[acid]\n",
    "                #print(str(entry) + \" for \" + acid)\n",
    "            bin_res.append(entry)\n",
    "        res.append(bin_res)\n",
    "\n",
    "    #test\n",
    "    sum = 0\n",
    "    for r in res:\n",
    "        sum = sum + len(r)\n",
    "    if len(res) != len(sequence):\n",
    "        raise Exception(\"res != seq\")\n",
    "    if len(sequence) * len(amino_acids) != sum:\n",
    "        raise Exception(\"aa*seq != sum\")\n",
    "\n",
    "    #print(str(len(sequence)) + \" * \" + str(len(amino_acids)) + \" = \" + str(len(sequence) * len(amino_acids)) + \" >>> \" + str(len(res)) + \" -- \" + str(sum))\n",
    "    #print(\"___\")\n",
    "    return res\n",
    "\n",
    "all_data = pd.DataFrame({'Sequence':[], 'Label': []})"
   ],
   "metadata": {
    "collapsed": false
   }
  },
  {
   "cell_type": "code",
   "execution_count": 45,
   "outputs": [
    {
     "ename": "KeyboardInterrupt",
     "evalue": "",
     "output_type": "error",
     "traceback": [
      "\u001B[1;31m---------------------------------------------------------------------------\u001B[0m",
      "\u001B[1;31mKeyboardInterrupt\u001B[0m                         Traceback (most recent call last)",
      "Cell \u001B[1;32mIn[45], line 2\u001B[0m\n\u001B[0;32m      1\u001B[0m \u001B[38;5;28;01mfor\u001B[39;00m seq \u001B[38;5;129;01min\u001B[39;00m enzyme_df_downsampled\u001B[38;5;241m.\u001B[39mSequence:\n\u001B[1;32m----> 2\u001B[0m     \u001B[38;5;28mbin\u001B[39m \u001B[38;5;241m=\u001B[39m pd\u001B[38;5;241m.\u001B[39mDataFrame({\u001B[38;5;124m'\u001B[39m\u001B[38;5;124mSequence\u001B[39m\u001B[38;5;124m'\u001B[39m:[\u001B[43mone_hot_encode_sequence\u001B[49m\u001B[43m(\u001B[49m\u001B[43mseq\u001B[49m\u001B[43m)\u001B[49m], \u001B[38;5;124m'\u001B[39m\u001B[38;5;124mLabel\u001B[39m\u001B[38;5;124m'\u001B[39m:[\u001B[38;5;124m'\u001B[39m\u001B[38;5;124m1\u001B[39m\u001B[38;5;124m'\u001B[39m]})\n\u001B[0;32m      3\u001B[0m     all_data \u001B[38;5;241m=\u001B[39m all_data\u001B[38;5;241m.\u001B[39m_append(\u001B[38;5;28mbin\u001B[39m, ignore_index\u001B[38;5;241m=\u001B[39m\u001B[38;5;28;01mTrue\u001B[39;00m)\n",
      "Cell \u001B[1;32mIn[44], line 14\u001B[0m, in \u001B[0;36mone_hot_encode_sequence\u001B[1;34m(sequence)\u001B[0m\n\u001B[0;32m     12\u001B[0m             entry \u001B[38;5;241m=\u001B[39m row[acid]\n\u001B[0;32m     13\u001B[0m             \u001B[38;5;66;03m#print(str(entry) + \" for \" + acid)\u001B[39;00m\n\u001B[1;32m---> 14\u001B[0m         bin_res\u001B[38;5;241m.\u001B[39mappend(entry)\n\u001B[0;32m     15\u001B[0m     res\u001B[38;5;241m.\u001B[39mappend(bin_res)\n\u001B[0;32m     17\u001B[0m \u001B[38;5;66;03m#test\u001B[39;00m\n",
      "\u001B[1;31mKeyboardInterrupt\u001B[0m: "
     ]
    }
   ],
   "source": [
    "for seq in enzyme_df_downsampled.Sequence:\n",
    "    # TODO: fix bug of only ms => above should be fine\n",
    "    bin = pd.DataFrame({'Sequence':[one_hot_encode_sequence(seq)], 'Label':['1']})\n",
    "    all_data = all_data._append(bin, ignore_index=True)"
   ],
   "metadata": {
    "collapsed": false
   }
  },
  {
   "cell_type": "code",
   "execution_count": 41,
   "outputs": [
    {
     "name": "stdout",
     "output_type": "stream",
     "text": [
      "217 * 23 = 4991 >>> 217 -- 4991\n",
      "___\n",
      "226 * 23 = 5198 >>> 226 -- 5198\n",
      "___\n",
      "264 * 23 = 6072 >>> 264 -- 6072\n",
      "___\n",
      "954 * 23 = 21942 >>> 954 -- 21942\n",
      "___\n",
      "238 * 23 = 5474 >>> 238 -- 5474\n",
      "___\n",
      "76 * 23 = 1748 >>> 76 -- 1748\n",
      "___\n",
      "466 * 23 = 10718 >>> 466 -- 10718\n",
      "___\n",
      "96 * 23 = 2208 >>> 96 -- 2208\n",
      "___\n",
      "67 * 23 = 1541 >>> 67 -- 1541\n",
      "___\n",
      "337 * 23 = 7751 >>> 337 -- 7751\n",
      "___\n",
      "323 * 23 = 7429 >>> 323 -- 7429\n",
      "___\n",
      "120 * 23 = 2760 >>> 120 -- 2760\n",
      "___\n",
      "367 * 23 = 8441 >>> 367 -- 8441\n",
      "___\n",
      "1671 * 23 = 38433 >>> 1671 -- 38433\n",
      "___\n",
      "89 * 23 = 2047 >>> 89 -- 2047\n",
      "___\n",
      "1520 * 23 = 34960 >>> 1520 -- 34960\n",
      "___\n",
      "43 * 23 = 989 >>> 43 -- 989\n",
      "___\n",
      "175 * 23 = 4025 >>> 175 -- 4025\n",
      "___\n",
      "734 * 23 = 16882 >>> 734 -- 16882\n",
      "___\n",
      "48 * 23 = 1104 >>> 48 -- 1104\n",
      "___\n",
      "729 * 23 = 16767 >>> 729 -- 16767\n",
      "___\n",
      "219 * 23 = 5037 >>> 219 -- 5037\n",
      "___\n",
      "434 * 23 = 9982 >>> 434 -- 9982\n",
      "___\n",
      "103 * 23 = 2369 >>> 103 -- 2369\n",
      "___\n",
      "190 * 23 = 4370 >>> 190 -- 4370\n",
      "___\n",
      "483 * 23 = 11109 >>> 483 -- 11109\n",
      "___\n",
      "57 * 23 = 1311 >>> 57 -- 1311\n",
      "___\n",
      "97 * 23 = 2231 >>> 97 -- 2231\n",
      "___\n"
     ]
    },
    {
     "ename": "KeyboardInterrupt",
     "evalue": "",
     "output_type": "error",
     "traceback": [
      "\u001B[1;31m---------------------------------------------------------------------------\u001B[0m",
      "\u001B[1;31mKeyboardInterrupt\u001B[0m                         Traceback (most recent call last)",
      "Cell \u001B[1;32mIn[41], line 2\u001B[0m\n\u001B[0;32m      1\u001B[0m \u001B[38;5;28;01mfor\u001B[39;00m seq \u001B[38;5;129;01min\u001B[39;00m non_enzyme_df_downsampled\u001B[38;5;241m.\u001B[39msequence:\n\u001B[1;32m----> 2\u001B[0m     \u001B[38;5;28mbin\u001B[39m \u001B[38;5;241m=\u001B[39m pd\u001B[38;5;241m.\u001B[39mDataFrame({\u001B[38;5;124m'\u001B[39m\u001B[38;5;124mSequence\u001B[39m\u001B[38;5;124m'\u001B[39m:[\u001B[43mone_hot_encode_sequence\u001B[49m\u001B[43m(\u001B[49m\u001B[43mseq\u001B[49m\u001B[43m)\u001B[49m], \u001B[38;5;124m'\u001B[39m\u001B[38;5;124mLabel\u001B[39m\u001B[38;5;124m'\u001B[39m:[\u001B[38;5;124m'\u001B[39m\u001B[38;5;124m0\u001B[39m\u001B[38;5;124m'\u001B[39m]})\n\u001B[0;32m      3\u001B[0m     all_data \u001B[38;5;241m=\u001B[39m all_data\u001B[38;5;241m.\u001B[39m_append(\u001B[38;5;28mbin\u001B[39m, ignore_index\u001B[38;5;241m=\u001B[39m\u001B[38;5;28;01mTrue\u001B[39;00m)\n",
      "Cell \u001B[1;32mIn[39], line 14\u001B[0m, in \u001B[0;36mone_hot_encode_sequence\u001B[1;34m(sequence)\u001B[0m\n\u001B[0;32m     12\u001B[0m             entry \u001B[38;5;241m=\u001B[39m row[acid]\n\u001B[0;32m     13\u001B[0m             \u001B[38;5;66;03m#print(str(entry) + \" for \" + acid)\u001B[39;00m\n\u001B[1;32m---> 14\u001B[0m         bin_res\u001B[38;5;241m.\u001B[39mappend(entry)\n\u001B[0;32m     15\u001B[0m     res\u001B[38;5;241m.\u001B[39mappend(bin_res)\n\u001B[0;32m     17\u001B[0m \u001B[38;5;66;03m#test\u001B[39;00m\n",
      "\u001B[1;31mKeyboardInterrupt\u001B[0m: "
     ]
    }
   ],
   "source": [
    "for seq in non_enzyme_df_downsampled.sequence:\n",
    "    bin = pd.DataFrame({'Sequence':[one_hot_encode_sequence(seq)], 'Label':['0']})\n",
    "    all_data = all_data._append(bin, ignore_index=True)"
   ],
   "metadata": {
    "collapsed": false
   }
  },
  {
   "cell_type": "markdown",
   "source": [
    "#### Make test and train set"
   ],
   "metadata": {
    "collapsed": false
   }
  },
  {
   "cell_type": "code",
   "execution_count": 26,
   "outputs": [
    {
     "data": {
      "text/plain": "                                            Sequence Label\n0  [False, False, False, False, False, False, Fal...     1\n1  [False, False, False, False, False, False, Fal...     1\n2  [False, False, False, False, False, False, Fal...     1\n3  [False, False, False, False, False, False, Fal...     1\n4  [False, False, False, False, False, False, Fal...     1",
      "text/html": "<div>\n<style scoped>\n    .dataframe tbody tr th:only-of-type {\n        vertical-align: middle;\n    }\n\n    .dataframe tbody tr th {\n        vertical-align: top;\n    }\n\n    .dataframe thead th {\n        text-align: right;\n    }\n</style>\n<table border=\"1\" class=\"dataframe\">\n  <thead>\n    <tr style=\"text-align: right;\">\n      <th></th>\n      <th>Sequence</th>\n      <th>Label</th>\n    </tr>\n  </thead>\n  <tbody>\n    <tr>\n      <th>0</th>\n      <td>[False, False, False, False, False, False, Fal...</td>\n      <td>1</td>\n    </tr>\n    <tr>\n      <th>1</th>\n      <td>[False, False, False, False, False, False, Fal...</td>\n      <td>1</td>\n    </tr>\n    <tr>\n      <th>2</th>\n      <td>[False, False, False, False, False, False, Fal...</td>\n      <td>1</td>\n    </tr>\n    <tr>\n      <th>3</th>\n      <td>[False, False, False, False, False, False, Fal...</td>\n      <td>1</td>\n    </tr>\n    <tr>\n      <th>4</th>\n      <td>[False, False, False, False, False, False, Fal...</td>\n      <td>1</td>\n    </tr>\n  </tbody>\n</table>\n</div>"
     },
     "execution_count": 26,
     "metadata": {},
     "output_type": "execute_result"
    }
   ],
   "source": [
    "all_data.head()"
   ],
   "metadata": {
    "collapsed": false
   }
  },
  {
   "cell_type": "code",
   "execution_count": null,
   "outputs": [],
   "source": [],
   "metadata": {
    "collapsed": false
   }
  }
 ],
 "metadata": {
  "kernelspec": {
   "display_name": "Python 3",
   "language": "python",
   "name": "python3"
  },
  "language_info": {
   "codemirror_mode": {
    "name": "ipython",
    "version": 2
   },
   "file_extension": ".py",
   "mimetype": "text/x-python",
   "name": "python",
   "nbconvert_exporter": "python",
   "pygments_lexer": "ipython2",
   "version": "2.7.6"
  }
 },
 "nbformat": 4,
 "nbformat_minor": 0
}
