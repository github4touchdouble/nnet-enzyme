{
 "cells": [
  {
   "cell_type": "markdown",
   "source": [
    "# Import dependencies"
   ],
   "metadata": {
    "collapsed": false
   }
  },
  {
   "cell_type": "code",
   "execution_count": 9,
   "outputs": [],
   "source": [
    "import pandas as pd\n",
    "import numpy as np\n",
    "import matplotlib.pyplot as plt\n",
    "import matplotlib.colors as colors\n",
    "from sklearn.utils import resample\n",
    "from sklearn.model_selection import train_test_split\n",
    "from sklearn.preprocessing import scale\n",
    "from sklearn.preprocessing import OneHotEncoder\n",
    "from sklearn.svm import SVC\n",
    "from sklearn.model_selection import GridSearchCV\n",
    "from sklearn.metrics import confusion_matrix\n",
    "from sklearn.decomposition import PCA\n",
    "from Bio import SeqIO\n",
    "\n"
   ],
   "metadata": {
    "collapsed": false
   }
  },
  {
   "cell_type": "markdown",
   "source": [
    "# Import data & convert it to dataframe"
   ],
   "metadata": {
    "collapsed": false
   }
  },
  {
   "cell_type": "code",
   "execution_count": 10,
   "outputs": [],
   "source": [
    "enzyme_df = pd.read_csv('', header=0, sep=',')\n",
    "enzyme_df = enzyme_df.drop('EC number', axis=1)\n",
    "enzyme_df = enzyme_df.drop('Entry', axis=1)\n",
    "with open(\"\") as file:\n",
    "    recs = SeqIO.parse(file, 'fasta')\n",
    "    data = []\n",
    "    for rec in recs:\n",
    "        data.append({'id': rec.id, 'sequence': str(rec.seq)})\n",
    "    non_enzyme_df = pd.DataFrame(data)\n",
    "    non_enzyme_df = non_enzyme_df.drop('id', axis=1)"
   ],
   "metadata": {
    "collapsed": false
   }
  },
  {
   "cell_type": "markdown",
   "source": [
    "#### Look at dataframes"
   ],
   "metadata": {
    "collapsed": false
   }
  },
  {
   "cell_type": "code",
   "execution_count": null,
   "outputs": [],
   "source": [
    "enzyme_df.head()"
   ],
   "metadata": {
    "collapsed": false,
    "pycharm": {
     "is_executing": true
    }
   }
  },
  {
   "cell_type": "code",
   "execution_count": null,
   "outputs": [],
   "source": [
    "non_enzyme_df.head()"
   ],
   "metadata": {
    "collapsed": false,
    "pycharm": {
     "is_executing": true
    }
   }
  },
  {
   "cell_type": "markdown",
   "source": [
    " #### Verify data errors"
   ],
   "metadata": {
    "collapsed": false
   }
  },
  {
   "cell_type": "code",
   "execution_count": null,
   "outputs": [],
   "source": [
    "(len(enzyme_df['Sequence']) != 0 ) & (len(non_enzyme_df['sequence']) != 0)"
   ],
   "metadata": {
    "collapsed": false,
    "pycharm": {
     "is_executing": true
    }
   }
  },
  {
   "cell_type": "code",
   "execution_count": null,
   "outputs": [],
   "source": [
    "len(enzyme_df)"
   ],
   "metadata": {
    "collapsed": false,
    "pycharm": {
     "is_executing": true
    }
   }
  },
  {
   "cell_type": "code",
   "execution_count": null,
   "outputs": [],
   "source": [
    "len(non_enzyme_df)"
   ],
   "metadata": {
    "collapsed": false,
    "pycharm": {
     "is_executing": true
    }
   }
  },
  {
   "cell_type": "code",
   "execution_count": null,
   "outputs": [],
   "source": [
    "enzyme_df_downsampled = resample(enzyme_df,replace=False,n_samples=1000,random_state=42)\n",
    "print(len(enzyme_df_downsampled))"
   ],
   "metadata": {
    "collapsed": false,
    "pycharm": {
     "is_executing": true
    }
   }
  },
  {
   "cell_type": "code",
   "execution_count": null,
   "outputs": [],
   "source": [
    "non_enzyme_df_downsampled = resample(non_enzyme_df,replace=False,n_samples=000,random_state=42)\n",
    "print(len(non_enzyme_df_downsampled))"
   ],
   "metadata": {
    "collapsed": false,
    "pycharm": {
     "is_executing": true
    }
   }
  },
  {
   "cell_type": "markdown",
   "source": [
    "# Format data"
   ],
   "metadata": {
    "collapsed": false
   }
  },
  {
   "cell_type": "code",
   "execution_count": 92,
   "outputs": [],
   "source": [
    "amino_acids = ['A', 'C', 'D', 'E', 'F', 'G', 'H', 'I', 'K', 'L', 'M', 'N', 'O', 'P', 'Q', 'R', 'S', 'T', 'U', 'V', 'W', 'Y', 'X']\n",
    "encoder = OneHotEncoder(categories=[amino_acids])\n",
    "def one_hot_encode_sequence(sequence):\n",
    "    res = []\n",
    "    bin = pd.get_dummies(list(sequence))\n",
    "    for index, row in bin.iterrows():\n",
    "        bin_res = []\n",
    "        for acid in amino_acids:\n",
    "            if acid not in list(sequence):\n",
    "               entry = False\n",
    "            else:\n",
    "                entry = row[acid]\n",
    "                #print(str(entry) + \" for \" + acid)\n",
    "            bin_res.append(entry)\n",
    "        res.append(bin_res)\n",
    "\n",
    "\n",
    "    #test\n",
    "    sum = 0\n",
    "    for r in res:\n",
    "        sum = sum + len(r)\n",
    "    if len(res) != len(sequence):\n",
    "        raise Exception(\"res != seq\")\n",
    "    if len(sequence) * len(amino_acids) != sum:\n",
    "        raise Exception(\"aa*seq != sum\")\n",
    "\n",
    "    #print(str(len(sequence)) + \" * \" + str(len(amino_acids)) + \" = \" + str(len(sequence) * len(amino_acids)) + \" >>> \" + str(len(res)) + \" -- \" + str(sum))\n",
    "    #print(\"___\")\n",
    "    return res\n",
    "\n",
    "all_data = []"
   ],
   "metadata": {
    "collapsed": false
   }
  },
  {
   "cell_type": "code",
   "execution_count": null,
   "outputs": [],
   "source": [
    "for seq in enzyme_df_downsampled.Sequence:\n",
    "    bin = one_hot_encode_sequence(seq)\n",
    "    all_data.append({'label':1, 'sequence':bin})"
   ],
   "metadata": {
    "collapsed": false,
    "pycharm": {
     "is_executing": true
    }
   }
  },
  {
   "cell_type": "code",
   "execution_count": 86,
   "outputs": [],
   "source": [
    "for seq in non_enzyme_df_downsampled.sequence:\n",
    "    bin = one_hot_encode_sequence(seq)\n",
    "    all_data.append({'label':0, 'sequence':bin})"
   ],
   "metadata": {
    "collapsed": false
   }
  },
  {
   "cell_type": "markdown",
   "source": [
    "#### Make test and train set"
   ],
   "metadata": {
    "collapsed": false
   }
  },
  {
   "cell_type": "code",
   "execution_count": null,
   "outputs": [],
   "source": [
    "df = pd.DataFrame(all_data)\n",
    "df.head()\n",
    "#df.to_csv('./test.csv')\n"
   ],
   "metadata": {
    "collapsed": false,
    "pycharm": {
     "is_executing": true
    }
   }
  }
 ],
 "metadata": {
  "kernelspec": {
   "display_name": "Python 3",
   "language": "python",
   "name": "python3"
  },
  "language_info": {
   "codemirror_mode": {
    "name": "ipython",
    "version": 2
   },
   "file_extension": ".py",
   "mimetype": "text/x-python",
   "name": "python",
   "nbconvert_exporter": "python",
   "pygments_lexer": "ipython2",
   "version": "2.7.6"
  }
 },
 "nbformat": 4,
 "nbformat_minor": 0
}
