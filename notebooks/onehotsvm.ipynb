{
 "cells": [
  {
   "cell_type": "markdown",
   "source": [
    "# Import dependencies"
   ],
   "metadata": {
    "collapsed": false
   }
  },
  {
   "cell_type": "code",
   "execution_count": 9,
   "outputs": [],
   "source": [
    "import pandas as pd\n",
    "import numpy as np\n",
    "import matplotlib.pyplot as plt\n",
    "import matplotlib.colors as colors\n",
    "from sklearn.utils import resample\n",
    "from sklearn.model_selection import train_test_split\n",
    "from sklearn.preprocessing import scale\n",
    "from sklearn.preprocessing import OneHotEncoder\n",
    "from sklearn.svm import SVC\n",
    "from sklearn.model_selection import GridSearchCV\n",
    "from sklearn.metrics import confusion_matrix\n",
    "from sklearn.decomposition import PCA\n",
    "from Bio import SeqIO\n",
    "\n"
   ],
   "metadata": {
    "collapsed": false
   }
  },
  {
   "cell_type": "markdown",
   "source": [
    "# Import data & convert it to dataframe"
   ],
   "metadata": {
    "collapsed": false
   }
  },
  {
   "cell_type": "code",
   "execution_count": 10,
   "outputs": [],
   "source": [
    "enzyme_df = pd.read_csv('', header=0, sep=',')\n",
    "enzyme_df = enzyme_df.drop('EC number', axis=1)\n",
    "enzyme_df = enzyme_df.drop('Entry', axis=1)\n",
    "with open(\"\") as file:\n",
    "    recs = SeqIO.parse(file, 'fasta')\n",
    "    data = []\n",
    "    for rec in recs:\n",
    "        data.append({'id': rec.id, 'sequence': str(rec.seq)})\n",
    "    non_enzyme_df = pd.DataFrame(data)\n",
    "    non_enzyme_df = non_enzyme_df.drop('id', axis=1)"
   ],
   "metadata": {
    "collapsed": false
   }
  },
  {
   "cell_type": "markdown",
   "source": [
    "#### Look at dataframes"
   ],
   "metadata": {
    "collapsed": false
   }
  },
  {
   "cell_type": "code",
   "execution_count": null,
   "outputs": [],
   "source": [
    "enzyme_df.head()"
   ],
   "metadata": {
    "collapsed": false,
    "pycharm": {
     "is_executing": true
    }
   }
  },
  {
   "cell_type": "code",
   "execution_count": null,
   "outputs": [],
   "source": [
    "non_enzyme_df.head()"
   ],
   "metadata": {
    "collapsed": false,
    "pycharm": {
     "is_executing": true
    }
   }
  },
  {
   "cell_type": "markdown",
   "source": [
    " #### Verify data errors"
   ],
   "metadata": {
    "collapsed": false
   }
  },
  {
   "cell_type": "code",
   "execution_count": null,
   "outputs": [],
   "source": [
    "(len(enzyme_df['Sequence']) != 0 ) & (len(non_enzyme_df['sequence']) != 0)"
   ],
   "metadata": {
    "collapsed": false,
    "pycharm": {
     "is_executing": true
    }
   }
  },
  {
   "cell_type": "code",
   "execution_count": null,
   "outputs": [],
   "source": [
    "len(enzyme_df)"
   ],
   "metadata": {
    "collapsed": false,
    "pycharm": {
     "is_executing": true
    }
   }
  },
  {
   "cell_type": "code",
   "execution_count": null,
   "outputs": [],
   "source": [
    "len(non_enzyme_df)"
   ],
   "metadata": {
    "collapsed": false,
    "pycharm": {
     "is_executing": true
    }
   }
  },
  {
   "cell_type": "code",
   "execution_count": 89,
   "outputs": [
    {
     "name": "stdout",
     "output_type": "stream",
     "text": [
      "5000\n"
     ]
    }
   ],
   "source": [
    "enzyme_df_downsampled = resample(enzyme_df,replace=False,n_samples=1000,random_state=42)\n",
    "print(len(enzyme_df_downsampled))"
   ],
   "metadata": {
    "collapsed": false
   }
  },
  {
   "cell_type": "code",
   "execution_count": 91,
   "outputs": [
    {
     "name": "stdout",
     "output_type": "stream",
     "text": [
      "5000\n"
     ]
    }
   ],
   "source": [
    "non_enzyme_df_downsampled = resample(non_enzyme_df,replace=False,n_samples=000,random_state=42)\n",
    "print(len(non_enzyme_df_downsampled))"
   ],
   "metadata": {
    "collapsed": false
   }
  },
  {
   "cell_type": "markdown",
   "source": [
    "# Format data"
   ],
   "metadata": {
    "collapsed": false
   }
  },
  {
   "cell_type": "code",
   "execution_count": 92,
   "outputs": [],
   "source": [
    "amino_acids = ['A', 'C', 'D', 'E', 'F', 'G', 'H', 'I', 'K', 'L', 'M', 'N', 'O', 'P', 'Q', 'R', 'S', 'T', 'U', 'V', 'W', 'Y', 'X']\n",
    "encoder = OneHotEncoder(categories=[amino_acids])\n",
    "def one_hot_encode_sequence(sequence):\n",
    "    res = []\n",
    "    bin = pd.get_dummies(list(sequence))\n",
    "    for index, row in bin.iterrows():\n",
    "        bin_res = []\n",
    "        for acid in amino_acids:\n",
    "            if acid not in list(sequence):\n",
    "               entry = False\n",
    "            else:\n",
    "                entry = row[acid]\n",
    "                #print(str(entry) + \" for \" + acid)\n",
    "            bin_res.append(entry)\n",
    "        res.append(bin_res)\n",
    "\n",
    "\n",
    "    #test\n",
    "    sum = 0\n",
    "    for r in res:\n",
    "        sum = sum + len(r)\n",
    "    if len(res) != len(sequence):\n",
    "        raise Exception(\"res != seq\")\n",
    "    if len(sequence) * len(amino_acids) != sum:\n",
    "        raise Exception(\"aa*seq != sum\")\n",
    "\n",
    "    #print(str(len(sequence)) + \" * \" + str(len(amino_acids)) + \" = \" + str(len(sequence) * len(amino_acids)) + \" >>> \" + str(len(res)) + \" -- \" + str(sum))\n",
    "    #print(\"___\")\n",
    "    return res\n",
    "\n",
    "all_data = []"
   ],
   "metadata": {
    "collapsed": false
   }
  },
  {
   "cell_type": "code",
   "execution_count": 93,
   "outputs": [
    {
     "ename": "KeyboardInterrupt",
     "evalue": "",
     "output_type": "error",
     "traceback": [
      "\u001B[1;31m---------------------------------------------------------------------------\u001B[0m",
      "\u001B[1;31mKeyboardInterrupt\u001B[0m                         Traceback (most recent call last)",
      "Cell \u001B[1;32mIn[93], line 2\u001B[0m\n\u001B[0;32m      1\u001B[0m \u001B[38;5;28;01mfor\u001B[39;00m seq \u001B[38;5;129;01min\u001B[39;00m enzyme_df_downsampled\u001B[38;5;241m.\u001B[39mSequence:\n\u001B[1;32m----> 2\u001B[0m     \u001B[38;5;28mbin\u001B[39m \u001B[38;5;241m=\u001B[39m \u001B[43mone_hot_encode_sequence\u001B[49m\u001B[43m(\u001B[49m\u001B[43mseq\u001B[49m\u001B[43m)\u001B[49m\n\u001B[0;32m      3\u001B[0m     all_data\u001B[38;5;241m.\u001B[39mappend({\u001B[38;5;124m'\u001B[39m\u001B[38;5;124mlabel\u001B[39m\u001B[38;5;124m'\u001B[39m:\u001B[38;5;241m1\u001B[39m, \u001B[38;5;124m'\u001B[39m\u001B[38;5;124msequence\u001B[39m\u001B[38;5;124m'\u001B[39m:\u001B[38;5;28mbin\u001B[39m})\n",
      "Cell \u001B[1;32mIn[92], line 9\u001B[0m, in \u001B[0;36mone_hot_encode_sequence\u001B[1;34m(sequence)\u001B[0m\n\u001B[0;32m      7\u001B[0m bin_res \u001B[38;5;241m=\u001B[39m []\n\u001B[0;32m      8\u001B[0m \u001B[38;5;28;01mfor\u001B[39;00m acid \u001B[38;5;129;01min\u001B[39;00m amino_acids:\n\u001B[1;32m----> 9\u001B[0m     \u001B[38;5;28;01mif\u001B[39;00m \u001B[43macid\u001B[49m\u001B[43m \u001B[49m\u001B[38;5;129;43;01mnot\u001B[39;49;00m\u001B[43m \u001B[49m\u001B[38;5;129;43;01min\u001B[39;49;00m\u001B[43m \u001B[49m\u001B[38;5;28;43mlist\u001B[39;49m\u001B[43m(\u001B[49m\u001B[43msequence\u001B[49m\u001B[43m)\u001B[49m:\n\u001B[0;32m     10\u001B[0m        entry \u001B[38;5;241m=\u001B[39m \u001B[38;5;28;01mFalse\u001B[39;00m\n\u001B[0;32m     11\u001B[0m     \u001B[38;5;28;01melse\u001B[39;00m:\n",
      "\u001B[1;31mKeyboardInterrupt\u001B[0m: "
     ]
    }
   ],
   "source": [
    "for seq in enzyme_df_downsampled.Sequence:\n",
    "    bin = one_hot_encode_sequence(seq)\n",
    "    all_data.append({'label':1, 'sequence':bin})"
   ],
   "metadata": {
    "collapsed": false
   }
  },
  {
   "cell_type": "code",
   "execution_count": 86,
   "outputs": [],
   "source": [
    "for seq in non_enzyme_df_downsampled.sequence:\n",
    "    bin = one_hot_encode_sequence(seq)\n",
    "    all_data.append({'label':0, 'sequence':bin})"
   ],
   "metadata": {
    "collapsed": false
   }
  },
  {
   "cell_type": "markdown",
   "source": [
    "#### Make test and train set"
   ],
   "metadata": {
    "collapsed": false
   }
  },
  {
   "cell_type": "code",
   "execution_count": 87,
   "outputs": [
    {
     "data": {
      "text/plain": "   label                                           sequence\n0      1  [[False, False, False, False, False, False, Fa...\n1      1  [[False, False, False, False, False, False, Fa...\n2      1  [[False, False, False, False, False, False, Fa...\n3      1  [[False, False, False, False, False, False, Fa...\n4      1  [[False, False, False, False, False, False, Fa...",
      "text/html": "<div>\n<style scoped>\n    .dataframe tbody tr th:only-of-type {\n        vertical-align: middle;\n    }\n\n    .dataframe tbody tr th {\n        vertical-align: top;\n    }\n\n    .dataframe thead th {\n        text-align: right;\n    }\n</style>\n<table border=\"1\" class=\"dataframe\">\n  <thead>\n    <tr style=\"text-align: right;\">\n      <th></th>\n      <th>label</th>\n      <th>sequence</th>\n    </tr>\n  </thead>\n  <tbody>\n    <tr>\n      <th>0</th>\n      <td>1</td>\n      <td>[[False, False, False, False, False, False, Fa...</td>\n    </tr>\n    <tr>\n      <th>1</th>\n      <td>1</td>\n      <td>[[False, False, False, False, False, False, Fa...</td>\n    </tr>\n    <tr>\n      <th>2</th>\n      <td>1</td>\n      <td>[[False, False, False, False, False, False, Fa...</td>\n    </tr>\n    <tr>\n      <th>3</th>\n      <td>1</td>\n      <td>[[False, False, False, False, False, False, Fa...</td>\n    </tr>\n    <tr>\n      <th>4</th>\n      <td>1</td>\n      <td>[[False, False, False, False, False, False, Fa...</td>\n    </tr>\n  </tbody>\n</table>\n</div>"
     },
     "execution_count": 87,
     "metadata": {},
     "output_type": "execute_result"
    }
   ],
   "source": [
    "df = pd.DataFrame(all_data)\n",
    "df.head()\n",
    "#df.to_csv('./test.csv')\n"
   ],
   "metadata": {
    "collapsed": false
   }
  },
  {
   "cell_type": "code",
   "execution_count": null,
   "outputs": [],
   "source": [],
   "metadata": {
    "collapsed": false
   }
  }
 ],
 "metadata": {
  "kernelspec": {
   "display_name": "Python 3",
   "language": "python",
   "name": "python3"
  },
  "language_info": {
   "codemirror_mode": {
    "name": "ipython",
    "version": 2
   },
   "file_extension": ".py",
   "mimetype": "text/x-python",
   "name": "python",
   "nbconvert_exporter": "python",
   "pygments_lexer": "ipython2",
   "version": "2.7.6"
  }
 },
 "nbformat": 4,
 "nbformat_minor": 0
}
